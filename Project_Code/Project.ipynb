{
 "cells": [
  {
   "cell_type": "markdown",
   "id": "f1977064-383c-4cc2-b439-162b3b362a57",
   "metadata": {
    "jp-MarkdownHeadingCollapsed": true
   },
   "source": [
    "# Libraries"
   ]
  },
  {
   "cell_type": "code",
   "execution_count": 1,
   "id": "15954dc3-851c-4a00-bb8a-ac9ebc0f0605",
   "metadata": {},
   "outputs": [],
   "source": [
    "# Essential Libraries for Data Manipulation\n",
    "import pandas as pd\n",
    "import numpy as np\n",
    "from datetime import datetime, timedelta\n",
    "import itertools\n",
    "\n",
    "# Data Fetching and File Handling\n",
    "import requests\n",
    "import os\n",
    "import gzip\n",
    "import shutil\n",
    "import time\n",
    "\n",
    "# Data Visualization Tools\n",
    "import matplotlib.pyplot as plt\n",
    "import seaborn as sns\n",
    "\n",
    "# Machine Learning Preprocessing and Metrics\n",
    "from sklearn.impute import KNNImputer\n",
    "from sklearn.preprocessing import MinMaxScaler\n",
    "from sklearn.metrics import mean_squared_error, mean_absolute_percentage_error, r2_score\n",
    "from sklearn.model_selection import TimeSeriesSplit\n",
    "\n",
    "# Deep Learning with Keras\n",
    "from keras.models import Sequential, load_model\n",
    "from keras.layers import LSTM, Dense, Dropout\n",
    "from keras.optimizers import Adam\n",
    "\n",
    "# Time Series Analysis with Statsmodels\n",
    "from statsmodels.tsa.arima.model import ARIMA\n",
    "from statsmodels.graphics.tsaplots import plot_acf, plot_pacf\n",
    "\n",
    "# Hyperparameter Optimization\n",
    "import optuna\n",
    "import optuna.visualization as ov\n",
    "\n",
    "# PySpark for Large-Scale Data Processing\n",
    "from pyspark.sql import SparkSession\n",
    "from pyspark.sql.functions import col, to_date, trim, when, isnan, count, mean, last, first, year\n",
    "from pyspark.sql.window import Window\n",
    "from functools import reduce\n",
    "from operator import or_\n",
    "\n",
    "# IPython Utilities for Interactive Notebooks\n",
    "from IPython.display import FileLink\n",
    "\n",
    "import optuna\n",
    "from optuna.integration import KerasPruningCallback\n",
    "from tensorflow.keras.models import Sequential, load_model\n",
    "from tensorflow.keras.layers import LSTM, Dropout, Dense\n",
    "from tensorflow.keras.optimizers import Adam\n",
    "from sklearn.model_selection import TimeSeriesSplit\n",
    "from sklearn.metrics import mean_squared_error\n",
    "from IPython.display import FileLink"
   ]
  },
  {
   "cell_type": "code",
   "execution_count": 2,
   "id": "8e47dc39-5908-4043-8a78-17d16fc4ce3a",
   "metadata": {},
   "outputs": [],
   "source": [
    "#Diable the warnings\n",
    "import warnings\n",
    "warnings.filterwarnings('ignore')"
   ]
  },
  {
   "cell_type": "markdown",
   "id": "caae19a6-ad98-4258-9a66-19109069186b",
   "metadata": {
    "jp-MarkdownHeadingCollapsed": true
   },
   "source": [
    "# INDEX,Rates and Technical Indicators"
   ]
  },
  {
   "cell_type": "markdown",
   "id": "3f885581-e132-4007-b4f9-32a0320ae8a2",
   "metadata": {
    "jp-MarkdownHeadingCollapsed": true
   },
   "source": [
    "## INDEX Indicator"
   ]
  },
  {
   "cell_type": "code",
   "execution_count": 3,
   "id": "74b58725-ed86-4ec9-9966-98d4c31d29a1",
   "metadata": {},
   "outputs": [
    {
     "name": "stdout",
     "output_type": "stream",
     "text": [
      "Data saved successfully to /home/fabiopoli/Desktop/STOXX50E.csv\n"
     ]
    }
   ],
   "source": [
    "# FMP API key\n",
    "api_key = '47461a32a9bcf3b0a6c2c6e98ccfab42'  # API key\n",
    "\n",
    "# Symbol for EURO STOXX 50\n",
    "stock_symbol = '^STOXX50E'\n",
    "\n",
    "# URL for the FMP historical data endpoint\n",
    "url = f'https://financialmodelingprep.com/api/v3/historical-price-full/{stock_symbol}?from=2005-01-02&to={datetime.now().strftime(\"%Y-%m-%d\")}&apikey={api_key}'\n",
    "\n",
    "# FMP API request\n",
    "response = requests.get(url)\n",
    "\n",
    "# Check if the request was successful\n",
    "if response.status_code == 200:\n",
    "    # Convert the response to JSON\n",
    "    data = response.json()\n",
    "\n",
    "    # Extract the historical data\n",
    "    if 'historical' in data:\n",
    "        historical_data = data['historical']\n",
    "\n",
    "        # Convert to a pandas DataFrame\n",
    "        index_df = pd.DataFrame(historical_data)\n",
    "\n",
    "        # Save the DataFrame to a CSV file on your desktop\n",
    "        desktop_path = os.path.join(os.path.expanduser('~'), 'Desktop')  # Path to the desktop\n",
    "        file_path = os.path.join(desktop_path, 'STOXX50E.csv')  # File Name\n",
    "        index_df.to_csv(file_path, index=False)\n",
    "\n",
    "        print(f\"Data saved successfully to {file_path}\")\n",
    "    else:\n",
    "        print(\"No 'historical' data found in the response.\")\n",
    "else:\n",
    "    print(f'Failed to retrieve data: {response.status_code}')"
   ]
  },
  {
   "cell_type": "markdown",
   "id": "dbd61ccf-791e-4a71-9afd-c48e59c71307",
   "metadata": {
    "jp-MarkdownHeadingCollapsed": true
   },
   "source": [
    "## Technical Indicators"
   ]
  },
  {
   "cell_type": "code",
   "execution_count": 4,
   "id": "a5bca379-bc8c-4253-8e07-b33b4246e99a",
   "metadata": {},
   "outputs": [
    {
     "name": "stdout",
     "output_type": "stream",
     "text": [
      "            date          sma\n",
      "0     2024-02-01  4486.033760\n",
      "1     2024-01-31  4480.109961\n",
      "2     2024-01-30  4473.957363\n",
      "3     2024-01-29  4466.752363\n",
      "4     2024-01-26  4460.275762\n",
      "...          ...          ...\n",
      "1268  2019-02-08  3102.467793\n",
      "1269  2019-02-07  3102.288789\n",
      "1270  2019-02-06  3102.351787\n",
      "1271  2019-02-05  3100.418188\n",
      "1272  2019-02-04  3099.323989\n",
      "\n",
      "[1273 rows x 2 columns]\n"
     ]
    }
   ],
   "source": [
    "# FMP API key\n",
    "api_key = '47461a32a9bcf3b0a6c2c6e98ccfab42'\n",
    "\n",
    "# Symbol for EURO STOXX 50\n",
    "stock_symbol = '^STOXX50E'\n",
    "\n",
    "# URL for the FMP SMA technical indicator endpoint with daily data\n",
    "sma_period = 50\n",
    "url = f'https://financialmodelingprep.com/api/v3/technical_indicator/daily/{stock_symbol}?period={sma_period}&type=sma&apikey={api_key}'\n",
    "\n",
    "# FMP API request for SMA data\n",
    "response = requests.get(url)\n",
    "\n",
    "# Check if the request was successful\n",
    "if response.status_code == 200:\n",
    "    # Convert the response to JSON\n",
    "    sma_data = response.json()\n",
    "\n",
    "    # Convert to a pandas DataFrame\n",
    "    sma_df = pd.DataFrame(sma_data)\n",
    "\n",
    "    # Ensure 'date' column is in datetime format\n",
    "    sma_df['date'] = pd.to_datetime(sma_df['date'])\n",
    "\n",
    "    # Format the 'date' column to display dates only\n",
    "    sma_df['date'] = sma_df['date'].dt.strftime('%Y-%m-%d')\n",
    "\n",
    "    # Filter the DataFrame for rows where the date is after February 1, 2005\n",
    "    sma_df = sma_df[sma_df['date'] >= '2006-01-02']\n",
    "\n",
    "    # Keep only the 'date' and 'sma' columns\n",
    "    sma_df = sma_df[['date', 'sma']]\n",
    "\n",
    "    # Display the DataFrame\n",
    "    print(sma_df)\n",
    "else:\n",
    "    print(f'Failed to retrieve SMA data: {response.status_code}')"
   ]
  },
  {
   "cell_type": "code",
   "execution_count": 5,
   "id": "2817200f-7d4f-4c5f-9af1-e7fe43ebc456",
   "metadata": {},
   "outputs": [
    {
     "name": "stdout",
     "output_type": "stream",
     "text": [
      "            date          ema\n",
      "0     2024-02-01  4471.429093\n",
      "1     2024-01-31  4464.605787\n",
      "2     2024-01-30  4457.103987\n",
      "3     2024-01-29  4448.712304\n",
      "4     2024-01-26  4440.930772\n",
      "...          ...          ...\n",
      "1268  2019-02-08  3121.544786\n",
      "1269  2019-02-07  3120.970283\n",
      "1270  2019-02-06  3119.754376\n",
      "1271  2019-02-05  3115.958636\n",
      "1272  2019-02-04  3111.914497\n",
      "\n",
      "[1273 rows x 2 columns]\n"
     ]
    }
   ],
   "source": [
    "# FMP API key\n",
    "api_key = '47461a32a9bcf3b0a6c2c6e98ccfab42'\n",
    "\n",
    "# Symbol for EURO STOXX 50\n",
    "stock_symbol = '^STOXX50E'\n",
    "\n",
    "# URL for the FMP EMA technical indicator endpoint with daily data\n",
    "ema_period = 50\n",
    "url = f'https://financialmodelingprep.com/api/v3/technical_indicator/daily/{stock_symbol}?period={ema_period}&type=ema&apikey={api_key}'\n",
    "\n",
    "# FMP API request for EMA data\n",
    "response = requests.get(url)\n",
    "\n",
    "# Check if the request was successful\n",
    "if response.status_code == 200:\n",
    "    # Convert the response to JSON\n",
    "    ema_data = response.json()\n",
    "\n",
    "    # Convert to a pandas DataFrame\n",
    "    ema_df = pd.DataFrame(ema_data)\n",
    "\n",
    "    # Ensure 'date' column is in datetime format\n",
    "    ema_df['date'] = pd.to_datetime(ema_df['date'])\n",
    "\n",
    "    # Format the 'date' column to display dates only\n",
    "    ema_df['date'] = ema_df['date'].dt.strftime('%Y-%m-%d')\n",
    "\n",
    "    # Filter the DataFrame for rows where the date is after February 1, 2005\n",
    "    ema_df = ema_df[ema_df['date'] >= '2006-01-02']\n",
    "\n",
    "    # Keep only the 'date' and 'ema' columns\n",
    "    ema_df = ema_df[['date', 'ema']]\n",
    "\n",
    "    # Display the DataFrame\n",
    "    print(ema_df)\n",
    "else:\n",
    "    print(f'Failed to retrieve EMA data: {response.status_code}')\n"
   ]
  },
  {
   "cell_type": "markdown",
   "id": "121e1bdf-a406-4511-9c74-eab67f949cf3",
   "metadata": {
    "jp-MarkdownHeadingCollapsed": true
   },
   "source": [
    "## Technical Indicator Analysis Commentary\n",
    "\n",
    "In the analysis of the EURO STOXX 50 index, It has been identified that the Financial Modeling Prep (FMP) API was not feasible for extracting technical indicators such as SMA, EMA, and MACD (5+ Year Historical Data). This led to the implementation of an alternative approach using the pandas library in Python.\n",
    "\n",
    "The methodology adhered to established financial analysis standards and utilized conventional computational techniques for the calculation of these indicators. The Simple Moving Average (SMA) and the Exponential Moving Average (EMA) were computed over a 50-day period. Additionally, the Moving Average Convergence Divergence (MACD) was calculated. Initially, the MACD's three components - the MACD line, the Signal line, and the MACD Histogram - were considered. However, the analysis was later refined to include only the MACD line to maintain focus and relevance.\n",
    "\n",
    "Utilizing pandas for this purpose offered enhanced flexibility and control in data manipulation and calculations. This approach ensured that the analysis was not constrained by the limitations of external data sources or APIs. The resulting dataset, which begins from January 4, 2005, provides a detailed view of the index's performance with accurately computed SMA, EMA, and MACD values, facilitating a thorough technical analysis."
   ]
  },
  {
   "cell_type": "code",
   "execution_count": 6,
   "id": "3077d45f-4a31-4b5f-989b-5e5c0ce62b09",
   "metadata": {},
   "outputs": [
    {
     "name": "stdout",
     "output_type": "stream",
     "text": [
      "             Close          SMA          EMA         MACD\n",
      "count  4569.000000  4569.000000  4569.000000  4569.000000\n",
      "mean   3328.163115  3332.995171  3333.288619    -1.495004\n",
      "std     605.166041   600.825496   596.982635    43.715695\n",
      "min    1809.979981  2091.644585  2096.246724  -140.620963\n",
      "25%    2879.389893  2879.750615  2873.030936   -28.486537\n",
      "50%    3333.739990  3331.059180  3327.667318    -5.791183\n",
      "75%    3736.850098  3724.767212  3700.632632    19.692516\n",
      "max    4662.700200  4649.900067  4639.914437   275.182951\n"
     ]
    }
   ],
   "source": [
    "# Path to the CSV file on the desktop\n",
    "desktop_path = os.path.join(os.path.expanduser('~'), 'Desktop')  # Path to the desktop\n",
    "file_path = os.path.join(desktop_path, 'STOXX50E.csv')  # File Name\n",
    "\n",
    "# Load the dataset from the CSV file\n",
    "index_df = pd.read_csv(file_path)\n",
    "\n",
    "# Filter to only use 'date' and 'close' columns\n",
    "index_df = index_df[['date', 'close']]\n",
    "\n",
    "# Rename columns to 'Date' and 'Close'\n",
    "index_df.rename(columns={'date': 'Date', 'close': 'Close'}, inplace=True)\n",
    "\n",
    "# Convert 'Date' to datetime\n",
    "index_df['Date'] = pd.to_datetime(index_df['Date'])\n",
    "\n",
    "# Calculate the 50-day Simple Moving Average (SMA)\n",
    "index_df['SMA'] = index_df['Close'].rolling(window=50, min_periods=1).mean()\n",
    "\n",
    "# Calculate the 50-day Exponential Moving Average (EMA)\n",
    "index_df['EMA'] = index_df['Close'].ewm(span=50, adjust=False).mean()\n",
    "\n",
    "# Calculate only the MACD Line (12-day EMA - 26-day EMA)\n",
    "index_df['MACD'] = index_df['Close'].ewm(span=12, adjust=False).mean() - index_df['Close'].ewm(span=26, adjust=False).mean()\n",
    "\n",
    "# Filter the DataFrame for dates after 2006-01-02\n",
    "index_data = index_df[index_df['Date'] >= pd.to_datetime('2006-01-02')]\n",
    "\n",
    "# Convert 'Date' from datetime to date (to remove time component)\n",
    "index_data['Date'] = index_data['Date'].dt.date\n",
    "\n",
    "# Now, use describe() on the filtered DataFrame for the numerical columns\n",
    "descriptive_stats = index_data[['Close', 'SMA', 'EMA', 'MACD']].describe()\n",
    "\n",
    "# Print the descriptive statistics\n",
    "print(descriptive_stats)"
   ]
  },
  {
   "cell_type": "code",
   "execution_count": 7,
   "id": "9179752a-fdf0-4456-a3ba-baefdae201f1",
   "metadata": {
    "scrolled": true
   },
   "outputs": [
    {
     "data": {
      "text/html": [
       "<div>\n",
       "<style scoped>\n",
       "    .dataframe tbody tr th:only-of-type {\n",
       "        vertical-align: middle;\n",
       "    }\n",
       "\n",
       "    .dataframe tbody tr th {\n",
       "        vertical-align: top;\n",
       "    }\n",
       "\n",
       "    .dataframe thead th {\n",
       "        text-align: right;\n",
       "    }\n",
       "</style>\n",
       "<table border=\"1\" class=\"dataframe\">\n",
       "  <thead>\n",
       "    <tr style=\"text-align: right;\">\n",
       "      <th></th>\n",
       "      <th>Close</th>\n",
       "      <th>SMA</th>\n",
       "      <th>EMA</th>\n",
       "      <th>MACD</th>\n",
       "    </tr>\n",
       "  </thead>\n",
       "  <tbody>\n",
       "    <tr>\n",
       "      <th>count</th>\n",
       "      <td>4569.000000</td>\n",
       "      <td>4569.000000</td>\n",
       "      <td>4569.000000</td>\n",
       "      <td>4569.000000</td>\n",
       "    </tr>\n",
       "    <tr>\n",
       "      <th>mean</th>\n",
       "      <td>3328.163115</td>\n",
       "      <td>3332.995171</td>\n",
       "      <td>3333.288619</td>\n",
       "      <td>-1.495004</td>\n",
       "    </tr>\n",
       "    <tr>\n",
       "      <th>std</th>\n",
       "      <td>605.166041</td>\n",
       "      <td>600.825496</td>\n",
       "      <td>596.982635</td>\n",
       "      <td>43.715695</td>\n",
       "    </tr>\n",
       "    <tr>\n",
       "      <th>min</th>\n",
       "      <td>1809.979981</td>\n",
       "      <td>2091.644585</td>\n",
       "      <td>2096.246724</td>\n",
       "      <td>-140.620963</td>\n",
       "    </tr>\n",
       "    <tr>\n",
       "      <th>25%</th>\n",
       "      <td>2879.389893</td>\n",
       "      <td>2879.750615</td>\n",
       "      <td>2873.030936</td>\n",
       "      <td>-28.486537</td>\n",
       "    </tr>\n",
       "    <tr>\n",
       "      <th>50%</th>\n",
       "      <td>3333.739990</td>\n",
       "      <td>3331.059180</td>\n",
       "      <td>3327.667318</td>\n",
       "      <td>-5.791183</td>\n",
       "    </tr>\n",
       "    <tr>\n",
       "      <th>75%</th>\n",
       "      <td>3736.850098</td>\n",
       "      <td>3724.767212</td>\n",
       "      <td>3700.632632</td>\n",
       "      <td>19.692516</td>\n",
       "    </tr>\n",
       "    <tr>\n",
       "      <th>max</th>\n",
       "      <td>4662.700200</td>\n",
       "      <td>4649.900067</td>\n",
       "      <td>4639.914437</td>\n",
       "      <td>275.182951</td>\n",
       "    </tr>\n",
       "  </tbody>\n",
       "</table>\n",
       "</div>"
      ],
      "text/plain": [
       "             Close          SMA          EMA         MACD\n",
       "count  4569.000000  4569.000000  4569.000000  4569.000000\n",
       "mean   3328.163115  3332.995171  3333.288619    -1.495004\n",
       "std     605.166041   600.825496   596.982635    43.715695\n",
       "min    1809.979981  2091.644585  2096.246724  -140.620963\n",
       "25%    2879.389893  2879.750615  2873.030936   -28.486537\n",
       "50%    3333.739990  3331.059180  3327.667318    -5.791183\n",
       "75%    3736.850098  3724.767212  3700.632632    19.692516\n",
       "max    4662.700200  4649.900067  4639.914437   275.182951"
      ]
     },
     "execution_count": 7,
     "metadata": {},
     "output_type": "execute_result"
    }
   ],
   "source": [
    "index_data.describe()"
   ]
  },
  {
   "cell_type": "code",
   "execution_count": 8,
   "id": "351683e0-978a-4ab8-b419-086d287b79c9",
   "metadata": {},
   "outputs": [
    {
     "data": {
      "text/html": [
       "<div>\n",
       "<style scoped>\n",
       "    .dataframe tbody tr th:only-of-type {\n",
       "        vertical-align: middle;\n",
       "    }\n",
       "\n",
       "    .dataframe tbody tr th {\n",
       "        vertical-align: top;\n",
       "    }\n",
       "\n",
       "    .dataframe thead th {\n",
       "        text-align: right;\n",
       "    }\n",
       "</style>\n",
       "<table border=\"1\" class=\"dataframe\">\n",
       "  <thead>\n",
       "    <tr style=\"text-align: right;\">\n",
       "      <th></th>\n",
       "      <th>Date</th>\n",
       "      <th>Close</th>\n",
       "      <th>SMA</th>\n",
       "      <th>EMA</th>\n",
       "      <th>MACD</th>\n",
       "    </tr>\n",
       "  </thead>\n",
       "  <tbody>\n",
       "    <tr>\n",
       "      <th>0</th>\n",
       "      <td>2024-02-01</td>\n",
       "      <td>4638.60010</td>\n",
       "      <td>4638.600100</td>\n",
       "      <td>4638.600100</td>\n",
       "      <td>0.000000</td>\n",
       "    </tr>\n",
       "    <tr>\n",
       "      <th>1</th>\n",
       "      <td>2024-01-31</td>\n",
       "      <td>4648.39990</td>\n",
       "      <td>4643.500000</td>\n",
       "      <td>4638.984406</td>\n",
       "      <td>0.781750</td>\n",
       "    </tr>\n",
       "    <tr>\n",
       "      <th>2</th>\n",
       "      <td>2024-01-30</td>\n",
       "      <td>4662.70020</td>\n",
       "      <td>4649.900067</td>\n",
       "      <td>4639.914437</td>\n",
       "      <td>2.526089</td>\n",
       "    </tr>\n",
       "    <tr>\n",
       "      <th>3</th>\n",
       "      <td>2024-01-29</td>\n",
       "      <td>4639.35986</td>\n",
       "      <td>4647.265015</td>\n",
       "      <td>4639.892689</td>\n",
       "      <td>2.002041</td>\n",
       "    </tr>\n",
       "    <tr>\n",
       "      <th>4</th>\n",
       "      <td>2024-01-26</td>\n",
       "      <td>4635.47021</td>\n",
       "      <td>4644.906054</td>\n",
       "      <td>4639.719258</td>\n",
       "      <td>1.258361</td>\n",
       "    </tr>\n",
       "  </tbody>\n",
       "</table>\n",
       "</div>"
      ],
      "text/plain": [
       "         Date       Close          SMA          EMA      MACD\n",
       "0  2024-02-01  4638.60010  4638.600100  4638.600100  0.000000\n",
       "1  2024-01-31  4648.39990  4643.500000  4638.984406  0.781750\n",
       "2  2024-01-30  4662.70020  4649.900067  4639.914437  2.526089\n",
       "3  2024-01-29  4639.35986  4647.265015  4639.892689  2.002041\n",
       "4  2024-01-26  4635.47021  4644.906054  4639.719258  1.258361"
      ]
     },
     "execution_count": 8,
     "metadata": {},
     "output_type": "execute_result"
    }
   ],
   "source": [
    "index_data.head()"
   ]
  },
  {
   "cell_type": "markdown",
   "id": "8597234e-9980-4b87-8cdd-d81bafd89a92",
   "metadata": {
    "jp-MarkdownHeadingCollapsed": true
   },
   "source": [
    "## Interest Rate API (Eurostat)"
   ]
  },
  {
   "cell_type": "code",
   "execution_count": 9,
   "id": "3bab679d-b771-4e7e-9a75-f94f69e4a309",
   "metadata": {},
   "outputs": [
    {
     "name": "stdout",
     "output_type": "stream",
     "text": [
      "Dataset downloaded successfully.\n",
      "Dataset unzipped successfully.\n"
     ]
    }
   ],
   "source": [
    "# Dataset code\n",
    "dataset_code = \"ei_mfir_m\"\n",
    "\n",
    "# API URL for downloading the dataset\n",
    "api_url = f\"https://ec.europa.eu/eurostat/api/dissemination/sdmx/2.1/data/{dataset_code}?format=TSV&compressed=true\"\n",
    "\n",
    "# Download the dataset\n",
    "response = requests.get(api_url, stream=True)\n",
    "output_file = dataset_code + \".tsv.gz\"\n",
    "\n",
    "if response.status_code == 200:\n",
    "    with open(output_file, 'wb') as f:\n",
    "        f.write(response.content)\n",
    "    print(\"Dataset downloaded successfully.\")\n",
    "else:\n",
    "    print(f\"Error downloading dataset. Status code: {response.status_code}\")\n",
    "\n",
    "# Unzipping the dataset\n",
    "with gzip.open(output_file, 'rb') as f_in:\n",
    "    with open(dataset_code + \".tsv\", 'wb') as f_out:\n",
    "        shutil.copyfileobj(f_in, f_out)\n",
    "\n",
    "print(\"Dataset unzipped successfully.\")"
   ]
  },
  {
   "cell_type": "code",
   "execution_count": 10,
   "id": "6d475906-6051-4f34-9ff7-ec825a4f06a9",
   "metadata": {},
   "outputs": [
    {
     "name": "stdout",
     "output_type": "stream",
     "text": [
      "Current Working Directory: /home/fabiopoli/Desktop\n"
     ]
    }
   ],
   "source": [
    "# Get the current working directory\n",
    "current_directory = os.getcwd()\n",
    "print(\"Current Working Directory:\", current_directory)\n",
    "\n",
    "# Construct the file path dynamically\n",
    "file_name = 'ei_mfir_m.tsv'  # File Name\n",
    "file_path = os.path.join(current_directory, file_name)\n",
    "\n",
    "# Load the dataset\n",
    "data = pd.read_csv(file_path, sep='\\t')\n",
    "\n",
    "# Split the first column into separate columns\n",
    "split_columns = data.iloc[:, 0].str.split(',', expand=True)\n",
    "split_columns.columns = ['freq', 's_adj', 'p_adj', 'indic', 'geo']\n",
    "\n",
    "# Combine the split columns with the original data (excluding the first column)\n",
    "structured_data = pd.concat([split_columns, data.iloc[:, 1:]], axis=1)\n",
    "\n",
    "# Apply filters\n",
    "structured_data = structured_data[\n",
    "    (structured_data['indic'] == 'MF-3MI-RT')\n",
    "]\n",
    "\n",
    "# Drop unnecessary columns\n",
    "structured_data.drop(['freq', 's_adj', 'p_adj'], axis=1, inplace=True)\n",
    "\n",
    "# Filter for date range (from Jan, 2005, onwards)\n",
    "date_columns = structured_data.columns[3:]\n",
    "dates_from_2006 = date_columns[date_columns >= '2005-01 ']\n",
    "structured_data = structured_data[['indic','geo'] + list(dates_from_2006)]\n",
    "\n",
    "# Reset the index for a clean table\n",
    "structured_data.reset_index(drop=True, inplace=True)\n",
    "\n",
    "# Display the structured DataFrame\n",
    "pd.set_option('display.max_columns', None)"
   ]
  },
  {
   "cell_type": "code",
   "execution_count": 11,
   "id": "ed3b6951-f3a9-4204-ac9d-85afeb01e6f5",
   "metadata": {},
   "outputs": [
    {
     "name": "stdout",
     "output_type": "stream",
     "text": [
      "  geo     Period  Interest\n",
      "0  EA 2005-03-01  2.13720 \n",
      "1  EA 2005-04-01  2.13720 \n",
      "2  EA 2005-05-01  2.12560 \n",
      "3  EA 2005-06-01  2.11100 \n",
      "4  EA 2005-07-01  2.11940 \n",
      "5  EA 2005-08-01  2.13250 \n",
      "6  EA 2005-09-01  2.13910 \n",
      "7  EA 2005-10-01  2.19660 \n",
      "8  EA 2005-11-01  2.36090 \n",
      "9  EA 2005-12-01  2.47290 \n"
     ]
    }
   ],
   "source": [
    "# Ensure that the date columns include '2005-01'\n",
    "date_columns = structured_data.columns[4:]  # Starting from the 5th column\n",
    "data_for_melting = structured_data[['geo'] + list(date_columns)]\n",
    "\n",
    "# Melting the DataFrame\n",
    "melted_data = pd.melt(data_for_melting, id_vars=['geo'], var_name='Period', value_name='Interest')\n",
    "\n",
    "# Ensure 'Period' is of datetime type\n",
    "melted_data['Period'] = pd.to_datetime(melted_data['Period'])\n",
    "\n",
    "# Filter for 'geo' == 'EA'\n",
    "Interest_data_ea = melted_data[melted_data['geo'] == 'EA']\n",
    "\n",
    "# Apply forward filling\n",
    "Interest_data_ea = Interest_data_ea.sort_values('Period')\n",
    "Interest_data_ea['Interest'] = Interest_data_ea['Interest'].ffill()\n",
    "\n",
    "# Reset index for a clean DataFrame\n",
    "Interest_data_ea.reset_index(drop=True, inplace=True)\n",
    "\n",
    "# Display the transformed DataFrame\n",
    "print(Interest_data_ea.head(10))"
   ]
  },
  {
   "cell_type": "markdown",
   "id": "54e0c0cc-98a9-48f6-afd2-04ee6eef3f6b",
   "metadata": {
    "jp-MarkdownHeadingCollapsed": true
   },
   "source": [
    "##### Forward Filling"
   ]
  },
  {
   "cell_type": "code",
   "execution_count": 12,
   "id": "9732975b-b8b9-4542-8ec0-b0b3df73aa0e",
   "metadata": {},
   "outputs": [
    {
     "name": "stdout",
     "output_type": "stream",
     "text": [
      "        Period geo  Interest\n",
      "307 2006-01-02  EA  2.51170 \n",
      "308 2006-01-03  EA  2.51170 \n",
      "309 2006-01-04  EA  2.51170 \n",
      "310 2006-01-05  EA  2.51170 \n",
      "311 2006-01-06  EA  2.51170 \n",
      "314 2006-01-09  EA  2.51170 \n",
      "315 2006-01-10  EA  2.51170 \n",
      "316 2006-01-11  EA  2.51170 \n",
      "317 2006-01-12  EA  2.51170 \n",
      "318 2006-01-13  EA  2.51170 \n"
     ]
    }
   ],
   "source": [
    "# Convert 'Period' to datetime\n",
    "Interest_data_ea['Period'] = pd.to_datetime(Interest_data_ea['Period'])\n",
    "\n",
    "# Set 'Period' as the index\n",
    "Interest_data_ea.set_index('Period', inplace=True)\n",
    "\n",
    "# Create a daily date range that covers the entire period in your data\n",
    "start_date = Interest_data_ea.index.min()\n",
    "end_date = Interest_data_ea.index.max()\n",
    "all_days = pd.date_range(start=start_date, end=end_date, freq='D')\n",
    "\n",
    "# Reindex the DataFrame to this date range, forward filling the missing values\n",
    "daily_interest_data = Interest_data_ea.reindex(all_days).ffill()\n",
    "\n",
    "# Reset the index so 'Period' becomes a column again\n",
    "daily_interest_data.reset_index(inplace=True)\n",
    "daily_interest_data.rename(columns={'index': 'Period'}, inplace=True)\n",
    "\n",
    "# Filter for dates starting from January 2, 2006\n",
    "daily_interest_data = daily_interest_data[daily_interest_data['Period'] >= '2006-01-02']\n",
    "\n",
    "# Exclude weekends (Saturday and Sunday)\n",
    "daily_interest_data = daily_interest_data[~daily_interest_data['Period'].dt.dayofweek.isin([5, 6])]\n",
    "\n",
    "# Display the first 10 rows of the daily data\n",
    "print(daily_interest_data.head(10))"
   ]
  },
  {
   "cell_type": "markdown",
   "id": "f8ddb7e3-3b12-49df-9557-494a11a5e8d7",
   "metadata": {
    "jp-MarkdownHeadingCollapsed": true
   },
   "source": [
    "##### KNN Filling"
   ]
  },
  {
   "cell_type": "code",
   "execution_count": 13,
   "id": "4a057cd3-9989-4651-b54c-a3276e121656",
   "metadata": {},
   "outputs": [
    {
     "name": "stdout",
     "output_type": "stream",
     "text": [
      "        Period geo  Interest\n",
      "307 2006-01-02  EA    2.5337\n",
      "308 2006-01-03  EA    2.5337\n",
      "309 2006-01-04  EA    2.5337\n",
      "310 2006-01-05  EA    2.5337\n",
      "311 2006-01-06  EA    2.5337\n",
      "314 2006-01-09  EA    2.5337\n",
      "315 2006-01-10  EA    2.5337\n",
      "316 2006-01-11  EA    2.5337\n",
      "317 2006-01-12  EA    2.5337\n",
      "318 2006-01-13  EA    2.5337\n"
     ]
    }
   ],
   "source": [
    "# Check if 'Period' is in the columns; if not, the index might already be the 'Period'\n",
    "if 'Period' in Interest_data_ea.columns:\n",
    "    Interest_data_ea['Period'] = pd.to_datetime(Interest_data_ea['Period'])\n",
    "    Interest_data_ea.set_index('Period', inplace=True)\n",
    "elif not isinstance(Interest_data_ea.index, pd.DatetimeIndex):\n",
    "    # If the index is not a datetime, convert it\n",
    "    Interest_data_ea.index = pd.to_datetime(Interest_data_ea.index)\n",
    "\n",
    "# Create a daily date range\n",
    "start_date = Interest_data_ea.index.min()\n",
    "end_date = Interest_data_ea.index.max()\n",
    "all_days = pd.date_range(start=start_date, end=end_date, freq='D')\n",
    "\n",
    "# Reindex to create a DataFrame with all days, introducing NaNs for days without data\n",
    "interest_data = Interest_data_ea.reindex(all_days)\n",
    "\n",
    "# Convert the index to a numerical value for KNN\n",
    "interest_data['Day_Ordinal'] = interest_data.index.map(datetime.toordinal)\n",
    "\n",
    "# Extract the 'Interest' column for imputation\n",
    "knn_data = interest_data[['Day_Ordinal', 'Interest']].values\n",
    "\n",
    "# Initialize KNN Imputer\n",
    "knn_imputer = KNNImputer(n_neighbors=5)\n",
    "\n",
    "# Apply KNN imputation\n",
    "knn_data_imputed = knn_imputer.fit_transform(knn_data)\n",
    "\n",
    "# Put the imputed 'Interest' data back into the DataFrame\n",
    "interest_data['Interest'] = knn_data_imputed[:, 1]\n",
    "\n",
    "# Drop the 'Day_Ordinal' column as it's no longer needed\n",
    "interest_data.drop('Day_Ordinal', axis=1, inplace=True)\n",
    "\n",
    "# Reset index to make 'Period' a column again\n",
    "interest_data.reset_index(inplace=True)\n",
    "interest_data.rename(columns={'index': 'Period'}, inplace=True)\n",
    "\n",
    "# If the 'geo' column is required, fill it with a constant value (e.g., 'EA')\n",
    "interest_data['geo'] = 'EA'\n",
    "\n",
    "# Filter for dates starting from January 2, 2006\n",
    "interest_data = interest_data[interest_data['Period'] >= '2006-01-02']\n",
    "\n",
    "# Exclude weekends (Saturday and Sunday)\n",
    "interest_data = interest_data[~interest_data['Period'].dt.dayofweek.isin([5, 6])]\n",
    "\n",
    "\n",
    "# Display the first 10 rows of the daily data\n",
    "print(interest_data.head(10))"
   ]
  },
  {
   "cell_type": "code",
   "execution_count": 14,
   "id": "e2f33bc0-06eb-47d2-b0bf-ad5f961dc80e",
   "metadata": {},
   "outputs": [
    {
     "name": "stdout",
     "output_type": "stream",
     "text": [
      "Null Values in Each Column:\n",
      " Period      0\n",
      "geo         0\n",
      "Interest    0\n",
      "dtype: int64\n",
      "\n",
      "NaN Values in Each Column:\n",
      " Period      0\n",
      "geo         0\n",
      "Interest    0\n",
      "dtype: int64\n",
      "\n",
      "Zero Values in Each Column:\n",
      " Period      0\n",
      "geo         0\n",
      "Interest    0\n",
      "dtype: int64\n",
      "\n",
      "N/A Values in Each Column:\n",
      " Period      0\n",
      "geo         0\n",
      "Interest    0\n",
      "dtype: int64\n"
     ]
    }
   ],
   "source": [
    "# Check for null values\n",
    "null_counts = interest_data.isnull().sum()\n",
    "print(\"Null Values in Each Column:\\n\", null_counts)\n",
    "\n",
    "# Check for NaN values\n",
    "nan_counts = interest_data.isna().sum()\n",
    "print(\"\\nNaN Values in Each Column:\\n\", nan_counts)\n",
    "\n",
    "# Check for zero values\n",
    "zero_counts = (interest_data == 0).sum()\n",
    "print(\"\\nZero Values in Each Column:\\n\", zero_counts)\n",
    "\n",
    "# Check for N/A values\n",
    "na_counts = (interest_data == \"N/A\").sum()\n",
    "print(\"\\nN/A Values in Each Column:\\n\", na_counts)"
   ]
  },
  {
   "cell_type": "markdown",
   "id": "75932c1a-6e81-4ce1-8f20-a644d6b56323",
   "metadata": {
    "jp-MarkdownHeadingCollapsed": true
   },
   "source": [
    "## Bonds Yields API (Eurostat)"
   ]
  },
  {
   "cell_type": "code",
   "execution_count": 15,
   "id": "6c235fd6-cf50-42b0-9142-a4bfd163c124",
   "metadata": {},
   "outputs": [
    {
     "name": "stdout",
     "output_type": "stream",
     "text": [
      "Dataset downloaded successfully.\n",
      "Dataset unzipped successfully.\n"
     ]
    }
   ],
   "source": [
    "# Dataset code\n",
    "dataset_code = \"irt_euryld_d\"\n",
    "\n",
    "# API URL for downloading the dataset\n",
    "api_url = f\"https://ec.europa.eu/eurostat/api/dissemination/sdmx/2.1/data/{dataset_code}?format=TSV&compressed=true\"\n",
    "\n",
    "# Download the dataset\n",
    "response = requests.get(api_url, stream=True)\n",
    "output_file = dataset_code + \".tsv.gz\"\n",
    "\n",
    "if response.status_code == 200:\n",
    "    with open(output_file, 'wb') as f:\n",
    "        f.write(response.content)\n",
    "    print(\"Dataset downloaded successfully.\")\n",
    "else:\n",
    "    print(f\"Error downloading dataset. Status code: {response.status_code}\")\n",
    "\n",
    "# Unzipping the dataset\n",
    "with gzip.open(output_file, 'rb') as f_in:\n",
    "    with open(dataset_code + \".tsv\", 'wb') as f_out:\n",
    "        shutil.copyfileobj(f_in, f_out)\n",
    "\n",
    "print(\"Dataset unzipped successfully.\")"
   ]
  },
  {
   "cell_type": "code",
   "execution_count": 16,
   "id": "6f3d79b6-dd27-48d4-8ee7-d78e53cb60f6",
   "metadata": {},
   "outputs": [
    {
     "name": "stdout",
     "output_type": "stream",
     "text": [
      "Current Working Directory: /home/fabiopoli/Desktop\n"
     ]
    }
   ],
   "source": [
    "# Get the current working directory\n",
    "current_directory = os.getcwd()\n",
    "print(\"Current Working Directory:\", current_directory)\n",
    "\n",
    "# Construct the file path dynamically\n",
    "file_name = 'irt_euryld_d.tsv'  # File Name\n",
    "file_path = os.path.join(current_directory, file_name)\n",
    "\n",
    "# Load the dataset\n",
    "data = pd.read_csv(file_path, sep='\\t')\n",
    "\n",
    "# Split the first column into separate columns\n",
    "split_columns = data.iloc[:, 0].str.split(',', expand=True)\n",
    "split_columns.columns = ['freq', 'yld_curv', 'maturity', 'bonds', 'geo']\n",
    "\n",
    "# Combine the split columns with the original data (excluding the first column)\n",
    "structured_data = pd.concat([split_columns, data.iloc[:, 1:]], axis=1)\n",
    "\n",
    "# Apply filters\n",
    "structured_data = structured_data[\n",
    "    (structured_data['yld_curv'] == 'SPOT_RT') & \n",
    "    (structured_data['bonds'] == 'CGB_EA')\n",
    "]\n",
    "\n",
    "# Drop unnecessary columns\n",
    "structured_data.drop(['freq', 'geo'], axis=1, inplace=True)\n",
    "\n",
    "# Filter for date range (from January 2, 2006, onwards)\n",
    "date_columns = structured_data.columns[3:]\n",
    "dates_from_oct_2004 = date_columns[date_columns >= '2006-01-02 ']\n",
    "structured_data = structured_data[['yld_curv', 'maturity', 'bonds'] + list(dates_from_oct_2004)]\n",
    "\n",
    "# Reset the index for a clean table\n",
    "structured_data.reset_index(drop=True, inplace=True)\n",
    "\n",
    "# Display the structured DataFrame\n",
    "pd.set_option('display.max_columns', None)"
   ]
  },
  {
   "cell_type": "code",
   "execution_count": 17,
   "id": "6eca047b-9076-46cf-a25e-e8496b7bc7b3",
   "metadata": {},
   "outputs": [
    {
     "name": "stdout",
     "output_type": "stream",
     "text": [
      "        Period maturity     Rate\n",
      "0  2006-01-02       M10  2.63864\n",
      "1  2006-01-02       M11   2.6671\n",
      "2  2006-01-02        M3  2.34702\n",
      "3  2006-01-02        M4  2.40081\n",
      "4  2006-01-02        M5  2.44996\n"
     ]
    }
   ],
   "source": [
    "# Filter out only the columns with date values for melting\n",
    "date_columns = structured_data.columns[3:]  # Assuming date columns start from the 4th column\n",
    "data_for_melting = structured_data[['maturity'] + list(date_columns)]\n",
    "\n",
    "# Melt the DataFrame to change its structure\n",
    "bonds_data = pd.melt(data_for_melting, id_vars=['maturity'], var_name='Period', value_name='Rate')\n",
    "\n",
    "# Specify the desired maturities (M3 to M11 and Y1 to Y30)\n",
    "desired_maturities = [f'M{i}' for i in range(0, 13)] + [f'Y{i}' for i in range(1, 31)]\n",
    "\n",
    "# Filter the DataFrame to include only the specified maturities\n",
    "bonds_data = bonds_data[bonds_data['maturity'].isin(desired_maturities)]\n",
    "\n",
    "# Rearrange the columns\n",
    "bonds_data = bonds_data[['Period', 'maturity', 'Rate']]\n",
    "\n",
    "# Display the transformed DataFrame\n",
    "pd.set_option('display.max_rows', None)  # This option displays all the rows\n",
    "print(bonds_data.head())\n"
   ]
  },
  {
   "cell_type": "code",
   "execution_count": 18,
   "id": "4a599051-9819-4582-aa8b-aef4232cf69f",
   "metadata": {},
   "outputs": [
    {
     "name": "stdout",
     "output_type": "stream",
     "text": [
      "Null Values in Each Column:\n",
      " Period      0\n",
      "maturity    0\n",
      "Rate        0\n",
      "dtype: int64\n",
      "\n",
      "NaN Values in Each Column:\n",
      " Period      0\n",
      "maturity    0\n",
      "Rate        0\n",
      "dtype: int64\n",
      "\n",
      "Zero Values in Each Column:\n",
      " Period      0\n",
      "maturity    0\n",
      "Rate        0\n",
      "dtype: int64\n",
      "\n",
      "N/A Values in Each Column:\n",
      " Period      0\n",
      "maturity    0\n",
      "Rate        0\n",
      "dtype: int64\n"
     ]
    }
   ],
   "source": [
    "# Check for null values\n",
    "null_counts = bonds_data.isnull().sum()\n",
    "print(\"Null Values in Each Column:\\n\", null_counts)\n",
    "\n",
    "# Check for NaN values\n",
    "nan_counts = bonds_data.isna().sum()\n",
    "print(\"\\nNaN Values in Each Column:\\n\", nan_counts)\n",
    "\n",
    "# Check for zero values\n",
    "zero_counts = (bonds_data == 0).sum()\n",
    "print(\"\\nZero Values in Each Column:\\n\", zero_counts)\n",
    "\n",
    "# Check for N/A values\n",
    "na_counts = (bonds_data == \"N/A\").sum()\n",
    "print(\"\\nN/A Values in Each Column:\\n\", na_counts)"
   ]
  },
  {
   "cell_type": "markdown",
   "id": "eac2005f-ad08-4054-a554-9c035972bd62",
   "metadata": {
    "jp-MarkdownHeadingCollapsed": true
   },
   "source": [
    "## Inflation Rate API (Eurostat)"
   ]
  },
  {
   "cell_type": "code",
   "execution_count": 19,
   "id": "155c37e4-15a3-4a40-83f4-912786f10e0c",
   "metadata": {},
   "outputs": [
    {
     "name": "stdout",
     "output_type": "stream",
     "text": [
      "Dataset downloaded successfully.\n",
      "Dataset unzipped successfully.\n"
     ]
    }
   ],
   "source": [
    "# Dataset code\n",
    "dataset_code = \"prc_hicp_manr\"\n",
    "\n",
    "# API URL for downloading the dataset\n",
    "api_url = f\"https://ec.europa.eu/eurostat/api/dissemination/sdmx/2.1/data/{dataset_code}?format=TSV&compressed=true\"\n",
    "\n",
    "# Download the dataset\n",
    "response = requests.get(api_url, stream=True)\n",
    "output_file = dataset_code + \".tsv.gz\"\n",
    "\n",
    "if response.status_code == 200:\n",
    "    with open(output_file, 'wb') as f:\n",
    "        f.write(response.content)\n",
    "    print(\"Dataset downloaded successfully.\")\n",
    "else:\n",
    "    print(f\"Error downloading dataset. Status code: {response.status_code}\")\n",
    "\n",
    "# Unzipping the dataset\n",
    "with gzip.open(output_file, 'rb') as f_in:\n",
    "    with open(dataset_code + \".tsv\", 'wb') as f_out:\n",
    "        shutil.copyfileobj(f_in, f_out)\n",
    "\n",
    "print(\"Dataset unzipped successfully.\")"
   ]
  },
  {
   "cell_type": "code",
   "execution_count": 20,
   "id": "d7a534f6-4c7e-4161-acc1-e454d0264550",
   "metadata": {},
   "outputs": [
    {
     "name": "stdout",
     "output_type": "stream",
     "text": [
      "Current Working Directory: /home/fabiopoli/Desktop\n"
     ]
    }
   ],
   "source": [
    "# Get the current working directory\n",
    "current_directory = os.getcwd()\n",
    "print(\"Current Working Directory:\", current_directory)\n",
    "\n",
    "# Construct the file path dynamically\n",
    "file_name = 'prc_hicp_manr.tsv'  # File Name\n",
    "file_path = os.path.join(current_directory, file_name)\n",
    "\n",
    "# Load the dataset\n",
    "data = pd.read_csv(file_path, sep='\\t')\n",
    "\n",
    "# Split the first column into separate columns\n",
    "split_columns = data.iloc[:, 0].str.split(',', expand=True)\n",
    "split_columns.columns = ['freq', 'unit', 'coicop', 'geo']\n",
    "\n",
    "# Combine the split columns with the original data (excluding the first column)\n",
    "structured_data = pd.concat([split_columns, data.iloc[:, 1:]], axis=1)\n",
    "\n",
    "# Apply filters\n",
    "structured_data = structured_data[\n",
    "    (structured_data['unit'] == 'RCH_A') & \n",
    "    (structured_data['coicop'] == 'CP00')\n",
    "]\n",
    "\n",
    "# Drop unnecessary columns\n",
    "structured_data.drop(['freq'], axis=1, inplace=True)\n",
    "\n",
    "# Filter for date range (from January 1, 2005, onwards)\n",
    "date_columns = structured_data.columns[3:]\n",
    "dates_from_oct_2004 = date_columns[date_columns >= '2005-01']\n",
    "structured_data = structured_data[['unit', 'coicop', 'geo'] + list(dates_from_oct_2004)]\n",
    "\n",
    "# Reset the index for a clean table\n",
    "structured_data.reset_index(drop=True, inplace=True)\n",
    "\n",
    "# Display the structured DataFrame\n",
    "pd.set_option('display.max_columns', None)"
   ]
  },
  {
   "cell_type": "code",
   "execution_count": 21,
   "id": "87fc8e93-4664-47e4-9e3c-e3ced50311eb",
   "metadata": {},
   "outputs": [
    {
     "name": "stdout",
     "output_type": "stream",
     "text": [
      "  geo     Period Inflation\n",
      "0  EA 2005-01-01      1.9 \n",
      "1  EA 2005-02-01      2.1 \n",
      "2  EA 2005-03-01      2.2 \n",
      "3  EA 2005-04-01      2.1 \n",
      "4  EA 2005-05-01      2.0 \n",
      "5  EA 2005-06-01      2.0 \n",
      "6  EA 2005-07-01      2.1 \n",
      "7  EA 2005-08-01      2.2 \n",
      "8  EA 2005-09-01      2.6 \n",
      "9  EA 2005-10-01      2.5 \n"
     ]
    }
   ],
   "source": [
    "# Filter out only the columns with date values for melting\n",
    "date_columns = structured_data.columns[3:]  # Include all date columns starting from the 4th column\n",
    "data_for_melting = structured_data[['geo'] + list(date_columns)]\n",
    "\n",
    "# Melting the DataFrame\n",
    "melted_data = pd.melt(data_for_melting, id_vars=['geo'], var_name='Period', value_name='Inflation')\n",
    "\n",
    "# Filter for 'geo' == 'EA' and convert 'Period' to datetime format\n",
    "inflation_data_ea = melted_data[melted_data['geo'] == 'EA']\n",
    "inflation_data_ea['Period'] = pd.to_datetime(inflation_data_ea['Period'])\n",
    "\n",
    "# Ensure the DataFrame is sorted by period and forward fill missing 'Inflation' values\n",
    "inflation_data_ea = inflation_data_ea.sort_values(by='Period')\n",
    "inflation_data_ea['Inflation'] = inflation_data_ea.groupby('geo')['Inflation'].ffill()\n",
    "\n",
    "# Reset the index and display the DataFrame\n",
    "inflation_data_ea = inflation_data_ea.reset_index(drop=True)\n",
    "print(inflation_data_ea.head(10))"
   ]
  },
  {
   "cell_type": "markdown",
   "id": "78081083-ef0a-4148-a9aa-8276cfcf38ad",
   "metadata": {},
   "source": [
    "##### Forward Filling"
   ]
  },
  {
   "cell_type": "code",
   "execution_count": 22,
   "id": "af5f1ae9-ac11-4cec-bbd9-bca717be51c1",
   "metadata": {},
   "outputs": [
    {
     "name": "stdout",
     "output_type": "stream",
     "text": [
      "        Period geo Inflation\n",
      "366 2006-01-02  EA      2.4 \n",
      "367 2006-01-03  EA      2.4 \n",
      "368 2006-01-04  EA      2.4 \n",
      "369 2006-01-05  EA      2.4 \n",
      "370 2006-01-06  EA      2.4 \n",
      "373 2006-01-09  EA      2.4 \n",
      "374 2006-01-10  EA      2.4 \n",
      "375 2006-01-11  EA      2.4 \n",
      "376 2006-01-12  EA      2.4 \n",
      "377 2006-01-13  EA      2.4 \n"
     ]
    }
   ],
   "source": [
    "# Convert 'Period' to datetime\n",
    "inflation_data_ea['Period'] = pd.to_datetime(inflation_data_ea['Period'])\n",
    "\n",
    "# Set 'Period' as the DataFrame index\n",
    "inflation_data_ea.set_index('Period', inplace=True)\n",
    "\n",
    "# Resample to daily data using forward fill\n",
    "daily_data_ffill = inflation_data_ea.resample('D').ffill()\n",
    "\n",
    "# Reset index to move 'Period' back to a column\n",
    "daily_data_ffill.reset_index(inplace=True)\n",
    "\n",
    "# Filter for dates starting from January 2, 2006\n",
    "daily_data_ffill = daily_data_ffill[daily_data_ffill['Period'] >= '2006-01-02']\n",
    "\n",
    "# Exclude weekends (Saturday and Sunday)\n",
    "daily_data_ffill = daily_data_ffill[~daily_data_ffill['Period'].dt.dayofweek.isin([5, 6])]\n",
    "\n",
    "# Display the first 10 rows of the daily data\n",
    "print(daily_data_ffill.head(10))"
   ]
  },
  {
   "cell_type": "markdown",
   "id": "74016a4a-760e-4e3a-8879-4d982de87239",
   "metadata": {},
   "source": [
    "##### KNN Filling"
   ]
  },
  {
   "cell_type": "code",
   "execution_count": 23,
   "id": "c0a6b469-d155-4ffb-aa15-039b91c124db",
   "metadata": {},
   "outputs": [
    {
     "name": "stdout",
     "output_type": "stream",
     "text": [
      "        Period geo  Inflation\n",
      "366 2006-01-02  EA       2.32\n",
      "367 2006-01-03  EA       2.32\n",
      "368 2006-01-04  EA       2.32\n",
      "369 2006-01-05  EA       2.32\n",
      "370 2006-01-06  EA       2.32\n",
      "373 2006-01-09  EA       2.32\n",
      "374 2006-01-10  EA       2.32\n",
      "375 2006-01-11  EA       2.32\n",
      "376 2006-01-12  EA       2.32\n",
      "377 2006-01-13  EA       2.32\n"
     ]
    }
   ],
   "source": [
    "# Check if 'Period' is in the columns; if not, the index should already be the 'Period'\n",
    "if 'Period' in inflation_data_ea.columns:\n",
    "    inflation_data_ea['Period'] = pd.to_datetime(inflation_data_ea['Period'])\n",
    "    inflation_data_ea.set_index('Period', inplace=True)\n",
    "elif not isinstance(inflation_data_ea.index, pd.DatetimeIndex):\n",
    "    # If the index is not a datetime, convert it\n",
    "    inflation_data_ea.index = pd.to_datetime(inflation_data_ea.index)\n",
    "\n",
    "# Convert non-numeric values to NaN in the 'Inflation' column\n",
    "inflation_data_ea['Inflation'] = pd.to_numeric(inflation_data_ea['Inflation'], errors='coerce')\n",
    "\n",
    "# Create a daily date range that covers the entire period of your data\n",
    "date_range = pd.date_range(start=inflation_data_ea.index.min(), end=inflation_data_ea.index.max(), freq='D')\n",
    "\n",
    "# Create a new DataFrame for KNN imputation\n",
    "inflation_data = pd.DataFrame(date_range, columns=['Period'])\n",
    "\n",
    "# Merge with your existing data - this will introduce NaNs for days without data\n",
    "inflation_data = inflation_data.merge(inflation_data_ea, how='left', left_on='Period', right_index=True)\n",
    "\n",
    "# Convert 'Period' to a numerical value (e.g., days since start)\n",
    "min_date = inflation_data['Period'].min()\n",
    "inflation_data['Day_Ordinal'] = (inflation_data['Period'] - min_date).dt.days\n",
    "\n",
    "# Prepare data for KNN imputation\n",
    "knn_data = inflation_data[['Day_Ordinal', 'Inflation']]\n",
    "\n",
    "# Initialize KNN Imputer - 5 neighbors / Week\n",
    "knn_imputer = KNNImputer(n_neighbors=5)\n",
    "\n",
    "# Apply KNN imputation\n",
    "knn_data_imputed = knn_imputer.fit_transform(knn_data)\n",
    "\n",
    "# Add imputed data back to DataFrame\n",
    "inflation_data['Inflation'] = knn_data_imputed[:, 1]\n",
    "\n",
    "# Fill 'geo' column with 'EA'\n",
    "inflation_data['geo'] = 'EA'\n",
    "\n",
    "# Convert 'Day_Ordinal' back to datetime\n",
    "inflation_data['Period'] = inflation_data['Day_Ordinal'].apply(lambda x: min_date + timedelta(days=x))\n",
    "\n",
    "# Drop the 'Day_Ordinal' column\n",
    "inflation_data.drop(columns='Day_Ordinal', inplace=True)\n",
    "\n",
    "# Filter for dates starting from January 2, 2006\n",
    "inflation_data = inflation_data[inflation_data['Period'] >= '2006-01-02']\n",
    "\n",
    "# Exclude weekends (Saturday and Sunday)\n",
    "inflation_data = inflation_data[~inflation_data['Period'].dt.dayofweek.isin([5, 6])]\n",
    "\n",
    "# Display the first 10 rows of the daily data\n",
    "print(inflation_data.head(10))"
   ]
  },
  {
   "cell_type": "code",
   "execution_count": 24,
   "id": "17d7b673-02a2-449e-856a-3af4415f1f79",
   "metadata": {},
   "outputs": [
    {
     "name": "stdout",
     "output_type": "stream",
     "text": [
      "Null Values in Each Column:\n",
      " Period       0\n",
      "geo          0\n",
      "Inflation    0\n",
      "dtype: int64\n",
      "\n",
      "NaN Values in Each Column:\n",
      " Period       0\n",
      "geo          0\n",
      "Inflation    0\n",
      "dtype: int64\n",
      "\n",
      "Zero Values in Each Column:\n",
      " Period       0\n",
      "geo          0\n",
      "Inflation    3\n",
      "dtype: int64\n",
      "\n",
      "N/A Values in Each Column:\n",
      " Period       0\n",
      "geo          0\n",
      "Inflation    0\n",
      "dtype: int64\n"
     ]
    }
   ],
   "source": [
    "# Check for null values\n",
    "null_counts = inflation_data.isnull().sum()\n",
    "print(\"Null Values in Each Column:\\n\", null_counts)\n",
    "\n",
    "# Check for NaN values\n",
    "nan_counts = inflation_data.isna().sum()\n",
    "print(\"\\nNaN Values in Each Column:\\n\", nan_counts)\n",
    "\n",
    "# Check for zero values\n",
    "zero_counts = (inflation_data == 0).sum()\n",
    "print(\"\\nZero Values in Each Column:\\n\", zero_counts)\n",
    "\n",
    "# Check for N/A values\n",
    "na_counts = (inflation_data == \"N/A\").sum()\n",
    "print(\"\\nN/A Values in Each Column:\\n\", na_counts)\n"
   ]
  },
  {
   "cell_type": "markdown",
   "id": "bcf54c7b-3244-4834-82c5-c8b858201b75",
   "metadata": {
    "jp-MarkdownHeadingCollapsed": true
   },
   "source": [
    "# SparkSQL: Tables Connection"
   ]
  },
  {
   "cell_type": "code",
   "execution_count": 25,
   "id": "40750bc0-b9d3-4a28-abc9-bd5937c6ce0d",
   "metadata": {},
   "outputs": [
    {
     "name": "stderr",
     "output_type": "stream",
     "text": [
      "Setting default log level to \"WARN\".\n",
      "To adjust logging level use sc.setLogLevel(newLevel). For SparkR, use setLogLevel(newLevel).\n",
      "24/02/01 22:52:54 WARN NativeCodeLoader: Unable to load native-hadoop library for your platform... using builtin-java classes where applicable\n",
      "24/02/01 22:52:55 WARN Utils: Service 'SparkUI' could not bind on port 4040. Attempting port 4041.\n",
      "24/02/01 22:53:01 WARN SparkStringUtils: Truncated the string representation of a plan since it was too large. This behavior can be adjusted by setting 'spark.sql.debug.maxToStringFields'.\n",
      "                                                                                \r"
     ]
    },
    {
     "name": "stdout",
     "output_type": "stream",
     "text": [
      "+----------+------------+-------------------+------------------+------------------+------------+-------------+-------+-------+-------+-------+-------+-------+-------+-------+-------+\n",
      "|      Date|       Close|               MACD|               SMA|               EMA|InterestRate|InflationRate|     M3|     M6|     M9|     Y1|     Y3|     Y5|    Y10|    Y20|    Y30|\n",
      "+----------+------------+-------------------+------------------+------------------+------------+-------------+-------+-------+-------+-------+-------+-------+-------+-------+-------+\n",
      "|2011-11-11|2324.8100586| -8.028527956318612|2288.1853906300003| 2290.587045535995|     1.44908|          2.9|1.95186|2.41387|2.69476|2.85664|3.06711|3.48479|4.54757|5.28258|5.53034|\n",
      "|2011-11-14|2288.3200684| -16.55201673850661|    2290.330590826|2289.1901878599133|     1.44908|          2.9|1.78482|2.28752|2.60871|2.80766|3.15287|3.56894|4.61852|5.35848|5.60841|\n",
      "|2011-11-15|      2254.0|-23.474986811211693|    2292.986591802|2289.2257029399098|     1.44908|          2.9|  1.976|2.56708|2.92928|3.13892| 3.3269|3.68732|4.76005| 5.5231|5.78062|\n",
      "|2011-11-16|2267.9599609| -28.47535274966549|    2297.114589848|2290.6634867333755|     1.44908|          2.9| 2.2176|2.67334|2.96047|3.13411|3.38622|3.75626|4.76568| 5.4923| 5.7381|\n",
      "|2011-11-17|2242.7800293|-35.864828890023546|    2300.487792974|2291.5901612571865|     1.35144|         2.84|2.41241|2.74096|2.94821|3.07552|3.36776|3.80675|4.80286|5.49126|5.72366|\n",
      "|2011-11-18|2236.6799316|-42.211042435134914|2303.7245947320002|2293.5824115411533|     1.35144|         2.84|2.01058|2.63164|3.01368|3.23613|3.43254|3.76439|4.77308|5.48822|5.72942|\n",
      "|2011-11-21|2160.2800293| -49.07603897692934|    2307.324194342| 2295.904961742833|     1.35144|         2.84|2.00457|2.62712|3.00899|3.23052|3.42195|3.75223|4.74805|5.45023|5.68695|\n",
      "|2011-11-22|2136.8100586| -49.34553848915539|2313.5343945379996| 2301.440673271112|     1.35144|         2.84|2.12143| 2.7448|3.12934|3.35381|3.53828|3.84161| 4.8136|5.51005|5.74507|\n",
      "|2011-11-23|2096.7900391| -46.58209483546352|    2320.361191412|2308.1602901964634|     1.35144|         2.84|2.22382|2.83092|3.20803|3.43136|3.66962|3.99333|4.93052|5.58797|5.80955|\n",
      "|2011-11-24|     2090.25|-38.302612479872096|2328.7283886759997|2316.7876473840743|     1.35144|         2.84|2.22234|2.86556|3.26545|3.50339|3.77842|4.10205|4.98583|5.59073|5.79422|\n",
      "+----------+------------+-------------------+------------------+------------------+------------+-------------+-------+-------+-------+-------+-------+-------+-------+-------+-------+\n",
      "only showing top 10 rows\n",
      "\n"
     ]
    }
   ],
   "source": [
    "# Create a Spark session\n",
    "spark = SparkSession.builder \\\n",
    "    .appName(\"Stock Market Trends Analysis\") \\\n",
    "    .getOrCreate()\n",
    "\n",
    "# Function to format date columns in Pandas DataFrame\n",
    "def format_date_columns(df, date_column):\n",
    "    df[date_column] = pd.to_datetime(df[date_column]).dt.date\n",
    "    return df\n",
    "\n",
    "# Format date columns\n",
    "index_data = format_date_columns(index_data, 'Date')\n",
    "interest_data = format_date_columns(interest_data, 'Period')\n",
    "bonds_data = format_date_columns(bonds_data, 'Period')\n",
    "inflation_data = format_date_columns(inflation_data, 'Period')\n",
    "\n",
    "# Convert Pandas DataFrame to Spark DataFrame\n",
    "index_df_spark = spark.createDataFrame(index_data)\n",
    "interest_df_spark = spark.createDataFrame(interest_data)\n",
    "bonds_df_spark = spark.createDataFrame(bonds_data)\n",
    "inflation_df_spark = spark.createDataFrame(inflation_data)\n",
    "\n",
    "# Trim and convert date columns to DateType\n",
    "index_df_spark = index_df_spark.withColumn(\"Date\", to_date(trim(col(\"Date\")), \"yyyy-MM-dd\"))\n",
    "interest_df_spark = interest_df_spark.withColumn(\"Period\", to_date(trim(col(\"Period\")), \"yyyy-MM-dd\"))\n",
    "bonds_df_spark = bonds_df_spark.withColumn(\"Period\", to_date(trim(col(\"Period\")), \"yyyy-MM-dd\"))\n",
    "inflation_df_spark = inflation_df_spark.withColumn(\"Period\", to_date(trim(col(\"Period\")), \"yyyy-MM-dd\"))\n",
    "\n",
    "# Create Temporary Views\n",
    "index_df_spark.createOrReplaceTempView(\"indexView\")\n",
    "interest_df_spark.createOrReplaceTempView(\"interestView\")\n",
    "bonds_df_spark.createOrReplaceTempView(\"bondsView\")\n",
    "inflation_df_spark.createOrReplaceTempView(\"inflationView\")\n",
    "\n",
    "# Pivot and process bonds data to have maturity rates as separate columns\n",
    "bonds_df_pivoted = bonds_df_spark.groupBy(\"Period\").pivot(\"maturity\").agg(first(\"Rate\"))\n",
    "bonds_df_pivoted.createOrReplaceTempView(\"bondsPivotedView\")\n",
    "\n",
    "# SQL Query for Joining\n",
    "join_query = \"\"\"\n",
    "SELECT i.Date, i.Close, i.MACD, i.SMA, i.EMA,\n",
    "       int.Interest as InterestRate, \n",
    "       inf.Inflation as InflationRate,\n",
    "       b.M3, b.M6, b.M9, b.Y1, b.Y3, b.Y5, b.Y10, b.Y20, b.Y30\n",
    "FROM indexView i\n",
    "LEFT JOIN interestView int ON i.Date = int.Period\n",
    "LEFT JOIN bondsPivotedView b ON i.Date = b.Period\n",
    "LEFT JOIN inflationView inf ON i.Date = inf.Period\n",
    "\"\"\"\n",
    "\n",
    "# Execute the query and show the Result\n",
    "dataset = spark.sql(join_query)\n",
    "dataset.show(10)"
   ]
  },
  {
   "cell_type": "code",
   "execution_count": 26,
   "id": "2c19e74e-3c2f-493d-9098-de40eb16e475",
   "metadata": {},
   "outputs": [
    {
     "name": "stdout",
     "output_type": "stream",
     "text": [
      "Column 'Date': Zeros = N/A, Nulls or NaNs = 0\n",
      "Column 'Close': Zeros = N/A, Nulls or NaNs = 0\n",
      "Column 'MACD': Zeros = N/A, Nulls or NaNs = 0\n",
      "Column 'SMA': Zeros = N/A, Nulls or NaNs = 0\n",
      "Column 'EMA': Zeros = N/A, Nulls or NaNs = 0\n",
      "Column 'InterestRate': Zeros = N/A, Nulls or NaNs = 41\n",
      "Column 'InflationRate': Zeros = N/A, Nulls or NaNs = 23\n"
     ]
    },
    {
     "name": "stderr",
     "output_type": "stream",
     "text": [
      "                                                                                \r"
     ]
    },
    {
     "name": "stdout",
     "output_type": "stream",
     "text": [
      "Column 'M3': Zeros = N/A, Nulls or NaNs = 17\n",
      "Column 'M6': Zeros = N/A, Nulls or NaNs = 17\n",
      "Column 'M9': Zeros = N/A, Nulls or NaNs = 17\n",
      "Column 'Y1': Zeros = N/A, Nulls or NaNs = 17\n",
      "Column 'Y3': Zeros = N/A, Nulls or NaNs = 17\n",
      "Column 'Y5': Zeros = N/A, Nulls or NaNs = 17\n",
      "Column 'Y10': Zeros = N/A, Nulls or NaNs = 17\n",
      "Column 'Y20': Zeros = N/A, Nulls or NaNs = 17\n",
      "Column 'Y30': Zeros = N/A, Nulls or NaNs = 17\n"
     ]
    }
   ],
   "source": [
    "# DataFrame: joined_df\n",
    "numeric_column_types = ['int', 'double', 'float', 'long']\n",
    "\n",
    "# Counting zeros and nulls for each column\n",
    "for column in dataset.columns:\n",
    "    # Check if the column is numeric\n",
    "    if str(dataset.schema[column].dataType) in numeric_column_types:\n",
    "        zero_count = dataset.filter(col(column) == 0).count()\n",
    "        null_or_nan_count = joined_df.filter(col(column).isNull() | isnan(col(column))).count()\n",
    "    else:\n",
    "        zero_count = 'N/A' # Not applicable for non-numeric columns\n",
    "        null_or_nan_count = dataset.filter(col(column).isNull()).count() # Check only for nulls in non-numeric columns\n",
    "\n",
    "    print(f\"Column '{column}': Zeros = {zero_count}, Nulls or NaNs = {null_or_nan_count}\")"
   ]
  },
  {
   "cell_type": "code",
   "execution_count": 27,
   "id": "2f5a2b69-23f8-4c3b-a9c4-92b950cea9a0",
   "metadata": {},
   "outputs": [
    {
     "name": "stdout",
     "output_type": "stream",
     "text": [
      "Column 'InterestRate': Zeros = N/A, Nulls or NaNs = 41\n",
      "Column 'InflationRate': Zeros = N/A, Nulls or NaNs = 23\n",
      "Column 'M3': Zeros = N/A, Nulls or NaNs = 17\n",
      "Column 'M6': Zeros = N/A, Nulls or NaNs = 17\n",
      "Column 'M9': Zeros = N/A, Nulls or NaNs = 17\n",
      "Column 'Y1': Zeros = N/A, Nulls or NaNs = 17\n",
      "Column 'Y3': Zeros = N/A, Nulls or NaNs = 17\n",
      "Column 'Y5': Zeros = N/A, Nulls or NaNs = 17\n",
      "Column 'Y10': Zeros = N/A, Nulls or NaNs = 17\n",
      "Column 'Y20': Zeros = N/A, Nulls or NaNs = 17\n",
      "Column 'Y30': Zeros = N/A, Nulls or NaNs = 17\n"
     ]
    }
   ],
   "source": [
    "# DataFrame: dataset\n",
    "numeric_column_types = ['int', 'double', 'float', 'long']\n",
    "\n",
    "# Initialize an empty dictionary to store columns with non-zero null, NaN, or N/A counts\n",
    "columns_with_missing_values = {}\n",
    "\n",
    "# Counting zeros and nulls for each column\n",
    "for column in dataset.columns:\n",
    "    # Check if the column is numeric\n",
    "    if str(dataset.schema[column].dataType) in numeric_column_types:\n",
    "        zero_count = dataset.filter(col(column) == 0).count()\n",
    "        null_or_nan_count = dataset.filter(col(column).isNull() | isnan(col(column))).count()\n",
    "    else:\n",
    "        zero_count = 'N/A'  # Not applicable for non-numeric columns\n",
    "        null_or_nan_count = dataset.filter(col(column).isNull()).count()  # Check only for nulls in non-numeric columns\n",
    "\n",
    "    # Add to dictionary if there are non-zero nulls, NaNs, or zeros for numeric columns\n",
    "    if zero_count != 'N/A':\n",
    "        if null_or_nan_count > 0 or zero_count > 0:\n",
    "            columns_with_missing_values[column] = {'Zeros': zero_count, 'Nulls_or_NaNs': null_or_nan_count}\n",
    "    else:\n",
    "        if null_or_nan_count > 0:\n",
    "            columns_with_missing_values[column] = {'Zeros': zero_count, 'Nulls_or_NaNs': null_or_nan_count}\n",
    "\n",
    "# Display columns with missing values\n",
    "for column, counts in columns_with_missing_values.items():\n",
    "    print(f\"Column '{column}': Zeros = {counts['Zeros']}, Nulls or NaNs = {counts['Nulls_or_NaNs']}\")"
   ]
  },
  {
   "cell_type": "code",
   "execution_count": 28,
   "id": "6dbb69f4-1457-46e5-b0bf-76ae0a8041de",
   "metadata": {},
   "outputs": [
    {
     "name": "stdout",
     "output_type": "stream",
     "text": [
      "Total Rows: 4569\n",
      "Rows with 'Close' but missing rates: 54\n",
      "Percentage of Rows with missing any rate: 1.18%\n",
      "+----------+------------+-------------------+------------------+------------------+--------------------+-----------------+-------+-------+-------+-------+-------+-------+-------+-------+-------+\n",
      "|      Date|       Close|               MACD|               SMA|               EMA|        InterestRate|    InflationRate|     M3|     M6|     M9|     Y1|     Y3|     Y5|    Y10|    Y20|    Y30|\n",
      "+----------+------------+-------------------+------------------+------------------+--------------------+-----------------+-------+-------+-------+-------+-------+-------+-------+-------+-------+\n",
      "|2022-06-22|3464.6398926| -28.23874629393231|3601.7518102999998|3549.6852165929977|             0.16346|             8.92|   NULL|   NULL|   NULL|   NULL|   NULL|   NULL|   NULL|   NULL|   NULL|\n",
      "|2024-01-11|  4442.27979|-51.847507992186365|       4527.848725| 4579.499292214017|                NULL|             NULL|3.86919|3.61122|3.39606|3.21745|2.59643|2.58885|2.92577|3.28439|3.36138|\n",
      "|2024-01-30|   4662.7002|  2.526088791487382| 4649.900066666666| 4639.914437024221|                NULL|             NULL|3.89071|3.60773|3.37442|3.18313|2.55675|2.58331|2.96396|3.33716|3.41324|\n",
      "|2024-01-02|  4512.81006| -33.27654697271919| 4511.550824347826| 4553.923884100817|                NULL|             NULL|3.83502| 3.5413|3.29841|3.09859|2.43147|2.44373|2.81651|3.19022|3.27578|\n",
      "|2023-12-11|  4540.18994|  2.441455257765483| 4518.398559166667| 4544.821581137008|                NULL|             3.54|3.79328|3.59777|3.43138|3.29038|2.75885|2.73039|3.04396|3.41237|3.47513|\n",
      "|2023-12-12|  4536.60986| 1.3962728338283341| 4517.775948285714|4545.0106277140285|                NULL|             3.54|3.78672| 3.6004|3.44045|3.30367| 2.7658|2.71578|3.00702|3.37701|3.44398|\n",
      "|2020-12-24| 3543.280029| -20.92007916041166|    3630.267011728| 3650.478643789646| -0.5372800000000001|              0.5|   NULL|   NULL|   NULL|   NULL|   NULL|   NULL|   NULL|   NULL|   NULL|\n",
      "|2023-04-06|     4309.45|  3.236576650767347|     4334.42198324|  4341.33048293189|             3.12404|              6.8|   NULL|   NULL|   NULL|   NULL|   NULL|   NULL|   NULL|   NULL|   NULL|\n",
      "|2023-12-15|  4549.43994|-1.9052253336858485|   4516.1311946875| 4546.250489819153|                NULL|             3.54| 3.7791|3.55162| 3.3579|3.19356| 2.5639|2.50591|2.79623| 3.1486|3.22435|\n",
      "|2024-01-18|   4453.0498| -42.59686788268391| 4565.364523636364| 4609.019685106319|                NULL|             NULL|3.91247|3.65392|3.44058|3.26547|2.68641|2.70241|3.04161|3.38721|3.45614|\n",
      "|2022-03-09|3766.0200195| -24.93914313766618|    3793.426010742|3792.8663915976977|-0.48412000000000005|6.780000000000001|   NULL|   NULL|   NULL|   NULL|   NULL|   NULL|   NULL|   NULL|   NULL|\n",
      "|2024-01-09|  4467.16992|  -47.5247922530898| 4521.207194444444| 4570.930092458999|                NULL|             NULL|3.86208|3.60944|3.39779|3.22133| 2.5972|2.58461|2.92967| 3.3058|3.38799|\n",
      "|2024-01-19|  4448.83008| -36.80991980892577|       4576.595996|4615.3858028657605|                NULL|             NULL|3.93178|3.66393|3.44441|3.26547|2.68941|2.71267|3.04528|3.37565|3.43861|\n",
      "|2023-12-29|   4521.6499| -27.54251760884108| 4511.971619166667|4552.6582376654915|                NULL|             3.54|   NULL|   NULL|   NULL|   NULL|   NULL|   NULL|   NULL|   NULL|   NULL|\n",
      "|2023-05-01| 4359.310059|  0.679656478254401|4321.6455906599995| 4320.841922131459|              3.3664|              6.1|   NULL|   NULL|   NULL|   NULL|   NULL|   NULL|   NULL|   NULL|   NULL|\n",
      "|2023-12-14|  4539.16016|-0.2091762479085446| 4516.829042121212| 4545.972437669382|                NULL|             3.54|3.78811|3.55917|3.36508|3.20127|2.59181| 2.5593|2.89252|3.27392|3.34847|\n",
      "|2024-01-05|  4463.50977| -42.22307830777481|      4516.5359625| 4563.497957160345|                NULL|             NULL|3.86261|3.61044|3.40041| 3.2263|2.62526|2.62252|2.95851|3.31555|3.38905|\n",
      "|2023-04-28|     4359.31|  3.564839073010262|4324.0997906600005| 4322.350474204735|  3.3303400000000005|             6.16|   NULL|   NULL|   NULL|   NULL|   NULL|   NULL|   NULL|   NULL|   NULL|\n",
      "|2023-12-20|  4533.81982| -8.971940053937033| 4514.145810689655|4547.6195267029925|                NULL|             3.54|3.82139|3.55985|3.33875|3.15259|2.46009|2.40698|2.71279|3.06197| 3.1427|\n",
      "|2024-01-26|  4635.47021|  1.258361240323211|       4644.906054| 4639.719258360306|                NULL|             NULL| 3.9196|3.63387|3.39984|3.20927|2.60319|2.64075| 3.0156|3.37393| 3.4431|\n",
      "+----------+------------+-------------------+------------------+------------------+--------------------+-----------------+-------+-------+-------+-------+-------+-------+-------+-------+-------+\n",
      "only showing top 20 rows\n",
      "\n"
     ]
    },
    {
     "name": "stderr",
     "output_type": "stream",
     "text": [
      "                                                                                \r"
     ]
    }
   ],
   "source": [
    "from pyspark.sql.functions import col, isnan\n",
    "\n",
    "# Function to create a column condition for checking if a column is null or NaN\n",
    "def is_missing(column_name):\n",
    "    return col(column_name).isNull() | isnan(col(column_name))\n",
    "\n",
    "# Create a combined condition for all bond rate columns\n",
    "bond_rate_conditions = is_missing('M3') | is_missing('M6') | is_missing('M9') | \\\n",
    "                       is_missing('Y1') | is_missing('Y3') | is_missing('Y5') | \\\n",
    "                       is_missing('Y10') | is_missing('Y20') | is_missing('Y30')\n",
    "\n",
    "# Count the total number of rows\n",
    "total_rows = dataset.count()\n",
    "\n",
    "# Count rows where any one of the specific columns is missing\n",
    "missing_columns_count = dataset.filter(\n",
    "    is_missing(\"InterestRate\") |\n",
    "    bond_rate_conditions |\n",
    "    is_missing(\"InflationRate\") &\n",
    "    col(\"Close\").isNotNull()\n",
    ").count()\n",
    "\n",
    "# Calculate the percentage of such instances\n",
    "percentage_missing_columns = (missing_columns_count / total_rows) * 100\n",
    "\n",
    "print(f\"Total Rows: {total_rows}\")\n",
    "print(f\"Rows with 'Close' but missing rates: {missing_columns_count}\")\n",
    "print(f\"Percentage of Rows with missing any rate: {percentage_missing_columns:.2f}%\")\n",
    "\n",
    "# Filter the DataFrame to get rows with missing values in specific columns\n",
    "missing_values_table = dataset.filter(\n",
    "    is_missing(\"InterestRate\") |\n",
    "    bond_rate_conditions |\n",
    "    is_missing(\"InflationRate\") &\n",
    "    col(\"Close\").isNotNull()\n",
    ")\n",
    "\n",
    "# Show the rows with missing values\n",
    "missing_values_table.show()"
   ]
  },
  {
   "cell_type": "markdown",
   "id": "4b97a36b-25c6-41ba-8fe3-d39c9f0d50a4",
   "metadata": {},
   "source": [
    "## Window Approuch"
   ]
  },
  {
   "cell_type": "code",
   "execution_count": 29,
   "id": "4d8113aa-61d8-449c-876d-ebb9ae4f90ae",
   "metadata": {},
   "outputs": [
    {
     "name": "stdout",
     "output_type": "stream",
     "text": [
      "+----------+-----------+-------------------+------------------+------------------+------------------+------------------+-------+-------+-------+-------+-------+-------+-------+-------+-------+\n",
      "|      Date|      Close|               MACD|               SMA|               EMA|      InterestRate|     InflationRate|     M3|     M6|     M9|     Y1|     Y3|     Y5|    Y10|    Y20|    Y30|\n",
      "+----------+-----------+-------------------+------------------+------------------+------------------+------------------+-------+-------+-------+-------+-------+-------+-------+-------+-------+\n",
      "|2006-01-02|3604.330078|-15.160290153643018|     3695.11060054| 3682.746020161612|2.5337000000000005|2.3200000000000003|2.34702|2.49486|2.60745|2.69309|2.95534|3.07593|3.40813|3.74937|4.19102|\n",
      "|2006-01-03|3614.340088|-13.177311848915906|      3699.5233984|3685.9466708620857|2.5337000000000005|2.3200000000000003|2.34779| 2.4969|  2.609|2.69318|2.94683|3.07482|3.41713|3.74715|4.19102|\n",
      "|2006-01-04|3652.459961|-11.473841476717098|3703.9061962400006| 3688.869388529926|2.5337000000000005|2.3200000000000003|2.35167|2.47407|2.56532|2.63354|2.85504|2.99876|3.34899|3.65584|4.19102|\n",
      "|2006-01-05| 3650.23999|-13.013997758357618|3707.7001952600003|3690.3554876127796|2.5337000000000005|2.3200000000000003|2.35722|2.46721|2.55025|2.61321|2.82756|2.96992|3.32151| 3.6397|4.19102|\n",
      "|2006-01-06| 3666.98999|-14.564469306802948|3711.4895946799998|3691.9928548622806|2.5337000000000005|2.3200000000000003|2.35585|2.46456|2.54762|2.61138|2.83469|2.97655|3.32024|3.63489|4.19102|\n",
      "|2006-01-09|3671.780029| -18.03704252962916|     3714.79839352|   3693.0133799587|2.5337000000000005|2.3200000000000003|2.35783|2.46631|2.54971|2.61407|2.83675|2.96734|3.28774|3.58943|4.19102|\n",
      "|2006-01-10|3644.939941| -22.69466479542325|      3718.2047949|3693.8800473447695|2.5337000000000005|2.3200000000000003|2.36852|2.48353|2.57242|2.64128|2.87639|3.00148| 3.3063|3.59821|4.19102|\n",
      "|2006-01-11|3668.610107| -25.57657131219412|3722.2693945199994|  3695.87760270578|2.5337000000000005|2.3200000000000003|2.38417|2.50505|2.59804|2.66974|2.90874|3.03056|3.32339| 3.5984|4.19102|\n",
      "|2006-01-12|3670.199951|-31.292962403604633|     3726.26679198|3696.9905617141794|2.5337000000000005|2.3200000000000003|2.37927|2.49038|2.57642|2.64325|2.87472| 2.9995|3.29725| 3.5784|4.19102|\n",
      "|2006-01-13|    3629.25| -38.29586078713464|3730.0653906200005| 3698.084056029044|2.5337000000000005|2.3200000000000003|2.37231|2.48746|2.57589|2.64393|2.87058|2.99118|3.29073|3.57638|4.19102|\n",
      "|2006-01-16|3644.409912|-42.507625374300005|     3734.89818848| 3700.893609336352|           2.62028|2.3400000000000003|2.38353|2.49162|2.57611|2.64231|2.87465|2.99603|3.29481|3.59348|4.19102|\n",
      "|2006-01-17|3610.060059|  -48.8086304819285|3738.5685888800003|3703.1990663704887|           2.62028|2.3400000000000003|2.38055|2.48502|2.56667|2.63072|2.86019|2.98701| 3.2934|3.59258|4.19102|\n",
      "|2006-01-18|3570.169922|-52.643620979564275|3742.5917871200004|3707.0006585080596|           2.62028|2.3400000000000003|2.39011|2.49841| 2.5844|2.65289|2.90325|3.02658|3.31319|3.60432|4.19102|\n",
      "|2006-01-19|3593.219971| -52.71119677866227|     3747.71418946|3712.5855865287967|           2.62028|2.3400000000000003|2.39978|2.51507| 2.6068|2.68005|2.95186|3.08547|3.37835|3.66373|4.19102|\n",
      "|2006-01-20|3550.800049|-54.377653834548255|3753.3419921800005|3717.4576524687477|           2.62028|2.3400000000000003|2.39884|2.51507|2.60786|2.68215|2.95612|3.08514|3.37439|  3.669|4.19102|\n",
      "|2006-01-23|3544.310059|-51.394591999194745|3759.4007910000005| 3724.260003630737|           2.62028|2.3400000000000003|2.39945|2.51645|2.61057|2.68659|  2.977| 3.1174|3.41949|3.72329|4.19102|\n",
      "|2006-01-24|3532.679932| -46.17876366390101|3766.0873876799997| 3731.604899329951|           2.62028|2.3400000000000003|2.39452|2.51372|2.60874|2.68483|2.97203|3.11564|3.41847| 3.7045|4.19102|\n",
      "|2006-01-25|     3578.0| -37.66562054992346|     3772.43599118|3739.7242857515816|           2.62028|2.3400000000000003|2.40062|2.52133|2.61818|2.69621|2.99408|3.13998| 3.4486|3.74992|4.19102|\n",
      "|2006-01-26|3641.419922| -30.86629760008418|     3778.15438962|3746.3252770067484|           2.62028|2.3400000000000003|2.40469|2.51976|2.61316|2.68941|2.99694|3.15678|3.48305|3.79778|4.19102|\n",
      "|2006-01-27| 3685.47998|-28.196225855378998|3782.5517919599997|3750.6071282315133|           2.62028|2.3400000000000003|2.40661|2.52527|2.62211| 2.7015|3.02036| 3.1763|3.49209|3.80861|4.19102|\n",
      "+----------+-----------+-------------------+------------------+------------------+------------------+------------------+-------+-------+-------+-------+-------+-------+-------+-------+-------+\n",
      "only showing top 20 rows\n",
      "\n"
     ]
    }
   ],
   "source": [
    "# 'Date' column can be used for partitioning\n",
    "window_spec_forward = Window.partitionBy(year(\"Date\")).orderBy(\"Date\").rowsBetween(Window.unboundedPreceding, Window.currentRow)\n",
    "window_spec_backward = Window.partitionBy(year(\"Date\")).orderBy(\"Date\").rowsBetween(Window.currentRow, Window.unboundedFollowing)\n",
    "\n",
    "# List of all columns to be filled\n",
    "columns_to_fill = ['InterestRate', 'InflationRate'] + ['M3', 'M6', 'M9', 'Y1', 'Y3', 'Y5', 'Y10', 'Y20', 'Y30']\n",
    "\n",
    "# Apply forward fill followed by backward fill for each column\n",
    "for col_name in columns_to_fill:\n",
    "    dataset_ff = dataset.withColumn(col_name, last(col_name, ignorenulls=True).over(window_spec_forward))\n",
    "    dataset_ff = dataset_ff.withColumn(col_name, last(col_name, ignorenulls=True).over(window_spec_backward))\n",
    "\n",
    "# Show the result\n",
    "dataset_ff.show()"
   ]
  },
  {
   "cell_type": "code",
   "execution_count": 30,
   "id": "71acd7aa-ea84-498b-be25-10ffdcdfa053",
   "metadata": {},
   "outputs": [
    {
     "name": "stdout",
     "output_type": "stream",
     "text": [
      "Total Rows: 4569\n",
      "Rows with 'Open' but missing any one of 'InterestRate', 'BondRate', or 'InflationRate': 54\n",
      "Percentage of Rows with missing any one rate: 1.18%\n"
     ]
    }
   ],
   "source": [
    "# Create a combined condition for all bond rate columns\n",
    "bond_rate_conditions = (\n",
    "    col(\"M3\").isNull() | isnan(col(\"M3\")) |\n",
    "    col(\"M6\").isNull() | isnan(col(\"M6\")) |\n",
    "    col(\"M9\").isNull() | isnan(col(\"M9\")) |\n",
    "    col(\"Y1\").isNull() | isnan(col(\"Y1\")) |\n",
    "    col(\"Y3\").isNull() | isnan(col(\"Y3\")) |\n",
    "    col(\"Y5\").isNull() | isnan(col(\"Y5\")) |\n",
    "    col(\"Y10\").isNull() | isnan(col(\"Y10\")) |\n",
    "    col(\"Y20\").isNull() | isnan(col(\"Y20\")) |\n",
    "    col(\"Y30\").isNull() | isnan(col(\"Y30\"))\n",
    ")\n",
    "\n",
    "# Count rows where 'Close' is available but any one of 'InterestRate', bond rate columns, or 'InflationRate' is missing (Null or NaN)\n",
    "missing_any_column_count = dataset_ff.filter(\n",
    "    col(\"Close\").isNotNull() &\n",
    "    (\n",
    "        col(\"InterestRate\").isNull() | isnan(col(\"InterestRate\")) |\n",
    "        bond_rate_conditions |\n",
    "        col(\"InflationRate\").isNull() | isnan(col(\"InflationRate\"))\n",
    "    )\n",
    ").count()\n",
    "\n",
    "# Calculate the percentage of such instances\n",
    "percentage_missing_any_column = (missing_any_column_count / total_rows) * 100\n",
    "\n",
    "# Output the results\n",
    "print(f\"Total Rows: {total_rows}\")\n",
    "print(f\"Rows with 'Open' but missing any one of 'InterestRate', 'BondRate', or 'InflationRate': {missing_any_column_count}\")\n",
    "print(f\"Percentage of Rows with missing any one rate: {percentage_missing_any_column:.2f}%\")"
   ]
  },
  {
   "cell_type": "markdown",
   "id": "d98b0720-ee51-46c6-8f65-26a5d98f7a7f",
   "metadata": {},
   "source": [
    "Here's why the Window function is used:\n",
    "\n",
    "    Row-wise Calculations: PySpark's Window function allows you to specify a range of rows (a window) relative to the current row and perform calculations across these rows.\n",
    "\n",
    "    Emulating ffill: By ordering the rows in the window based on the 'date' column and then using the last function (which returns the last non-null value in the window), we effectively emulate the forward fill behavior. It picks the last non-null value encountered in the ordered window and applies it to the current row if the current value is null.\n",
    "\n",
    "    Scalability and Performance: PySpark is designed for big data processing. While Pandas' ffill is straightforward and efficient for in-memory data on a single machine, PySpark's window functions are designed to work efficiently on distributed datasets across multiple nodes in a cluster.\n",
    "\n",
    "    Lack of Direct ffill Equivalent: PySpark DataFrame API does not have a direct method like ffill in Pandas. Therefore, the combination of Window and last functions is a common approach to achieve similar functionality."
   ]
  },
  {
   "cell_type": "markdown",
   "id": "d9ca8e98-4285-4e30-9fb5-e02a0976a185",
   "metadata": {},
   "source": [
    "#### MEAN to fill the Missing Day Value"
   ]
  },
  {
   "cell_type": "code",
   "execution_count": 31,
   "id": "463fc724-1340-4dda-b937-3b8ad88963a2",
   "metadata": {},
   "outputs": [
    {
     "name": "stdout",
     "output_type": "stream",
     "text": [
      "+----------+-----------+-------------------+------------------+------------------+------------------+------------------+-------+-------+-------+-------+-------+-------+-------+-------+-------+\n",
      "|      Date|      Close|               MACD|               SMA|               EMA|      InterestRate|     InflationRate|     M3|     M6|     M9|     Y1|     Y3|     Y5|    Y10|    Y20|    Y30|\n",
      "+----------+-----------+-------------------+------------------+------------------+------------------+------------------+-------+-------+-------+-------+-------+-------+-------+-------+-------+\n",
      "|2006-01-02|3604.330078|-15.160290153643018|     3695.11060054| 3682.746020161612|2.5337000000000005|2.3200000000000003|2.34702|2.49486|2.60745|2.69309|2.95534|3.07593|3.40813|3.74937|4.19102|\n",
      "|2006-01-03|3614.340088|-13.177311848915906|      3699.5233984|3685.9466708620857|2.5337000000000005|2.3200000000000003|2.34779| 2.4969|  2.609|2.69318|2.94683|3.07482|3.41713|3.74715|4.19102|\n",
      "|2006-01-04|3652.459961|-11.473841476717098|3703.9061962400006| 3688.869388529926|2.5337000000000005|2.3200000000000003|2.35167|2.47407|2.56532|2.63354|2.85504|2.99876|3.34899|3.65584|4.19102|\n",
      "|2006-01-05| 3650.23999|-13.013997758357618|3707.7001952600003|3690.3554876127796|2.5337000000000005|2.3200000000000003|2.35722|2.46721|2.55025|2.61321|2.82756|2.96992|3.32151| 3.6397|4.19102|\n",
      "|2006-01-06| 3666.98999|-14.564469306802948|3711.4895946799998|3691.9928548622806|2.5337000000000005|2.3200000000000003|2.35585|2.46456|2.54762|2.61138|2.83469|2.97655|3.32024|3.63489|4.19102|\n",
      "|2006-01-09|3671.780029| -18.03704252962916|     3714.79839352|   3693.0133799587|2.5337000000000005|2.3200000000000003|2.35783|2.46631|2.54971|2.61407|2.83675|2.96734|3.28774|3.58943|4.19102|\n",
      "|2006-01-10|3644.939941| -22.69466479542325|      3718.2047949|3693.8800473447695|2.5337000000000005|2.3200000000000003|2.36852|2.48353|2.57242|2.64128|2.87639|3.00148| 3.3063|3.59821|4.19102|\n",
      "|2006-01-11|3668.610107| -25.57657131219412|3722.2693945199994|  3695.87760270578|2.5337000000000005|2.3200000000000003|2.38417|2.50505|2.59804|2.66974|2.90874|3.03056|3.32339| 3.5984|4.19102|\n",
      "|2006-01-12|3670.199951|-31.292962403604633|     3726.26679198|3696.9905617141794|2.5337000000000005|2.3200000000000003|2.37927|2.49038|2.57642|2.64325|2.87472| 2.9995|3.29725| 3.5784|4.19102|\n",
      "|2006-01-13|    3629.25| -38.29586078713464|3730.0653906200005| 3698.084056029044|2.5337000000000005|2.3200000000000003|2.37231|2.48746|2.57589|2.64393|2.87058|2.99118|3.29073|3.57638|4.19102|\n",
      "|2006-01-16|3644.409912|-42.507625374300005|     3734.89818848| 3700.893609336352|           2.62028|2.3400000000000003|2.38353|2.49162|2.57611|2.64231|2.87465|2.99603|3.29481|3.59348|4.19102|\n",
      "|2006-01-17|3610.060059|  -48.8086304819285|3738.5685888800003|3703.1990663704887|           2.62028|2.3400000000000003|2.38055|2.48502|2.56667|2.63072|2.86019|2.98701| 3.2934|3.59258|4.19102|\n",
      "|2006-01-18|3570.169922|-52.643620979564275|3742.5917871200004|3707.0006585080596|           2.62028|2.3400000000000003|2.39011|2.49841| 2.5844|2.65289|2.90325|3.02658|3.31319|3.60432|4.19102|\n",
      "|2006-01-19|3593.219971| -52.71119677866227|     3747.71418946|3712.5855865287967|           2.62028|2.3400000000000003|2.39978|2.51507| 2.6068|2.68005|2.95186|3.08547|3.37835|3.66373|4.19102|\n",
      "|2006-01-20|3550.800049|-54.377653834548255|3753.3419921800005|3717.4576524687477|           2.62028|2.3400000000000003|2.39884|2.51507|2.60786|2.68215|2.95612|3.08514|3.37439|  3.669|4.19102|\n",
      "|2006-01-23|3544.310059|-51.394591999194745|3759.4007910000005| 3724.260003630737|           2.62028|2.3400000000000003|2.39945|2.51645|2.61057|2.68659|  2.977| 3.1174|3.41949|3.72329|4.19102|\n",
      "|2006-01-24|3532.679932| -46.17876366390101|3766.0873876799997| 3731.604899329951|           2.62028|2.3400000000000003|2.39452|2.51372|2.60874|2.68483|2.97203|3.11564|3.41847| 3.7045|4.19102|\n",
      "|2006-01-25|     3578.0| -37.66562054992346|     3772.43599118|3739.7242857515816|           2.62028|2.3400000000000003|2.40062|2.52133|2.61818|2.69621|2.99408|3.13998| 3.4486|3.74992|4.19102|\n",
      "|2006-01-26|3641.419922| -30.86629760008418|     3778.15438962|3746.3252770067484|           2.62028|2.3400000000000003|2.40469|2.51976|2.61316|2.68941|2.99694|3.15678|3.48305|3.79778|4.19102|\n",
      "|2006-01-27| 3685.47998|-28.196225855378998|3782.5517919599997|3750.6071282315133|           2.62028|2.3400000000000003|2.40661|2.52527|2.62211| 2.7015|3.02036| 3.1763|3.49209|3.80861|4.19102|\n",
      "+----------+-----------+-------------------+------------------+------------------+------------------+------------------+-------+-------+-------+-------+-------+-------+-------+-------+-------+\n",
      "only showing top 20 rows\n",
      "\n"
     ]
    }
   ],
   "source": [
    "# Define the numeric columns for interest rate, inflation rate, and bond rates\n",
    "numeric_cols = [\"InterestRate\", \"InflationRate\"] + ['M3', 'M6', 'M9', 'Y1', 'Y3', 'Y5', 'Y10', 'Y20', 'Y30']\n",
    "\n",
    "# Calculate the mean of non-null values for each column\n",
    "mean_values = dataset_ff.select([mean(c).alias(c) for c in numeric_cols]).collect()[0].asDict()\n",
    "\n",
    "# Fill null values with the mean for each column\n",
    "for col in numeric_cols:\n",
    "    dataset_ff = dataset_ff.na.fill({col: mean_values[col]})\n",
    "\n",
    "# Show the result\n",
    "dataset_ff.show()"
   ]
  },
  {
   "cell_type": "code",
   "execution_count": 32,
   "id": "620395c1-be42-4fef-b572-d878a14eb046",
   "metadata": {},
   "outputs": [
    {
     "name": "stdout",
     "output_type": "stream",
     "text": [
      "Total Rows: 4569\n",
      "Rows with 'Close' but missing any rate information: 0\n",
      "Percentage of Rows with missing rate information: 0.00%\n"
     ]
    }
   ],
   "source": [
    "from pyspark.sql.functions import col, isnan\n",
    "from functools import reduce\n",
    "from pyspark.sql import functions as F\n",
    "\n",
    "# Define the bond rate columns\n",
    "bond_rate_cols = ['M3', 'M6', 'M9', 'Y1', 'Y3', 'Y5', 'Y10', 'Y20', 'Y30']\n",
    "\n",
    "# Create a combined condition to check for missing values in bond rate columns\n",
    "bond_rate_missing_condition = [col(c).isNull() | isnan(col(c)) for c in bond_rate_cols]\n",
    "\n",
    "# Combine all conditions using a logical OR\n",
    "combined_bond_rate_condition = reduce(lambda x, y: x | y, bond_rate_missing_condition)\n",
    "\n",
    "# Count the total number of rows\n",
    "total_rows = dataset_ff.count()\n",
    "\n",
    "# Count rows where 'Close' is available but any one of the rate columns is missing (Null or NaN)\n",
    "missing_any_column_count = dataset_ff.filter(\n",
    "    col(\"Close\").isNotNull() &\n",
    "    (\n",
    "        col(\"InterestRate\").isNull() | isnan(col(\"InterestRate\")) |\n",
    "        col(\"InflationRate\").isNull() | isnan(col(\"InflationRate\")) |\n",
    "        combined_bond_rate_condition\n",
    "    )\n",
    ").count()\n",
    "\n",
    "# Calculate the percentage of such instances\n",
    "percentage_missing_any_column = (missing_any_column_count / total_rows) * 100\n",
    "\n",
    "# Output the results\n",
    "print(f\"Total Rows: {total_rows}\")\n",
    "print(f\"Rows with 'Close' but missing any rate information: {missing_any_column_count}\")\n",
    "print(f\"Percentage of Rows with missing rate information: {percentage_missing_any_column:.2f}%\")"
   ]
  },
  {
   "cell_type": "markdown",
   "id": "f161b8d8-262e-4e01-8df9-2895f2c064a7",
   "metadata": {},
   "source": [
    "## KNN Approuch"
   ]
  },
  {
   "cell_type": "code",
   "execution_count": 33,
   "id": "a5a6f2cf-270c-424a-befa-0e0645596058",
   "metadata": {},
   "outputs": [],
   "source": [
    "# Convert Spark DataFrame to Pandas DataFrame\n",
    "dataset_pd = dataset.toPandas()\n",
    "\n",
    "# Define the list of numeric columns including interest rate, inflation rate, and bond rate columns\n",
    "numeric_cols = [\"InterestRate\", \"InflationRate\", \"M3\", \"M6\", \"M9\", \"Y1\", \"Y3\", \"Y5\", \"Y10\", \"Y20\", \"Y30\"]\n",
    "\n",
    "# Replace non-numeric values to NaN\n",
    "dataset_pd[numeric_cols] = dataset_pd[numeric_cols].apply(pd.to_numeric, errors='coerce')\n",
    "\n",
    "# Apply KNN imputation\n",
    "knn_imputer = KNNImputer(n_neighbors=5)\n",
    "dataset_pd[numeric_cols] = knn_imputer.fit_transform(dataset_pd[numeric_cols])\n",
    "\n",
    "# Convert back to Spark DataFrame\n",
    "dataset_knn = spark.createDataFrame(dataset_pd)"
   ]
  },
  {
   "cell_type": "code",
   "execution_count": 34,
   "id": "1f1d842e-51a4-463c-a05e-e766461d9c22",
   "metadata": {},
   "outputs": [
    {
     "name": "stdout",
     "output_type": "stream",
     "text": [
      "+----------+-----------+-------------------+------------------+------------------+------------------+------------------+-------+-------+-------+-------+-------+-------+-------+-------+-------+\n",
      "|      Date|      Close|               MACD|               SMA|               EMA|      InterestRate|     InflationRate|     M3|     M6|     M9|     Y1|     Y3|     Y5|    Y10|    Y20|    Y30|\n",
      "+----------+-----------+-------------------+------------------+------------------+------------------+------------------+-------+-------+-------+-------+-------+-------+-------+-------+-------+\n",
      "|2006-01-02|3604.330078|-15.160290153643018|     3695.11060054| 3682.746020161612|2.5337000000000005|2.3200000000000003|2.34702|2.49486|2.60745|2.69309|2.95534|3.07593|3.40813|3.74937|3.87534|\n",
      "|2006-01-03|3614.340088|-13.177311848915906|      3699.5233984|3685.9466708620857|2.5337000000000005|2.3200000000000003|2.34779| 2.4969|  2.609|2.69318|2.94683|3.07482|3.41713|3.74715|3.86669|\n",
      "|2006-01-04|3652.459961|-11.473841476717098|3703.9061962400006| 3688.869388529926|2.5337000000000005|2.3200000000000003|2.35167|2.47407|2.56532|2.63354|2.85504|2.99876|3.34899|3.65584|3.76449|\n",
      "|2006-01-05| 3650.23999|-13.013997758357618|3707.7001952600003|3690.3554876127796|2.5337000000000005|2.3200000000000003|2.35722|2.46721|2.55025|2.61321|2.82756|2.96992|3.32151| 3.6397|3.75342|\n",
      "|2006-01-06| 3666.98999|-14.564469306802948|3711.4895946799998|3691.9928548622806|2.5337000000000005|2.3200000000000003|2.35585|2.46456|2.54762|2.61138|2.83469|2.97655|3.32024|3.63489|3.74782|\n",
      "|2006-01-09|3671.780029| -18.03704252962916|     3714.79839352|   3693.0133799587|2.5337000000000005|2.3200000000000003|2.35783|2.46631|2.54971|2.61407|2.83675|2.96734|3.28774|3.58943|3.69847|\n",
      "|2006-01-10|3644.939941| -22.69466479542325|      3718.2047949|3693.8800473447695|2.5337000000000005|2.3200000000000003|2.36852|2.48353|2.57242|2.64128|2.87639|3.00148| 3.3063|3.59821|3.70416|\n",
      "|2006-01-11|3668.610107| -25.57657131219412|3722.2693945199994|  3695.87760270578|2.5337000000000005|2.3200000000000003|2.38417|2.50505|2.59804|2.66974|2.90874|3.03056|3.32339| 3.5984|3.69753|\n",
      "|2006-01-12|3670.199951|-31.292962403604633|     3726.26679198|3696.9905617141794|2.5337000000000005|2.3200000000000003|2.37927|2.49038|2.57642|2.64325|2.87472| 2.9995|3.29725| 3.5784|3.68009|\n",
      "|2006-01-13|    3629.25| -38.29586078713464|3730.0653906200005| 3698.084056029044|2.5337000000000005|2.3200000000000003|2.37231|2.48746|2.57589|2.64393|2.87058|2.99118|3.29073|3.57638|3.67976|\n",
      "|2006-01-16|3644.409912|-42.507625374300005|     3734.89818848| 3700.893609336352|           2.62028|2.3400000000000003|2.38353|2.49162|2.57611|2.64231|2.87465|2.99603|3.29481|3.59348|3.70347|\n",
      "|2006-01-17|3610.060059|  -48.8086304819285|3738.5685888800003|3703.1990663704887|           2.62028|2.3400000000000003|2.38055|2.48502|2.56667|2.63072|2.86019|2.98701| 3.2934|3.59258| 3.7021|\n",
      "|2006-01-18|3570.169922|-52.643620979564275|3742.5917871200004|3707.0006585080596|           2.62028|2.3400000000000003|2.39011|2.49841| 2.5844|2.65289|2.90325|3.02658|3.31319|3.60432|3.71252|\n",
      "|2006-01-19|3593.219971| -52.71119677866227|     3747.71418946|3712.5855865287967|           2.62028|2.3400000000000003|2.39978|2.51507| 2.6068|2.68005|2.95186|3.08547|3.37835|3.66373|3.76865|\n",
      "|2006-01-20|3550.800049|-54.377653834548255|3753.3419921800005|3717.4576524687477|           2.62028|2.3400000000000003|2.39884|2.51507|2.60786|2.68215|2.95612|3.08514|3.37439|  3.669|3.77886|\n",
      "|2006-01-23|3544.310059|-51.394591999194745|3759.4007910000005| 3724.260003630737|           2.62028|2.3400000000000003|2.39945|2.51645|2.61057|2.68659|  2.977| 3.1174|3.41949|3.72329|3.83662|\n",
      "|2006-01-24|3532.679932| -46.17876366390101|3766.0873876799997| 3731.604899329951|           2.62028|2.3400000000000003|2.39452|2.51372|2.60874|2.68483|2.97203|3.11564|3.41847| 3.7045|3.80885|\n",
      "|2006-01-25|     3578.0| -37.66562054992346|     3772.43599118|3739.7242857515816|           2.62028|2.3400000000000003|2.40062|2.52133|2.61818|2.69621|2.99408|3.13998| 3.4486|3.74992|3.86123|\n",
      "|2006-01-26|3641.419922| -30.86629760008418|     3778.15438962|3746.3252770067484|           2.62028|2.3400000000000003|2.40469|2.51976|2.61316|2.68941|2.99694|3.15678|3.48305|3.79778|3.91423|\n",
      "|2006-01-27| 3685.47998|-28.196225855378998|3782.5517919599997|3750.6071282315133|           2.62028|2.3400000000000003|2.40661|2.52527|2.62211| 2.7015|3.02036| 3.1763|3.49209|3.80861| 3.9275|\n",
      "+----------+-----------+-------------------+------------------+------------------+------------------+------------------+-------+-------+-------+-------+-------+-------+-------+-------+-------+\n",
      "only showing top 20 rows\n",
      "\n"
     ]
    }
   ],
   "source": [
    "# Sort the DataFrame in ascending order by the 'date' column\n",
    "dataset_knn = dataset_knn.orderBy(\"Date\")\n",
    "\n",
    "# Show the result\n",
    "dataset_knn.show()"
   ]
  },
  {
   "cell_type": "code",
   "execution_count": 35,
   "id": "366e162a-beaf-458a-9cbd-0156b604b4bb",
   "metadata": {},
   "outputs": [
    {
     "name": "stdout",
     "output_type": "stream",
     "text": [
      "Total Rows: 4569\n",
      "Rows with 'Close' but missing any rate information: 0\n",
      "Percentage of Rows with missing rate information: 0.00%\n"
     ]
    }
   ],
   "source": [
    "# Define all Bond Rate columns\n",
    "bond_rate_columns = [\"M3\", \"M6\", \"M9\", \"Y1\", \"Y3\", \"Y5\", \"Y10\", \"Y20\", \"Y30\"]\n",
    "\n",
    "# Create a condition to check for missing values in any bond rate column\n",
    "bond_rate_missing_condition = reduce(or_, [col(name).isNull() | isnan(col(name)) for name in bond_rate_columns])\n",
    "\n",
    "# Count the total number of rows\n",
    "total_rows = dataset_knn.count()\n",
    "\n",
    "# Count rows where 'Close' is available but any one of the rate columns is missing (Null or NaN)\n",
    "missing_any_column_count = dataset_knn.filter(\n",
    "    col(\"Close\").isNotNull() &\n",
    "    (\n",
    "        col(\"InterestRate\").isNull() | isnan(col(\"InterestRate\")) |\n",
    "        col(\"InflationRate\").isNull() | isnan(col(\"InflationRate\")) |\n",
    "        bond_rate_missing_condition\n",
    "    )\n",
    ").count()\n",
    "\n",
    "# Calculate the percentage of such instances\n",
    "percentage_missing_any_column = (missing_any_column_count / total_rows) * 100\n",
    "\n",
    "# Output the results\n",
    "print(f\"Total Rows: {total_rows}\")\n",
    "print(f\"Rows with 'Close' but missing any rate information: {missing_any_column_count}\")\n",
    "print(f\"Percentage of Rows with missing rate information: {percentage_missing_any_column:.2f}%\")"
   ]
  },
  {
   "cell_type": "markdown",
   "id": "747e1c1b-3eaa-4f78-bc4a-eb27e3d9594b",
   "metadata": {},
   "source": [
    "# Model: ARIMA & LSTM"
   ]
  },
  {
   "cell_type": "markdown",
   "id": "033f8363-118e-48a6-b8a5-2b37879b5026",
   "metadata": {
    "jp-MarkdownHeadingCollapsed": true
   },
   "source": [
    "## ARIMA"
   ]
  },
  {
   "cell_type": "raw",
   "id": "221a421d-dac6-411c-82ae-02c7b4d60afc",
   "metadata": {},
   "source": [
    "# Convert Spark DataFrame to Pandas DataFrame\n",
    "dataset_knn = dataset.toPandas()\n",
    "\n",
    "# Convert 'Date' column to datetime and set it as index\n",
    "dataset_knn['Date'] = pd.to_datetime(dataset_knn['Date'])\n",
    "\n",
    "# Ensure the dataset is sorted and has no duplicates\n",
    "dataset_knn = dataset_knn.sort_values('Date').drop_duplicates(subset='Date')\n",
    "\n",
    "# Resample to daily frequency if necessary\n",
    "dataset_knn.set_index('Date', inplace=True)\n",
    "dataset_knn = dataset_knn.asfreq('D', method='pad')\n",
    "\n",
    "# Select the series for Modeling\n",
    "series = dataset_knn['Close']\n",
    "\n",
    "# Plot ACF and PACF for parameter identification\n",
    "plot_acf(series)\n",
    "plot_pacf(series)\n",
    "\n",
    "# Define and fit the ARIMA model (revised parameters based on ACF and PACF analysis)\n",
    "model = ARIMA(series, order=(1,1,1))  # Change order based on the ACF and PACF analysis\n",
    "results = model.fit()\n",
    "\n",
    "# Summarize model results\n",
    "print(results.summary())\n",
    "\n",
    "# Make predictions\n",
    "predictions = results.forecast(steps=5)"
   ]
  },
  {
   "cell_type": "raw",
   "id": "a28fed9a-d000-43ea-9c02-db3be6c79c8b",
   "metadata": {},
   "source": [
    "# Check and adjust if 'Date' is already the index or named differently\n",
    "if 'Date' not in dataset_knn.columns:\n",
    "    # If 'Date' is not a column, it might already be the index or named differently\n",
    "    dataset_knn.index = pd.to_datetime(dataset_knn.index)\n",
    "else:\n",
    "    # Convert 'Date' column to datetime and set it as index\n",
    "    dataset_knn['Date'] = pd.to_datetime(dataset_knn['Date'])\n",
    "    dataset_knn.set_index('Date', inplace=True)\n",
    "\n",
    "# Remove duplicates if they exist\n",
    "dataset_knn = dataset_knn[~dataset_knn.index.duplicated(keep='first')]\n",
    "\n",
    "# Resample to daily frequency if necessary, filling any missing values\n",
    "dataset_knn = dataset_knn.asfreq('D', method='pad')\n",
    "series = dataset_knn['Close']\n",
    "\n",
    "# Define the p, d, and q parameters to take values between 0 and 2\n",
    "p = d = q = range(0, 3)\n",
    "\n",
    "# Generate all different combinations of p, d, and q triplets\n",
    "pdq = list(itertools.product(p, d, q))\n",
    "\n",
    "# Iterate over all combinations and fit ARIMA models\n",
    "model_results = []\n",
    "for param in pdq:\n",
    "    try:\n",
    "        model = ARIMA(series, order=param)\n",
    "        results = model.fit()\n",
    "        model_results.append({\n",
    "            'Order': param,\n",
    "            'AIC': results.aic,\n",
    "            'BIC': results.bic\n",
    "        })\n",
    "        print(f'ARIMA{param} - AIC:{results.aic} - BIC:{results.bic}')\n",
    "    except:\n",
    "        continue\n",
    "\n",
    "# Convert the results to a DataFrame\n",
    "results_df = pd.DataFrame(model_results)\n",
    "\n",
    "# Sort by AIC and BIC\n",
    "sorted_results_aic = results_df.sort_values(by='AIC')\n",
    "sorted_results_bic = results_df.sort_values(by='BIC')\n",
    "\n",
    "# Display the top models based on AIC and BIC\n",
    "print(\"\\nTop models based on AIC:\")\n",
    "print(sorted_results_aic.head())\n",
    "\n",
    "print(\"\\nTop models based on BIC:\")\n",
    "print(sorted_results_bic.head())"
   ]
  },
  {
   "cell_type": "markdown",
   "id": "290ff30b-b152-441f-acf0-d0a975c6ff28",
   "metadata": {},
   "source": [
    "Interpretation of AIC and BIC\n",
    "\n",
    "    AIC (Akaike Information Criterion):\n",
    "        AIC is a measure of the relative quality of a statistical model for a given set of data. A lower AIC value suggests a better model.\n",
    "        It balances the complexity of the model (number of parameters) against how well the model fits the data.\n",
    "\n",
    "    BIC (Bayesian Information Criterion):\n",
    "        Similar to AIC, BIC provides a way to compare models. It penalizes more complex models more than AIC does.\n",
    "        A lower BIC value indicates a better model and is especially useful for models with a larger number of observations.\n",
    "\n",
    "Analysis of Your Results\n",
    "\n",
    "    Top Models by AIC:\n",
    "        The models with the lowest AIC are ARIMA(1, 1, 0), ARIMA(1, 1, 1), ARIMA(0, 1, 1), ARIMA(2, 1, 0), and ARIMA(0, 1, 2).\n",
    "        These models are preferable in terms of balancing model complexity and fit.\n",
    "\n",
    "    Top Models by BIC:\n",
    "        The models with the lowest BIC are ARIMA(0, 1, 0), ARIMA(1, 1, 0), ARIMA(0, 1, 1), ARIMA(0, 2, 1), and ARIMA(1, 1, 1).\n",
    "        These models are more parsimonious (simpler) and are generally preferred when dealing with larger datasets or when overfitting is a concern.\n",
    "\n",
    "Recommendations and Next Steps\n",
    "\n",
    "    Model Selection:\n",
    "        ARIMA(1, 1, 0) and ARIMA(1, 1, 1) appear in both top AIC and BIC lists, making them strong candidates. These models are likely to provide a good balance between complexity and fit.\n",
    "\n",
    "        In summary, the results indicate that simpler models (like ARIMA(1, 1, 0)) are performing well compared to more complex ones. This is a good indication that your time series might not require highly complex ARIMA configurations to achieve effective modeling and forecasting."
   ]
  },
  {
   "cell_type": "raw",
   "id": "305b60af-d91e-47d9-bab3-5455bb0abe3b",
   "metadata": {},
   "source": [
    "import pandas as pd\n",
    "from statsmodels.tsa.arima.model import ARIMA\n",
    "from sklearn.metrics import mean_squared_error\n",
    "from math import sqrt\n",
    "import itertools\n",
    "\n",
    "# Assuming 'dataset_knn' is your DataFrame and 'Date' is the index\n",
    "if 'Date' not in dataset_knn.columns:\n",
    "    dataset_knn.index = pd.to_datetime(dataset_knn.index)\n",
    "else:\n",
    "    dataset_knn['Date'] = pd.to_datetime(dataset_knn['Date'])\n",
    "    dataset_knn.set_index('Date', inplace=True)\n",
    "\n",
    "series = dataset_knn['Close']\n",
    "\n",
    "# Adjust the range for p, d, and q to explore a specific set of models\n",
    "p = range(0, 3)  # Example: Exploring a broader range\n",
    "d = range(0, 2)\n",
    "q = range(0, 3)\n",
    "pdq = list(itertools.product(p, d, q))\n",
    "\n",
    "# Define the train/test split\n",
    "split_point = int(len(series) * 0.8)\n",
    "train, test = series.iloc[:split_point], series.iloc[split_point:]\n",
    "\n",
    "# Evaluate ARIMA model\n",
    "def evaluate_arima_model(arima_order):\n",
    "    history = train.tolist()\n",
    "    predictions = []\n",
    "    for t in range(len(test)):\n",
    "        model = ARIMA(history, order=arima_order)\n",
    "        model_fit = model.fit()\n",
    "        yhat = model_fit.forecast()[0]\n",
    "        predictions.append(yhat)\n",
    "        history.append(test.iloc[t])\n",
    "    rmse = sqrt(mean_squared_error(test, predictions))\n",
    "    return rmse\n",
    "\n",
    "# Evaluate models with different parameters\n",
    "results = []\n",
    "for param in pdq:\n",
    "    try:\n",
    "        rmse = evaluate_arima_model(param)\n",
    "        results.append({'ARIMA_Order': param, 'RMSE': rmse})\n",
    "        print(f'ARIMA{param} - RMSE: {rmse}')\n",
    "    except Exception as e:\n",
    "        print(f'Error with ARIMA{param}: {e}')\n",
    "        continue\n",
    "\n",
    "# Sort and display the best results based on RMSE\n",
    "results_df = pd.DataFrame(results).sort_values(by='RMSE')\n",
    "print(\"\\nTop models based on RMSE:\")\n",
    "print(results_df.head())\n",
    "\n",
    "# Optional: Save the results to a CSV file for later reference\n",
    "results_df.to_csv('arima_model_evaluation_results.csv', index=False)"
   ]
  },
  {
   "cell_type": "raw",
   "id": "f1bafc76-6fd6-49dc-957f-0f68c27e44e7",
   "metadata": {},
   "source": [
    "# Read from a CSV file\n",
    "loaded_results_df = pd.read_csv('arima_model_evaluation_results.csv')\n",
    "\n",
    "# Display the DataFrame\n",
    "print(loaded_results_df)"
   ]
  },
  {
   "cell_type": "code",
   "execution_count": null,
   "id": "97fc4114-a5bb-49dc-80fa-575f2505ab8c",
   "metadata": {},
   "outputs": [],
   "source": []
  },
  {
   "cell_type": "markdown",
   "id": "e1ad2f26-63d0-4c7f-a5e5-60b47ea1c8b2",
   "metadata": {
    "jp-MarkdownHeadingCollapsed": true
   },
   "source": [
    "## LSTM Model"
   ]
  },
  {
   "cell_type": "code",
   "execution_count": 36,
   "id": "eb001ce8-4f4a-40f6-bd87-e6d257fdbf64",
   "metadata": {},
   "outputs": [
    {
     "name": "stdout",
     "output_type": "stream",
     "text": [
      "96/96 [==============================] - 0s 566us/step\n",
      "48/48 [==============================] - 0s 558us/step\n",
      "Train RMSE: 33.42151779501038\n",
      "Test RMSE: 54.10217787315086\n",
      "Test MAPE: 0.016297876950346596\n",
      "Test R²: 0.9951283380392656\n"
     ]
    }
   ],
   "source": [
    "# Convert the Spark DataFrame to a Pandas DataFrame\n",
    "dataset_knn_pd = dataset_knn.toPandas()\n",
    "\n",
    "# Selecting the relevant columns for input features and the target variable 'Close'\n",
    "feature_columns = ['Close', 'InterestRate', 'InflationRate', 'M3', 'M6', 'M9', 'Y1', 'Y3', 'Y5', 'Y10', 'Y20', 'Y30']\n",
    "target_column = 'Close'\n",
    "\n",
    "# Normalize the features\n",
    "scaler = MinMaxScaler(feature_range=(0, 1))\n",
    "scaled_data = scaler.fit_transform(dataset_knn_pd[feature_columns])\n",
    "\n",
    "# Function to create a dataset with lagged features\n",
    "def create_dataset(data, look_back=1):\n",
    "    X, Y = [], []\n",
    "    target_idx = dataset_knn_pd.columns.get_loc(target_column)\n",
    "    for i in range(len(data) - look_back - 1):\n",
    "        a = data[i:(i + look_back), :]\n",
    "        X.append(a)\n",
    "        Y.append(data[i + look_back, target_idx])\n",
    "    return np.array(X), np.array(Y)\n",
    "\n",
    "# Prepare the dataset with a specified look back period\n",
    "look_back = 1\n",
    "X, Y = create_dataset(scaled_data, look_back)\n",
    "\n",
    "# Split the data into training and testing sets\n",
    "train_size = int(len(X) * 0.67)\n",
    "trainX, trainY = X[:train_size], Y[:train_size]\n",
    "testX, testY = X[train_size:], Y[train_size:]\n",
    "\n",
    "# Reshape input to be [samples, time steps, features]\n",
    "trainX = np.reshape(trainX, (trainX.shape[0], look_back, len(feature_columns)))\n",
    "testX = np.reshape(testX, (testX.shape[0], look_back, len(feature_columns)))\n",
    "\n",
    "# Build and compile the LSTM model\n",
    "model = Sequential()\n",
    "model.add(LSTM(50, input_shape=(look_back, len(feature_columns))))\n",
    "model.add(Dropout(0.2))\n",
    "model.add(Dense(1))\n",
    "model.compile(optimizer='adam', loss='mean_squared_error')\n",
    "\n",
    "# Train the model\n",
    "history = model.fit(trainX, trainY, epochs=100, batch_size=64, verbose=0)\n",
    "\n",
    "# Make predictions\n",
    "trainPredict = model.predict(trainX)\n",
    "testPredict = model.predict(testX)\n",
    "\n",
    "# Invert predictions\n",
    "trainPredict = scaler.inverse_transform(np.column_stack((trainPredict, np.zeros((trainPredict.shape[0], len(feature_columns)-1)))))\n",
    "testPredict = scaler.inverse_transform(np.column_stack((testPredict, np.zeros((testPredict.shape[0], len(feature_columns)-1)))))\n",
    "trainY_original = scaler.inverse_transform(np.column_stack((trainY.reshape(-1, 1), np.zeros((trainY.shape[0], len(feature_columns)-1)))))\n",
    "testY_original = scaler.inverse_transform(np.column_stack((testY.reshape(-1, 1), np.zeros((testY.shape[0], len(feature_columns)-1)))))\n",
    "\n",
    "# Calculate performance metrics\n",
    "train_rmse = np.sqrt(mean_squared_error(trainY_original[:, 0], trainPredict[:, 0]))\n",
    "test_rmse = np.sqrt(mean_squared_error(testY_original[:, 0], testPredict[:, 0]))\n",
    "test_mape = mean_absolute_percentage_error(testY_original[:, 0], testPredict[:, 0])\n",
    "test_r2 = r2_score(testY_original[:, 0], testPredict[:, 0])\n",
    "\n",
    "# Print the performance metrics\n",
    "print('Train RMSE:', train_rmse)\n",
    "print('Test RMSE:', test_rmse)\n",
    "print('Test MAPE:', test_mape)\n",
    "print('Test R²:', test_r2)"
   ]
  },
  {
   "cell_type": "markdown",
   "id": "154a2a2a-cf9e-44fd-83ee-8ca01c3c5cb7",
   "metadata": {
    "jp-MarkdownHeadingCollapsed": true
   },
   "source": [
    "### Step 1: Building the Basic LSTM Model"
   ]
  },
  {
   "cell_type": "code",
   "execution_count": 37,
   "id": "248826ac-db25-4862-809c-9e89f55d1131",
   "metadata": {},
   "outputs": [],
   "source": [
    "def build_lstm_model(input_shape, neurons=50, dropout_rate=0.2):\n",
    "    model = Sequential()\n",
    "    model.add(LSTM(neurons, input_shape=input_shape))\n",
    "    model.add(Dropout(dropout_rate))\n",
    "    model.add(Dense(1))  # Single output neuron for prediction\n",
    "    return model"
   ]
  },
  {
   "cell_type": "markdown",
   "id": "f74acf46-2cc7-4e15-a176-dd8e107a257e",
   "metadata": {
    "jp-MarkdownHeadingCollapsed": true
   },
   "source": [
    "### Step 2: Data Preparation for LSTM Model\n",
    "Now, let's prepare the data for training the LSTM model. This involves normalizing the data and creating lagged features as input for the LSTM. We'll use the 'Close' price and additional indicators from your dataset."
   ]
  },
  {
   "cell_type": "code",
   "execution_count": 38,
   "id": "e1adfd8e-fdef-47e1-9290-62a68a53964c",
   "metadata": {},
   "outputs": [],
   "source": [
    "feature_columns = ['Close', 'InterestRate', 'InflationRate', 'M3', 'M6', 'M9', 'Y1', 'Y3', 'Y5', 'Y10', 'Y20', 'Y30'] \n",
    "\n",
    "# Normalize features\n",
    "scaler = MinMaxScaler(feature_range=(0, 1))\n",
    "scaled_data = scaler.fit_transform(dataset_knn_pd[feature_columns])\n",
    "\n",
    "# Function to create a dataset with lagged features\n",
    "def create_dataset(data, look_back=1):\n",
    "    X, Y = [], []\n",
    "    for i in range(len(data) - look_back):\n",
    "        X.append(data[i:(i + look_back), :])\n",
    "        Y.append(data[i + look_back, 0])  #  'Close' is the first column\n",
    "    return np.array(X), np.array(Y)\n",
    "\n",
    "# Create the lagged dataset\n",
    "look_back = 1  # This can be adjusted\n",
    "X, Y = create_dataset(scaled_data, look_back)\n",
    "\n",
    "# Split the data into training and test sets\n",
    "train_size = int(len(X) * 0.67)\n",
    "test_size = len(X) - train_size\n",
    "trainX, trainY = X[:train_size], Y[:train_size]\n",
    "testX, testY = X[train_size:], Y[train_size:]"
   ]
  },
  {
   "cell_type": "markdown",
   "id": "045761b6-0720-4d25-bfd1-0b431f0e2ebe",
   "metadata": {
    "jp-MarkdownHeadingCollapsed": true
   },
   "source": [
    "### Step 3: Basic Model Training\n",
    "\n",
    "With the  data prepared, the next step is to train the LSTM model with a basic set of hyperparameters. We'll start with a single LSTM layer and a standard configuration, then build from there."
   ]
  },
  {
   "cell_type": "code",
   "execution_count": 39,
   "id": "f430a824-5d71-4ab7-9b09-772a7ae79297",
   "metadata": {},
   "outputs": [
    {
     "data": {
      "text/plain": [
       "<keras.src.callbacks.History at 0xffff54506170>"
      ]
     },
     "execution_count": 39,
     "metadata": {},
     "output_type": "execute_result"
    }
   ],
   "source": [
    "# Build the LSTM model\n",
    "input_shape = (look_back, len(feature_columns))\n",
    "model = build_lstm_model(input_shape, neurons=50, dropout_rate=0.2)  # Basic configuration\n",
    "\n",
    "# Compile the model\n",
    "model.compile(optimizer=Adam(learning_rate=0.001), loss='mean_squared_error')\n",
    "\n",
    "# Train the model\n",
    "model.fit(trainX, trainY, epochs=10, batch_size=32, validation_split=0.2, verbose=0)  # Basic training"
   ]
  },
  {
   "cell_type": "markdown",
   "id": "8f76dbfe-3042-47db-85d7-ff3f75e7c25e",
   "metadata": {
    "jp-MarkdownHeadingCollapsed": true
   },
   "source": [
    "### Step 4: Model Evaluation on Test Data\n",
    "\n",
    "Great, The model has been trained! Now, let's evaluate its performance on the test data. We'll make predictions and then calculate performance metrics like RMSE (Root Mean Squared Error) to assess how well the model is doing."
   ]
  },
  {
   "cell_type": "code",
   "execution_count": 40,
   "id": "9a02c526-7575-42c8-9bff-a412e1d874cd",
   "metadata": {},
   "outputs": [
    {
     "name": "stdout",
     "output_type": "stream",
     "text": [
      "Test RMSE: 54.10217787315086\n",
      "Test MAPE: 0.016297876950346596\n",
      "Test R²: 0.9951283380392656\n"
     ]
    }
   ],
   "source": [
    "# Calculate MAPE\n",
    "test_mape = mean_absolute_percentage_error(testY_original[:, 0], testPredict[:, 0])\n",
    "\n",
    "# Calculate R² Score\n",
    "test_r2 = r2_score(testY_original[:, 0], testPredict[:, 0])\n",
    "\n",
    "print('Test RMSE:', test_rmse)\n",
    "print('Test MAPE:', test_mape)\n",
    "print('Test R²:', test_r2)"
   ]
  },
  {
   "cell_type": "markdown",
   "id": "6a4f94ce-3dff-4bd9-a494-3360bcc09d4d",
   "metadata": {
    "jp-MarkdownHeadingCollapsed": true
   },
   "source": [
    "### Step 5: Hyperparameter Tuning\n",
    "\n",
    "Now that the evaluated the basic model, the next step is to perform hyperparameter tuning. This involves systematically experimenting with different model configurations to improve performance. We'll focus on tuning key hyperparameters like the number of neurons and learning rate.\n",
    "\n",
    "Given the iterative nature of this process, it's efficient to create a function that handles model creation, training, and evaluation for different sets of hyperparameters"
   ]
  },
  {
   "cell_type": "code",
   "execution_count": 41,
   "id": "c039276e-f18a-4c90-9627-f3b1c2108349",
   "metadata": {},
   "outputs": [
    {
     "name": "stdout",
     "output_type": "stream",
     "text": [
      "48/48 [==============================] - 0s 574us/step\n",
      "48/48 [==============================] - 0s 609us/step\n",
      "48/48 [==============================] - 0s 668us/step\n",
      "48/48 [==============================] - 0s 582us/step\n",
      "48/48 [==============================] - 0s 740us/step\n",
      "48/48 [==============================] - 0s 676us/step\n",
      "48/48 [==============================] - 0s 665us/step\n",
      "48/48 [==============================] - 0s 688us/step\n",
      "   Neurons  Learning Rate  Batch Size  Test RMSE  Test MAPE   Test R²\n",
      "0       50          0.010          32   0.017657   0.020762  0.986557\n",
      "1       50          0.010          64   0.016918   0.019408  0.987658\n",
      "2       50          0.001          32   0.028864   0.036480  0.964077\n",
      "3       50          0.001          64   0.041893   0.051898  0.924327\n",
      "4      100          0.010          32   0.018492   0.021709  0.985256\n",
      "5      100          0.010          64   0.016406   0.018730  0.988395\n",
      "6      100          0.001          32   0.023936   0.029546  0.975297\n",
      "7      100          0.001          64   0.037647   0.047229  0.938887\n"
     ]
    }
   ],
   "source": [
    "def hyperparameter_tuning(trainX, trainY, testX, testY, neurons_list, learning_rates, batch_sizes):\n",
    "    results = []\n",
    "    for neurons in neurons_list:\n",
    "        for lr in learning_rates:\n",
    "            for batch_size in batch_sizes:\n",
    "                model = Sequential()\n",
    "                model.add(LSTM(neurons, input_shape=(trainX.shape[1], trainX.shape[2])))\n",
    "                model.add(Dropout(0.2))\n",
    "                model.add(Dense(1))\n",
    "                model.compile(optimizer=Adam(learning_rate=lr), loss='mean_squared_error')\n",
    "                model.fit(trainX, trainY, epochs=20, batch_size=batch_size, verbose=0)\n",
    "                testPredict = model.predict(testX)\n",
    "                test_rmse = np.sqrt(mean_squared_error(testY, testPredict))\n",
    "                test_mape = mean_absolute_percentage_error(testY, testPredict)\n",
    "                test_r2 = r2_score(testY, testPredict)\n",
    "                results.append({\n",
    "                    'Neurons': neurons, 'Learning Rate': lr, 'Batch Size': batch_size,\n",
    "                    'Test RMSE': test_rmse, 'Test MAPE': test_mape, 'Test R²': test_r2\n",
    "                })\n",
    "    return pd.DataFrame(results)\n",
    "\n",
    "# Define the hyperparameters to test\n",
    "neurons_list = [50, 100]\n",
    "learning_rates = [0.01, 0.001]\n",
    "batch_sizes = [32, 64]\n",
    "\n",
    "results = hyperparameter_tuning(trainX, trainY, testX, testY, neurons_list, learning_rates, batch_sizes)\n",
    "print(results)"
   ]
  },
  {
   "cell_type": "markdown",
   "id": "1e3dd1d7-3c04-4eae-8949-d4e032e48ca8",
   "metadata": {},
   "source": [
    "####  Increase the Range of Neurons: Test a broader range of neuron numbers in LSTM layers, such as [30, 50, 100, 150]. More neurons can capture more complex patterns but also risk overfitting.\n",
    "\n",
    "####  Experiment with More Learning Rates: Include more varied learning rates, like [0.0001, 0.001, 0.01, 0.1]. This helps in finding the sweet spot where the model learns optimally – not too slow and not missing subtleties.\n",
    "\n",
    "####  Test Additional Batch Sizes: Larger batch sizes like [32, 64, 128] can be tried to see how they impact the model's ability to generalize.\n",
    "\n",
    "####  Increase Epochs for Deeper Training: If computational resources allow, increasing epochs will give the model more time to learn, being aware off on overfitting."
   ]
  },
  {
   "cell_type": "raw",
   "id": "1d20ad44-c256-4a07-8e43-8e313f4187da",
   "metadata": {},
   "source": [
    "# Model Already Trained\n",
    "\n",
    "def hyperparameter_tuning(trainX, trainY, testX, testY, neurons_list, learning_rates, batch_sizes, epochs):\n",
    "    results = []\n",
    "    \n",
    "    for neurons in neurons_list:\n",
    "        for lr in learning_rates:\n",
    "            for batch_size in batch_sizes:\n",
    "                # Build the model\n",
    "                model = Sequential()\n",
    "                model.add(LSTM(neurons, input_shape=(trainX.shape[1], trainX.shape[2])))\n",
    "                model.add(Dropout(0.2))\n",
    "                model.add(Dense(1))\n",
    "                model.compile(optimizer=Adam(learning_rate=lr), loss='mean_squared_error')\n",
    "\n",
    "                # Train the model\n",
    "                model.fit(trainX, trainY, epochs=epochs, batch_size=batch_size, verbose=0)\n",
    "\n",
    "                # Evaluate the model\n",
    "                testPredict = model.predict(testX)\n",
    "                test_rmse = np.sqrt(mean_squared_error(testY, testPredict))\n",
    "                test_mape = mean_absolute_percentage_error(testY, testPredict)\n",
    "                test_r2 = r2_score(testY, testPredict)\n",
    "\n",
    "                # Record the results\n",
    "                results.append({\n",
    "                    'Neurons': neurons,\n",
    "                    'Learning Rate': lr,\n",
    "                    'Batch Size': batch_size,\n",
    "                    'Epochs': epochs,\n",
    "                    'Test RMSE': test_rmse,\n",
    "                    'Test MAPE': test_mape,\n",
    "                    'Test R²': test_r2\n",
    "                })\n",
    "    \n",
    "    return pd.DataFrame(results)\n",
    "\n",
    "# Define the new hyperparameters\n",
    "neurons_list = [30, 50, 100, 150]\n",
    "learning_rates = [0.0001, 0.001, 0.01, 0.1]\n",
    "batch_sizes = [32, 64, 128]\n",
    "epochs = 100  # Adjust based on computational capacity\n",
    "\n",
    "# Run the hyperparameter tuning\n",
    "expanded_results = hyperparameter_tuning(trainX, trainY, testX, testY, neurons_list, learning_rates, batch_sizes, epochs)\n",
    "print(expanded_results)"
   ]
  },
  {
   "cell_type": "code",
   "execution_count": 42,
   "id": "6593c4dc-52a0-4144-8625-64619387ac21",
   "metadata": {},
   "outputs": [
    {
     "data": {
      "text/html": [
       "<a href='expanded_results.h5' target='_blank'>expanded_results.h5</a><br>"
      ],
      "text/plain": [
       "/home/fabiopoli/Desktop/expanded_results.h5"
      ]
     },
     "execution_count": 42,
     "metadata": {},
     "output_type": "execute_result"
    }
   ],
   "source": [
    "model.save('expanded_results.h5')\n",
    "FileLink('expanded_results.h5')"
   ]
  },
  {
   "cell_type": "markdown",
   "id": "c74000fc-51f9-4d9d-916c-8bdff3eb5ce0",
   "metadata": {
    "jp-MarkdownHeadingCollapsed": true
   },
   "source": [
    "## Backtesting"
   ]
  },
  {
   "cell_type": "code",
   "execution_count": 43,
   "id": "e48602cc-3979-4459-961a-8a359ac255d4",
   "metadata": {},
   "outputs": [
    {
     "name": "stdout",
     "output_type": "stream",
     "text": [
      "143/143 [==============================] - 0s 605us/step\n"
     ]
    },
    {
     "data": {
      "image/png": "[encoded data removed]",
      "text/plain": [
       "<Figure size 1200x600 with 1 Axes>"
      ]
     },
     "metadata": {},
     "output_type": "display_data"
    }
   ],
   "source": [
    "# Function to create a dataset with lagged features\n",
    "def create_dataset(data, look_back=1):\n",
    "    X, Y = [], []\n",
    "    for i in range(len(data) - look_back - 1):\n",
    "        a = data[i:(i + look_back), :]\n",
    "        X.append(a)\n",
    "        Y.append(data[i + look_back, 0])\n",
    "    return np.array(X), np.array(Y)\n",
    "\n",
    "# Convert Spark DataFrame to Pandas DataFrame\n",
    "dataset_knn_pd = dataset_knn.toPandas()\n",
    "\n",
    "# Convert to numeric\n",
    "dataset_knn_pd.dropna(inplace=True)\n",
    "dataset_knn_pd[['Close', 'InterestRate', 'InflationRate', 'M3', 'M6', 'M9', 'Y1', 'Y3', 'Y5', 'Y10', 'Y20', 'Y30']] = dataset_knn_pd[['Close', 'InterestRate', 'InflationRate', 'M3', 'M6', 'M9', 'Y1', 'Y3', 'Y5', 'Y10', 'Y20', 'Y30']].apply(pd.to_numeric)\n",
    "\n",
    "# Normalize the historical data\n",
    "scaler = MinMaxScaler(feature_range=(0, 1))\n",
    "scaled_data = scaler.fit_transform(dataset_knn_pd[['Close', 'InterestRate', 'InflationRate', 'M3', 'M6', 'M9', 'Y1', 'Y3', 'Y5', 'Y10', 'Y20', 'Y30']])\n",
    "\n",
    "# Prepare data for backtesting\n",
    "look_back = 1  # Use the same look_back as the previous model\n",
    "X_backtest, Y_backtest = create_dataset(scaled_data, look_back)\n",
    "\n",
    "# Path to the trained model\n",
    "model_path = 'expanded_results.h5'\n",
    "\n",
    "# Load the trained model\n",
    "model = load_model(model_path)\n",
    "\n",
    "# Generate predictions\n",
    "predictions = model.predict(X_backtest)\n",
    "\n",
    "# Invert predictions to original scale\n",
    "predictions_inverted = scaler.inverse_transform(np.hstack((predictions, np.zeros((predictions.shape[0], scaled_data.shape[1] - 1)))))[:, 0]\n",
    "\n",
    "# Visualization: Plotting Actual vs Predicted Prices\n",
    "plt.figure(figsize=(12, 6))\n",
    "plt.plot(dataset_knn_pd['Date'], dataset_knn_pd['Close'], label='Actual Close Price')\n",
    "plt.plot(dataset_knn_pd['Date'][look_back+1:], predictions_inverted, label='Predicted Close Price')\n",
    "plt.xlabel('Date')\n",
    "plt.ylabel('Close Price')\n",
    "plt.title('LSTM Model Backtesting')\n",
    "plt.legend()\n",
    "plt.show()"
   ]
  },
  {
   "cell_type": "markdown",
   "id": "d078908c-dd90-4df5-814c-a4819911795a",
   "metadata": {},
   "source": [
    "# Optuna Keras Model"
   ]
  },
  {
   "cell_type": "code",
   "execution_count": 44,
   "id": "e53ae0f4-d596-4bef-91b9-732bfa889a63",
   "metadata": {
    "scrolled": true
   },
   "outputs": [
    {
     "name": "stderr",
     "output_type": "stream",
     "text": [
      "[I 2024-02-01 22:53:55,806] A new study created in RDB with name: no-name-8f3fbddb-9d21-401c-9c71-051e73bf608d\n"
     ]
    },
    {
     "name": "stdout",
     "output_type": "stream",
     "text": [
      "16/16 [==============================] - 0s 819us/step\n",
      "16/16 [==============================] - 0s 862us/step\n",
      "16/16 [==============================] - 0s 751us/step\n",
      "16/16 [==============================] - 0s 2ms/step\n",
      "16/16 [==============================] - 0s 814us/step\n"
     ]
    },
    {
     "name": "stderr",
     "output_type": "stream",
     "text": [
      "[I 2024-02-01 22:54:03,113] Trial 0 finished with value: 0.07099812851714363 and parameters: {'neurons': 50, 'learning_rate': 0.001, 'batch_size': 64, 'epochs': 49}. Best is trial 0 with value: 0.07099812851714363.\n"
     ]
    },
    {
     "name": "stdout",
     "output_type": "stream",
     "text": [
      "16/16 [==============================] - 0s 803us/step\n",
      "16/16 [==============================] - 0s 827us/step\n",
      "16/16 [==============================] - 0s 945us/step\n",
      "16/16 [==============================] - 0s 701us/step\n",
      "16/16 [==============================] - 0s 1ms/step\n"
     ]
    },
    {
     "name": "stderr",
     "output_type": "stream",
     "text": [
      "[I 2024-02-01 22:54:13,349] Trial 1 finished with value: 0.06803763988078185 and parameters: {'neurons': 30, 'learning_rate': 0.001, 'batch_size': 32, 'epochs': 42}. Best is trial 1 with value: 0.06803763988078185.\n"
     ]
    },
    {
     "name": "stdout",
     "output_type": "stream",
     "text": [
      "16/16 [==============================] - 0s 1ms/step\n",
      "16/16 [==============================] - 0s 691us/step\n",
      "16/16 [==============================] - 0s 702us/step\n",
      "16/16 [==============================] - 0s 901us/step\n",
      "16/16 [==============================] - 0s 801us/step\n"
     ]
    },
    {
     "name": "stderr",
     "output_type": "stream",
     "text": [
      "[I 2024-02-01 22:54:25,617] Trial 2 finished with value: 0.06935717637685963 and parameters: {'neurons': 30, 'learning_rate': 0.1, 'batch_size': 64, 'epochs': 95}. Best is trial 1 with value: 0.06803763988078185.\n"
     ]
    },
    {
     "name": "stdout",
     "output_type": "stream",
     "text": [
      "16/16 [==============================] - 0s 764us/step\n",
      "16/16 [==============================] - 0s 745us/step\n",
      "16/16 [==============================] - 0s 869us/step\n",
      "16/16 [==============================] - 0s 1ms/step\n",
      "16/16 [==============================] - 0s 740us/step\n"
     ]
    },
    {
     "name": "stderr",
     "output_type": "stream",
     "text": [
      "[I 2024-02-01 22:54:40,085] Trial 3 finished with value: 0.033668756308662694 and parameters: {'neurons': 50, 'learning_rate': 0.01, 'batch_size': 32, 'epochs': 60}. Best is trial 3 with value: 0.033668756308662694.\n"
     ]
    },
    {
     "name": "stdout",
     "output_type": "stream",
     "text": [
      "16/16 [==============================] - 0s 2ms/step\n",
      "16/16 [==============================] - 0s 865us/step\n",
      "16/16 [==============================] - 0s 1ms/step\n",
      "16/16 [==============================] - 0s 783us/step\n",
      "16/16 [==============================] - 0s 1ms/step\n"
     ]
    },
    {
     "name": "stderr",
     "output_type": "stream",
     "text": [
      "[I 2024-02-01 22:54:46,996] Trial 4 finished with value: 0.048915481949797265 and parameters: {'neurons': 50, 'learning_rate': 0.01, 'batch_size': 128, 'epochs': 63}. Best is trial 3 with value: 0.033668756308662694.\n"
     ]
    },
    {
     "name": "stdout",
     "output_type": "stream",
     "text": [
      "16/16 [==============================] - 0s 1ms/step\n",
      "16/16 [==============================] - 0s 857us/step\n",
      "16/16 [==============================] - 0s 1ms/step\n",
      "16/16 [==============================] - 0s 1ms/step\n",
      "16/16 [==============================] - 0s 922us/step\n"
     ]
    },
    {
     "name": "stderr",
     "output_type": "stream",
     "text": [
      "[I 2024-02-01 22:55:07,489] Trial 5 finished with value: 0.06032177846486475 and parameters: {'neurons': 150, 'learning_rate': 0.001, 'batch_size': 64, 'epochs': 77}. Best is trial 3 with value: 0.033668756308662694.\n"
     ]
    },
    {
     "name": "stdout",
     "output_type": "stream",
     "text": [
      "16/16 [==============================] - 0s 1ms/step\n",
      "16/16 [==============================] - 0s 1ms/step\n",
      "16/16 [==============================] - 0s 908us/step\n",
      "16/16 [==============================] - 0s 863us/step\n",
      "16/16 [==============================] - 0s 844us/step\n"
     ]
    },
    {
     "name": "stderr",
     "output_type": "stream",
     "text": [
      "[I 2024-02-01 22:55:29,666] Trial 6 finished with value: 0.09494716212616752 and parameters: {'neurons': 150, 'learning_rate': 0.0001, 'batch_size': 64, 'epochs': 85}. Best is trial 3 with value: 0.033668756308662694.\n"
     ]
    },
    {
     "name": "stdout",
     "output_type": "stream",
     "text": [
      "16/16 [==============================] - 0s 2ms/step\n",
      "16/16 [==============================] - 0s 1ms/step\n",
      "16/16 [==============================] - 0s 2ms/step\n",
      "16/16 [==============================] - 0s 1ms/step\n",
      "16/16 [==============================] - 0s 1ms/step\n"
     ]
    },
    {
     "name": "stderr",
     "output_type": "stream",
     "text": [
      "[I 2024-02-01 22:55:37,265] Trial 7 finished with value: 0.11948526040851484 and parameters: {'neurons': 100, 'learning_rate': 0.1, 'batch_size': 64, 'epochs': 33}. Best is trial 3 with value: 0.033668756308662694.\n"
     ]
    },
    {
     "name": "stdout",
     "output_type": "stream",
     "text": [
      "16/16 [==============================] - 0s 890us/step\n",
      "16/16 [==============================] - 0s 874us/step\n",
      "16/16 [==============================] - 0s 690us/step\n",
      "16/16 [==============================] - 0s 1ms/step\n",
      "16/16 [==============================] - 0s 1ms/step\n"
     ]
    },
    {
     "name": "stderr",
     "output_type": "stream",
     "text": [
      "[I 2024-02-01 22:55:57,652] Trial 8 finished with value: 0.0890384060669059 and parameters: {'neurons': 30, 'learning_rate': 0.0001, 'batch_size': 32, 'epochs': 91}. Best is trial 3 with value: 0.033668756308662694.\n"
     ]
    },
    {
     "name": "stdout",
     "output_type": "stream",
     "text": [
      "16/16 [==============================] - 0s 1ms/step\n",
      "16/16 [==============================] - 0s 1ms/step\n",
      "16/16 [==============================] - 0s 726us/step\n",
      "16/16 [==============================] - 0s 846us/step\n",
      "16/16 [==============================] - 0s 814us/step\n"
     ]
    },
    {
     "name": "stderr",
     "output_type": "stream",
     "text": [
      "[I 2024-02-01 22:56:16,931] Trial 9 finished with value: 0.04790834845567678 and parameters: {'neurons': 50, 'learning_rate': 0.001, 'batch_size': 32, 'epochs': 81}. Best is trial 3 with value: 0.033668756308662694.\n"
     ]
    },
    {
     "name": "stdout",
     "output_type": "stream",
     "text": [
      "16/16 [==============================] - 0s 2ms/step\n",
      "16/16 [==============================] - 0s 1ms/step\n",
      "16/16 [==============================] - 0s 956us/step\n",
      "16/16 [==============================] - 0s 2ms/step\n",
      "16/16 [==============================] - 0s 1ms/step\n"
     ]
    },
    {
     "name": "stderr",
     "output_type": "stream",
     "text": [
      "[I 2024-02-01 22:56:20,354] Trial 10 finished with value: 0.08147728605269644 and parameters: {'neurons': 100, 'learning_rate': 0.01, 'batch_size': 128, 'epochs': 20}. Best is trial 3 with value: 0.033668756308662694.\n"
     ]
    },
    {
     "name": "stdout",
     "output_type": "stream",
     "text": [
      "16/16 [==============================] - 0s 1ms/step\n",
      "16/16 [==============================] - 0s 1ms/step\n",
      "16/16 [==============================] - 0s 1ms/step\n",
      "16/16 [==============================] - 0s 785us/step\n",
      "16/16 [==============================] - 0s 784us/step\n"
     ]
    },
    {
     "name": "stderr",
     "output_type": "stream",
     "text": [
      "[I 2024-02-01 22:56:36,674] Trial 11 finished with value: 0.03204520018596852 and parameters: {'neurons': 50, 'learning_rate': 0.01, 'batch_size': 32, 'epochs': 69}. Best is trial 11 with value: 0.03204520018596852.\n"
     ]
    },
    {
     "name": "stdout",
     "output_type": "stream",
     "text": [
      "16/16 [==============================] - 0s 1ms/step\n",
      "16/16 [==============================] - 0s 723us/step\n",
      "16/16 [==============================] - 0s 692us/step\n",
      "16/16 [==============================] - 0s 691us/step\n",
      "16/16 [==============================] - 0s 925us/step\n"
     ]
    },
    {
     "name": "stderr",
     "output_type": "stream",
     "text": [
      "[I 2024-02-01 22:56:51,974] Trial 12 finished with value: 0.035911442839034066 and parameters: {'neurons': 50, 'learning_rate': 0.01, 'batch_size': 32, 'epochs': 63}. Best is trial 11 with value: 0.03204520018596852.\n"
     ]
    },
    {
     "name": "stdout",
     "output_type": "stream",
     "text": [
      "16/16 [==============================] - 0s 1ms/step\n",
      "16/16 [==============================] - 0s 734us/step\n",
      "16/16 [==============================] - 0s 759us/step\n",
      "16/16 [==============================] - 0s 771us/step\n",
      "16/16 [==============================] - 0s 708us/step\n"
     ]
    },
    {
     "name": "stderr",
     "output_type": "stream",
     "text": [
      "[I 2024-02-01 22:57:08,854] Trial 13 finished with value: 0.0380084449271256 and parameters: {'neurons': 50, 'learning_rate': 0.01, 'batch_size': 32, 'epochs': 71}. Best is trial 11 with value: 0.03204520018596852.\n"
     ]
    },
    {
     "name": "stdout",
     "output_type": "stream",
     "text": [
      "16/16 [==============================] - 0s 1ms/step\n",
      "16/16 [==============================] - 0s 796us/step\n",
      "16/16 [==============================] - 0s 736us/step\n",
      "16/16 [==============================] - 0s 731us/step\n",
      "16/16 [==============================] - 0s 854us/step\n"
     ]
    },
    {
     "name": "stderr",
     "output_type": "stream",
     "text": [
      "[I 2024-02-01 22:57:21,369] Trial 14 finished with value: 0.036156556830768134 and parameters: {'neurons': 50, 'learning_rate': 0.01, 'batch_size': 32, 'epochs': 50}. Best is trial 11 with value: 0.03204520018596852.\n"
     ]
    },
    {
     "name": "stdout",
     "output_type": "stream",
     "text": [
      "16/16 [==============================] - 0s 899us/step\n",
      "16/16 [==============================] - 0s 784us/step\n",
      "16/16 [==============================] - 0s 779us/step\n",
      "16/16 [==============================] - 0s 988us/step\n",
      "16/16 [==============================] - 0s 1ms/step\n"
     ]
    },
    {
     "name": "stderr",
     "output_type": "stream",
     "text": [
      "[I 2024-02-01 22:57:38,508] Trial 15 finished with value: 0.035851574502232274 and parameters: {'neurons': 50, 'learning_rate': 0.01, 'batch_size': 32, 'epochs': 69}. Best is trial 11 with value: 0.03204520018596852.\n"
     ]
    },
    {
     "name": "stdout",
     "output_type": "stream",
     "text": [
      "16/16 [==============================] - 0s 795us/step\n",
      "16/16 [==============================] - 0s 991us/step\n",
      "16/16 [==============================] - 0s 692us/step\n",
      "16/16 [==============================] - 0s 3ms/step\n",
      "16/16 [==============================] - 0s 869us/step\n"
     ]
    },
    {
     "name": "stderr",
     "output_type": "stream",
     "text": [
      "[I 2024-02-01 22:57:55,205] Trial 16 finished with value: 0.03159097923306093 and parameters: {'neurons': 50, 'learning_rate': 0.01, 'batch_size': 32, 'epochs': 55}. Best is trial 16 with value: 0.03159097923306093.\n"
     ]
    },
    {
     "name": "stdout",
     "output_type": "stream",
     "text": [
      "16/16 [==============================] - 0s 1ms/step\n",
      "16/16 [==============================] - 0s 1ms/step\n",
      "16/16 [==============================] - 0s 2ms/step\n",
      "16/16 [==============================] - 0s 1ms/step\n",
      "16/16 [==============================] - 0s 1ms/step\n"
     ]
    },
    {
     "name": "stderr",
     "output_type": "stream",
     "text": [
      "[I 2024-02-01 22:58:06,501] Trial 17 finished with value: 0.05867700351813783 and parameters: {'neurons': 150, 'learning_rate': 0.01, 'batch_size': 128, 'epochs': 52}. Best is trial 16 with value: 0.03159097923306093.\n"
     ]
    },
    {
     "name": "stdout",
     "output_type": "stream",
     "text": [
      "16/16 [==============================] - 0s 1ms/step\n",
      "16/16 [==============================] - 0s 1ms/step\n",
      "16/16 [==============================] - 0s 1ms/step\n",
      "16/16 [==============================] - 0s 2ms/step\n",
      "16/16 [==============================] - 0s 755us/step\n"
     ]
    },
    {
     "name": "stderr",
     "output_type": "stream",
     "text": [
      "[I 2024-02-01 22:58:21,402] Trial 18 finished with value: 0.09960922801793633 and parameters: {'neurons': 100, 'learning_rate': 0.0001, 'batch_size': 32, 'epochs': 39}. Best is trial 16 with value: 0.03159097923306093.\n"
     ]
    },
    {
     "name": "stdout",
     "output_type": "stream",
     "text": [
      "16/16 [==============================] - 0s 874us/step\n",
      "16/16 [==============================] - 0s 751us/step\n",
      "16/16 [==============================] - 0s 2ms/step\n",
      "16/16 [==============================] - 0s 876us/step\n",
      "16/16 [==============================] - 0s 2ms/step\n"
     ]
    },
    {
     "name": "stderr",
     "output_type": "stream",
     "text": [
      "[I 2024-02-01 22:58:38,654] Trial 19 finished with value: 0.14290196426844332 and parameters: {'neurons': 50, 'learning_rate': 0.1, 'batch_size': 32, 'epochs': 72}. Best is trial 16 with value: 0.03159097923306093.\n"
     ]
    },
    {
     "name": "stdout",
     "output_type": "stream",
     "text": [
      "16/16 [==============================] - 0s 801us/step\n",
      "16/16 [==============================] - 0s 767us/step\n",
      "16/16 [==============================] - 0s 966us/step\n",
      "16/16 [==============================] - 0s 755us/step\n",
      "16/16 [==============================] - 0s 1ms/step\n"
     ]
    },
    {
     "name": "stderr",
     "output_type": "stream",
     "text": [
      "[I 2024-02-01 22:58:42,430] Trial 20 finished with value: 0.07968661542800173 and parameters: {'neurons': 50, 'learning_rate': 0.01, 'batch_size': 128, 'epochs': 25}. Best is trial 16 with value: 0.03159097923306093.\n"
     ]
    },
    {
     "name": "stdout",
     "output_type": "stream",
     "text": [
      "16/16 [==============================] - 0s 1ms/step\n",
      "16/16 [==============================] - 0s 771us/step\n",
      "16/16 [==============================] - 0s 2ms/step\n",
      "16/16 [==============================] - 0s 743us/step\n",
      "16/16 [==============================] - 0s 901us/step\n"
     ]
    },
    {
     "name": "stderr",
     "output_type": "stream",
     "text": [
      "[I 2024-02-01 22:58:56,500] Trial 21 finished with value: 0.03487294569242735 and parameters: {'neurons': 50, 'learning_rate': 0.01, 'batch_size': 32, 'epochs': 57}. Best is trial 16 with value: 0.03159097923306093.\n"
     ]
    },
    {
     "name": "stdout",
     "output_type": "stream",
     "text": [
      "16/16 [==============================] - 0s 774us/step\n",
      "16/16 [==============================] - 0s 2ms/step\n",
      "16/16 [==============================] - 0s 1ms/step\n",
      "16/16 [==============================] - 0s 678us/step\n",
      "16/16 [==============================] - 0s 1ms/step\n"
     ]
    },
    {
     "name": "stderr",
     "output_type": "stream",
     "text": [
      "[I 2024-02-01 22:59:10,857] Trial 22 finished with value: 0.04035386848915189 and parameters: {'neurons': 50, 'learning_rate': 0.01, 'batch_size': 32, 'epochs': 59}. Best is trial 16 with value: 0.03159097923306093.\n"
     ]
    },
    {
     "name": "stdout",
     "output_type": "stream",
     "text": [
      "16/16 [==============================] - 0s 859us/step\n",
      "16/16 [==============================] - 0s 835us/step\n",
      "16/16 [==============================] - 0s 898us/step\n",
      "16/16 [==============================] - 0s 927us/step\n",
      "16/16 [==============================] - 0s 770us/step\n"
     ]
    },
    {
     "name": "stderr",
     "output_type": "stream",
     "text": [
      "[I 2024-02-01 22:59:26,700] Trial 23 finished with value: 0.0304989251426833 and parameters: {'neurons': 50, 'learning_rate': 0.01, 'batch_size': 32, 'epochs': 66}. Best is trial 23 with value: 0.0304989251426833.\n"
     ]
    },
    {
     "name": "stdout",
     "output_type": "stream",
     "text": [
      "16/16 [==============================] - 0s 786us/step\n",
      "16/16 [==============================] - 0s 1ms/step\n",
      "16/16 [==============================] - 0s 903us/step\n",
      "16/16 [==============================] - 0s 784us/step\n",
      "16/16 [==============================] - 0s 1ms/step\n"
     ]
    },
    {
     "name": "stderr",
     "output_type": "stream",
     "text": [
      "[I 2024-02-01 22:59:43,519] Trial 24 finished with value: 0.030215063047830303 and parameters: {'neurons': 50, 'learning_rate': 0.01, 'batch_size': 32, 'epochs': 66}. Best is trial 24 with value: 0.030215063047830303.\n"
     ]
    },
    {
     "name": "stdout",
     "output_type": "stream",
     "text": [
      "16/16 [==============================] - 0s 736us/step\n",
      "16/16 [==============================] - 0s 672us/step\n",
      "16/16 [==============================] - 0s 789us/step\n",
      "16/16 [==============================] - 0s 693us/step\n",
      "16/16 [==============================] - 0s 663us/step\n"
     ]
    },
    {
     "name": "stderr",
     "output_type": "stream",
     "text": [
      "[I 2024-02-01 22:59:54,577] Trial 25 finished with value: 0.040969785243171374 and parameters: {'neurons': 50, 'learning_rate': 0.01, 'batch_size': 32, 'epochs': 44}. Best is trial 24 with value: 0.030215063047830303.\n"
     ]
    },
    {
     "name": "stdout",
     "output_type": "stream",
     "text": [
      "16/16 [==============================] - 0s 715us/step\n",
      "16/16 [==============================] - 0s 715us/step\n",
      "16/16 [==============================] - 0s 717us/step\n",
      "16/16 [==============================] - 0s 773us/step\n",
      "16/16 [==============================] - 0s 714us/step\n"
     ]
    },
    {
     "name": "stderr",
     "output_type": "stream",
     "text": [
      "[I 2024-02-01 23:00:20,760] Trial 26 finished with value: 0.030913903587971886 and parameters: {'neurons': 100, 'learning_rate': 0.01, 'batch_size': 32, 'epochs': 77}. Best is trial 24 with value: 0.030215063047830303.\n"
     ]
    },
    {
     "name": "stdout",
     "output_type": "stream",
     "text": [
      "16/16 [==============================] - 0s 763us/step\n",
      "16/16 [==============================] - 0s 722us/step\n",
      "16/16 [==============================] - 0s 715us/step\n",
      "16/16 [==============================] - 0s 718us/step\n",
      "16/16 [==============================] - 0s 712us/step\n"
     ]
    },
    {
     "name": "stderr",
     "output_type": "stream",
     "text": [
      "[I 2024-02-01 23:00:49,353] Trial 27 finished with value: 0.07856605590066378 and parameters: {'neurons': 100, 'learning_rate': 0.0001, 'batch_size': 32, 'epochs': 86}. Best is trial 24 with value: 0.030215063047830303.\n"
     ]
    },
    {
     "name": "stdout",
     "output_type": "stream",
     "text": [
      "16/16 [==============================] - 0s 770us/step\n",
      "16/16 [==============================] - 0s 708us/step\n",
      "16/16 [==============================] - 0s 697us/step\n",
      "16/16 [==============================] - 0s 767us/step\n",
      "16/16 [==============================] - 0s 758us/step\n"
     ]
    },
    {
     "name": "stderr",
     "output_type": "stream",
     "text": [
      "[I 2024-02-01 23:00:58,522] Trial 28 finished with value: 0.12272061499937004 and parameters: {'neurons': 100, 'learning_rate': 0.1, 'batch_size': 128, 'epochs': 74}. Best is trial 24 with value: 0.030215063047830303.\n"
     ]
    },
    {
     "name": "stdout",
     "output_type": "stream",
     "text": [
      "16/16 [==============================] - 0s 811us/step\n",
      "16/16 [==============================] - 0s 708us/step\n",
      "16/16 [==============================] - 0s 713us/step\n",
      "16/16 [==============================] - 0s 796us/step\n",
      "16/16 [==============================] - 0s 727us/step\n"
     ]
    },
    {
     "name": "stderr",
     "output_type": "stream",
     "text": [
      "[I 2024-02-01 23:01:25,108] Trial 29 finished with value: 0.044013257278829265 and parameters: {'neurons': 100, 'learning_rate': 0.001, 'batch_size': 32, 'epochs': 80}. Best is trial 24 with value: 0.030215063047830303.\n"
     ]
    },
    {
     "name": "stdout",
     "output_type": "stream",
     "text": [
      "16/16 [==============================] - 0s 768us/step\n",
      "16/16 [==============================] - 0s 790us/step\n",
      "16/16 [==============================] - 0s 763us/step\n",
      "16/16 [==============================] - 0s 717us/step\n",
      "16/16 [==============================] - 0s 727us/step\n"
     ]
    },
    {
     "name": "stderr",
     "output_type": "stream",
     "text": [
      "[I 2024-02-01 23:01:45,124] Trial 30 finished with value: 0.029665209278338163 and parameters: {'neurons': 100, 'learning_rate': 0.01, 'batch_size': 64, 'epochs': 99}. Best is trial 30 with value: 0.029665209278338163.\n"
     ]
    },
    {
     "name": "stdout",
     "output_type": "stream",
     "text": [
      "16/16 [==============================] - 0s 824us/step\n",
      "16/16 [==============================] - 0s 722us/step\n",
      "16/16 [==============================] - 0s 730us/step\n",
      "16/16 [==============================] - 0s 716us/step\n",
      "16/16 [==============================] - 0s 743us/step\n"
     ]
    },
    {
     "name": "stderr",
     "output_type": "stream",
     "text": [
      "[I 2024-02-01 23:02:03,255] Trial 31 finished with value: 0.02544330946302394 and parameters: {'neurons': 100, 'learning_rate': 0.01, 'batch_size': 64, 'epochs': 96}. Best is trial 31 with value: 0.02544330946302394.\n"
     ]
    },
    {
     "name": "stdout",
     "output_type": "stream",
     "text": [
      "16/16 [==============================] - 0s 748us/step\n",
      "16/16 [==============================] - 0s 746us/step\n",
      "16/16 [==============================] - 0s 759us/step\n",
      "16/16 [==============================] - 0s 752us/step\n",
      "16/16 [==============================] - 0s 733us/step\n"
     ]
    },
    {
     "name": "stderr",
     "output_type": "stream",
     "text": [
      "[I 2024-02-01 23:02:22,129] Trial 32 finished with value: 0.03377904629513993 and parameters: {'neurons': 100, 'learning_rate': 0.01, 'batch_size': 64, 'epochs': 100}. Best is trial 31 with value: 0.02544330946302394.\n"
     ]
    },
    {
     "name": "stdout",
     "output_type": "stream",
     "text": [
      "16/16 [==============================] - 0s 708us/step\n",
      "16/16 [==============================] - 0s 600us/step\n",
      "16/16 [==============================] - 0s 605us/step\n",
      "16/16 [==============================] - 0s 641us/step\n",
      "16/16 [==============================] - 0s 658us/step\n"
     ]
    },
    {
     "name": "stderr",
     "output_type": "stream",
     "text": [
      "[I 2024-02-01 23:02:34,403] Trial 33 finished with value: 0.03643114803272869 and parameters: {'neurons': 30, 'learning_rate': 0.01, 'batch_size': 64, 'epochs': 98}. Best is trial 31 with value: 0.02544330946302394.\n"
     ]
    },
    {
     "name": "stdout",
     "output_type": "stream",
     "text": [
      "16/16 [==============================] - 0s 803us/step\n",
      "16/16 [==============================] - 0s 744us/step\n",
      "16/16 [==============================] - 0s 709us/step\n",
      "16/16 [==============================] - 0s 712us/step\n",
      "16/16 [==============================] - 0s 745us/step\n"
     ]
    },
    {
     "name": "stderr",
     "output_type": "stream",
     "text": [
      "[I 2024-02-01 23:02:51,696] Trial 34 finished with value: 0.029495592422290752 and parameters: {'neurons': 100, 'learning_rate': 0.01, 'batch_size': 64, 'epochs': 90}. Best is trial 31 with value: 0.02544330946302394.\n"
     ]
    },
    {
     "name": "stdout",
     "output_type": "stream",
     "text": [
      "16/16 [==============================] - 0s 706us/step\n",
      "16/16 [==============================] - 0s 713us/step\n",
      "16/16 [==============================] - 0s 725us/step\n",
      "16/16 [==============================] - 0s 722us/step\n",
      "16/16 [==============================] - 0s 700us/step\n"
     ]
    },
    {
     "name": "stderr",
     "output_type": "stream",
     "text": [
      "[I 2024-02-01 23:03:09,275] Trial 35 finished with value: 0.05650179309559903 and parameters: {'neurons': 100, 'learning_rate': 0.001, 'batch_size': 64, 'epochs': 92}. Best is trial 31 with value: 0.02544330946302394.\n"
     ]
    },
    {
     "name": "stdout",
     "output_type": "stream",
     "text": [
      "16/16 [==============================] - 0s 779us/step\n",
      "16/16 [==============================] - 0s 701us/step\n",
      "16/16 [==============================] - 0s 696us/step\n",
      "16/16 [==============================] - 0s 689us/step\n",
      "16/16 [==============================] - 0s 724us/step\n"
     ]
    },
    {
     "name": "stderr",
     "output_type": "stream",
     "text": [
      "[I 2024-02-01 23:03:27,095] Trial 36 finished with value: 0.03082805332358681 and parameters: {'neurons': 100, 'learning_rate': 0.01, 'batch_size': 64, 'epochs': 94}. Best is trial 31 with value: 0.02544330946302394.\n"
     ]
    },
    {
     "name": "stdout",
     "output_type": "stream",
     "text": [
      "16/16 [==============================] - 0s 788us/step\n",
      "16/16 [==============================] - 0s 724us/step\n",
      "16/16 [==============================] - 0s 721us/step\n",
      "16/16 [==============================] - 0s 738us/step\n",
      "16/16 [==============================] - 0s 741us/step\n"
     ]
    },
    {
     "name": "stderr",
     "output_type": "stream",
     "text": [
      "[I 2024-02-01 23:03:44,237] Trial 37 finished with value: 0.09794855181407013 and parameters: {'neurons': 100, 'learning_rate': 0.1, 'batch_size': 64, 'epochs': 90}. Best is trial 31 with value: 0.02544330946302394.\n"
     ]
    },
    {
     "name": "stdout",
     "output_type": "stream",
     "text": [
      "16/16 [==============================] - 0s 846us/step\n",
      "16/16 [==============================] - 0s 758us/step\n",
      "16/16 [==============================] - 0s 745us/step\n",
      "16/16 [==============================] - 0s 788us/step\n",
      "16/16 [==============================] - 0s 755us/step\n"
     ]
    },
    {
     "name": "stderr",
     "output_type": "stream",
     "text": [
      "[I 2024-02-01 23:04:05,474] Trial 38 finished with value: 0.027786075066188586 and parameters: {'neurons': 150, 'learning_rate': 0.01, 'batch_size': 64, 'epochs': 85}. Best is trial 31 with value: 0.02544330946302394.\n"
     ]
    },
    {
     "name": "stdout",
     "output_type": "stream",
     "text": [
      "16/16 [==============================] - 0s 791us/step\n",
      "16/16 [==============================] - 0s 788us/step\n",
      "16/16 [==============================] - 0s 859us/step\n",
      "16/16 [==============================] - 0s 865us/step\n",
      "16/16 [==============================] - 0s 829us/step\n"
     ]
    },
    {
     "name": "stderr",
     "output_type": "stream",
     "text": [
      "[I 2024-02-01 23:04:27,225] Trial 39 finished with value: 0.09540479069706274 and parameters: {'neurons': 150, 'learning_rate': 0.0001, 'batch_size': 64, 'epochs': 86}. Best is trial 31 with value: 0.02544330946302394.\n"
     ]
    },
    {
     "name": "stdout",
     "output_type": "stream",
     "text": [
      "16/16 [==============================] - 0s 811us/step\n",
      "16/16 [==============================] - 0s 808us/step\n",
      "16/16 [==============================] - 0s 789us/step\n",
      "16/16 [==============================] - 0s 762us/step\n",
      "16/16 [==============================] - 0s 732us/step\n"
     ]
    },
    {
     "name": "stderr",
     "output_type": "stream",
     "text": [
      "[I 2024-02-01 23:04:51,448] Trial 40 finished with value: 0.05747047090766164 and parameters: {'neurons': 150, 'learning_rate': 0.001, 'batch_size': 64, 'epochs': 98}. Best is trial 31 with value: 0.02544330946302394.\n"
     ]
    },
    {
     "name": "stdout",
     "output_type": "stream",
     "text": [
      "16/16 [==============================] - 0s 853us/step\n",
      "16/16 [==============================] - 0s 777us/step\n",
      "16/16 [==============================] - 0s 792us/step\n",
      "16/16 [==============================] - 0s 839us/step\n",
      "16/16 [==============================] - 0s 745us/step\n"
     ]
    },
    {
     "name": "stderr",
     "output_type": "stream",
     "text": [
      "[I 2024-02-01 23:05:13,382] Trial 41 finished with value: 0.03028889357922484 and parameters: {'neurons': 150, 'learning_rate': 0.01, 'batch_size': 64, 'epochs': 88}. Best is trial 31 with value: 0.02544330946302394.\n"
     ]
    },
    {
     "name": "stdout",
     "output_type": "stream",
     "text": [
      "16/16 [==============================] - 0s 616us/step\n",
      "16/16 [==============================] - 0s 606us/step\n",
      "16/16 [==============================] - 0s 624us/step\n",
      "16/16 [==============================] - 0s 691us/step\n",
      "16/16 [==============================] - 0s 609us/step\n"
     ]
    },
    {
     "name": "stderr",
     "output_type": "stream",
     "text": [
      "[I 2024-02-01 23:05:24,296] Trial 42 finished with value: 0.037851165765702244 and parameters: {'neurons': 30, 'learning_rate': 0.01, 'batch_size': 64, 'epochs': 95}. Best is trial 31 with value: 0.02544330946302394.\n"
     ]
    },
    {
     "name": "stdout",
     "output_type": "stream",
     "text": [
      "16/16 [==============================] - 0s 857us/step\n",
      "16/16 [==============================] - 0s 743us/step\n",
      "16/16 [==============================] - 0s 749us/step\n",
      "16/16 [==============================] - 0s 795us/step\n",
      "16/16 [==============================] - 0s 1ms/step\n"
     ]
    },
    {
     "name": "stderr",
     "output_type": "stream",
     "text": [
      "[I 2024-02-01 23:05:44,656] Trial 43 finished with value: 0.0316636762763494 and parameters: {'neurons': 150, 'learning_rate': 0.01, 'batch_size': 64, 'epochs': 82}. Best is trial 31 with value: 0.02544330946302394.\n"
     ]
    },
    {
     "name": "stdout",
     "output_type": "stream",
     "text": [
      "16/16 [==============================] - 0s 777us/step\n",
      "16/16 [==============================] - 0s 743us/step\n",
      "16/16 [==============================] - 0s 754us/step\n",
      "16/16 [==============================] - 0s 767us/step\n",
      "16/16 [==============================] - 0s 1ms/step\n"
     ]
    },
    {
     "name": "stderr",
     "output_type": "stream",
     "text": [
      "[I 2024-02-01 23:06:03,714] Trial 44 finished with value: 0.032573140968758726 and parameters: {'neurons': 100, 'learning_rate': 0.01, 'batch_size': 64, 'epochs': 96}. Best is trial 31 with value: 0.02544330946302394.\n"
     ]
    },
    {
     "name": "stdout",
     "output_type": "stream",
     "text": [
      "16/16 [==============================] - 0s 833us/step\n",
      "16/16 [==============================] - 0s 845us/step\n",
      "16/16 [==============================] - 0s 1ms/step\n",
      "16/16 [==============================] - 0s 751us/step\n",
      "16/16 [==============================] - 0s 750us/step\n"
     ]
    },
    {
     "name": "stderr",
     "output_type": "stream",
     "text": [
      "[I 2024-02-01 23:06:19,807] Trial 45 finished with value: 0.029846112662231757 and parameters: {'neurons': 100, 'learning_rate': 0.01, 'batch_size': 64, 'epochs': 82}. Best is trial 31 with value: 0.02544330946302394.\n"
     ]
    },
    {
     "name": "stdout",
     "output_type": "stream",
     "text": [
      "16/16 [==============================] - 0s 765us/step\n",
      "16/16 [==============================] - 0s 734us/step\n",
      "16/16 [==============================] - 0s 757us/step\n",
      "16/16 [==============================] - 0s 737us/step\n",
      "16/16 [==============================] - 0s 762us/step\n"
     ]
    },
    {
     "name": "stderr",
     "output_type": "stream",
     "text": [
      "[I 2024-02-01 23:06:35,885] Trial 46 finished with value: 0.031243394855255437 and parameters: {'neurons': 100, 'learning_rate': 0.01, 'batch_size': 64, 'epochs': 83}. Best is trial 31 with value: 0.02544330946302394.\n"
     ]
    },
    {
     "name": "stdout",
     "output_type": "stream",
     "text": [
      "16/16 [==============================] - 0s 809us/step\n",
      "16/16 [==============================] - 0s 695us/step\n",
      "16/16 [==============================] - 0s 808us/step\n",
      "16/16 [==============================] - 0s 784us/step\n",
      "16/16 [==============================] - 0s 741us/step\n"
     ]
    },
    {
     "name": "stderr",
     "output_type": "stream",
     "text": [
      "[I 2024-02-01 23:06:53,138] Trial 47 finished with value: 0.03079277899077107 and parameters: {'neurons': 100, 'learning_rate': 0.01, 'batch_size': 64, 'epochs': 90}. Best is trial 31 with value: 0.02544330946302394.\n"
     ]
    },
    {
     "name": "stdout",
     "output_type": "stream",
     "text": [
      "16/16 [==============================] - 0s 705us/step\n",
      "16/16 [==============================] - 0s 707us/step\n",
      "16/16 [==============================] - 0s 756us/step\n",
      "16/16 [==============================] - 0s 833us/step\n",
      "16/16 [==============================] - 0s 791us/step\n"
     ]
    },
    {
     "name": "stderr",
     "output_type": "stream",
     "text": [
      "[I 2024-02-01 23:07:08,381] Trial 48 finished with value: 0.1095713280868577 and parameters: {'neurons': 100, 'learning_rate': 0.1, 'batch_size': 64, 'epochs': 79}. Best is trial 31 with value: 0.02544330946302394.\n"
     ]
    },
    {
     "name": "stdout",
     "output_type": "stream",
     "text": [
      "16/16 [==============================] - 0s 764us/step\n",
      "16/16 [==============================] - 0s 678us/step\n",
      "16/16 [==============================] - 0s 726us/step\n",
      "16/16 [==============================] - 0s 726us/step\n",
      "16/16 [==============================] - 0s 701us/step\n"
     ]
    },
    {
     "name": "stderr",
     "output_type": "stream",
     "text": [
      "[I 2024-02-01 23:07:26,133] Trial 49 finished with value: 0.03004373981593405 and parameters: {'neurons': 100, 'learning_rate': 0.01, 'batch_size': 64, 'epochs': 93}. Best is trial 31 with value: 0.02544330946302394.\n"
     ]
    },
    {
     "name": "stdout",
     "output_type": "stream",
     "text": [
      "16/16 [==============================] - 0s 782us/step\n",
      "16/16 [==============================] - 0s 780us/step\n",
      "16/16 [==============================] - 0s 779us/step\n",
      "16/16 [==============================] - 0s 778us/step\n",
      "16/16 [==============================] - 0s 773us/step\n"
     ]
    },
    {
     "name": "stderr",
     "output_type": "stream",
     "text": [
      "[I 2024-02-01 23:07:50,902] Trial 50 finished with value: 0.09199621551417567 and parameters: {'neurons': 150, 'learning_rate': 0.0001, 'batch_size': 64, 'epochs': 100}. Best is trial 31 with value: 0.02544330946302394.\n"
     ]
    },
    {
     "name": "stdout",
     "output_type": "stream",
     "text": [
      "16/16 [==============================] - 0s 1ms/step\n",
      "16/16 [==============================] - 0s 670us/step\n",
      "16/16 [==============================] - 0s 759us/step\n",
      "16/16 [==============================] - 0s 713us/step\n",
      "16/16 [==============================] - 0s 747us/step\n"
     ]
    },
    {
     "name": "stderr",
     "output_type": "stream",
     "text": [
      "[I 2024-02-01 23:08:08,471] Trial 51 finished with value: 0.030893285092881077 and parameters: {'neurons': 100, 'learning_rate': 0.01, 'batch_size': 64, 'epochs': 93}. Best is trial 31 with value: 0.02544330946302394.\n"
     ]
    },
    {
     "name": "stdout",
     "output_type": "stream",
     "text": [
      "16/16 [==============================] - 0s 766us/step\n",
      "16/16 [==============================] - 0s 693us/step\n",
      "16/16 [==============================] - 0s 697us/step\n",
      "16/16 [==============================] - 0s 847us/step\n",
      "16/16 [==============================] - 0s 763us/step\n"
     ]
    },
    {
     "name": "stderr",
     "output_type": "stream",
     "text": [
      "[I 2024-02-01 23:08:25,182] Trial 52 finished with value: 0.03505317715491231 and parameters: {'neurons': 100, 'learning_rate': 0.01, 'batch_size': 64, 'epochs': 88}. Best is trial 31 with value: 0.02544330946302394.\n"
     ]
    },
    {
     "name": "stdout",
     "output_type": "stream",
     "text": [
      "16/16 [==============================] - 0s 771us/step\n",
      "16/16 [==============================] - 0s 805us/step\n",
      "16/16 [==============================] - 0s 735us/step\n",
      "16/16 [==============================] - 0s 762us/step\n",
      "16/16 [==============================] - 0s 763us/step\n"
     ]
    },
    {
     "name": "stderr",
     "output_type": "stream",
     "text": [
      "[I 2024-02-01 23:08:41,386] Trial 53 finished with value: 0.031427035507845265 and parameters: {'neurons': 100, 'learning_rate': 0.01, 'batch_size': 64, 'epochs': 84}. Best is trial 31 with value: 0.02544330946302394.\n"
     ]
    },
    {
     "name": "stdout",
     "output_type": "stream",
     "text": [
      "16/16 [==============================] - 0s 755us/step\n",
      "16/16 [==============================] - 0s 694us/step\n",
      "16/16 [==============================] - 0s 700us/step\n",
      "16/16 [==============================] - 0s 790us/step\n",
      "16/16 [==============================] - 0s 762us/step\n"
     ]
    },
    {
     "name": "stderr",
     "output_type": "stream",
     "text": [
      "[I 2024-02-01 23:08:59,424] Trial 54 finished with value: 0.031250927636725837 and parameters: {'neurons': 100, 'learning_rate': 0.01, 'batch_size': 64, 'epochs': 96}. Best is trial 31 with value: 0.02544330946302394.\n"
     ]
    },
    {
     "name": "stdout",
     "output_type": "stream",
     "text": [
      "16/16 [==============================] - 0s 666us/step\n",
      "16/16 [==============================] - 0s 590us/step\n",
      "16/16 [==============================] - 0s 685us/step\n",
      "16/16 [==============================] - 0s 586us/step\n",
      "16/16 [==============================] - 0s 610us/step\n"
     ]
    },
    {
     "name": "stderr",
     "output_type": "stream",
     "text": [
      "[I 2024-02-01 23:09:08,540] Trial 55 finished with value: 0.03715744627822359 and parameters: {'neurons': 30, 'learning_rate': 0.01, 'batch_size': 64, 'epochs': 76}. Best is trial 31 with value: 0.02544330946302394.\n"
     ]
    },
    {
     "name": "stdout",
     "output_type": "stream",
     "text": [
      "16/16 [==============================] - 0s 813us/step\n",
      "16/16 [==============================] - 0s 665us/step\n",
      "16/16 [==============================] - 0s 717us/step\n",
      "16/16 [==============================] - 0s 757us/step\n",
      "16/16 [==============================] - 0s 771us/step\n"
     ]
    },
    {
     "name": "stderr",
     "output_type": "stream",
     "text": [
      "[I 2024-02-01 23:09:25,768] Trial 56 finished with value: 0.029674029133280416 and parameters: {'neurons': 100, 'learning_rate': 0.01, 'batch_size': 64, 'epochs': 91}. Best is trial 31 with value: 0.02544330946302394.\n"
     ]
    },
    {
     "name": "stdout",
     "output_type": "stream",
     "text": [
      "16/16 [==============================] - 0s 784us/step\n",
      "16/16 [==============================] - 0s 744us/step\n",
      "16/16 [==============================] - 0s 741us/step\n",
      "16/16 [==============================] - 0s 1ms/step\n",
      "16/16 [==============================] - 0s 718us/step\n"
     ]
    },
    {
     "name": "stderr",
     "output_type": "stream",
     "text": [
      "[I 2024-02-01 23:09:37,571] Trial 57 finished with value: 0.07068035396047129 and parameters: {'neurons': 100, 'learning_rate': 0.001, 'batch_size': 128, 'epochs': 89}. Best is trial 31 with value: 0.02544330946302394.\n"
     ]
    },
    {
     "name": "stdout",
     "output_type": "stream",
     "text": [
      "16/16 [==============================] - 0s 775us/step\n",
      "16/16 [==============================] - 0s 770us/step\n",
      "16/16 [==============================] - 0s 796us/step\n",
      "16/16 [==============================] - 0s 780us/step\n",
      "16/16 [==============================] - 0s 830us/step\n"
     ]
    },
    {
     "name": "stderr",
     "output_type": "stream",
     "text": [
      "[I 2024-02-01 23:09:59,742] Trial 58 finished with value: 0.030692968945364756 and parameters: {'neurons': 150, 'learning_rate': 0.01, 'batch_size': 64, 'epochs': 86}. Best is trial 31 with value: 0.02544330946302394.\n"
     ]
    },
    {
     "name": "stdout",
     "output_type": "stream",
     "text": [
      "16/16 [==============================] - 0s 745us/step\n",
      "16/16 [==============================] - 0s 750us/step\n",
      "16/16 [==============================] - 0s 733us/step\n",
      "16/16 [==============================] - 0s 745us/step\n",
      "16/16 [==============================] - 0s 886us/step\n"
     ]
    },
    {
     "name": "stderr",
     "output_type": "stream",
     "text": [
      "[I 2024-02-01 23:10:17,379] Trial 59 finished with value: 0.028348050939327085 and parameters: {'neurons': 100, 'learning_rate': 0.01, 'batch_size': 64, 'epochs': 91}. Best is trial 31 with value: 0.02544330946302394.\n"
     ]
    },
    {
     "name": "stdout",
     "output_type": "stream",
     "text": [
      "16/16 [==============================] - 0s 792us/step\n",
      "16/16 [==============================] - 0s 731us/step\n",
      "16/16 [==============================] - 0s 735us/step\n",
      "16/16 [==============================] - 0s 732us/step\n",
      "16/16 [==============================] - 0s 692us/step\n"
     ]
    },
    {
     "name": "stderr",
     "output_type": "stream",
     "text": [
      "[I 2024-02-01 23:10:36,039] Trial 60 finished with value: 0.028303055862232845 and parameters: {'neurons': 100, 'learning_rate': 0.01, 'batch_size': 64, 'epochs': 97}. Best is trial 31 with value: 0.02544330946302394.\n"
     ]
    },
    {
     "name": "stdout",
     "output_type": "stream",
     "text": [
      "16/16 [==============================] - 0s 881us/step\n",
      "16/16 [==============================] - 0s 779us/step\n",
      "16/16 [==============================] - 0s 696us/step\n",
      "16/16 [==============================] - 0s 753us/step\n",
      "16/16 [==============================] - 0s 769us/step\n"
     ]
    },
    {
     "name": "stderr",
     "output_type": "stream",
     "text": [
      "[I 2024-02-01 23:10:54,803] Trial 61 finished with value: 0.028123310581350786 and parameters: {'neurons': 100, 'learning_rate': 0.01, 'batch_size': 64, 'epochs': 97}. Best is trial 31 with value: 0.02544330946302394.\n"
     ]
    },
    {
     "name": "stdout",
     "output_type": "stream",
     "text": [
      "16/16 [==============================] - 0s 973us/step\n",
      "16/16 [==============================] - 0s 799us/step\n",
      "16/16 [==============================] - 0s 715us/step\n",
      "16/16 [==============================] - 0s 747us/step\n",
      "16/16 [==============================] - 0s 717us/step\n"
     ]
    },
    {
     "name": "stderr",
     "output_type": "stream",
     "text": [
      "[I 2024-02-01 23:11:13,304] Trial 62 finished with value: 0.027987560910327336 and parameters: {'neurons': 100, 'learning_rate': 0.01, 'batch_size': 64, 'epochs': 97}. Best is trial 31 with value: 0.02544330946302394.\n"
     ]
    },
    {
     "name": "stdout",
     "output_type": "stream",
     "text": [
      "16/16 [==============================] - 0s 785us/step\n",
      "16/16 [==============================] - 0s 827us/step\n",
      "16/16 [==============================] - 0s 712us/step\n",
      "16/16 [==============================] - 0s 725us/step\n",
      "16/16 [==============================] - 0s 691us/step\n"
     ]
    },
    {
     "name": "stderr",
     "output_type": "stream",
     "text": [
      "[I 2024-02-01 23:11:31,575] Trial 63 finished with value: 0.035413614413297476 and parameters: {'neurons': 100, 'learning_rate': 0.01, 'batch_size': 64, 'epochs': 96}. Best is trial 31 with value: 0.02544330946302394.\n"
     ]
    },
    {
     "name": "stdout",
     "output_type": "stream",
     "text": [
      "16/16 [==============================] - 0s 776us/step\n",
      "16/16 [==============================] - 0s 769us/step\n",
      "16/16 [==============================] - 0s 762us/step\n",
      "16/16 [==============================] - 0s 768us/step\n",
      "16/16 [==============================] - 0s 725us/step\n"
     ]
    },
    {
     "name": "stderr",
     "output_type": "stream",
     "text": [
      "[I 2024-02-01 23:11:51,360] Trial 64 finished with value: 0.03484228298483722 and parameters: {'neurons': 100, 'learning_rate': 0.01, 'batch_size': 64, 'epochs': 97}. Best is trial 31 with value: 0.02544330946302394.\n"
     ]
    },
    {
     "name": "stdout",
     "output_type": "stream",
     "text": [
      "16/16 [==============================] - 0s 791us/step\n",
      "16/16 [==============================] - 0s 785us/step\n",
      "16/16 [==============================] - 0s 705us/step\n",
      "16/16 [==============================] - 0s 779us/step\n",
      "16/16 [==============================] - 0s 790us/step\n"
     ]
    },
    {
     "name": "stderr",
     "output_type": "stream",
     "text": [
      "[I 2024-02-01 23:12:02,587] Trial 65 finished with value: 0.0491526415644838 and parameters: {'neurons': 100, 'learning_rate': 0.01, 'batch_size': 128, 'epochs': 93}. Best is trial 31 with value: 0.02544330946302394.\n"
     ]
    },
    {
     "name": "stdout",
     "output_type": "stream",
     "text": [
      "16/16 [==============================] - 0s 699us/step\n",
      "16/16 [==============================] - 0s 578us/step\n",
      "16/16 [==============================] - 0s 632us/step\n",
      "16/16 [==============================] - 0s 634us/step\n",
      "16/16 [==============================] - 0s 626us/step\n"
     ]
    },
    {
     "name": "stderr",
     "output_type": "stream",
     "text": [
      "[I 2024-02-01 23:12:14,228] Trial 66 finished with value: 0.03462192974769582 and parameters: {'neurons': 30, 'learning_rate': 0.01, 'batch_size': 64, 'epochs': 100}. Best is trial 31 with value: 0.02544330946302394.\n"
     ]
    },
    {
     "name": "stdout",
     "output_type": "stream",
     "text": [
      "16/16 [==============================] - 0s 806us/step\n",
      "16/16 [==============================] - 0s 735us/step\n",
      "16/16 [==============================] - 0s 744us/step\n",
      "16/16 [==============================] - 0s 789us/step\n",
      "16/16 [==============================] - 0s 756us/step\n"
     ]
    },
    {
     "name": "stderr",
     "output_type": "stream",
     "text": [
      "[I 2024-02-01 23:12:30,823] Trial 67 finished with value: 0.10630614738692863 and parameters: {'neurons': 100, 'learning_rate': 0.0001, 'batch_size': 64, 'epochs': 87}. Best is trial 31 with value: 0.02544330946302394.\n"
     ]
    },
    {
     "name": "stdout",
     "output_type": "stream",
     "text": [
      "16/16 [==============================] - 0s 816us/step\n",
      "16/16 [==============================] - 0s 762us/step\n",
      "16/16 [==============================] - 0s 775us/step\n",
      "16/16 [==============================] - 0s 732us/step\n",
      "16/16 [==============================] - 0s 762us/step\n"
     ]
    },
    {
     "name": "stderr",
     "output_type": "stream",
     "text": [
      "[I 2024-02-01 23:12:53,424] Trial 68 finished with value: 0.13674885791405172 and parameters: {'neurons': 150, 'learning_rate': 0.1, 'batch_size': 64, 'epochs': 91}. Best is trial 31 with value: 0.02544330946302394.\n"
     ]
    },
    {
     "name": "stdout",
     "output_type": "stream",
     "text": [
      "16/16 [==============================] - 0s 823us/step\n",
      "16/16 [==============================] - 0s 793us/step\n",
      "16/16 [==============================] - 0s 800us/step\n",
      "16/16 [==============================] - 0s 722us/step\n",
      "16/16 [==============================] - 0s 811us/step\n"
     ]
    },
    {
     "name": "stderr",
     "output_type": "stream",
     "text": [
      "[I 2024-02-01 23:13:11,546] Trial 69 finished with value: 0.028719260562069537 and parameters: {'neurons': 100, 'learning_rate': 0.01, 'batch_size': 64, 'epochs': 95}. Best is trial 31 with value: 0.02544330946302394.\n"
     ]
    },
    {
     "name": "stdout",
     "output_type": "stream",
     "text": [
      "16/16 [==============================] - 0s 752us/step\n",
      "16/16 [==============================] - 0s 733us/step\n",
      "16/16 [==============================] - 0s 756us/step\n",
      "16/16 [==============================] - 0s 702us/step\n",
      "16/16 [==============================] - 0s 792us/step\n"
     ]
    },
    {
     "name": "stderr",
     "output_type": "stream",
     "text": [
      "[I 2024-02-01 23:13:29,585] Trial 70 finished with value: 0.03011008600535548 and parameters: {'neurons': 100, 'learning_rate': 0.01, 'batch_size': 64, 'epochs': 95}. Best is trial 31 with value: 0.02544330946302394.\n"
     ]
    },
    {
     "name": "stdout",
     "output_type": "stream",
     "text": [
      "16/16 [==============================] - 0s 815us/step\n",
      "16/16 [==============================] - 0s 739us/step\n",
      "16/16 [==============================] - 0s 772us/step\n",
      "16/16 [==============================] - 0s 784us/step\n",
      "16/16 [==============================] - 0s 765us/step\n"
     ]
    },
    {
     "name": "stderr",
     "output_type": "stream",
     "text": [
      "[I 2024-02-01 23:13:47,806] Trial 71 finished with value: 0.02850172999406871 and parameters: {'neurons': 100, 'learning_rate': 0.01, 'batch_size': 64, 'epochs': 97}. Best is trial 31 with value: 0.02544330946302394.\n"
     ]
    },
    {
     "name": "stdout",
     "output_type": "stream",
     "text": [
      "16/16 [==============================] - 0s 818us/step\n",
      "16/16 [==============================] - 0s 708us/step\n",
      "16/16 [==============================] - 0s 862us/step\n",
      "16/16 [==============================] - 0s 783us/step\n",
      "16/16 [==============================] - 0s 786us/step\n"
     ]
    },
    {
     "name": "stderr",
     "output_type": "stream",
     "text": [
      "[I 2024-02-01 23:14:07,907] Trial 72 finished with value: 0.031158382523600613 and parameters: {'neurons': 100, 'learning_rate': 0.01, 'batch_size': 64, 'epochs': 98}. Best is trial 31 with value: 0.02544330946302394.\n"
     ]
    },
    {
     "name": "stdout",
     "output_type": "stream",
     "text": [
      "16/16 [==============================] - 0s 888us/step\n",
      "16/16 [==============================] - 0s 734us/step\n",
      "16/16 [==============================] - 0s 749us/step\n",
      "16/16 [==============================] - 0s 781us/step\n",
      "16/16 [==============================] - 0s 867us/step\n"
     ]
    },
    {
     "name": "stderr",
     "output_type": "stream",
     "text": [
      "[I 2024-02-01 23:14:26,426] Trial 73 finished with value: 0.029533398330353892 and parameters: {'neurons': 100, 'learning_rate': 0.01, 'batch_size': 64, 'epochs': 94}. Best is trial 31 with value: 0.02544330946302394.\n"
     ]
    },
    {
     "name": "stdout",
     "output_type": "stream",
     "text": [
      "16/16 [==============================] - 0s 775us/step\n",
      "16/16 [==============================] - 0s 768us/step\n",
      "16/16 [==============================] - 0s 772us/step\n",
      "16/16 [==============================] - 0s 792us/step\n",
      "16/16 [==============================] - 0s 777us/step\n"
     ]
    },
    {
     "name": "stderr",
     "output_type": "stream",
     "text": [
      "[I 2024-02-01 23:14:45,832] Trial 74 finished with value: 0.029073039603620898 and parameters: {'neurons': 100, 'learning_rate': 0.01, 'batch_size': 64, 'epochs': 100}. Best is trial 31 with value: 0.02544330946302394.\n"
     ]
    },
    {
     "name": "stdout",
     "output_type": "stream",
     "text": [
      "16/16 [==============================] - 0s 763us/step\n",
      "16/16 [==============================] - 0s 701us/step\n",
      "16/16 [==============================] - 0s 720us/step\n",
      "16/16 [==============================] - 0s 759us/step\n",
      "16/16 [==============================] - 0s 742us/step\n"
     ]
    },
    {
     "name": "stderr",
     "output_type": "stream",
     "text": [
      "[I 2024-02-01 23:15:04,639] Trial 75 finished with value: 0.03005558704893089 and parameters: {'neurons': 100, 'learning_rate': 0.01, 'batch_size': 64, 'epochs': 97}. Best is trial 31 with value: 0.02544330946302394.\n"
     ]
    },
    {
     "name": "stdout",
     "output_type": "stream",
     "text": [
      "16/16 [==============================] - 0s 774us/step\n",
      "16/16 [==============================] - 0s 752us/step\n",
      "16/16 [==============================] - 0s 726us/step\n",
      "16/16 [==============================] - 0s 728us/step\n",
      "16/16 [==============================] - 0s 761us/step\n"
     ]
    },
    {
     "name": "stderr",
     "output_type": "stream",
     "text": [
      "[I 2024-02-01 23:15:22,547] Trial 76 finished with value: 0.05679923213808787 and parameters: {'neurons': 100, 'learning_rate': 0.001, 'batch_size': 64, 'epochs': 92}. Best is trial 31 with value: 0.02544330946302394.\n"
     ]
    },
    {
     "name": "stdout",
     "output_type": "stream",
     "text": [
      "16/16 [==============================] - 0s 2ms/step\n",
      "16/16 [==============================] - 0s 718us/step\n",
      "16/16 [==============================] - 0s 666us/step\n",
      "16/16 [==============================] - 0s 737us/step\n",
      "16/16 [==============================] - 0s 799us/step\n"
     ]
    },
    {
     "name": "stderr",
     "output_type": "stream",
     "text": [
      "[I 2024-02-01 23:15:34,089] Trial 77 finished with value: 0.043408674136248784 and parameters: {'neurons': 100, 'learning_rate': 0.01, 'batch_size': 128, 'epochs': 95}. Best is trial 31 with value: 0.02544330946302394.\n"
     ]
    },
    {
     "name": "stdout",
     "output_type": "stream",
     "text": [
      "16/16 [==============================] - 0s 827us/step\n",
      "16/16 [==============================] - 0s 723us/step\n",
      "16/16 [==============================] - 0s 799us/step\n",
      "16/16 [==============================] - 0s 809us/step\n",
      "16/16 [==============================] - 0s 730us/step\n"
     ]
    },
    {
     "name": "stderr",
     "output_type": "stream",
     "text": [
      "[I 2024-02-01 23:15:56,489] Trial 78 finished with value: 0.02960952114997937 and parameters: {'neurons': 150, 'learning_rate': 0.01, 'batch_size': 64, 'epochs': 88}. Best is trial 31 with value: 0.02544330946302394.\n"
     ]
    },
    {
     "name": "stdout",
     "output_type": "stream",
     "text": [
      "16/16 [==============================] - 0s 737us/step\n",
      "16/16 [==============================] - 0s 849us/step\n",
      "16/16 [==============================] - 0s 700us/step\n",
      "16/16 [==============================] - 0s 789us/step\n",
      "16/16 [==============================] - 0s 800us/step\n"
     ]
    },
    {
     "name": "stderr",
     "output_type": "stream",
     "text": [
      "[I 2024-02-01 23:16:15,261] Trial 79 finished with value: 0.03786102749132027 and parameters: {'neurons': 100, 'learning_rate': 0.01, 'batch_size': 64, 'epochs': 98}. Best is trial 31 with value: 0.02544330946302394.\n"
     ]
    },
    {
     "name": "stdout",
     "output_type": "stream",
     "text": [
      "16/16 [==============================] - 0s 737us/step\n",
      "16/16 [==============================] - 0s 691us/step\n",
      "16/16 [==============================] - 0s 579us/step\n",
      "16/16 [==============================] - 0s 609us/step\n",
      "16/16 [==============================] - 0s 613us/step\n"
     ]
    },
    {
     "name": "stderr",
     "output_type": "stream",
     "text": [
      "[I 2024-02-01 23:16:20,778] Trial 80 finished with value: 0.09032265263153401 and parameters: {'neurons': 30, 'learning_rate': 0.1, 'batch_size': 64, 'epochs': 37}. Best is trial 31 with value: 0.02544330946302394.\n"
     ]
    },
    {
     "name": "stdout",
     "output_type": "stream",
     "text": [
      "16/16 [==============================] - 0s 795us/step\n",
      "16/16 [==============================] - 0s 703us/step\n",
      "16/16 [==============================] - 0s 778us/step\n",
      "16/16 [==============================] - 0s 714us/step\n",
      "16/16 [==============================] - 0s 748us/step\n"
     ]
    },
    {
     "name": "stderr",
     "output_type": "stream",
     "text": [
      "[I 2024-02-01 23:16:39,669] Trial 81 finished with value: 0.03258350728370278 and parameters: {'neurons': 100, 'learning_rate': 0.01, 'batch_size': 64, 'epochs': 99}. Best is trial 31 with value: 0.02544330946302394.\n"
     ]
    },
    {
     "name": "stdout",
     "output_type": "stream",
     "text": [
      "16/16 [==============================] - 0s 933us/step\n",
      "16/16 [==============================] - 0s 796us/step\n",
      "16/16 [==============================] - 0s 697us/step\n",
      "16/16 [==============================] - 0s 739us/step\n",
      "16/16 [==============================] - 0s 759us/step\n"
     ]
    },
    {
     "name": "stderr",
     "output_type": "stream",
     "text": [
      "[I 2024-02-01 23:16:58,715] Trial 82 finished with value: 0.028940832951127714 and parameters: {'neurons': 100, 'learning_rate': 0.01, 'batch_size': 64, 'epochs': 100}. Best is trial 31 with value: 0.02544330946302394.\n"
     ]
    },
    {
     "name": "stdout",
     "output_type": "stream",
     "text": [
      "16/16 [==============================] - 0s 774us/step\n",
      "16/16 [==============================] - 0s 699us/step\n",
      "16/16 [==============================] - 0s 779us/step\n",
      "16/16 [==============================] - 0s 748us/step\n",
      "16/16 [==============================] - 0s 763us/step\n"
     ]
    },
    {
     "name": "stderr",
     "output_type": "stream",
     "text": [
      "[I 2024-02-01 23:17:16,622] Trial 83 finished with value: 0.028121087290022755 and parameters: {'neurons': 100, 'learning_rate': 0.01, 'batch_size': 64, 'epochs': 94}. Best is trial 31 with value: 0.02544330946302394.\n"
     ]
    },
    {
     "name": "stdout",
     "output_type": "stream",
     "text": [
      "16/16 [==============================] - 0s 786us/step\n",
      "16/16 [==============================] - 0s 759us/step\n",
      "16/16 [==============================] - 0s 770us/step\n",
      "16/16 [==============================] - 0s 751us/step\n",
      "16/16 [==============================] - 0s 702us/step\n"
     ]
    },
    {
     "name": "stderr",
     "output_type": "stream",
     "text": [
      "[I 2024-02-01 23:17:34,492] Trial 84 finished with value: 0.02666154609321162 and parameters: {'neurons': 100, 'learning_rate': 0.01, 'batch_size': 64, 'epochs': 93}. Best is trial 31 with value: 0.02544330946302394.\n"
     ]
    },
    {
     "name": "stdout",
     "output_type": "stream",
     "text": [
      "16/16 [==============================] - 0s 744us/step\n",
      "16/16 [==============================] - 0s 867us/step\n",
      "16/16 [==============================] - 0s 796us/step\n",
      "16/16 [==============================] - 0s 761us/step\n",
      "16/16 [==============================] - 0s 790us/step\n"
     ]
    },
    {
     "name": "stderr",
     "output_type": "stream",
     "text": [
      "[I 2024-02-01 23:17:50,765] Trial 85 finished with value: 0.029762923919660927 and parameters: {'neurons': 100, 'learning_rate': 0.01, 'batch_size': 64, 'epochs': 85}. Best is trial 31 with value: 0.02544330946302394.\n"
     ]
    },
    {
     "name": "stdout",
     "output_type": "stream",
     "text": [
      "16/16 [==============================] - 0s 824us/step\n",
      "16/16 [==============================] - 0s 789us/step\n",
      "16/16 [==============================] - 0s 743us/step\n",
      "16/16 [==============================] - 0s 778us/step\n",
      "16/16 [==============================] - 0s 824us/step\n"
     ]
    },
    {
     "name": "stderr",
     "output_type": "stream",
     "text": [
      "[I 2024-02-01 23:18:13,896] Trial 86 finished with value: 0.0988350074471379 and parameters: {'neurons': 150, 'learning_rate': 0.0001, 'batch_size': 64, 'epochs': 92}. Best is trial 31 with value: 0.02544330946302394.\n"
     ]
    },
    {
     "name": "stdout",
     "output_type": "stream",
     "text": [
      "16/16 [==============================] - 0s 856us/step\n",
      "16/16 [==============================] - 0s 693us/step\n",
      "16/16 [==============================] - 0s 741us/step\n",
      "16/16 [==============================] - 0s 701us/step\n",
      "16/16 [==============================] - 0s 697us/step\n"
     ]
    },
    {
     "name": "stderr",
     "output_type": "stream",
     "text": [
      "[I 2024-02-01 23:18:31,061] Trial 87 finished with value: 0.03223196043380262 and parameters: {'neurons': 100, 'learning_rate': 0.01, 'batch_size': 64, 'epochs': 90}. Best is trial 31 with value: 0.02544330946302394.\n"
     ]
    },
    {
     "name": "stdout",
     "output_type": "stream",
     "text": [
      "16/16 [==============================] - 0s 747us/step\n",
      "16/16 [==============================] - 0s 716us/step\n",
      "16/16 [==============================] - 0s 790us/step\n",
      "16/16 [==============================] - 0s 736us/step\n",
      "16/16 [==============================] - 0s 889us/step\n"
     ]
    },
    {
     "name": "stderr",
     "output_type": "stream",
     "text": [
      "[I 2024-02-01 23:18:48,898] Trial 88 finished with value: 0.03262654975836703 and parameters: {'neurons': 100, 'learning_rate': 0.01, 'batch_size': 64, 'epochs': 94}. Best is trial 31 with value: 0.02544330946302394.\n"
     ]
    },
    {
     "name": "stdout",
     "output_type": "stream",
     "text": [
      "16/16 [==============================] - 0s 789us/step\n",
      "16/16 [==============================] - 0s 689us/step\n",
      "16/16 [==============================] - 0s 718us/step\n",
      "16/16 [==============================] - 0s 807us/step\n",
      "16/16 [==============================] - 0s 795us/step\n"
     ]
    },
    {
     "name": "stderr",
     "output_type": "stream",
     "text": [
      "[I 2024-02-01 23:19:02,053] Trial 89 finished with value: 0.04355811711257015 and parameters: {'neurons': 100, 'learning_rate': 0.01, 'batch_size': 128, 'epochs': 97}. Best is trial 31 with value: 0.02544330946302394.\n"
     ]
    },
    {
     "name": "stdout",
     "output_type": "stream",
     "text": [
      "16/16 [==============================] - 0s 786us/step\n",
      "16/16 [==============================] - 0s 705us/step\n",
      "16/16 [==============================] - 0s 810us/step\n",
      "16/16 [==============================] - 0s 733us/step\n",
      "16/16 [==============================] - 0s 707us/step\n"
     ]
    },
    {
     "name": "stderr",
     "output_type": "stream",
     "text": [
      "[I 2024-02-01 23:19:20,611] Trial 90 finished with value: 0.0321796020324858 and parameters: {'neurons': 100, 'learning_rate': 0.01, 'batch_size': 64, 'epochs': 92}. Best is trial 31 with value: 0.02544330946302394.\n"
     ]
    },
    {
     "name": "stdout",
     "output_type": "stream",
     "text": [
      "16/16 [==============================] - 0s 826us/step\n",
      "16/16 [==============================] - 0s 1ms/step\n",
      "16/16 [==============================] - 0s 803us/step\n",
      "16/16 [==============================] - 0s 793us/step\n",
      "16/16 [==============================] - 0s 792us/step\n"
     ]
    },
    {
     "name": "stderr",
     "output_type": "stream",
     "text": [
      "[I 2024-02-01 23:19:39,834] Trial 91 finished with value: 0.026796976604662858 and parameters: {'neurons': 100, 'learning_rate': 0.01, 'batch_size': 64, 'epochs': 95}. Best is trial 31 with value: 0.02544330946302394.\n"
     ]
    },
    {
     "name": "stdout",
     "output_type": "stream",
     "text": [
      "16/16 [==============================] - 0s 774us/step\n",
      "16/16 [==============================] - 0s 1ms/step\n",
      "16/16 [==============================] - 0s 684us/step\n",
      "16/16 [==============================] - 0s 798us/step\n",
      "16/16 [==============================] - 0s 704us/step\n"
     ]
    },
    {
     "name": "stderr",
     "output_type": "stream",
     "text": [
      "[I 2024-02-01 23:19:46,319] Trial 92 finished with value: 0.05308720374660231 and parameters: {'neurons': 100, 'learning_rate': 0.01, 'batch_size': 64, 'epochs': 28}. Best is trial 31 with value: 0.02544330946302394.\n"
     ]
    },
    {
     "name": "stdout",
     "output_type": "stream",
     "text": [
      "16/16 [==============================] - 0s 771us/step\n",
      "16/16 [==============================] - 0s 1ms/step\n",
      "16/16 [==============================] - 0s 763us/step\n",
      "16/16 [==============================] - 0s 758us/step\n",
      "16/16 [==============================] - 0s 780us/step\n"
     ]
    },
    {
     "name": "stderr",
     "output_type": "stream",
     "text": [
      "[I 2024-02-01 23:20:05,388] Trial 93 finished with value: 0.028309399447956463 and parameters: {'neurons': 100, 'learning_rate': 0.01, 'batch_size': 64, 'epochs': 97}. Best is trial 31 with value: 0.02544330946302394.\n"
     ]
    },
    {
     "name": "stdout",
     "output_type": "stream",
     "text": [
      "16/16 [==============================] - 0s 772us/step\n",
      "16/16 [==============================] - 0s 730us/step\n",
      "16/16 [==============================] - 0s 864us/step\n",
      "16/16 [==============================] - 0s 756us/step\n",
      "16/16 [==============================] - 0s 774us/step\n"
     ]
    },
    {
     "name": "stderr",
     "output_type": "stream",
     "text": [
      "[I 2024-02-01 23:20:22,911] Trial 94 finished with value: 0.025754147813209206 and parameters: {'neurons': 100, 'learning_rate': 0.01, 'batch_size': 64, 'epochs': 89}. Best is trial 31 with value: 0.02544330946302394.\n"
     ]
    },
    {
     "name": "stdout",
     "output_type": "stream",
     "text": [
      "16/16 [==============================] - 0s 828us/step\n",
      "16/16 [==============================] - 0s 734us/step\n",
      "16/16 [==============================] - 0s 775us/step\n",
      "16/16 [==============================] - 0s 783us/step\n",
      "16/16 [==============================] - 0s 755us/step\n"
     ]
    },
    {
     "name": "stderr",
     "output_type": "stream",
     "text": [
      "[I 2024-02-01 23:20:40,182] Trial 95 finished with value: 0.033082916961841936 and parameters: {'neurons': 100, 'learning_rate': 0.01, 'batch_size': 64, 'epochs': 88}. Best is trial 31 with value: 0.02544330946302394.\n"
     ]
    },
    {
     "name": "stdout",
     "output_type": "stream",
     "text": [
      "16/16 [==============================] - 0s 833us/step\n",
      "16/16 [==============================] - 0s 816us/step\n",
      "16/16 [==============================] - 0s 754us/step\n",
      "16/16 [==============================] - 0s 809us/step\n",
      "16/16 [==============================] - 0s 878us/step\n"
     ]
    },
    {
     "name": "stderr",
     "output_type": "stream",
     "text": [
      "[I 2024-02-01 23:21:04,432] Trial 96 finished with value: 0.05639014160756948 and parameters: {'neurons': 150, 'learning_rate': 0.001, 'batch_size': 64, 'epochs': 94}. Best is trial 31 with value: 0.02544330946302394.\n"
     ]
    },
    {
     "name": "stdout",
     "output_type": "stream",
     "text": [
      "16/16 [==============================] - 0s 861us/step\n",
      "16/16 [==============================] - 0s 816us/step\n",
      "16/16 [==============================] - 0s 792us/step\n",
      "16/16 [==============================] - 0s 729us/step\n",
      "16/16 [==============================] - 0s 810us/step\n"
     ]
    },
    {
     "name": "stderr",
     "output_type": "stream",
     "text": [
      "[I 2024-02-01 23:21:21,095] Trial 97 finished with value: 0.03287416330060368 and parameters: {'neurons': 100, 'learning_rate': 0.01, 'batch_size': 64, 'epochs': 84}. Best is trial 31 with value: 0.02544330946302394.\n"
     ]
    },
    {
     "name": "stdout",
     "output_type": "stream",
     "text": [
      "16/16 [==============================] - 0s 888us/step\n",
      "16/16 [==============================] - 0s 734us/step\n",
      "16/16 [==============================] - 0s 788us/step\n",
      "16/16 [==============================] - 0s 873us/step\n",
      "16/16 [==============================] - 0s 731us/step\n"
     ]
    },
    {
     "name": "stderr",
     "output_type": "stream",
     "text": [
      "[I 2024-02-01 23:21:38,682] Trial 98 finished with value: 0.029386534117167497 and parameters: {'neurons': 100, 'learning_rate': 0.01, 'batch_size': 64, 'epochs': 89}. Best is trial 31 with value: 0.02544330946302394.\n"
     ]
    },
    {
     "name": "stdout",
     "output_type": "stream",
     "text": [
      "16/16 [==============================] - 0s 733us/step\n",
      "16/16 [==============================] - 0s 690us/step\n",
      "16/16 [==============================] - 0s 664us/step\n",
      "16/16 [==============================] - 0s 678us/step\n",
      "16/16 [==============================] - 0s 622us/step\n"
     ]
    },
    {
     "name": "stderr",
     "output_type": "stream",
     "text": [
      "[I 2024-02-01 23:21:51,372] Trial 99 finished with value: 0.031714212697589575 and parameters: {'neurons': 50, 'learning_rate': 0.01, 'batch_size': 64, 'epochs': 96}. Best is trial 31 with value: 0.02544330946302394.\n"
     ]
    },
    {
     "name": "stdout",
     "output_type": "stream",
     "text": [
      "Best trial:\n",
      " Value:  0.02544330946302394\n",
      " Params: \n",
      "    neurons: 100\n",
      "    learning_rate: 0.01\n",
      "    batch_size: 64\n",
      "    epochs: 96\n"
     ]
    },
    {
     "data": {
      "text/html": [
       "<a href='best_model.h5' target='_blank'>best_model.h5</a><br>"
      ],
      "text/plain": [
       "/home/fabiopoli/Desktop/best_model.h5"
      ]
     },
     "metadata": {},
     "output_type": "display_data"
    }
   ],
   "source": [
    "# The 'trainX' and 'trainY' are already defined and preprocessed\n",
    "\n",
    "# Define the objective function for Optuna\n",
    "def objective(trial):\n",
    "    # Hyperparameters to be optimized\n",
    "    neurons = trial.suggest_categorical('neurons', [30, 50, 100, 150])\n",
    "    learning_rate = trial.suggest_categorical('learning_rate', [0.0001, 0.001, 0.01, 0.1])\n",
    "    batch_size = trial.suggest_categorical('batch_size', [32, 64, 128])\n",
    "    epochs = trial.suggest_int('epochs', 20, 100)\n",
    "\n",
    "    # Create the LSTM model\n",
    "    model = Sequential()\n",
    "    model.add(LSTM(neurons, input_shape=(trainX.shape[1], trainX.shape[2])))\n",
    "    model.add(Dropout(0.2))\n",
    "    model.add(Dense(1))\n",
    "    optimizer = Adam(learning_rate=learning_rate)\n",
    "    model.compile(optimizer=optimizer, loss='mean_squared_error')\n",
    "\n",
    "    # Cross-validation with time series split\n",
    "    tscv = TimeSeriesSplit(n_splits=5)\n",
    "    rmse_scores = []\n",
    "\n",
    "    for train_index, val_index in tscv.split(trainX):\n",
    "        X_train_fold, X_val_fold = trainX[train_index], trainX[val_index]\n",
    "        y_train_fold, y_val_fold = trainY[train_index], trainY[val_index]\n",
    "\n",
    "        # Train the model\n",
    "        model.fit(X_train_fold, y_train_fold, epochs=epochs, batch_size=batch_size, verbose=0, callbacks=[KerasPruningCallback(trial, 'val_loss')])\n",
    "\n",
    "        # Evaluate the model\n",
    "        predictions = model.predict(X_val_fold)\n",
    "        rmse_score = np.sqrt(mean_squared_error(y_val_fold, predictions))\n",
    "        rmse_scores.append(rmse_score)\n",
    "\n",
    "    # Return the mean RMSE score over all folds\n",
    "    return np.mean(rmse_scores)\n",
    "\n",
    "# Specify the storage location for Optuna\n",
    "storage_name = \"sqlite:///optuna_study.db\"\n",
    "\n",
    "# Create the Optuna study\n",
    "study = optuna.create_study(direction='minimize', storage=storage_name, load_if_exists=True)\n",
    "study.optimize(objective, n_trials=100)\n",
    "\n",
    "# Print the optimal hyperparameters\n",
    "print(\"Best trial:\")\n",
    "trial = study.best_trial\n",
    "print(\" Value: \", trial.value)\n",
    "print(\" Params: \")\n",
    "for key, value in trial.params.items():\n",
    "    print(f\"    {key}: {value}\")\n",
    "\n",
    "# Use the best hyperparameters to train the final model\n",
    "best_neurons = trial.params['neurons']\n",
    "best_lr = trial.params['learning_rate']\n",
    "best_batch_size = trial.params['batch_size']\n",
    "best_epochs = trial.params['epochs']\n",
    "\n",
    "best_model = Sequential()\n",
    "best_model.add(LSTM(best_neurons, input_shape=(trainX.shape[1], trainX.shape[2])))\n",
    "best_model.add(Dropout(0.2))\n",
    "best_model.add(Dense(1))\n",
    "best_model.compile(optimizer=Adam(learning_rate=best_lr), loss='mean_squared_error')\n",
    "\n",
    "# Train with the full training data\n",
    "best_model.fit(trainX, trainY, epochs=best_epochs, batch_size=best_batch_size, verbose=0)\n",
    "\n",
    "# Save the best model\n",
    "best_model.save('best_model.h5')\n",
    "\n",
    "# Save the study results to a CSV file\n",
    "study_results = study.trials_dataframe()\n",
    "study_results.to_csv('optuna_study_results.csv', index=False)\n",
    "\n",
    "# To load the study from the database later:\n",
    "loaded_study = optuna.load_study(study_name=study.study_name, storage=storage_name)\n",
    "\n",
    "# To load the model\n",
    "loaded_model = load_model('best_model.h5')\n",
    "\n",
    "# Generate a link for downloading the model\n",
    "model_link = FileLink('best_model.h5')\n",
    "display(model_link)"
   ]
  },
  {
   "cell_type": "markdown",
   "id": "3ef78ad4-9e10-4f36-a00b-0c10f312d6cc",
   "metadata": {
    "jp-MarkdownHeadingCollapsed": true
   },
   "source": [
    "### Saving Optuna Study Results and the Best Model\n",
    "\n",
    "The Optuna study results are saved in a CSV format (`optuna_study_results.csv`) to provide a comprehensive and easy-to-analyze historical record of the hyperparameter optimization process. This CSV file includes detailed information about each trial, such as the hyperparameters used and the performance metrics obtained. It allows for in-depth analysis and visualization of the optimization process, enabling insights into how different hyperparameters impact model performance.\n",
    "\n",
    "Additionally, the best-performing model is saved in an `.h5` format (`best_model.h5`). This file stores the architecture, weights, and training configuration of the trained model, allowing for easy reloading and reuse of the model without the need to retrain. It's essential for deploying the model in production or for further evaluation and testing.\n",
    "\n",
    "By saving both the study results and the model, we ensure a comprehensive record of the optimization process and retain the ability to deploy the best-performing model efficiently.\n"
   ]
  },
  {
   "cell_type": "markdown",
   "id": "14bd5876-8084-4631-b3d1-650cbba58a51",
   "metadata": {},
   "source": [
    "### Table for Hyperparameter Comparison"
   ]
  },
  {
   "cell_type": "code",
   "execution_count": 58,
   "id": "62e65e4d-e307-496b-888c-c5e9479c6bdb",
   "metadata": {},
   "outputs": [
    {
     "name": "stdout",
     "output_type": "stream",
     "text": [
      "Best trial:\n",
      " Value:  0.025305233915114272\n",
      " Params: \n",
      "    neurons: 150\n",
      "    learning_rate: 0.01\n",
      "    batch_size: 32\n",
      "    epochs: 84\n",
      "   number     value              datetime_start           datetime_complete  \\\n",
      "0       0  0.070998  2024-02-01 22:53:55.818578  2024-02-01 22:54:03.090677   \n",
      "1       1  0.068038  2024-02-01 22:54:03.118169  2024-02-01 22:54:13.322789   \n",
      "2       2  0.069357  2024-02-01 22:54:13.354350  2024-02-01 22:54:25.604781   \n",
      "3       3  0.033669  2024-02-01 22:54:25.622082  2024-02-01 22:54:40.073011   \n",
      "4       4  0.048915  2024-02-01 22:54:40.089904  2024-02-01 22:54:46.987888   \n",
      "\n",
      "                 duration  params_batch_size  params_epochs  \\\n",
      "0  0 days 00:00:07.272099                 64             49   \n",
      "1  0 days 00:00:10.204620                 32             42   \n",
      "2  0 days 00:00:12.250431                 64             95   \n",
      "3  0 days 00:00:14.450929                 32             60   \n",
      "4  0 days 00:00:06.897984                128             63   \n",
      "\n",
      "   params_learning_rate  params_neurons     state  \n",
      "0                 0.001              50  COMPLETE  \n",
      "1                 0.001              30  COMPLETE  \n",
      "2                 0.100              30  COMPLETE  \n",
      "3                 0.010              50  COMPLETE  \n",
      "4                 0.010              50  COMPLETE  \n"
     ]
    }
   ],
   "source": [
    "import optuna\n",
    "import pandas as pd\n",
    "from tensorflow.keras.models import load_model\n",
    "import os\n",
    "\n",
    "# Set the path to the directory where your 'optuna_study.db' is located\n",
    "# Replace 'your_desktop_path' with the actual path to your desktop environment\n",
    "desktop_path = '/home/fabiopoli/Desktop/'  \n",
    "storage_path = os.path.join(desktop_path, 'optuna_study.db')\n",
    "storage_name = f\"sqlite:///{storage_path}\"\n",
    "\n",
    "# Load the study by specifying the correct study name\n",
    "# If you do not know the study name, you can retrieve all studies in the specified storage\n",
    "all_studies = optuna.study.get_all_study_summaries(storage=storage_name)\n",
    "study_name = all_studies[0].study_name  # Assuming there is at least one study\n",
    "\n",
    "# Load the study\n",
    "study = optuna.load_study(study_name=study_name, storage=storage_name)\n",
    "\n",
    "# Load the best model\n",
    "best_model_path = os.path.join(desktop_path, 'best_model.h5')\n",
    "best_model = load_model(best_model_path)\n",
    "\n",
    "# Now  can use 'study' and 'best_model' to perform further analysis, visualization, or backtesting\n",
    "\n",
    "# Print the best trial (hyperparameters and the associated value)\n",
    "print(\"Best trial:\")\n",
    "print(\" Value: \", study.best_trial.value)\n",
    "print(\" Params: \")\n",
    "for key, value in study.best_trial.params.items():\n",
    "    print(f\"    {key}: {value}\")\n",
    "\n",
    "# Additionally, if you want to compare hyperparameters, you can load the saved study results from CSV\n",
    "results_csv_path = os.path.join(desktop_path, 'optuna_study_results.csv')\n",
    "study_results = pd.read_csv(results_csv_path)\n",
    "\n",
    "# Now 'study_results' contains the dataframe with all the trials and their results\n",
    "print(study_results.head())  # Prints the first 5 rows of the dataframe"
   ]
  },
  {
   "cell_type": "code",
   "execution_count": 57,
   "id": "6361a73e-0caf-4ef5-8a15-f2571b286854",
   "metadata": {},
   "outputs": [
    {
     "data": {
      "application/vnd.plotly.v1+json": {
       "config": {
        "plotlyServerURL": "https://plot.ly"
       },
       "data": [
        {
         "cliponaxis": false,
         "hovertemplate": [
          "neurons (CategoricalDistribution): 0.022976739484920062<extra></extra>",
          "batch_size (CategoricalDistribution): 0.03135681689089329<extra></extra>",
          "epochs (IntDistribution): 0.05010077636461744<extra></extra>",
          "learning_rate (CategoricalDistribution): 0.8955656672595692<extra></extra>"
         ],
         "name": "Objective Value",
         "orientation": "h",
         "text": [
          "0.02",
          "0.03",
          "0.05",
          "0.90"
         ],
         "textposition": "outside",
         "type": "bar",
         "x": [
          0.022976739484920062,
          0.03135681689089329,
          0.05010077636461744,
          0.8955656672595692
         ],
         "y": [
          "neurons",
          "batch_size",
          "epochs",
          "learning_rate"
         ]
        }
       ],
       "layout": {
        "template": {
         "data": {
          "bar": [
           {
            "error_x": {
             "color": "#2a3f5f"
            },
            "error_y": {
             "color": "#2a3f5f"
            },
            "marker": {
             "line": {
              "color": "#E5ECF6",
              "width": 0.5
             },
             "pattern": {
              "fillmode": "overlay",
              "size": 10,
              "solidity": 0.2
             }
            },
            "type": "bar"
           }
          ],
          "barpolar": [
           {
            "marker": {
             "line": {
              "color": "#E5ECF6",
              "width": 0.5
             },
             "pattern": {
              "fillmode": "overlay",
              "size": 10,
              "solidity": 0.2
             }
            },
            "type": "barpolar"
           }
          ],
          "carpet": [
           {
            "aaxis": {
             "endlinecolor": "#2a3f5f",
             "gridcolor": "white",
             "linecolor": "white",
             "minorgridcolor": "white",
             "startlinecolor": "#2a3f5f"
            },
            "baxis": {
             "endlinecolor": "#2a3f5f",
             "gridcolor": "white",
             "linecolor": "white",
             "minorgridcolor": "white",
             "startlinecolor": "#2a3f5f"
            },
            "type": "carpet"
           }
          ],
          "choropleth": [
           {
            "colorbar": {
             "outlinewidth": 0,
             "ticks": ""
            },
            "type": "choropleth"
           }
          ],
          "contour": [
           {
            "colorbar": {
             "outlinewidth": 0,
             "ticks": ""
            },
            "colorscale": [
             [
              0,
              "#0d0887"
             ],
             [
              0.1111111111111111,
              "#46039f"
             ],
             [
              0.2222222222222222,
              "#7201a8"
             ],
             [
              0.3333333333333333,
              "#9c179e"
             ],
             [
              0.4444444444444444,
              "#bd3786"
             ],
             [
              0.5555555555555556,
              "#d8576b"
             ],
             [
              0.6666666666666666,
              "#ed7953"
             ],
             [
              0.7777777777777778,
              "#fb9f3a"
             ],
             [
              0.8888888888888888,
              "#fdca26"
             ],
             [
              1,
              "#f0f921"
             ]
            ],
            "type": "contour"
           }
          ],
          "contourcarpet": [
           {
            "colorbar": {
             "outlinewidth": 0,
             "ticks": ""
            },
            "type": "contourcarpet"
           }
          ],
          "heatmap": [
           {
            "colorbar": {
             "outlinewidth": 0,
             "ticks": ""
            },
            "colorscale": [
             [
              0,
              "#0d0887"
             ],
             [
              0.1111111111111111,
              "#46039f"
             ],
             [
              0.2222222222222222,
              "#7201a8"
             ],
             [
              0.3333333333333333,
              "#9c179e"
             ],
             [
              0.4444444444444444,
              "#bd3786"
             ],
             [
              0.5555555555555556,
              "#d8576b"
             ],
             [
              0.6666666666666666,
              "#ed7953"
             ],
             [
              0.7777777777777778,
              "#fb9f3a"
             ],
             [
              0.8888888888888888,
              "#fdca26"
             ],
             [
              1,
              "#f0f921"
             ]
            ],
            "type": "heatmap"
           }
          ],
          "heatmapgl": [
           {
            "colorbar": {
             "outlinewidth": 0,
             "ticks": ""
            },
            "colorscale": [
             [
              0,
              "#0d0887"
             ],
             [
              0.1111111111111111,
              "#46039f"
             ],
             [
              0.2222222222222222,
              "#7201a8"
             ],
             [
              0.3333333333333333,
              "#9c179e"
             ],
             [
              0.4444444444444444,
              "#bd3786"
             ],
             [
              0.5555555555555556,
              "#d8576b"
             ],
             [
              0.6666666666666666,
              "#ed7953"
             ],
             [
              0.7777777777777778,
              "#fb9f3a"
             ],
             [
              0.8888888888888888,
              "#fdca26"
             ],
             [
              1,
              "#f0f921"
             ]
            ],
            "type": "heatmapgl"
           }
          ],
          "histogram": [
           {
            "marker": {
             "pattern": {
              "fillmode": "overlay",
              "size": 10,
              "solidity": 0.2
             }
            },
            "type": "histogram"
           }
          ],
          "histogram2d": [
           {
            "colorbar": {
             "outlinewidth": 0,
             "ticks": ""
            },
            "colorscale": [
             [
              0,
              "#0d0887"
             ],
             [
              0.1111111111111111,
              "#46039f"
             ],
             [
              0.2222222222222222,
              "#7201a8"
             ],
             [
              0.3333333333333333,
              "#9c179e"
             ],
             [
              0.4444444444444444,
              "#bd3786"
             ],
             [
              0.5555555555555556,
              "#d8576b"
             ],
             [
              0.6666666666666666,
              "#ed7953"
             ],
             [
              0.7777777777777778,
              "#fb9f3a"
             ],
             [
              0.8888888888888888,
              "#fdca26"
             ],
             [
              1,
              "#f0f921"
             ]
            ],
            "type": "histogram2d"
           }
          ],
          "histogram2dcontour": [
           {
            "colorbar": {
             "outlinewidth": 0,
             "ticks": ""
            },
            "colorscale": [
             [
              0,
              "#0d0887"
             ],
             [
              0.1111111111111111,
              "#46039f"
             ],
             [
              0.2222222222222222,
              "#7201a8"
             ],
             [
              0.3333333333333333,
              "#9c179e"
             ],
             [
              0.4444444444444444,
              "#bd3786"
             ],
             [
              0.5555555555555556,
              "#d8576b"
             ],
             [
              0.6666666666666666,
              "#ed7953"
             ],
             [
              0.7777777777777778,
              "#fb9f3a"
             ],
             [
              0.8888888888888888,
              "#fdca26"
             ],
             [
              1,
              "#f0f921"
             ]
            ],
            "type": "histogram2dcontour"
           }
          ],
          "mesh3d": [
           {
            "colorbar": {
             "outlinewidth": 0,
             "ticks": ""
            },
            "type": "mesh3d"
           }
          ],
          "parcoords": [
           {
            "line": {
             "colorbar": {
              "outlinewidth": 0,
              "ticks": ""
             }
            },
            "type": "parcoords"
           }
          ],
          "pie": [
           {
            "automargin": true,
            "type": "pie"
           }
          ],
          "scatter": [
           {
            "fillpattern": {
             "fillmode": "overlay",
             "size": 10,
             "solidity": 0.2
            },
            "type": "scatter"
           }
          ],
          "scatter3d": [
           {
            "line": {
             "colorbar": {
              "outlinewidth": 0,
              "ticks": ""
             }
            },
            "marker": {
             "colorbar": {
              "outlinewidth": 0,
              "ticks": ""
             }
            },
            "type": "scatter3d"
           }
          ],
          "scattercarpet": [
           {
            "marker": {
             "colorbar": {
              "outlinewidth": 0,
              "ticks": ""
             }
            },
            "type": "scattercarpet"
           }
          ],
          "scattergeo": [
           {
            "marker": {
             "colorbar": {
              "outlinewidth": 0,
              "ticks": ""
             }
            },
            "type": "scattergeo"
           }
          ],
          "scattergl": [
           {
            "marker": {
             "colorbar": {
              "outlinewidth": 0,
              "ticks": ""
             }
            },
            "type": "scattergl"
           }
          ],
          "scattermapbox": [
           {
            "marker": {
             "colorbar": {
              "outlinewidth": 0,
              "ticks": ""
             }
            },
            "type": "scattermapbox"
           }
          ],
          "scatterpolar": [
           {
            "marker": {
             "colorbar": {
              "outlinewidth": 0,
              "ticks": ""
             }
            },
            "type": "scatterpolar"
           }
          ],
          "scatterpolargl": [
           {
            "marker": {
             "colorbar": {
              "outlinewidth": 0,
              "ticks": ""
             }
            },
            "type": "scatterpolargl"
           }
          ],
          "scatterternary": [
           {
            "marker": {
             "colorbar": {
              "outlinewidth": 0,
              "ticks": ""
             }
            },
            "type": "scatterternary"
           }
          ],
          "surface": [
           {
            "colorbar": {
             "outlinewidth": 0,
             "ticks": ""
            },
            "colorscale": [
             [
              0,
              "#0d0887"
             ],
             [
              0.1111111111111111,
              "#46039f"
             ],
             [
              0.2222222222222222,
              "#7201a8"
             ],
             [
              0.3333333333333333,
              "#9c179e"
             ],
             [
              0.4444444444444444,
              "#bd3786"
             ],
             [
              0.5555555555555556,
              "#d8576b"
             ],
             [
              0.6666666666666666,
              "#ed7953"
             ],
             [
              0.7777777777777778,
              "#fb9f3a"
             ],
             [
              0.8888888888888888,
              "#fdca26"
             ],
             [
              1,
              "#f0f921"
             ]
            ],
            "type": "surface"
           }
          ],
          "table": [
           {
            "cells": {
             "fill": {
              "color": "#EBF0F8"
             },
             "line": {
              "color": "white"
             }
            },
            "header": {
             "fill": {
              "color": "#C8D4E3"
             },
             "line": {
              "color": "white"
             }
            },
            "type": "table"
           }
          ]
         },
         "layout": {
          "annotationdefaults": {
           "arrowcolor": "#2a3f5f",
           "arrowhead": 0,
           "arrowwidth": 1
          },
          "autotypenumbers": "strict",
          "coloraxis": {
           "colorbar": {
            "outlinewidth": 0,
            "ticks": ""
           }
          },
          "colorscale": {
           "diverging": [
            [
             0,
             "#8e0152"
            ],
            [
             0.1,
             "#c51b7d"
            ],
            [
             0.2,
             "#de77ae"
            ],
            [
             0.3,
             "#f1b6da"
            ],
            [
             0.4,
             "#fde0ef"
            ],
            [
             0.5,
             "#f7f7f7"
            ],
            [
             0.6,
             "#e6f5d0"
            ],
            [
             0.7,
             "#b8e186"
            ],
            [
             0.8,
             "#7fbc41"
            ],
            [
             0.9,
             "#4d9221"
            ],
            [
             1,
             "#276419"
            ]
           ],
           "sequential": [
            [
             0,
             "#0d0887"
            ],
            [
             0.1111111111111111,
             "#46039f"
            ],
            [
             0.2222222222222222,
             "#7201a8"
            ],
            [
             0.3333333333333333,
             "#9c179e"
            ],
            [
             0.4444444444444444,
             "#bd3786"
            ],
            [
             0.5555555555555556,
             "#d8576b"
            ],
            [
             0.6666666666666666,
             "#ed7953"
            ],
            [
             0.7777777777777778,
             "#fb9f3a"
            ],
            [
             0.8888888888888888,
             "#fdca26"
            ],
            [
             1,
             "#f0f921"
            ]
           ],
           "sequentialminus": [
            [
             0,
             "#0d0887"
            ],
            [
             0.1111111111111111,
             "#46039f"
            ],
            [
             0.2222222222222222,
             "#7201a8"
            ],
            [
             0.3333333333333333,
             "#9c179e"
            ],
            [
             0.4444444444444444,
             "#bd3786"
            ],
            [
             0.5555555555555556,
             "#d8576b"
            ],
            [
             0.6666666666666666,
             "#ed7953"
            ],
            [
             0.7777777777777778,
             "#fb9f3a"
            ],
            [
             0.8888888888888888,
             "#fdca26"
            ],
            [
             1,
             "#f0f921"
            ]
           ]
          },
          "colorway": [
           "#636efa",
           "#EF553B",
           "#00cc96",
           "#ab63fa",
           "#FFA15A",
           "#19d3f3",
           "#FF6692",
           "#B6E880",
           "#FF97FF",
           "#FECB52"
          ],
          "font": {
           "color": "#2a3f5f"
          },
          "geo": {
           "bgcolor": "white",
           "lakecolor": "white",
           "landcolor": "#E5ECF6",
           "showlakes": true,
           "showland": true,
           "subunitcolor": "white"
          },
          "hoverlabel": {
           "align": "left"
          },
          "hovermode": "closest",
          "mapbox": {
           "style": "light"
          },
          "paper_bgcolor": "white",
          "plot_bgcolor": "#E5ECF6",
          "polar": {
           "angularaxis": {
            "gridcolor": "white",
            "linecolor": "white",
            "ticks": ""
           },
           "bgcolor": "#E5ECF6",
           "radialaxis": {
            "gridcolor": "white",
            "linecolor": "white",
            "ticks": ""
           }
          },
          "scene": {
           "xaxis": {
            "backgroundcolor": "#E5ECF6",
            "gridcolor": "white",
            "gridwidth": 2,
            "linecolor": "white",
            "showbackground": true,
            "ticks": "",
            "zerolinecolor": "white"
           },
           "yaxis": {
            "backgroundcolor": "#E5ECF6",
            "gridcolor": "white",
            "gridwidth": 2,
            "linecolor": "white",
            "showbackground": true,
            "ticks": "",
            "zerolinecolor": "white"
           },
           "zaxis": {
            "backgroundcolor": "#E5ECF6",
            "gridcolor": "white",
            "gridwidth": 2,
            "linecolor": "white",
            "showbackground": true,
            "ticks": "",
            "zerolinecolor": "white"
           }
          },
          "shapedefaults": {
           "line": {
            "color": "#2a3f5f"
           }
          },
          "ternary": {
           "aaxis": {
            "gridcolor": "white",
            "linecolor": "white",
            "ticks": ""
           },
           "baxis": {
            "gridcolor": "white",
            "linecolor": "white",
            "ticks": ""
           },
           "bgcolor": "#E5ECF6",
           "caxis": {
            "gridcolor": "white",
            "linecolor": "white",
            "ticks": ""
           }
          },
          "title": {
           "x": 0.05
          },
          "xaxis": {
           "automargin": true,
           "gridcolor": "white",
           "linecolor": "white",
           "ticks": "",
           "title": {
            "standoff": 15
           },
           "zerolinecolor": "white",
           "zerolinewidth": 2
          },
          "yaxis": {
           "automargin": true,
           "gridcolor": "white",
           "linecolor": "white",
           "ticks": "",
           "title": {
            "standoff": 15
           },
           "zerolinecolor": "white",
           "zerolinewidth": 2
          }
         }
        },
        "title": {
         "text": "Hyperparameter Importances"
        },
        "xaxis": {
         "title": {
          "text": "Hyperparameter Importance"
         }
        },
        "yaxis": {
         "title": {
          "text": "Hyperparameter"
         }
        }
       }
      },
      "text/html": [
       "<div>                            <div id=\"3ae65f70-9131-40f9-a0be-af90adf42bb6\" class=\"plotly-graph-div\" style=\"height:525px; width:100%;\"></div>            <script type=\"text/javascript\">                require([\"plotly\"], function(Plotly) {                    window.PLOTLYENV=window.PLOTLYENV || {};                                    if (document.getElementById(\"3ae65f70-9131-40f9-a0be-af90adf42bb6\")) {                    Plotly.newPlot(                        \"3ae65f70-9131-40f9-a0be-af90adf42bb6\",                        [{\"cliponaxis\":false,\"hovertemplate\":[\"neurons (CategoricalDistribution): 0.022976739484920062\\u003cextra\\u003e\\u003c\\u002fextra\\u003e\",\"batch_size (CategoricalDistribution): 0.03135681689089329\\u003cextra\\u003e\\u003c\\u002fextra\\u003e\",\"epochs (IntDistribution): 0.05010077636461744\\u003cextra\\u003e\\u003c\\u002fextra\\u003e\",\"learning_rate (CategoricalDistribution): 0.8955656672595692\\u003cextra\\u003e\\u003c\\u002fextra\\u003e\"],\"name\":\"Objective Value\",\"orientation\":\"h\",\"text\":[\"0.02\",\"0.03\",\"0.05\",\"0.90\"],\"textposition\":\"outside\",\"x\":[0.022976739484920062,0.03135681689089329,0.05010077636461744,0.8955656672595692],\"y\":[\"neurons\",\"batch_size\",\"epochs\",\"learning_rate\"],\"type\":\"bar\"}],                        {\"title\":{\"text\":\"Hyperparameter Importances\"},\"xaxis\":{\"title\":{\"text\":\"Hyperparameter Importance\"}},\"yaxis\":{\"title\":{\"text\":\"Hyperparameter\"}},\"template\":{\"data\":{\"histogram2dcontour\":[{\"type\":\"histogram2dcontour\",\"colorbar\":{\"outlinewidth\":0,\"ticks\":\"\"},\"colorscale\":[[0.0,\"#0d0887\"],[0.1111111111111111,\"#46039f\"],[0.2222222222222222,\"#7201a8\"],[0.3333333333333333,\"#9c179e\"],[0.4444444444444444,\"#bd3786\"],[0.5555555555555556,\"#d8576b\"],[0.6666666666666666,\"#ed7953\"],[0.7777777777777778,\"#fb9f3a\"],[0.8888888888888888,\"#fdca26\"],[1.0,\"#f0f921\"]]}],\"choropleth\":[{\"type\":\"choropleth\",\"colorbar\":{\"outlinewidth\":0,\"ticks\":\"\"}}],\"histogram2d\":[{\"type\":\"histogram2d\",\"colorbar\":{\"outlinewidth\":0,\"ticks\":\"\"},\"colorscale\":[[0.0,\"#0d0887\"],[0.1111111111111111,\"#46039f\"],[0.2222222222222222,\"#7201a8\"],[0.3333333333333333,\"#9c179e\"],[0.4444444444444444,\"#bd3786\"],[0.5555555555555556,\"#d8576b\"],[0.6666666666666666,\"#ed7953\"],[0.7777777777777778,\"#fb9f3a\"],[0.8888888888888888,\"#fdca26\"],[1.0,\"#f0f921\"]]}],\"heatmap\":[{\"type\":\"heatmap\",\"colorbar\":{\"outlinewidth\":0,\"ticks\":\"\"},\"colorscale\":[[0.0,\"#0d0887\"],[0.1111111111111111,\"#46039f\"],[0.2222222222222222,\"#7201a8\"],[0.3333333333333333,\"#9c179e\"],[0.4444444444444444,\"#bd3786\"],[0.5555555555555556,\"#d8576b\"],[0.6666666666666666,\"#ed7953\"],[0.7777777777777778,\"#fb9f3a\"],[0.8888888888888888,\"#fdca26\"],[1.0,\"#f0f921\"]]}],\"heatmapgl\":[{\"type\":\"heatmapgl\",\"colorbar\":{\"outlinewidth\":0,\"ticks\":\"\"},\"colorscale\":[[0.0,\"#0d0887\"],[0.1111111111111111,\"#46039f\"],[0.2222222222222222,\"#7201a8\"],[0.3333333333333333,\"#9c179e\"],[0.4444444444444444,\"#bd3786\"],[0.5555555555555556,\"#d8576b\"],[0.6666666666666666,\"#ed7953\"],[0.7777777777777778,\"#fb9f3a\"],[0.8888888888888888,\"#fdca26\"],[1.0,\"#f0f921\"]]}],\"contourcarpet\":[{\"type\":\"contourcarpet\",\"colorbar\":{\"outlinewidth\":0,\"ticks\":\"\"}}],\"contour\":[{\"type\":\"contour\",\"colorbar\":{\"outlinewidth\":0,\"ticks\":\"\"},\"colorscale\":[[0.0,\"#0d0887\"],[0.1111111111111111,\"#46039f\"],[0.2222222222222222,\"#7201a8\"],[0.3333333333333333,\"#9c179e\"],[0.4444444444444444,\"#bd3786\"],[0.5555555555555556,\"#d8576b\"],[0.6666666666666666,\"#ed7953\"],[0.7777777777777778,\"#fb9f3a\"],[0.8888888888888888,\"#fdca26\"],[1.0,\"#f0f921\"]]}],\"surface\":[{\"type\":\"surface\",\"colorbar\":{\"outlinewidth\":0,\"ticks\":\"\"},\"colorscale\":[[0.0,\"#0d0887\"],[0.1111111111111111,\"#46039f\"],[0.2222222222222222,\"#7201a8\"],[0.3333333333333333,\"#9c179e\"],[0.4444444444444444,\"#bd3786\"],[0.5555555555555556,\"#d8576b\"],[0.6666666666666666,\"#ed7953\"],[0.7777777777777778,\"#fb9f3a\"],[0.8888888888888888,\"#fdca26\"],[1.0,\"#f0f921\"]]}],\"mesh3d\":[{\"type\":\"mesh3d\",\"colorbar\":{\"outlinewidth\":0,\"ticks\":\"\"}}],\"scatter\":[{\"fillpattern\":{\"fillmode\":\"overlay\",\"size\":10,\"solidity\":0.2},\"type\":\"scatter\"}],\"parcoords\":[{\"type\":\"parcoords\",\"line\":{\"colorbar\":{\"outlinewidth\":0,\"ticks\":\"\"}}}],\"scatterpolargl\":[{\"type\":\"scatterpolargl\",\"marker\":{\"colorbar\":{\"outlinewidth\":0,\"ticks\":\"\"}}}],\"bar\":[{\"error_x\":{\"color\":\"#2a3f5f\"},\"error_y\":{\"color\":\"#2a3f5f\"},\"marker\":{\"line\":{\"color\":\"#E5ECF6\",\"width\":0.5},\"pattern\":{\"fillmode\":\"overlay\",\"size\":10,\"solidity\":0.2}},\"type\":\"bar\"}],\"scattergeo\":[{\"type\":\"scattergeo\",\"marker\":{\"colorbar\":{\"outlinewidth\":0,\"ticks\":\"\"}}}],\"scatterpolar\":[{\"type\":\"scatterpolar\",\"marker\":{\"colorbar\":{\"outlinewidth\":0,\"ticks\":\"\"}}}],\"histogram\":[{\"marker\":{\"pattern\":{\"fillmode\":\"overlay\",\"size\":10,\"solidity\":0.2}},\"type\":\"histogram\"}],\"scattergl\":[{\"type\":\"scattergl\",\"marker\":{\"colorbar\":{\"outlinewidth\":0,\"ticks\":\"\"}}}],\"scatter3d\":[{\"type\":\"scatter3d\",\"line\":{\"colorbar\":{\"outlinewidth\":0,\"ticks\":\"\"}},\"marker\":{\"colorbar\":{\"outlinewidth\":0,\"ticks\":\"\"}}}],\"scattermapbox\":[{\"type\":\"scattermapbox\",\"marker\":{\"colorbar\":{\"outlinewidth\":0,\"ticks\":\"\"}}}],\"scatterternary\":[{\"type\":\"scatterternary\",\"marker\":{\"colorbar\":{\"outlinewidth\":0,\"ticks\":\"\"}}}],\"scattercarpet\":[{\"type\":\"scattercarpet\",\"marker\":{\"colorbar\":{\"outlinewidth\":0,\"ticks\":\"\"}}}],\"carpet\":[{\"aaxis\":{\"endlinecolor\":\"#2a3f5f\",\"gridcolor\":\"white\",\"linecolor\":\"white\",\"minorgridcolor\":\"white\",\"startlinecolor\":\"#2a3f5f\"},\"baxis\":{\"endlinecolor\":\"#2a3f5f\",\"gridcolor\":\"white\",\"linecolor\":\"white\",\"minorgridcolor\":\"white\",\"startlinecolor\":\"#2a3f5f\"},\"type\":\"carpet\"}],\"table\":[{\"cells\":{\"fill\":{\"color\":\"#EBF0F8\"},\"line\":{\"color\":\"white\"}},\"header\":{\"fill\":{\"color\":\"#C8D4E3\"},\"line\":{\"color\":\"white\"}},\"type\":\"table\"}],\"barpolar\":[{\"marker\":{\"line\":{\"color\":\"#E5ECF6\",\"width\":0.5},\"pattern\":{\"fillmode\":\"overlay\",\"size\":10,\"solidity\":0.2}},\"type\":\"barpolar\"}],\"pie\":[{\"automargin\":true,\"type\":\"pie\"}]},\"layout\":{\"autotypenumbers\":\"strict\",\"colorway\":[\"#636efa\",\"#EF553B\",\"#00cc96\",\"#ab63fa\",\"#FFA15A\",\"#19d3f3\",\"#FF6692\",\"#B6E880\",\"#FF97FF\",\"#FECB52\"],\"font\":{\"color\":\"#2a3f5f\"},\"hovermode\":\"closest\",\"hoverlabel\":{\"align\":\"left\"},\"paper_bgcolor\":\"white\",\"plot_bgcolor\":\"#E5ECF6\",\"polar\":{\"bgcolor\":\"#E5ECF6\",\"angularaxis\":{\"gridcolor\":\"white\",\"linecolor\":\"white\",\"ticks\":\"\"},\"radialaxis\":{\"gridcolor\":\"white\",\"linecolor\":\"white\",\"ticks\":\"\"}},\"ternary\":{\"bgcolor\":\"#E5ECF6\",\"aaxis\":{\"gridcolor\":\"white\",\"linecolor\":\"white\",\"ticks\":\"\"},\"baxis\":{\"gridcolor\":\"white\",\"linecolor\":\"white\",\"ticks\":\"\"},\"caxis\":{\"gridcolor\":\"white\",\"linecolor\":\"white\",\"ticks\":\"\"}},\"coloraxis\":{\"colorbar\":{\"outlinewidth\":0,\"ticks\":\"\"}},\"colorscale\":{\"sequential\":[[0.0,\"#0d0887\"],[0.1111111111111111,\"#46039f\"],[0.2222222222222222,\"#7201a8\"],[0.3333333333333333,\"#9c179e\"],[0.4444444444444444,\"#bd3786\"],[0.5555555555555556,\"#d8576b\"],[0.6666666666666666,\"#ed7953\"],[0.7777777777777778,\"#fb9f3a\"],[0.8888888888888888,\"#fdca26\"],[1.0,\"#f0f921\"]],\"sequentialminus\":[[0.0,\"#0d0887\"],[0.1111111111111111,\"#46039f\"],[0.2222222222222222,\"#7201a8\"],[0.3333333333333333,\"#9c179e\"],[0.4444444444444444,\"#bd3786\"],[0.5555555555555556,\"#d8576b\"],[0.6666666666666666,\"#ed7953\"],[0.7777777777777778,\"#fb9f3a\"],[0.8888888888888888,\"#fdca26\"],[1.0,\"#f0f921\"]],\"diverging\":[[0,\"#8e0152\"],[0.1,\"#c51b7d\"],[0.2,\"#de77ae\"],[0.3,\"#f1b6da\"],[0.4,\"#fde0ef\"],[0.5,\"#f7f7f7\"],[0.6,\"#e6f5d0\"],[0.7,\"#b8e186\"],[0.8,\"#7fbc41\"],[0.9,\"#4d9221\"],[1,\"#276419\"]]},\"xaxis\":{\"gridcolor\":\"white\",\"linecolor\":\"white\",\"ticks\":\"\",\"title\":{\"standoff\":15},\"zerolinecolor\":\"white\",\"automargin\":true,\"zerolinewidth\":2},\"yaxis\":{\"gridcolor\":\"white\",\"linecolor\":\"white\",\"ticks\":\"\",\"title\":{\"standoff\":15},\"zerolinecolor\":\"white\",\"automargin\":true,\"zerolinewidth\":2},\"scene\":{\"xaxis\":{\"backgroundcolor\":\"#E5ECF6\",\"gridcolor\":\"white\",\"linecolor\":\"white\",\"showbackground\":true,\"ticks\":\"\",\"zerolinecolor\":\"white\",\"gridwidth\":2},\"yaxis\":{\"backgroundcolor\":\"#E5ECF6\",\"gridcolor\":\"white\",\"linecolor\":\"white\",\"showbackground\":true,\"ticks\":\"\",\"zerolinecolor\":\"white\",\"gridwidth\":2},\"zaxis\":{\"backgroundcolor\":\"#E5ECF6\",\"gridcolor\":\"white\",\"linecolor\":\"white\",\"showbackground\":true,\"ticks\":\"\",\"zerolinecolor\":\"white\",\"gridwidth\":2}},\"shapedefaults\":{\"line\":{\"color\":\"#2a3f5f\"}},\"annotationdefaults\":{\"arrowcolor\":\"#2a3f5f\",\"arrowhead\":0,\"arrowwidth\":1},\"geo\":{\"bgcolor\":\"white\",\"landcolor\":\"#E5ECF6\",\"subunitcolor\":\"white\",\"showland\":true,\"showlakes\":true,\"lakecolor\":\"white\"},\"title\":{\"x\":0.05},\"mapbox\":{\"style\":\"light\"}}}},                        {\"responsive\": true}                    ).then(function(){\n",
       "                            \n",
       "var gd = document.getElementById('3ae65f70-9131-40f9-a0be-af90adf42bb6');\n",
       "var x = new MutationObserver(function (mutations, observer) {{\n",
       "        var display = window.getComputedStyle(gd).display;\n",
       "        if (!display || display === 'none') {{\n",
       "            console.log([gd, 'removed!']);\n",
       "            Plotly.purge(gd);\n",
       "            observer.disconnect();\n",
       "        }}\n",
       "}});\n",
       "\n",
       "// Listen for the removal of the full notebook cells\n",
       "var notebookContainer = gd.closest('#notebook-container');\n",
       "if (notebookContainer) {{\n",
       "    x.observe(notebookContainer, {childList: true});\n",
       "}}\n",
       "\n",
       "// Listen for the clearing of the current output cell\n",
       "var outputEl = gd.closest('.output');\n",
       "if (outputEl) {{\n",
       "    x.observe(outputEl, {childList: true});\n",
       "}}\n",
       "\n",
       "                        })                };                });            </script>        </div>"
      ]
     },
     "metadata": {},
     "output_type": "display_data"
    },
    {
     "data": {
      "application/vnd.plotly.v1+json": {
       "config": {
        "plotlyServerURL": "https://plot.ly"
       },
       "data": [
        {
         "mode": "markers",
         "name": "Objective Value",
         "type": "scatter",
         "x": [
          0,
          1,
          2,
          3,
          4,
          5,
          6,
          7,
          8,
          9,
          10,
          11,
          12,
          13,
          14,
          15,
          16,
          17,
          18,
          19,
          20,
          21,
          22,
          23,
          24,
          25,
          26,
          27,
          28,
          29,
          30,
          31,
          32,
          33,
          34,
          35,
          36,
          37,
          38,
          39,
          40,
          41,
          42,
          43,
          44,
          45,
          46,
          47,
          48,
          49,
          50,
          51,
          52,
          53,
          54,
          55,
          56,
          57,
          58,
          59,
          60,
          61,
          62,
          63,
          64,
          65,
          66,
          67,
          68,
          69,
          70,
          71,
          72,
          73,
          74,
          75,
          76,
          77,
          78,
          79,
          80,
          81,
          82,
          83,
          84,
          85,
          86,
          87,
          88,
          89,
          90,
          91,
          92,
          93,
          94,
          95,
          96,
          97,
          98,
          99
         ],
         "y": [
          0.07099812851714363,
          0.06803763988078185,
          0.06935717637685963,
          0.033668756308662694,
          0.048915481949797265,
          0.06032177846486475,
          0.09494716212616752,
          0.11948526040851484,
          0.0890384060669059,
          0.04790834845567678,
          0.08147728605269644,
          0.03204520018596852,
          0.035911442839034066,
          0.0380084449271256,
          0.036156556830768134,
          0.035851574502232274,
          0.03159097923306093,
          0.05867700351813783,
          0.09960922801793633,
          0.14290196426844332,
          0.07968661542800173,
          0.03487294569242735,
          0.04035386848915189,
          0.0304989251426833,
          0.030215063047830303,
          0.040969785243171374,
          0.030913903587971886,
          0.07856605590066378,
          0.12272061499937004,
          0.044013257278829265,
          0.029665209278338163,
          0.02544330946302394,
          0.03377904629513993,
          0.03643114803272869,
          0.029495592422290752,
          0.05650179309559903,
          0.03082805332358681,
          0.09794855181407013,
          0.027786075066188586,
          0.09540479069706274,
          0.05747047090766164,
          0.03028889357922484,
          0.037851165765702244,
          0.0316636762763494,
          0.032573140968758726,
          0.029846112662231757,
          0.031243394855255437,
          0.03079277899077107,
          0.1095713280868577,
          0.03004373981593405,
          0.09199621551417567,
          0.030893285092881077,
          0.03505317715491231,
          0.031427035507845265,
          0.031250927636725837,
          0.03715744627822359,
          0.029674029133280416,
          0.07068035396047129,
          0.030692968945364756,
          0.028348050939327085,
          0.028303055862232845,
          0.028123310581350786,
          0.027987560910327336,
          0.035413614413297476,
          0.03484228298483722,
          0.0491526415644838,
          0.03462192974769582,
          0.10630614738692863,
          0.13674885791405172,
          0.028719260562069537,
          0.03011008600535548,
          0.02850172999406871,
          0.031158382523600613,
          0.029533398330353892,
          0.029073039603620898,
          0.03005558704893089,
          0.05679923213808787,
          0.043408674136248784,
          0.02960952114997937,
          0.03786102749132027,
          0.09032265263153401,
          0.03258350728370278,
          0.028940832951127714,
          0.028121087290022755,
          0.02666154609321162,
          0.029762923919660927,
          0.0988350074471379,
          0.03223196043380262,
          0.03262654975836703,
          0.04355811711257015,
          0.0321796020324858,
          0.026796976604662858,
          0.05308720374660231,
          0.028309399447956463,
          0.025754147813209206,
          0.033082916961841936,
          0.05639014160756948,
          0.03287416330060368,
          0.029386534117167497,
          0.031714212697589575
         ]
        },
        {
         "mode": "lines",
         "name": "Best Value",
         "type": "scatter",
         "x": [
          0,
          1,
          2,
          3,
          4,
          5,
          6,
          7,
          8,
          9,
          10,
          11,
          12,
          13,
          14,
          15,
          16,
          17,
          18,
          19,
          20,
          21,
          22,
          23,
          24,
          25,
          26,
          27,
          28,
          29,
          30,
          31,
          32,
          33,
          34,
          35,
          36,
          37,
          38,
          39,
          40,
          41,
          42,
          43,
          44,
          45,
          46,
          47,
          48,
          49,
          50,
          51,
          52,
          53,
          54,
          55,
          56,
          57,
          58,
          59,
          60,
          61,
          62,
          63,
          64,
          65,
          66,
          67,
          68,
          69,
          70,
          71,
          72,
          73,
          74,
          75,
          76,
          77,
          78,
          79,
          80,
          81,
          82,
          83,
          84,
          85,
          86,
          87,
          88,
          89,
          90,
          91,
          92,
          93,
          94,
          95,
          96,
          97,
          98,
          99
         ],
         "y": [
          0.07099812851714363,
          0.06803763988078185,
          0.06803763988078185,
          0.033668756308662694,
          0.033668756308662694,
          0.033668756308662694,
          0.033668756308662694,
          0.033668756308662694,
          0.033668756308662694,
          0.033668756308662694,
          0.033668756308662694,
          0.03204520018596852,
          0.03204520018596852,
          0.03204520018596852,
          0.03204520018596852,
          0.03204520018596852,
          0.03159097923306093,
          0.03159097923306093,
          0.03159097923306093,
          0.03159097923306093,
          0.03159097923306093,
          0.03159097923306093,
          0.03159097923306093,
          0.0304989251426833,
          0.030215063047830303,
          0.030215063047830303,
          0.030215063047830303,
          0.030215063047830303,
          0.030215063047830303,
          0.030215063047830303,
          0.029665209278338163,
          0.02544330946302394,
          0.02544330946302394,
          0.02544330946302394,
          0.02544330946302394,
          0.02544330946302394,
          0.02544330946302394,
          0.02544330946302394,
          0.02544330946302394,
          0.02544330946302394,
          0.02544330946302394,
          0.02544330946302394,
          0.02544330946302394,
          0.02544330946302394,
          0.02544330946302394,
          0.02544330946302394,
          0.02544330946302394,
          0.02544330946302394,
          0.02544330946302394,
          0.02544330946302394,
          0.02544330946302394,
          0.02544330946302394,
          0.02544330946302394,
          0.02544330946302394,
          0.02544330946302394,
          0.02544330946302394,
          0.02544330946302394,
          0.02544330946302394,
          0.02544330946302394,
          0.02544330946302394,
          0.02544330946302394,
          0.02544330946302394,
          0.02544330946302394,
          0.02544330946302394,
          0.02544330946302394,
          0.02544330946302394,
          0.02544330946302394,
          0.02544330946302394,
          0.02544330946302394,
          0.02544330946302394,
          0.02544330946302394,
          0.02544330946302394,
          0.02544330946302394,
          0.02544330946302394,
          0.02544330946302394,
          0.02544330946302394,
          0.02544330946302394,
          0.02544330946302394,
          0.02544330946302394,
          0.02544330946302394,
          0.02544330946302394,
          0.02544330946302394,
          0.02544330946302394,
          0.02544330946302394,
          0.02544330946302394,
          0.02544330946302394,
          0.02544330946302394,
          0.02544330946302394,
          0.02544330946302394,
          0.02544330946302394,
          0.02544330946302394,
          0.02544330946302394,
          0.02544330946302394,
          0.02544330946302394,
          0.02544330946302394,
          0.02544330946302394,
          0.02544330946302394,
          0.02544330946302394,
          0.02544330946302394,
          0.02544330946302394
         ]
        },
        {
         "marker": {
          "color": "#cccccc"
         },
         "mode": "markers",
         "name": "Infeasible Trial",
         "showlegend": false,
         "type": "scatter",
         "x": [],
         "y": []
        }
       ],
       "layout": {
        "template": {
         "data": {
          "bar": [
           {
            "error_x": {
             "color": "#2a3f5f"
            },
            "error_y": {
             "color": "#2a3f5f"
            },
            "marker": {
             "line": {
              "color": "#E5ECF6",
              "width": 0.5
             },
             "pattern": {
              "fillmode": "overlay",
              "size": 10,
              "solidity": 0.2
             }
            },
            "type": "bar"
           }
          ],
          "barpolar": [
           {
            "marker": {
             "line": {
              "color": "#E5ECF6",
              "width": 0.5
             },
             "pattern": {
              "fillmode": "overlay",
              "size": 10,
              "solidity": 0.2
             }
            },
            "type": "barpolar"
           }
          ],
          "carpet": [
           {
            "aaxis": {
             "endlinecolor": "#2a3f5f",
             "gridcolor": "white",
             "linecolor": "white",
             "minorgridcolor": "white",
             "startlinecolor": "#2a3f5f"
            },
            "baxis": {
             "endlinecolor": "#2a3f5f",
             "gridcolor": "white",
             "linecolor": "white",
             "minorgridcolor": "white",
             "startlinecolor": "#2a3f5f"
            },
            "type": "carpet"
           }
          ],
          "choropleth": [
           {
            "colorbar": {
             "outlinewidth": 0,
             "ticks": ""
            },
            "type": "choropleth"
           }
          ],
          "contour": [
           {
            "colorbar": {
             "outlinewidth": 0,
             "ticks": ""
            },
            "colorscale": [
             [
              0,
              "#0d0887"
             ],
             [
              0.1111111111111111,
              "#46039f"
             ],
             [
              0.2222222222222222,
              "#7201a8"
             ],
             [
              0.3333333333333333,
              "#9c179e"
             ],
             [
              0.4444444444444444,
              "#bd3786"
             ],
             [
              0.5555555555555556,
              "#d8576b"
             ],
             [
              0.6666666666666666,
              "#ed7953"
             ],
             [
              0.7777777777777778,
              "#fb9f3a"
             ],
             [
              0.8888888888888888,
              "#fdca26"
             ],
             [
              1,
              "#f0f921"
             ]
            ],
            "type": "contour"
           }
          ],
          "contourcarpet": [
           {
            "colorbar": {
             "outlinewidth": 0,
             "ticks": ""
            },
            "type": "contourcarpet"
           }
          ],
          "heatmap": [
           {
            "colorbar": {
             "outlinewidth": 0,
             "ticks": ""
            },
            "colorscale": [
             [
              0,
              "#0d0887"
             ],
             [
              0.1111111111111111,
              "#46039f"
             ],
             [
              0.2222222222222222,
              "#7201a8"
             ],
             [
              0.3333333333333333,
              "#9c179e"
             ],
             [
              0.4444444444444444,
              "#bd3786"
             ],
             [
              0.5555555555555556,
              "#d8576b"
             ],
             [
              0.6666666666666666,
              "#ed7953"
             ],
             [
              0.7777777777777778,
              "#fb9f3a"
             ],
             [
              0.8888888888888888,
              "#fdca26"
             ],
             [
              1,
              "#f0f921"
             ]
            ],
            "type": "heatmap"
           }
          ],
          "heatmapgl": [
           {
            "colorbar": {
             "outlinewidth": 0,
             "ticks": ""
            },
            "colorscale": [
             [
              0,
              "#0d0887"
             ],
             [
              0.1111111111111111,
              "#46039f"
             ],
             [
              0.2222222222222222,
              "#7201a8"
             ],
             [
              0.3333333333333333,
              "#9c179e"
             ],
             [
              0.4444444444444444,
              "#bd3786"
             ],
             [
              0.5555555555555556,
              "#d8576b"
             ],
             [
              0.6666666666666666,
              "#ed7953"
             ],
             [
              0.7777777777777778,
              "#fb9f3a"
             ],
             [
              0.8888888888888888,
              "#fdca26"
             ],
             [
              1,
              "#f0f921"
             ]
            ],
            "type": "heatmapgl"
           }
          ],
          "histogram": [
           {
            "marker": {
             "pattern": {
              "fillmode": "overlay",
              "size": 10,
              "solidity": 0.2
             }
            },
            "type": "histogram"
           }
          ],
          "histogram2d": [
           {
            "colorbar": {
             "outlinewidth": 0,
             "ticks": ""
            },
            "colorscale": [
             [
              0,
              "#0d0887"
             ],
             [
              0.1111111111111111,
              "#46039f"
             ],
             [
              0.2222222222222222,
              "#7201a8"
             ],
             [
              0.3333333333333333,
              "#9c179e"
             ],
             [
              0.4444444444444444,
              "#bd3786"
             ],
             [
              0.5555555555555556,
              "#d8576b"
             ],
             [
              0.6666666666666666,
              "#ed7953"
             ],
             [
              0.7777777777777778,
              "#fb9f3a"
             ],
             [
              0.8888888888888888,
              "#fdca26"
             ],
             [
              1,
              "#f0f921"
             ]
            ],
            "type": "histogram2d"
           }
          ],
          "histogram2dcontour": [
           {
            "colorbar": {
             "outlinewidth": 0,
             "ticks": ""
            },
            "colorscale": [
             [
              0,
              "#0d0887"
             ],
             [
              0.1111111111111111,
              "#46039f"
             ],
             [
              0.2222222222222222,
              "#7201a8"
             ],
             [
              0.3333333333333333,
              "#9c179e"
             ],
             [
              0.4444444444444444,
              "#bd3786"
             ],
             [
              0.5555555555555556,
              "#d8576b"
             ],
             [
              0.6666666666666666,
              "#ed7953"
             ],
             [
              0.7777777777777778,
              "#fb9f3a"
             ],
             [
              0.8888888888888888,
              "#fdca26"
             ],
             [
              1,
              "#f0f921"
             ]
            ],
            "type": "histogram2dcontour"
           }
          ],
          "mesh3d": [
           {
            "colorbar": {
             "outlinewidth": 0,
             "ticks": ""
            },
            "type": "mesh3d"
           }
          ],
          "parcoords": [
           {
            "line": {
             "colorbar": {
              "outlinewidth": 0,
              "ticks": ""
             }
            },
            "type": "parcoords"
           }
          ],
          "pie": [
           {
            "automargin": true,
            "type": "pie"
           }
          ],
          "scatter": [
           {
            "fillpattern": {
             "fillmode": "overlay",
             "size": 10,
             "solidity": 0.2
            },
            "type": "scatter"
           }
          ],
          "scatter3d": [
           {
            "line": {
             "colorbar": {
              "outlinewidth": 0,
              "ticks": ""
             }
            },
            "marker": {
             "colorbar": {
              "outlinewidth": 0,
              "ticks": ""
             }
            },
            "type": "scatter3d"
           }
          ],
          "scattercarpet": [
           {
            "marker": {
             "colorbar": {
              "outlinewidth": 0,
              "ticks": ""
             }
            },
            "type": "scattercarpet"
           }
          ],
          "scattergeo": [
           {
            "marker": {
             "colorbar": {
              "outlinewidth": 0,
              "ticks": ""
             }
            },
            "type": "scattergeo"
           }
          ],
          "scattergl": [
           {
            "marker": {
             "colorbar": {
              "outlinewidth": 0,
              "ticks": ""
             }
            },
            "type": "scattergl"
           }
          ],
          "scattermapbox": [
           {
            "marker": {
             "colorbar": {
              "outlinewidth": 0,
              "ticks": ""
             }
            },
            "type": "scattermapbox"
           }
          ],
          "scatterpolar": [
           {
            "marker": {
             "colorbar": {
              "outlinewidth": 0,
              "ticks": ""
             }
            },
            "type": "scatterpolar"
           }
          ],
          "scatterpolargl": [
           {
            "marker": {
             "colorbar": {
              "outlinewidth": 0,
              "ticks": ""
             }
            },
            "type": "scatterpolargl"
           }
          ],
          "scatterternary": [
           {
            "marker": {
             "colorbar": {
              "outlinewidth": 0,
              "ticks": ""
             }
            },
            "type": "scatterternary"
           }
          ],
          "surface": [
           {
            "colorbar": {
             "outlinewidth": 0,
             "ticks": ""
            },
            "colorscale": [
             [
              0,
              "#0d0887"
             ],
             [
              0.1111111111111111,
              "#46039f"
             ],
             [
              0.2222222222222222,
              "#7201a8"
             ],
             [
              0.3333333333333333,
              "#9c179e"
             ],
             [
              0.4444444444444444,
              "#bd3786"
             ],
             [
              0.5555555555555556,
              "#d8576b"
             ],
             [
              0.6666666666666666,
              "#ed7953"
             ],
             [
              0.7777777777777778,
              "#fb9f3a"
             ],
             [
              0.8888888888888888,
              "#fdca26"
             ],
             [
              1,
              "#f0f921"
             ]
            ],
            "type": "surface"
           }
          ],
          "table": [
           {
            "cells": {
             "fill": {
              "color": "#EBF0F8"
             },
             "line": {
              "color": "white"
             }
            },
            "header": {
             "fill": {
              "color": "#C8D4E3"
             },
             "line": {
              "color": "white"
             }
            },
            "type": "table"
           }
          ]
         },
         "layout": {
          "annotationdefaults": {
           "arrowcolor": "#2a3f5f",
           "arrowhead": 0,
           "arrowwidth": 1
          },
          "autotypenumbers": "strict",
          "coloraxis": {
           "colorbar": {
            "outlinewidth": 0,
            "ticks": ""
           }
          },
          "colorscale": {
           "diverging": [
            [
             0,
             "#8e0152"
            ],
            [
             0.1,
             "#c51b7d"
            ],
            [
             0.2,
             "#de77ae"
            ],
            [
             0.3,
             "#f1b6da"
            ],
            [
             0.4,
             "#fde0ef"
            ],
            [
             0.5,
             "#f7f7f7"
            ],
            [
             0.6,
             "#e6f5d0"
            ],
            [
             0.7,
             "#b8e186"
            ],
            [
             0.8,
             "#7fbc41"
            ],
            [
             0.9,
             "#4d9221"
            ],
            [
             1,
             "#276419"
            ]
           ],
           "sequential": [
            [
             0,
             "#0d0887"
            ],
            [
             0.1111111111111111,
             "#46039f"
            ],
            [
             0.2222222222222222,
             "#7201a8"
            ],
            [
             0.3333333333333333,
             "#9c179e"
            ],
            [
             0.4444444444444444,
             "#bd3786"
            ],
            [
             0.5555555555555556,
             "#d8576b"
            ],
            [
             0.6666666666666666,
             "#ed7953"
            ],
            [
             0.7777777777777778,
             "#fb9f3a"
            ],
            [
             0.8888888888888888,
             "#fdca26"
            ],
            [
             1,
             "#f0f921"
            ]
           ],
           "sequentialminus": [
            [
             0,
             "#0d0887"
            ],
            [
             0.1111111111111111,
             "#46039f"
            ],
            [
             0.2222222222222222,
             "#7201a8"
            ],
            [
             0.3333333333333333,
             "#9c179e"
            ],
            [
             0.4444444444444444,
             "#bd3786"
            ],
            [
             0.5555555555555556,
             "#d8576b"
            ],
            [
             0.6666666666666666,
             "#ed7953"
            ],
            [
             0.7777777777777778,
             "#fb9f3a"
            ],
            [
             0.8888888888888888,
             "#fdca26"
            ],
            [
             1,
             "#f0f921"
            ]
           ]
          },
          "colorway": [
           "#636efa",
           "#EF553B",
           "#00cc96",
           "#ab63fa",
           "#FFA15A",
           "#19d3f3",
           "#FF6692",
           "#B6E880",
           "#FF97FF",
           "#FECB52"
          ],
          "font": {
           "color": "#2a3f5f"
          },
          "geo": {
           "bgcolor": "white",
           "lakecolor": "white",
           "landcolor": "#E5ECF6",
           "showlakes": true,
           "showland": true,
           "subunitcolor": "white"
          },
          "hoverlabel": {
           "align": "left"
          },
          "hovermode": "closest",
          "mapbox": {
           "style": "light"
          },
          "paper_bgcolor": "white",
          "plot_bgcolor": "#E5ECF6",
          "polar": {
           "angularaxis": {
            "gridcolor": "white",
            "linecolor": "white",
            "ticks": ""
           },
           "bgcolor": "#E5ECF6",
           "radialaxis": {
            "gridcolor": "white",
            "linecolor": "white",
            "ticks": ""
           }
          },
          "scene": {
           "xaxis": {
            "backgroundcolor": "#E5ECF6",
            "gridcolor": "white",
            "gridwidth": 2,
            "linecolor": "white",
            "showbackground": true,
            "ticks": "",
            "zerolinecolor": "white"
           },
           "yaxis": {
            "backgroundcolor": "#E5ECF6",
            "gridcolor": "white",
            "gridwidth": 2,
            "linecolor": "white",
            "showbackground": true,
            "ticks": "",
            "zerolinecolor": "white"
           },
           "zaxis": {
            "backgroundcolor": "#E5ECF6",
            "gridcolor": "white",
            "gridwidth": 2,
            "linecolor": "white",
            "showbackground": true,
            "ticks": "",
            "zerolinecolor": "white"
           }
          },
          "shapedefaults": {
           "line": {
            "color": "#2a3f5f"
           }
          },
          "ternary": {
           "aaxis": {
            "gridcolor": "white",
            "linecolor": "white",
            "ticks": ""
           },
           "baxis": {
            "gridcolor": "white",
            "linecolor": "white",
            "ticks": ""
           },
           "bgcolor": "#E5ECF6",
           "caxis": {
            "gridcolor": "white",
            "linecolor": "white",
            "ticks": ""
           }
          },
          "title": {
           "x": 0.05
          },
          "xaxis": {
           "automargin": true,
           "gridcolor": "white",
           "linecolor": "white",
           "ticks": "",
           "title": {
            "standoff": 15
           },
           "zerolinecolor": "white",
           "zerolinewidth": 2
          },
          "yaxis": {
           "automargin": true,
           "gridcolor": "white",
           "linecolor": "white",
           "ticks": "",
           "title": {
            "standoff": 15
           },
           "zerolinecolor": "white",
           "zerolinewidth": 2
          }
         }
        },
        "title": {
         "text": "Optimization History Plot"
        },
        "xaxis": {
         "title": {
          "text": "Trial"
         }
        },
        "yaxis": {
         "title": {
          "text": "Objective Value"
         }
        }
       }
      },
      "text/html": [
       "<div>                            <div id=\"b1bccd49-3de4-48d2-afcd-bf3336a50ec4\" class=\"plotly-graph-div\" style=\"height:525px; width:100%;\"></div>            <script type=\"text/javascript\">                require([\"plotly\"], function(Plotly) {                    window.PLOTLYENV=window.PLOTLYENV || {};                                    if (document.getElementById(\"b1bccd49-3de4-48d2-afcd-bf3336a50ec4\")) {                    Plotly.newPlot(                        \"b1bccd49-3de4-48d2-afcd-bf3336a50ec4\",                        [{\"mode\":\"markers\",\"name\":\"Objective Value\",\"x\":[0,1,2,3,4,5,6,7,8,9,10,11,12,13,14,15,16,17,18,19,20,21,22,23,24,25,26,27,28,29,30,31,32,33,34,35,36,37,38,39,40,41,42,43,44,45,46,47,48,49,50,51,52,53,54,55,56,57,58,59,60,61,62,63,64,65,66,67,68,69,70,71,72,73,74,75,76,77,78,79,80,81,82,83,84,85,86,87,88,89,90,91,92,93,94,95,96,97,98,99],\"y\":[0.07099812851714363,0.06803763988078185,0.06935717637685963,0.033668756308662694,0.048915481949797265,0.06032177846486475,0.09494716212616752,0.11948526040851484,0.0890384060669059,0.04790834845567678,0.08147728605269644,0.03204520018596852,0.035911442839034066,0.0380084449271256,0.036156556830768134,0.035851574502232274,0.03159097923306093,0.05867700351813783,0.09960922801793633,0.14290196426844332,0.07968661542800173,0.03487294569242735,0.04035386848915189,0.0304989251426833,0.030215063047830303,0.040969785243171374,0.030913903587971886,0.07856605590066378,0.12272061499937004,0.044013257278829265,0.029665209278338163,0.02544330946302394,0.03377904629513993,0.03643114803272869,0.029495592422290752,0.05650179309559903,0.03082805332358681,0.09794855181407013,0.027786075066188586,0.09540479069706274,0.05747047090766164,0.03028889357922484,0.037851165765702244,0.0316636762763494,0.032573140968758726,0.029846112662231757,0.031243394855255437,0.03079277899077107,0.1095713280868577,0.03004373981593405,0.09199621551417567,0.030893285092881077,0.03505317715491231,0.031427035507845265,0.031250927636725837,0.03715744627822359,0.029674029133280416,0.07068035396047129,0.030692968945364756,0.028348050939327085,0.028303055862232845,0.028123310581350786,0.027987560910327336,0.035413614413297476,0.03484228298483722,0.0491526415644838,0.03462192974769582,0.10630614738692863,0.13674885791405172,0.028719260562069537,0.03011008600535548,0.02850172999406871,0.031158382523600613,0.029533398330353892,0.029073039603620898,0.03005558704893089,0.05679923213808787,0.043408674136248784,0.02960952114997937,0.03786102749132027,0.09032265263153401,0.03258350728370278,0.028940832951127714,0.028121087290022755,0.02666154609321162,0.029762923919660927,0.0988350074471379,0.03223196043380262,0.03262654975836703,0.04355811711257015,0.0321796020324858,0.026796976604662858,0.05308720374660231,0.028309399447956463,0.025754147813209206,0.033082916961841936,0.05639014160756948,0.03287416330060368,0.029386534117167497,0.031714212697589575],\"type\":\"scatter\"},{\"mode\":\"lines\",\"name\":\"Best Value\",\"x\":[0,1,2,3,4,5,6,7,8,9,10,11,12,13,14,15,16,17,18,19,20,21,22,23,24,25,26,27,28,29,30,31,32,33,34,35,36,37,38,39,40,41,42,43,44,45,46,47,48,49,50,51,52,53,54,55,56,57,58,59,60,61,62,63,64,65,66,67,68,69,70,71,72,73,74,75,76,77,78,79,80,81,82,83,84,85,86,87,88,89,90,91,92,93,94,95,96,97,98,99],\"y\":[0.07099812851714363,0.06803763988078185,0.06803763988078185,0.033668756308662694,0.033668756308662694,0.033668756308662694,0.033668756308662694,0.033668756308662694,0.033668756308662694,0.033668756308662694,0.033668756308662694,0.03204520018596852,0.03204520018596852,0.03204520018596852,0.03204520018596852,0.03204520018596852,0.03159097923306093,0.03159097923306093,0.03159097923306093,0.03159097923306093,0.03159097923306093,0.03159097923306093,0.03159097923306093,0.0304989251426833,0.030215063047830303,0.030215063047830303,0.030215063047830303,0.030215063047830303,0.030215063047830303,0.030215063047830303,0.029665209278338163,0.02544330946302394,0.02544330946302394,0.02544330946302394,0.02544330946302394,0.02544330946302394,0.02544330946302394,0.02544330946302394,0.02544330946302394,0.02544330946302394,0.02544330946302394,0.02544330946302394,0.02544330946302394,0.02544330946302394,0.02544330946302394,0.02544330946302394,0.02544330946302394,0.02544330946302394,0.02544330946302394,0.02544330946302394,0.02544330946302394,0.02544330946302394,0.02544330946302394,0.02544330946302394,0.02544330946302394,0.02544330946302394,0.02544330946302394,0.02544330946302394,0.02544330946302394,0.02544330946302394,0.02544330946302394,0.02544330946302394,0.02544330946302394,0.02544330946302394,0.02544330946302394,0.02544330946302394,0.02544330946302394,0.02544330946302394,0.02544330946302394,0.02544330946302394,0.02544330946302394,0.02544330946302394,0.02544330946302394,0.02544330946302394,0.02544330946302394,0.02544330946302394,0.02544330946302394,0.02544330946302394,0.02544330946302394,0.02544330946302394,0.02544330946302394,0.02544330946302394,0.02544330946302394,0.02544330946302394,0.02544330946302394,0.02544330946302394,0.02544330946302394,0.02544330946302394,0.02544330946302394,0.02544330946302394,0.02544330946302394,0.02544330946302394,0.02544330946302394,0.02544330946302394,0.02544330946302394,0.02544330946302394,0.02544330946302394,0.02544330946302394,0.02544330946302394,0.02544330946302394],\"type\":\"scatter\"},{\"marker\":{\"color\":\"#cccccc\"},\"mode\":\"markers\",\"name\":\"Infeasible Trial\",\"showlegend\":false,\"x\":[],\"y\":[],\"type\":\"scatter\"}],                        {\"title\":{\"text\":\"Optimization History Plot\"},\"xaxis\":{\"title\":{\"text\":\"Trial\"}},\"yaxis\":{\"title\":{\"text\":\"Objective Value\"}},\"template\":{\"data\":{\"histogram2dcontour\":[{\"type\":\"histogram2dcontour\",\"colorbar\":{\"outlinewidth\":0,\"ticks\":\"\"},\"colorscale\":[[0.0,\"#0d0887\"],[0.1111111111111111,\"#46039f\"],[0.2222222222222222,\"#7201a8\"],[0.3333333333333333,\"#9c179e\"],[0.4444444444444444,\"#bd3786\"],[0.5555555555555556,\"#d8576b\"],[0.6666666666666666,\"#ed7953\"],[0.7777777777777778,\"#fb9f3a\"],[0.8888888888888888,\"#fdca26\"],[1.0,\"#f0f921\"]]}],\"choropleth\":[{\"type\":\"choropleth\",\"colorbar\":{\"outlinewidth\":0,\"ticks\":\"\"}}],\"histogram2d\":[{\"type\":\"histogram2d\",\"colorbar\":{\"outlinewidth\":0,\"ticks\":\"\"},\"colorscale\":[[0.0,\"#0d0887\"],[0.1111111111111111,\"#46039f\"],[0.2222222222222222,\"#7201a8\"],[0.3333333333333333,\"#9c179e\"],[0.4444444444444444,\"#bd3786\"],[0.5555555555555556,\"#d8576b\"],[0.6666666666666666,\"#ed7953\"],[0.7777777777777778,\"#fb9f3a\"],[0.8888888888888888,\"#fdca26\"],[1.0,\"#f0f921\"]]}],\"heatmap\":[{\"type\":\"heatmap\",\"colorbar\":{\"outlinewidth\":0,\"ticks\":\"\"},\"colorscale\":[[0.0,\"#0d0887\"],[0.1111111111111111,\"#46039f\"],[0.2222222222222222,\"#7201a8\"],[0.3333333333333333,\"#9c179e\"],[0.4444444444444444,\"#bd3786\"],[0.5555555555555556,\"#d8576b\"],[0.6666666666666666,\"#ed7953\"],[0.7777777777777778,\"#fb9f3a\"],[0.8888888888888888,\"#fdca26\"],[1.0,\"#f0f921\"]]}],\"heatmapgl\":[{\"type\":\"heatmapgl\",\"colorbar\":{\"outlinewidth\":0,\"ticks\":\"\"},\"colorscale\":[[0.0,\"#0d0887\"],[0.1111111111111111,\"#46039f\"],[0.2222222222222222,\"#7201a8\"],[0.3333333333333333,\"#9c179e\"],[0.4444444444444444,\"#bd3786\"],[0.5555555555555556,\"#d8576b\"],[0.6666666666666666,\"#ed7953\"],[0.7777777777777778,\"#fb9f3a\"],[0.8888888888888888,\"#fdca26\"],[1.0,\"#f0f921\"]]}],\"contourcarpet\":[{\"type\":\"contourcarpet\",\"colorbar\":{\"outlinewidth\":0,\"ticks\":\"\"}}],\"contour\":[{\"type\":\"contour\",\"colorbar\":{\"outlinewidth\":0,\"ticks\":\"\"},\"colorscale\":[[0.0,\"#0d0887\"],[0.1111111111111111,\"#46039f\"],[0.2222222222222222,\"#7201a8\"],[0.3333333333333333,\"#9c179e\"],[0.4444444444444444,\"#bd3786\"],[0.5555555555555556,\"#d8576b\"],[0.6666666666666666,\"#ed7953\"],[0.7777777777777778,\"#fb9f3a\"],[0.8888888888888888,\"#fdca26\"],[1.0,\"#f0f921\"]]}],\"surface\":[{\"type\":\"surface\",\"colorbar\":{\"outlinewidth\":0,\"ticks\":\"\"},\"colorscale\":[[0.0,\"#0d0887\"],[0.1111111111111111,\"#46039f\"],[0.2222222222222222,\"#7201a8\"],[0.3333333333333333,\"#9c179e\"],[0.4444444444444444,\"#bd3786\"],[0.5555555555555556,\"#d8576b\"],[0.6666666666666666,\"#ed7953\"],[0.7777777777777778,\"#fb9f3a\"],[0.8888888888888888,\"#fdca26\"],[1.0,\"#f0f921\"]]}],\"mesh3d\":[{\"type\":\"mesh3d\",\"colorbar\":{\"outlinewidth\":0,\"ticks\":\"\"}}],\"scatter\":[{\"fillpattern\":{\"fillmode\":\"overlay\",\"size\":10,\"solidity\":0.2},\"type\":\"scatter\"}],\"parcoords\":[{\"type\":\"parcoords\",\"line\":{\"colorbar\":{\"outlinewidth\":0,\"ticks\":\"\"}}}],\"scatterpolargl\":[{\"type\":\"scatterpolargl\",\"marker\":{\"colorbar\":{\"outlinewidth\":0,\"ticks\":\"\"}}}],\"bar\":[{\"error_x\":{\"color\":\"#2a3f5f\"},\"error_y\":{\"color\":\"#2a3f5f\"},\"marker\":{\"line\":{\"color\":\"#E5ECF6\",\"width\":0.5},\"pattern\":{\"fillmode\":\"overlay\",\"size\":10,\"solidity\":0.2}},\"type\":\"bar\"}],\"scattergeo\":[{\"type\":\"scattergeo\",\"marker\":{\"colorbar\":{\"outlinewidth\":0,\"ticks\":\"\"}}}],\"scatterpolar\":[{\"type\":\"scatterpolar\",\"marker\":{\"colorbar\":{\"outlinewidth\":0,\"ticks\":\"\"}}}],\"histogram\":[{\"marker\":{\"pattern\":{\"fillmode\":\"overlay\",\"size\":10,\"solidity\":0.2}},\"type\":\"histogram\"}],\"scattergl\":[{\"type\":\"scattergl\",\"marker\":{\"colorbar\":{\"outlinewidth\":0,\"ticks\":\"\"}}}],\"scatter3d\":[{\"type\":\"scatter3d\",\"line\":{\"colorbar\":{\"outlinewidth\":0,\"ticks\":\"\"}},\"marker\":{\"colorbar\":{\"outlinewidth\":0,\"ticks\":\"\"}}}],\"scattermapbox\":[{\"type\":\"scattermapbox\",\"marker\":{\"colorbar\":{\"outlinewidth\":0,\"ticks\":\"\"}}}],\"scatterternary\":[{\"type\":\"scatterternary\",\"marker\":{\"colorbar\":{\"outlinewidth\":0,\"ticks\":\"\"}}}],\"scattercarpet\":[{\"type\":\"scattercarpet\",\"marker\":{\"colorbar\":{\"outlinewidth\":0,\"ticks\":\"\"}}}],\"carpet\":[{\"aaxis\":{\"endlinecolor\":\"#2a3f5f\",\"gridcolor\":\"white\",\"linecolor\":\"white\",\"minorgridcolor\":\"white\",\"startlinecolor\":\"#2a3f5f\"},\"baxis\":{\"endlinecolor\":\"#2a3f5f\",\"gridcolor\":\"white\",\"linecolor\":\"white\",\"minorgridcolor\":\"white\",\"startlinecolor\":\"#2a3f5f\"},\"type\":\"carpet\"}],\"table\":[{\"cells\":{\"fill\":{\"color\":\"#EBF0F8\"},\"line\":{\"color\":\"white\"}},\"header\":{\"fill\":{\"color\":\"#C8D4E3\"},\"line\":{\"color\":\"white\"}},\"type\":\"table\"}],\"barpolar\":[{\"marker\":{\"line\":{\"color\":\"#E5ECF6\",\"width\":0.5},\"pattern\":{\"fillmode\":\"overlay\",\"size\":10,\"solidity\":0.2}},\"type\":\"barpolar\"}],\"pie\":[{\"automargin\":true,\"type\":\"pie\"}]},\"layout\":{\"autotypenumbers\":\"strict\",\"colorway\":[\"#636efa\",\"#EF553B\",\"#00cc96\",\"#ab63fa\",\"#FFA15A\",\"#19d3f3\",\"#FF6692\",\"#B6E880\",\"#FF97FF\",\"#FECB52\"],\"font\":{\"color\":\"#2a3f5f\"},\"hovermode\":\"closest\",\"hoverlabel\":{\"align\":\"left\"},\"paper_bgcolor\":\"white\",\"plot_bgcolor\":\"#E5ECF6\",\"polar\":{\"bgcolor\":\"#E5ECF6\",\"angularaxis\":{\"gridcolor\":\"white\",\"linecolor\":\"white\",\"ticks\":\"\"},\"radialaxis\":{\"gridcolor\":\"white\",\"linecolor\":\"white\",\"ticks\":\"\"}},\"ternary\":{\"bgcolor\":\"#E5ECF6\",\"aaxis\":{\"gridcolor\":\"white\",\"linecolor\":\"white\",\"ticks\":\"\"},\"baxis\":{\"gridcolor\":\"white\",\"linecolor\":\"white\",\"ticks\":\"\"},\"caxis\":{\"gridcolor\":\"white\",\"linecolor\":\"white\",\"ticks\":\"\"}},\"coloraxis\":{\"colorbar\":{\"outlinewidth\":0,\"ticks\":\"\"}},\"colorscale\":{\"sequential\":[[0.0,\"#0d0887\"],[0.1111111111111111,\"#46039f\"],[0.2222222222222222,\"#7201a8\"],[0.3333333333333333,\"#9c179e\"],[0.4444444444444444,\"#bd3786\"],[0.5555555555555556,\"#d8576b\"],[0.6666666666666666,\"#ed7953\"],[0.7777777777777778,\"#fb9f3a\"],[0.8888888888888888,\"#fdca26\"],[1.0,\"#f0f921\"]],\"sequentialminus\":[[0.0,\"#0d0887\"],[0.1111111111111111,\"#46039f\"],[0.2222222222222222,\"#7201a8\"],[0.3333333333333333,\"#9c179e\"],[0.4444444444444444,\"#bd3786\"],[0.5555555555555556,\"#d8576b\"],[0.6666666666666666,\"#ed7953\"],[0.7777777777777778,\"#fb9f3a\"],[0.8888888888888888,\"#fdca26\"],[1.0,\"#f0f921\"]],\"diverging\":[[0,\"#8e0152\"],[0.1,\"#c51b7d\"],[0.2,\"#de77ae\"],[0.3,\"#f1b6da\"],[0.4,\"#fde0ef\"],[0.5,\"#f7f7f7\"],[0.6,\"#e6f5d0\"],[0.7,\"#b8e186\"],[0.8,\"#7fbc41\"],[0.9,\"#4d9221\"],[1,\"#276419\"]]},\"xaxis\":{\"gridcolor\":\"white\",\"linecolor\":\"white\",\"ticks\":\"\",\"title\":{\"standoff\":15},\"zerolinecolor\":\"white\",\"automargin\":true,\"zerolinewidth\":2},\"yaxis\":{\"gridcolor\":\"white\",\"linecolor\":\"white\",\"ticks\":\"\",\"title\":{\"standoff\":15},\"zerolinecolor\":\"white\",\"automargin\":true,\"zerolinewidth\":2},\"scene\":{\"xaxis\":{\"backgroundcolor\":\"#E5ECF6\",\"gridcolor\":\"white\",\"linecolor\":\"white\",\"showbackground\":true,\"ticks\":\"\",\"zerolinecolor\":\"white\",\"gridwidth\":2},\"yaxis\":{\"backgroundcolor\":\"#E5ECF6\",\"gridcolor\":\"white\",\"linecolor\":\"white\",\"showbackground\":true,\"ticks\":\"\",\"zerolinecolor\":\"white\",\"gridwidth\":2},\"zaxis\":{\"backgroundcolor\":\"#E5ECF6\",\"gridcolor\":\"white\",\"linecolor\":\"white\",\"showbackground\":true,\"ticks\":\"\",\"zerolinecolor\":\"white\",\"gridwidth\":2}},\"shapedefaults\":{\"line\":{\"color\":\"#2a3f5f\"}},\"annotationdefaults\":{\"arrowcolor\":\"#2a3f5f\",\"arrowhead\":0,\"arrowwidth\":1},\"geo\":{\"bgcolor\":\"white\",\"landcolor\":\"#E5ECF6\",\"subunitcolor\":\"white\",\"showland\":true,\"showlakes\":true,\"lakecolor\":\"white\"},\"title\":{\"x\":0.05},\"mapbox\":{\"style\":\"light\"}}}},                        {\"responsive\": true}                    ).then(function(){\n",
       "                            \n",
       "var gd = document.getElementById('b1bccd49-3de4-48d2-afcd-bf3336a50ec4');\n",
       "var x = new MutationObserver(function (mutations, observer) {{\n",
       "        var display = window.getComputedStyle(gd).display;\n",
       "        if (!display || display === 'none') {{\n",
       "            console.log([gd, 'removed!']);\n",
       "            Plotly.purge(gd);\n",
       "            observer.disconnect();\n",
       "        }}\n",
       "}});\n",
       "\n",
       "// Listen for the removal of the full notebook cells\n",
       "var notebookContainer = gd.closest('#notebook-container');\n",
       "if (notebookContainer) {{\n",
       "    x.observe(notebookContainer, {childList: true});\n",
       "}}\n",
       "\n",
       "// Listen for the clearing of the current output cell\n",
       "var outputEl = gd.closest('.output');\n",
       "if (outputEl) {{\n",
       "    x.observe(outputEl, {childList: true});\n",
       "}}\n",
       "\n",
       "                        })                };                });            </script>        </div>"
      ]
     },
     "metadata": {},
     "output_type": "display_data"
    },
    {
     "data": {
      "application/vnd.plotly.v1+json": {
       "config": {
        "plotlyServerURL": "https://plot.ly"
       },
       "data": [
        {
         "marker": {
          "color": [
           0,
           1,
           2,
           3,
           4,
           5,
           6,
           7,
           8,
           9,
           10,
           11,
           12,
           13,
           14,
           15,
           16,
           17,
           18,
           19,
           20,
           21,
           22,
           23,
           24,
           25,
           26,
           27,
           28,
           29,
           30,
           31,
           32,
           33,
           34,
           35,
           36,
           37,
           38,
           39,
           40,
           41,
           42,
           43,
           44,
           45,
           46,
           47,
           48,
           49,
           50,
           51,
           52,
           53,
           54,
           55,
           56,
           57,
           58,
           59,
           60,
           61,
           62,
           63,
           64,
           65,
           66,
           67,
           68,
           69,
           70,
           71,
           72,
           73,
           74,
           75,
           76,
           77,
           78,
           79,
           80,
           81,
           82,
           83,
           84,
           85,
           86,
           87,
           88,
           89,
           90,
           91,
           92,
           93,
           94,
           95,
           96,
           97,
           98,
           99
          ],
          "colorbar": {
           "title": {
            "text": "Trial"
           },
           "x": 1,
           "xpad": 40
          },
          "colorscale": [
           [
            0,
            "rgb(247,251,255)"
           ],
           [
            0.125,
            "rgb(222,235,247)"
           ],
           [
            0.25,
            "rgb(198,219,239)"
           ],
           [
            0.375,
            "rgb(158,202,225)"
           ],
           [
            0.5,
            "rgb(107,174,214)"
           ],
           [
            0.625,
            "rgb(66,146,198)"
           ],
           [
            0.75,
            "rgb(33,113,181)"
           ],
           [
            0.875,
            "rgb(8,81,156)"
           ],
           [
            1,
            "rgb(8,48,107)"
           ]
          ],
          "line": {
           "color": "Grey",
           "width": 0.5
          }
         },
         "mode": "markers",
         "name": "Feasible Trial",
         "showlegend": false,
         "type": "scatter",
         "x": [
          50,
          30,
          30,
          50,
          50,
          150,
          150,
          100,
          30,
          50,
          100,
          50,
          50,
          50,
          50,
          50,
          50,
          150,
          100,
          50,
          50,
          50,
          50,
          50,
          50,
          50,
          100,
          100,
          100,
          100,
          100,
          100,
          100,
          30,
          100,
          100,
          100,
          100,
          150,
          150,
          150,
          150,
          30,
          150,
          100,
          100,
          100,
          100,
          100,
          100,
          150,
          100,
          100,
          100,
          100,
          30,
          100,
          100,
          150,
          100,
          100,
          100,
          100,
          100,
          100,
          100,
          30,
          100,
          150,
          100,
          100,
          100,
          100,
          100,
          100,
          100,
          100,
          100,
          150,
          100,
          30,
          100,
          100,
          100,
          100,
          100,
          150,
          100,
          100,
          100,
          100,
          100,
          100,
          100,
          100,
          100,
          150,
          100,
          100,
          50
         ],
         "y": [
          0.07099812851714363,
          0.06803763988078185,
          0.06935717637685963,
          0.033668756308662694,
          0.048915481949797265,
          0.06032177846486475,
          0.09494716212616752,
          0.11948526040851484,
          0.0890384060669059,
          0.04790834845567678,
          0.08147728605269644,
          0.03204520018596852,
          0.035911442839034066,
          0.0380084449271256,
          0.036156556830768134,
          0.035851574502232274,
          0.03159097923306093,
          0.05867700351813783,
          0.09960922801793633,
          0.14290196426844332,
          0.07968661542800173,
          0.03487294569242735,
          0.04035386848915189,
          0.0304989251426833,
          0.030215063047830303,
          0.040969785243171374,
          0.030913903587971886,
          0.07856605590066378,
          0.12272061499937004,
          0.044013257278829265,
          0.029665209278338163,
          0.02544330946302394,
          0.03377904629513993,
          0.03643114803272869,
          0.029495592422290752,
          0.05650179309559903,
          0.03082805332358681,
          0.09794855181407013,
          0.027786075066188586,
          0.09540479069706274,
          0.05747047090766164,
          0.03028889357922484,
          0.037851165765702244,
          0.0316636762763494,
          0.032573140968758726,
          0.029846112662231757,
          0.031243394855255437,
          0.03079277899077107,
          0.1095713280868577,
          0.03004373981593405,
          0.09199621551417567,
          0.030893285092881077,
          0.03505317715491231,
          0.031427035507845265,
          0.031250927636725837,
          0.03715744627822359,
          0.029674029133280416,
          0.07068035396047129,
          0.030692968945364756,
          0.028348050939327085,
          0.028303055862232845,
          0.028123310581350786,
          0.027987560910327336,
          0.035413614413297476,
          0.03484228298483722,
          0.0491526415644838,
          0.03462192974769582,
          0.10630614738692863,
          0.13674885791405172,
          0.028719260562069537,
          0.03011008600535548,
          0.02850172999406871,
          0.031158382523600613,
          0.029533398330353892,
          0.029073039603620898,
          0.03005558704893089,
          0.05679923213808787,
          0.043408674136248784,
          0.02960952114997937,
          0.03786102749132027,
          0.09032265263153401,
          0.03258350728370278,
          0.028940832951127714,
          0.028121087290022755,
          0.02666154609321162,
          0.029762923919660927,
          0.0988350074471379,
          0.03223196043380262,
          0.03262654975836703,
          0.04355811711257015,
          0.0321796020324858,
          0.026796976604662858,
          0.05308720374660231,
          0.028309399447956463,
          0.025754147813209206,
          0.033082916961841936,
          0.05639014160756948,
          0.03287416330060368,
          0.029386534117167497,
          0.031714212697589575
         ]
        }
       ],
       "layout": {
        "template": {
         "data": {
          "bar": [
           {
            "error_x": {
             "color": "#2a3f5f"
            },
            "error_y": {
             "color": "#2a3f5f"
            },
            "marker": {
             "line": {
              "color": "#E5ECF6",
              "width": 0.5
             },
             "pattern": {
              "fillmode": "overlay",
              "size": 10,
              "solidity": 0.2
             }
            },
            "type": "bar"
           }
          ],
          "barpolar": [
           {
            "marker": {
             "line": {
              "color": "#E5ECF6",
              "width": 0.5
             },
             "pattern": {
              "fillmode": "overlay",
              "size": 10,
              "solidity": 0.2
             }
            },
            "type": "barpolar"
           }
          ],
          "carpet": [
           {
            "aaxis": {
             "endlinecolor": "#2a3f5f",
             "gridcolor": "white",
             "linecolor": "white",
             "minorgridcolor": "white",
             "startlinecolor": "#2a3f5f"
            },
            "baxis": {
             "endlinecolor": "#2a3f5f",
             "gridcolor": "white",
             "linecolor": "white",
             "minorgridcolor": "white",
             "startlinecolor": "#2a3f5f"
            },
            "type": "carpet"
           }
          ],
          "choropleth": [
           {
            "colorbar": {
             "outlinewidth": 0,
             "ticks": ""
            },
            "type": "choropleth"
           }
          ],
          "contour": [
           {
            "colorbar": {
             "outlinewidth": 0,
             "ticks": ""
            },
            "colorscale": [
             [
              0,
              "#0d0887"
             ],
             [
              0.1111111111111111,
              "#46039f"
             ],
             [
              0.2222222222222222,
              "#7201a8"
             ],
             [
              0.3333333333333333,
              "#9c179e"
             ],
             [
              0.4444444444444444,
              "#bd3786"
             ],
             [
              0.5555555555555556,
              "#d8576b"
             ],
             [
              0.6666666666666666,
              "#ed7953"
             ],
             [
              0.7777777777777778,
              "#fb9f3a"
             ],
             [
              0.8888888888888888,
              "#fdca26"
             ],
             [
              1,
              "#f0f921"
             ]
            ],
            "type": "contour"
           }
          ],
          "contourcarpet": [
           {
            "colorbar": {
             "outlinewidth": 0,
             "ticks": ""
            },
            "type": "contourcarpet"
           }
          ],
          "heatmap": [
           {
            "colorbar": {
             "outlinewidth": 0,
             "ticks": ""
            },
            "colorscale": [
             [
              0,
              "#0d0887"
             ],
             [
              0.1111111111111111,
              "#46039f"
             ],
             [
              0.2222222222222222,
              "#7201a8"
             ],
             [
              0.3333333333333333,
              "#9c179e"
             ],
             [
              0.4444444444444444,
              "#bd3786"
             ],
             [
              0.5555555555555556,
              "#d8576b"
             ],
             [
              0.6666666666666666,
              "#ed7953"
             ],
             [
              0.7777777777777778,
              "#fb9f3a"
             ],
             [
              0.8888888888888888,
              "#fdca26"
             ],
             [
              1,
              "#f0f921"
             ]
            ],
            "type": "heatmap"
           }
          ],
          "heatmapgl": [
           {
            "colorbar": {
             "outlinewidth": 0,
             "ticks": ""
            },
            "colorscale": [
             [
              0,
              "#0d0887"
             ],
             [
              0.1111111111111111,
              "#46039f"
             ],
             [
              0.2222222222222222,
              "#7201a8"
             ],
             [
              0.3333333333333333,
              "#9c179e"
             ],
             [
              0.4444444444444444,
              "#bd3786"
             ],
             [
              0.5555555555555556,
              "#d8576b"
             ],
             [
              0.6666666666666666,
              "#ed7953"
             ],
             [
              0.7777777777777778,
              "#fb9f3a"
             ],
             [
              0.8888888888888888,
              "#fdca26"
             ],
             [
              1,
              "#f0f921"
             ]
            ],
            "type": "heatmapgl"
           }
          ],
          "histogram": [
           {
            "marker": {
             "pattern": {
              "fillmode": "overlay",
              "size": 10,
              "solidity": 0.2
             }
            },
            "type": "histogram"
           }
          ],
          "histogram2d": [
           {
            "colorbar": {
             "outlinewidth": 0,
             "ticks": ""
            },
            "colorscale": [
             [
              0,
              "#0d0887"
             ],
             [
              0.1111111111111111,
              "#46039f"
             ],
             [
              0.2222222222222222,
              "#7201a8"
             ],
             [
              0.3333333333333333,
              "#9c179e"
             ],
             [
              0.4444444444444444,
              "#bd3786"
             ],
             [
              0.5555555555555556,
              "#d8576b"
             ],
             [
              0.6666666666666666,
              "#ed7953"
             ],
             [
              0.7777777777777778,
              "#fb9f3a"
             ],
             [
              0.8888888888888888,
              "#fdca26"
             ],
             [
              1,
              "#f0f921"
             ]
            ],
            "type": "histogram2d"
           }
          ],
          "histogram2dcontour": [
           {
            "colorbar": {
             "outlinewidth": 0,
             "ticks": ""
            },
            "colorscale": [
             [
              0,
              "#0d0887"
             ],
             [
              0.1111111111111111,
              "#46039f"
             ],
             [
              0.2222222222222222,
              "#7201a8"
             ],
             [
              0.3333333333333333,
              "#9c179e"
             ],
             [
              0.4444444444444444,
              "#bd3786"
             ],
             [
              0.5555555555555556,
              "#d8576b"
             ],
             [
              0.6666666666666666,
              "#ed7953"
             ],
             [
              0.7777777777777778,
              "#fb9f3a"
             ],
             [
              0.8888888888888888,
              "#fdca26"
             ],
             [
              1,
              "#f0f921"
             ]
            ],
            "type": "histogram2dcontour"
           }
          ],
          "mesh3d": [
           {
            "colorbar": {
             "outlinewidth": 0,
             "ticks": ""
            },
            "type": "mesh3d"
           }
          ],
          "parcoords": [
           {
            "line": {
             "colorbar": {
              "outlinewidth": 0,
              "ticks": ""
             }
            },
            "type": "parcoords"
           }
          ],
          "pie": [
           {
            "automargin": true,
            "type": "pie"
           }
          ],
          "scatter": [
           {
            "fillpattern": {
             "fillmode": "overlay",
             "size": 10,
             "solidity": 0.2
            },
            "type": "scatter"
           }
          ],
          "scatter3d": [
           {
            "line": {
             "colorbar": {
              "outlinewidth": 0,
              "ticks": ""
             }
            },
            "marker": {
             "colorbar": {
              "outlinewidth": 0,
              "ticks": ""
             }
            },
            "type": "scatter3d"
           }
          ],
          "scattercarpet": [
           {
            "marker": {
             "colorbar": {
              "outlinewidth": 0,
              "ticks": ""
             }
            },
            "type": "scattercarpet"
           }
          ],
          "scattergeo": [
           {
            "marker": {
             "colorbar": {
              "outlinewidth": 0,
              "ticks": ""
             }
            },
            "type": "scattergeo"
           }
          ],
          "scattergl": [
           {
            "marker": {
             "colorbar": {
              "outlinewidth": 0,
              "ticks": ""
             }
            },
            "type": "scattergl"
           }
          ],
          "scattermapbox": [
           {
            "marker": {
             "colorbar": {
              "outlinewidth": 0,
              "ticks": ""
             }
            },
            "type": "scattermapbox"
           }
          ],
          "scatterpolar": [
           {
            "marker": {
             "colorbar": {
              "outlinewidth": 0,
              "ticks": ""
             }
            },
            "type": "scatterpolar"
           }
          ],
          "scatterpolargl": [
           {
            "marker": {
             "colorbar": {
              "outlinewidth": 0,
              "ticks": ""
             }
            },
            "type": "scatterpolargl"
           }
          ],
          "scatterternary": [
           {
            "marker": {
             "colorbar": {
              "outlinewidth": 0,
              "ticks": ""
             }
            },
            "type": "scatterternary"
           }
          ],
          "surface": [
           {
            "colorbar": {
             "outlinewidth": 0,
             "ticks": ""
            },
            "colorscale": [
             [
              0,
              "#0d0887"
             ],
             [
              0.1111111111111111,
              "#46039f"
             ],
             [
              0.2222222222222222,
              "#7201a8"
             ],
             [
              0.3333333333333333,
              "#9c179e"
             ],
             [
              0.4444444444444444,
              "#bd3786"
             ],
             [
              0.5555555555555556,
              "#d8576b"
             ],
             [
              0.6666666666666666,
              "#ed7953"
             ],
             [
              0.7777777777777778,
              "#fb9f3a"
             ],
             [
              0.8888888888888888,
              "#fdca26"
             ],
             [
              1,
              "#f0f921"
             ]
            ],
            "type": "surface"
           }
          ],
          "table": [
           {
            "cells": {
             "fill": {
              "color": "#EBF0F8"
             },
             "line": {
              "color": "white"
             }
            },
            "header": {
             "fill": {
              "color": "#C8D4E3"
             },
             "line": {
              "color": "white"
             }
            },
            "type": "table"
           }
          ]
         },
         "layout": {
          "annotationdefaults": {
           "arrowcolor": "#2a3f5f",
           "arrowhead": 0,
           "arrowwidth": 1
          },
          "autotypenumbers": "strict",
          "coloraxis": {
           "colorbar": {
            "outlinewidth": 0,
            "ticks": ""
           }
          },
          "colorscale": {
           "diverging": [
            [
             0,
             "#8e0152"
            ],
            [
             0.1,
             "#c51b7d"
            ],
            [
             0.2,
             "#de77ae"
            ],
            [
             0.3,
             "#f1b6da"
            ],
            [
             0.4,
             "#fde0ef"
            ],
            [
             0.5,
             "#f7f7f7"
            ],
            [
             0.6,
             "#e6f5d0"
            ],
            [
             0.7,
             "#b8e186"
            ],
            [
             0.8,
             "#7fbc41"
            ],
            [
             0.9,
             "#4d9221"
            ],
            [
             1,
             "#276419"
            ]
           ],
           "sequential": [
            [
             0,
             "#0d0887"
            ],
            [
             0.1111111111111111,
             "#46039f"
            ],
            [
             0.2222222222222222,
             "#7201a8"
            ],
            [
             0.3333333333333333,
             "#9c179e"
            ],
            [
             0.4444444444444444,
             "#bd3786"
            ],
            [
             0.5555555555555556,
             "#d8576b"
            ],
            [
             0.6666666666666666,
             "#ed7953"
            ],
            [
             0.7777777777777778,
             "#fb9f3a"
            ],
            [
             0.8888888888888888,
             "#fdca26"
            ],
            [
             1,
             "#f0f921"
            ]
           ],
           "sequentialminus": [
            [
             0,
             "#0d0887"
            ],
            [
             0.1111111111111111,
             "#46039f"
            ],
            [
             0.2222222222222222,
             "#7201a8"
            ],
            [
             0.3333333333333333,
             "#9c179e"
            ],
            [
             0.4444444444444444,
             "#bd3786"
            ],
            [
             0.5555555555555556,
             "#d8576b"
            ],
            [
             0.6666666666666666,
             "#ed7953"
            ],
            [
             0.7777777777777778,
             "#fb9f3a"
            ],
            [
             0.8888888888888888,
             "#fdca26"
            ],
            [
             1,
             "#f0f921"
            ]
           ]
          },
          "colorway": [
           "#636efa",
           "#EF553B",
           "#00cc96",
           "#ab63fa",
           "#FFA15A",
           "#19d3f3",
           "#FF6692",
           "#B6E880",
           "#FF97FF",
           "#FECB52"
          ],
          "font": {
           "color": "#2a3f5f"
          },
          "geo": {
           "bgcolor": "white",
           "lakecolor": "white",
           "landcolor": "#E5ECF6",
           "showlakes": true,
           "showland": true,
           "subunitcolor": "white"
          },
          "hoverlabel": {
           "align": "left"
          },
          "hovermode": "closest",
          "mapbox": {
           "style": "light"
          },
          "paper_bgcolor": "white",
          "plot_bgcolor": "#E5ECF6",
          "polar": {
           "angularaxis": {
            "gridcolor": "white",
            "linecolor": "white",
            "ticks": ""
           },
           "bgcolor": "#E5ECF6",
           "radialaxis": {
            "gridcolor": "white",
            "linecolor": "white",
            "ticks": ""
           }
          },
          "scene": {
           "xaxis": {
            "backgroundcolor": "#E5ECF6",
            "gridcolor": "white",
            "gridwidth": 2,
            "linecolor": "white",
            "showbackground": true,
            "ticks": "",
            "zerolinecolor": "white"
           },
           "yaxis": {
            "backgroundcolor": "#E5ECF6",
            "gridcolor": "white",
            "gridwidth": 2,
            "linecolor": "white",
            "showbackground": true,
            "ticks": "",
            "zerolinecolor": "white"
           },
           "zaxis": {
            "backgroundcolor": "#E5ECF6",
            "gridcolor": "white",
            "gridwidth": 2,
            "linecolor": "white",
            "showbackground": true,
            "ticks": "",
            "zerolinecolor": "white"
           }
          },
          "shapedefaults": {
           "line": {
            "color": "#2a3f5f"
           }
          },
          "ternary": {
           "aaxis": {
            "gridcolor": "white",
            "linecolor": "white",
            "ticks": ""
           },
           "baxis": {
            "gridcolor": "white",
            "linecolor": "white",
            "ticks": ""
           },
           "bgcolor": "#E5ECF6",
           "caxis": {
            "gridcolor": "white",
            "linecolor": "white",
            "ticks": ""
           }
          },
          "title": {
           "x": 0.05
          },
          "xaxis": {
           "automargin": true,
           "gridcolor": "white",
           "linecolor": "white",
           "ticks": "",
           "title": {
            "standoff": 15
           },
           "zerolinecolor": "white",
           "zerolinewidth": 2
          },
          "yaxis": {
           "automargin": true,
           "gridcolor": "white",
           "linecolor": "white",
           "ticks": "",
           "title": {
            "standoff": 15
           },
           "zerolinecolor": "white",
           "zerolinewidth": 2
          }
         }
        },
        "title": {
         "text": "Slice Plot"
        },
        "xaxis": {
         "categoryarray": [
          30,
          50,
          100,
          150
         ],
         "categoryorder": "array",
         "title": {
          "text": "neurons"
         },
         "type": "category"
        },
        "yaxis": {
         "title": {
          "text": "Objective Value"
         }
        }
       }
      },
      "text/html": [
       "<div>                            <div id=\"f9683fe1-d65d-4ca9-941f-49851afd19a5\" class=\"plotly-graph-div\" style=\"height:525px; width:100%;\"></div>            <script type=\"text/javascript\">                require([\"plotly\"], function(Plotly) {                    window.PLOTLYENV=window.PLOTLYENV || {};                                    if (document.getElementById(\"f9683fe1-d65d-4ca9-941f-49851afd19a5\")) {                    Plotly.newPlot(                        \"f9683fe1-d65d-4ca9-941f-49851afd19a5\",                        [{\"marker\":{\"color\":[0,1,2,3,4,5,6,7,8,9,10,11,12,13,14,15,16,17,18,19,20,21,22,23,24,25,26,27,28,29,30,31,32,33,34,35,36,37,38,39,40,41,42,43,44,45,46,47,48,49,50,51,52,53,54,55,56,57,58,59,60,61,62,63,64,65,66,67,68,69,70,71,72,73,74,75,76,77,78,79,80,81,82,83,84,85,86,87,88,89,90,91,92,93,94,95,96,97,98,99],\"colorbar\":{\"title\":{\"text\":\"Trial\"},\"x\":1.0,\"xpad\":40},\"colorscale\":[[0.0,\"rgb(247,251,255)\"],[0.125,\"rgb(222,235,247)\"],[0.25,\"rgb(198,219,239)\"],[0.375,\"rgb(158,202,225)\"],[0.5,\"rgb(107,174,214)\"],[0.625,\"rgb(66,146,198)\"],[0.75,\"rgb(33,113,181)\"],[0.875,\"rgb(8,81,156)\"],[1.0,\"rgb(8,48,107)\"]],\"line\":{\"color\":\"Grey\",\"width\":0.5}},\"mode\":\"markers\",\"name\":\"Feasible Trial\",\"showlegend\":false,\"x\":[50,30,30,50,50,150,150,100,30,50,100,50,50,50,50,50,50,150,100,50,50,50,50,50,50,50,100,100,100,100,100,100,100,30,100,100,100,100,150,150,150,150,30,150,100,100,100,100,100,100,150,100,100,100,100,30,100,100,150,100,100,100,100,100,100,100,30,100,150,100,100,100,100,100,100,100,100,100,150,100,30,100,100,100,100,100,150,100,100,100,100,100,100,100,100,100,150,100,100,50],\"y\":[0.07099812851714363,0.06803763988078185,0.06935717637685963,0.033668756308662694,0.048915481949797265,0.06032177846486475,0.09494716212616752,0.11948526040851484,0.0890384060669059,0.04790834845567678,0.08147728605269644,0.03204520018596852,0.035911442839034066,0.0380084449271256,0.036156556830768134,0.035851574502232274,0.03159097923306093,0.05867700351813783,0.09960922801793633,0.14290196426844332,0.07968661542800173,0.03487294569242735,0.04035386848915189,0.0304989251426833,0.030215063047830303,0.040969785243171374,0.030913903587971886,0.07856605590066378,0.12272061499937004,0.044013257278829265,0.029665209278338163,0.02544330946302394,0.03377904629513993,0.03643114803272869,0.029495592422290752,0.05650179309559903,0.03082805332358681,0.09794855181407013,0.027786075066188586,0.09540479069706274,0.05747047090766164,0.03028889357922484,0.037851165765702244,0.0316636762763494,0.032573140968758726,0.029846112662231757,0.031243394855255437,0.03079277899077107,0.1095713280868577,0.03004373981593405,0.09199621551417567,0.030893285092881077,0.03505317715491231,0.031427035507845265,0.031250927636725837,0.03715744627822359,0.029674029133280416,0.07068035396047129,0.030692968945364756,0.028348050939327085,0.028303055862232845,0.028123310581350786,0.027987560910327336,0.035413614413297476,0.03484228298483722,0.0491526415644838,0.03462192974769582,0.10630614738692863,0.13674885791405172,0.028719260562069537,0.03011008600535548,0.02850172999406871,0.031158382523600613,0.029533398330353892,0.029073039603620898,0.03005558704893089,0.05679923213808787,0.043408674136248784,0.02960952114997937,0.03786102749132027,0.09032265263153401,0.03258350728370278,0.028940832951127714,0.028121087290022755,0.02666154609321162,0.029762923919660927,0.0988350074471379,0.03223196043380262,0.03262654975836703,0.04355811711257015,0.0321796020324858,0.026796976604662858,0.05308720374660231,0.028309399447956463,0.025754147813209206,0.033082916961841936,0.05639014160756948,0.03287416330060368,0.029386534117167497,0.031714212697589575],\"type\":\"scatter\"}],                        {\"title\":{\"text\":\"Slice Plot\"},\"template\":{\"data\":{\"histogram2dcontour\":[{\"type\":\"histogram2dcontour\",\"colorbar\":{\"outlinewidth\":0,\"ticks\":\"\"},\"colorscale\":[[0.0,\"#0d0887\"],[0.1111111111111111,\"#46039f\"],[0.2222222222222222,\"#7201a8\"],[0.3333333333333333,\"#9c179e\"],[0.4444444444444444,\"#bd3786\"],[0.5555555555555556,\"#d8576b\"],[0.6666666666666666,\"#ed7953\"],[0.7777777777777778,\"#fb9f3a\"],[0.8888888888888888,\"#fdca26\"],[1.0,\"#f0f921\"]]}],\"choropleth\":[{\"type\":\"choropleth\",\"colorbar\":{\"outlinewidth\":0,\"ticks\":\"\"}}],\"histogram2d\":[{\"type\":\"histogram2d\",\"colorbar\":{\"outlinewidth\":0,\"ticks\":\"\"},\"colorscale\":[[0.0,\"#0d0887\"],[0.1111111111111111,\"#46039f\"],[0.2222222222222222,\"#7201a8\"],[0.3333333333333333,\"#9c179e\"],[0.4444444444444444,\"#bd3786\"],[0.5555555555555556,\"#d8576b\"],[0.6666666666666666,\"#ed7953\"],[0.7777777777777778,\"#fb9f3a\"],[0.8888888888888888,\"#fdca26\"],[1.0,\"#f0f921\"]]}],\"heatmap\":[{\"type\":\"heatmap\",\"colorbar\":{\"outlinewidth\":0,\"ticks\":\"\"},\"colorscale\":[[0.0,\"#0d0887\"],[0.1111111111111111,\"#46039f\"],[0.2222222222222222,\"#7201a8\"],[0.3333333333333333,\"#9c179e\"],[0.4444444444444444,\"#bd3786\"],[0.5555555555555556,\"#d8576b\"],[0.6666666666666666,\"#ed7953\"],[0.7777777777777778,\"#fb9f3a\"],[0.8888888888888888,\"#fdca26\"],[1.0,\"#f0f921\"]]}],\"heatmapgl\":[{\"type\":\"heatmapgl\",\"colorbar\":{\"outlinewidth\":0,\"ticks\":\"\"},\"colorscale\":[[0.0,\"#0d0887\"],[0.1111111111111111,\"#46039f\"],[0.2222222222222222,\"#7201a8\"],[0.3333333333333333,\"#9c179e\"],[0.4444444444444444,\"#bd3786\"],[0.5555555555555556,\"#d8576b\"],[0.6666666666666666,\"#ed7953\"],[0.7777777777777778,\"#fb9f3a\"],[0.8888888888888888,\"#fdca26\"],[1.0,\"#f0f921\"]]}],\"contourcarpet\":[{\"type\":\"contourcarpet\",\"colorbar\":{\"outlinewidth\":0,\"ticks\":\"\"}}],\"contour\":[{\"type\":\"contour\",\"colorbar\":{\"outlinewidth\":0,\"ticks\":\"\"},\"colorscale\":[[0.0,\"#0d0887\"],[0.1111111111111111,\"#46039f\"],[0.2222222222222222,\"#7201a8\"],[0.3333333333333333,\"#9c179e\"],[0.4444444444444444,\"#bd3786\"],[0.5555555555555556,\"#d8576b\"],[0.6666666666666666,\"#ed7953\"],[0.7777777777777778,\"#fb9f3a\"],[0.8888888888888888,\"#fdca26\"],[1.0,\"#f0f921\"]]}],\"surface\":[{\"type\":\"surface\",\"colorbar\":{\"outlinewidth\":0,\"ticks\":\"\"},\"colorscale\":[[0.0,\"#0d0887\"],[0.1111111111111111,\"#46039f\"],[0.2222222222222222,\"#7201a8\"],[0.3333333333333333,\"#9c179e\"],[0.4444444444444444,\"#bd3786\"],[0.5555555555555556,\"#d8576b\"],[0.6666666666666666,\"#ed7953\"],[0.7777777777777778,\"#fb9f3a\"],[0.8888888888888888,\"#fdca26\"],[1.0,\"#f0f921\"]]}],\"mesh3d\":[{\"type\":\"mesh3d\",\"colorbar\":{\"outlinewidth\":0,\"ticks\":\"\"}}],\"scatter\":[{\"fillpattern\":{\"fillmode\":\"overlay\",\"size\":10,\"solidity\":0.2},\"type\":\"scatter\"}],\"parcoords\":[{\"type\":\"parcoords\",\"line\":{\"colorbar\":{\"outlinewidth\":0,\"ticks\":\"\"}}}],\"scatterpolargl\":[{\"type\":\"scatterpolargl\",\"marker\":{\"colorbar\":{\"outlinewidth\":0,\"ticks\":\"\"}}}],\"bar\":[{\"error_x\":{\"color\":\"#2a3f5f\"},\"error_y\":{\"color\":\"#2a3f5f\"},\"marker\":{\"line\":{\"color\":\"#E5ECF6\",\"width\":0.5},\"pattern\":{\"fillmode\":\"overlay\",\"size\":10,\"solidity\":0.2}},\"type\":\"bar\"}],\"scattergeo\":[{\"type\":\"scattergeo\",\"marker\":{\"colorbar\":{\"outlinewidth\":0,\"ticks\":\"\"}}}],\"scatterpolar\":[{\"type\":\"scatterpolar\",\"marker\":{\"colorbar\":{\"outlinewidth\":0,\"ticks\":\"\"}}}],\"histogram\":[{\"marker\":{\"pattern\":{\"fillmode\":\"overlay\",\"size\":10,\"solidity\":0.2}},\"type\":\"histogram\"}],\"scattergl\":[{\"type\":\"scattergl\",\"marker\":{\"colorbar\":{\"outlinewidth\":0,\"ticks\":\"\"}}}],\"scatter3d\":[{\"type\":\"scatter3d\",\"line\":{\"colorbar\":{\"outlinewidth\":0,\"ticks\":\"\"}},\"marker\":{\"colorbar\":{\"outlinewidth\":0,\"ticks\":\"\"}}}],\"scattermapbox\":[{\"type\":\"scattermapbox\",\"marker\":{\"colorbar\":{\"outlinewidth\":0,\"ticks\":\"\"}}}],\"scatterternary\":[{\"type\":\"scatterternary\",\"marker\":{\"colorbar\":{\"outlinewidth\":0,\"ticks\":\"\"}}}],\"scattercarpet\":[{\"type\":\"scattercarpet\",\"marker\":{\"colorbar\":{\"outlinewidth\":0,\"ticks\":\"\"}}}],\"carpet\":[{\"aaxis\":{\"endlinecolor\":\"#2a3f5f\",\"gridcolor\":\"white\",\"linecolor\":\"white\",\"minorgridcolor\":\"white\",\"startlinecolor\":\"#2a3f5f\"},\"baxis\":{\"endlinecolor\":\"#2a3f5f\",\"gridcolor\":\"white\",\"linecolor\":\"white\",\"minorgridcolor\":\"white\",\"startlinecolor\":\"#2a3f5f\"},\"type\":\"carpet\"}],\"table\":[{\"cells\":{\"fill\":{\"color\":\"#EBF0F8\"},\"line\":{\"color\":\"white\"}},\"header\":{\"fill\":{\"color\":\"#C8D4E3\"},\"line\":{\"color\":\"white\"}},\"type\":\"table\"}],\"barpolar\":[{\"marker\":{\"line\":{\"color\":\"#E5ECF6\",\"width\":0.5},\"pattern\":{\"fillmode\":\"overlay\",\"size\":10,\"solidity\":0.2}},\"type\":\"barpolar\"}],\"pie\":[{\"automargin\":true,\"type\":\"pie\"}]},\"layout\":{\"autotypenumbers\":\"strict\",\"colorway\":[\"#636efa\",\"#EF553B\",\"#00cc96\",\"#ab63fa\",\"#FFA15A\",\"#19d3f3\",\"#FF6692\",\"#B6E880\",\"#FF97FF\",\"#FECB52\"],\"font\":{\"color\":\"#2a3f5f\"},\"hovermode\":\"closest\",\"hoverlabel\":{\"align\":\"left\"},\"paper_bgcolor\":\"white\",\"plot_bgcolor\":\"#E5ECF6\",\"polar\":{\"bgcolor\":\"#E5ECF6\",\"angularaxis\":{\"gridcolor\":\"white\",\"linecolor\":\"white\",\"ticks\":\"\"},\"radialaxis\":{\"gridcolor\":\"white\",\"linecolor\":\"white\",\"ticks\":\"\"}},\"ternary\":{\"bgcolor\":\"#E5ECF6\",\"aaxis\":{\"gridcolor\":\"white\",\"linecolor\":\"white\",\"ticks\":\"\"},\"baxis\":{\"gridcolor\":\"white\",\"linecolor\":\"white\",\"ticks\":\"\"},\"caxis\":{\"gridcolor\":\"white\",\"linecolor\":\"white\",\"ticks\":\"\"}},\"coloraxis\":{\"colorbar\":{\"outlinewidth\":0,\"ticks\":\"\"}},\"colorscale\":{\"sequential\":[[0.0,\"#0d0887\"],[0.1111111111111111,\"#46039f\"],[0.2222222222222222,\"#7201a8\"],[0.3333333333333333,\"#9c179e\"],[0.4444444444444444,\"#bd3786\"],[0.5555555555555556,\"#d8576b\"],[0.6666666666666666,\"#ed7953\"],[0.7777777777777778,\"#fb9f3a\"],[0.8888888888888888,\"#fdca26\"],[1.0,\"#f0f921\"]],\"sequentialminus\":[[0.0,\"#0d0887\"],[0.1111111111111111,\"#46039f\"],[0.2222222222222222,\"#7201a8\"],[0.3333333333333333,\"#9c179e\"],[0.4444444444444444,\"#bd3786\"],[0.5555555555555556,\"#d8576b\"],[0.6666666666666666,\"#ed7953\"],[0.7777777777777778,\"#fb9f3a\"],[0.8888888888888888,\"#fdca26\"],[1.0,\"#f0f921\"]],\"diverging\":[[0,\"#8e0152\"],[0.1,\"#c51b7d\"],[0.2,\"#de77ae\"],[0.3,\"#f1b6da\"],[0.4,\"#fde0ef\"],[0.5,\"#f7f7f7\"],[0.6,\"#e6f5d0\"],[0.7,\"#b8e186\"],[0.8,\"#7fbc41\"],[0.9,\"#4d9221\"],[1,\"#276419\"]]},\"xaxis\":{\"gridcolor\":\"white\",\"linecolor\":\"white\",\"ticks\":\"\",\"title\":{\"standoff\":15},\"zerolinecolor\":\"white\",\"automargin\":true,\"zerolinewidth\":2},\"yaxis\":{\"gridcolor\":\"white\",\"linecolor\":\"white\",\"ticks\":\"\",\"title\":{\"standoff\":15},\"zerolinecolor\":\"white\",\"automargin\":true,\"zerolinewidth\":2},\"scene\":{\"xaxis\":{\"backgroundcolor\":\"#E5ECF6\",\"gridcolor\":\"white\",\"linecolor\":\"white\",\"showbackground\":true,\"ticks\":\"\",\"zerolinecolor\":\"white\",\"gridwidth\":2},\"yaxis\":{\"backgroundcolor\":\"#E5ECF6\",\"gridcolor\":\"white\",\"linecolor\":\"white\",\"showbackground\":true,\"ticks\":\"\",\"zerolinecolor\":\"white\",\"gridwidth\":2},\"zaxis\":{\"backgroundcolor\":\"#E5ECF6\",\"gridcolor\":\"white\",\"linecolor\":\"white\",\"showbackground\":true,\"ticks\":\"\",\"zerolinecolor\":\"white\",\"gridwidth\":2}},\"shapedefaults\":{\"line\":{\"color\":\"#2a3f5f\"}},\"annotationdefaults\":{\"arrowcolor\":\"#2a3f5f\",\"arrowhead\":0,\"arrowwidth\":1},\"geo\":{\"bgcolor\":\"white\",\"landcolor\":\"#E5ECF6\",\"subunitcolor\":\"white\",\"showland\":true,\"showlakes\":true,\"lakecolor\":\"white\"},\"title\":{\"x\":0.05},\"mapbox\":{\"style\":\"light\"}}},\"xaxis\":{\"title\":{\"text\":\"neurons\"},\"type\":\"category\",\"categoryorder\":\"array\",\"categoryarray\":[30,50,100,150]},\"yaxis\":{\"title\":{\"text\":\"Objective Value\"}}},                        {\"responsive\": true}                    ).then(function(){\n",
       "                            \n",
       "var gd = document.getElementById('f9683fe1-d65d-4ca9-941f-49851afd19a5');\n",
       "var x = new MutationObserver(function (mutations, observer) {{\n",
       "        var display = window.getComputedStyle(gd).display;\n",
       "        if (!display || display === 'none') {{\n",
       "            console.log([gd, 'removed!']);\n",
       "            Plotly.purge(gd);\n",
       "            observer.disconnect();\n",
       "        }}\n",
       "}});\n",
       "\n",
       "// Listen for the removal of the full notebook cells\n",
       "var notebookContainer = gd.closest('#notebook-container');\n",
       "if (notebookContainer) {{\n",
       "    x.observe(notebookContainer, {childList: true});\n",
       "}}\n",
       "\n",
       "// Listen for the clearing of the current output cell\n",
       "var outputEl = gd.closest('.output');\n",
       "if (outputEl) {{\n",
       "    x.observe(outputEl, {childList: true});\n",
       "}}\n",
       "\n",
       "                        })                };                });            </script>        </div>"
      ]
     },
     "metadata": {},
     "output_type": "display_data"
    },
    {
     "data": {
      "application/vnd.plotly.v1+json": {
       "config": {
        "plotlyServerURL": "https://plot.ly"
       },
       "data": [
        {
         "marker": {
          "color": [
           0,
           1,
           2,
           3,
           4,
           5,
           6,
           7,
           8,
           9,
           10,
           11,
           12,
           13,
           14,
           15,
           16,
           17,
           18,
           19,
           20,
           21,
           22,
           23,
           24,
           25,
           26,
           27,
           28,
           29,
           30,
           31,
           32,
           33,
           34,
           35,
           36,
           37,
           38,
           39,
           40,
           41,
           42,
           43,
           44,
           45,
           46,
           47,
           48,
           49,
           50,
           51,
           52,
           53,
           54,
           55,
           56,
           57,
           58,
           59,
           60,
           61,
           62,
           63,
           64,
           65,
           66,
           67,
           68,
           69,
           70,
           71,
           72,
           73,
           74,
           75,
           76,
           77,
           78,
           79,
           80,
           81,
           82,
           83,
           84,
           85,
           86,
           87,
           88,
           89,
           90,
           91,
           92,
           93,
           94,
           95,
           96,
           97,
           98,
           99
          ],
          "colorbar": {
           "title": {
            "text": "Trial"
           },
           "x": 1,
           "xpad": 40
          },
          "colorscale": [
           [
            0,
            "rgb(247,251,255)"
           ],
           [
            0.125,
            "rgb(222,235,247)"
           ],
           [
            0.25,
            "rgb(198,219,239)"
           ],
           [
            0.375,
            "rgb(158,202,225)"
           ],
           [
            0.5,
            "rgb(107,174,214)"
           ],
           [
            0.625,
            "rgb(66,146,198)"
           ],
           [
            0.75,
            "rgb(33,113,181)"
           ],
           [
            0.875,
            "rgb(8,81,156)"
           ],
           [
            1,
            "rgb(8,48,107)"
           ]
          ],
          "line": {
           "color": "Grey",
           "width": 0.5
          }
         },
         "mode": "markers",
         "name": "Feasible Trial",
         "showlegend": false,
         "type": "scatter",
         "x": [
          0.001,
          0.001,
          0.1,
          0.01,
          0.01,
          0.001,
          0.0001,
          0.1,
          0.0001,
          0.001,
          0.01,
          0.01,
          0.01,
          0.01,
          0.01,
          0.01,
          0.01,
          0.01,
          0.0001,
          0.1,
          0.01,
          0.01,
          0.01,
          0.01,
          0.01,
          0.01,
          0.01,
          0.0001,
          0.1,
          0.001,
          0.01,
          0.01,
          0.01,
          0.01,
          0.01,
          0.001,
          0.01,
          0.1,
          0.01,
          0.0001,
          0.001,
          0.01,
          0.01,
          0.01,
          0.01,
          0.01,
          0.01,
          0.01,
          0.1,
          0.01,
          0.0001,
          0.01,
          0.01,
          0.01,
          0.01,
          0.01,
          0.01,
          0.001,
          0.01,
          0.01,
          0.01,
          0.01,
          0.01,
          0.01,
          0.01,
          0.01,
          0.01,
          0.0001,
          0.1,
          0.01,
          0.01,
          0.01,
          0.01,
          0.01,
          0.01,
          0.01,
          0.001,
          0.01,
          0.01,
          0.01,
          0.1,
          0.01,
          0.01,
          0.01,
          0.01,
          0.01,
          0.0001,
          0.01,
          0.01,
          0.01,
          0.01,
          0.01,
          0.01,
          0.01,
          0.01,
          0.01,
          0.001,
          0.01,
          0.01,
          0.01
         ],
         "y": [
          0.07099812851714363,
          0.06803763988078185,
          0.06935717637685963,
          0.033668756308662694,
          0.048915481949797265,
          0.06032177846486475,
          0.09494716212616752,
          0.11948526040851484,
          0.0890384060669059,
          0.04790834845567678,
          0.08147728605269644,
          0.03204520018596852,
          0.035911442839034066,
          0.0380084449271256,
          0.036156556830768134,
          0.035851574502232274,
          0.03159097923306093,
          0.05867700351813783,
          0.09960922801793633,
          0.14290196426844332,
          0.07968661542800173,
          0.03487294569242735,
          0.04035386848915189,
          0.0304989251426833,
          0.030215063047830303,
          0.040969785243171374,
          0.030913903587971886,
          0.07856605590066378,
          0.12272061499937004,
          0.044013257278829265,
          0.029665209278338163,
          0.02544330946302394,
          0.03377904629513993,
          0.03643114803272869,
          0.029495592422290752,
          0.05650179309559903,
          0.03082805332358681,
          0.09794855181407013,
          0.027786075066188586,
          0.09540479069706274,
          0.05747047090766164,
          0.03028889357922484,
          0.037851165765702244,
          0.0316636762763494,
          0.032573140968758726,
          0.029846112662231757,
          0.031243394855255437,
          0.03079277899077107,
          0.1095713280868577,
          0.03004373981593405,
          0.09199621551417567,
          0.030893285092881077,
          0.03505317715491231,
          0.031427035507845265,
          0.031250927636725837,
          0.03715744627822359,
          0.029674029133280416,
          0.07068035396047129,
          0.030692968945364756,
          0.028348050939327085,
          0.028303055862232845,
          0.028123310581350786,
          0.027987560910327336,
          0.035413614413297476,
          0.03484228298483722,
          0.0491526415644838,
          0.03462192974769582,
          0.10630614738692863,
          0.13674885791405172,
          0.028719260562069537,
          0.03011008600535548,
          0.02850172999406871,
          0.031158382523600613,
          0.029533398330353892,
          0.029073039603620898,
          0.03005558704893089,
          0.05679923213808787,
          0.043408674136248784,
          0.02960952114997937,
          0.03786102749132027,
          0.09032265263153401,
          0.03258350728370278,
          0.028940832951127714,
          0.028121087290022755,
          0.02666154609321162,
          0.029762923919660927,
          0.0988350074471379,
          0.03223196043380262,
          0.03262654975836703,
          0.04355811711257015,
          0.0321796020324858,
          0.026796976604662858,
          0.05308720374660231,
          0.028309399447956463,
          0.025754147813209206,
          0.033082916961841936,
          0.05639014160756948,
          0.03287416330060368,
          0.029386534117167497,
          0.031714212697589575
         ]
        }
       ],
       "layout": {
        "template": {
         "data": {
          "bar": [
           {
            "error_x": {
             "color": "#2a3f5f"
            },
            "error_y": {
             "color": "#2a3f5f"
            },
            "marker": {
             "line": {
              "color": "#E5ECF6",
              "width": 0.5
             },
             "pattern": {
              "fillmode": "overlay",
              "size": 10,
              "solidity": 0.2
             }
            },
            "type": "bar"
           }
          ],
          "barpolar": [
           {
            "marker": {
             "line": {
              "color": "#E5ECF6",
              "width": 0.5
             },
             "pattern": {
              "fillmode": "overlay",
              "size": 10,
              "solidity": 0.2
             }
            },
            "type": "barpolar"
           }
          ],
          "carpet": [
           {
            "aaxis": {
             "endlinecolor": "#2a3f5f",
             "gridcolor": "white",
             "linecolor": "white",
             "minorgridcolor": "white",
             "startlinecolor": "#2a3f5f"
            },
            "baxis": {
             "endlinecolor": "#2a3f5f",
             "gridcolor": "white",
             "linecolor": "white",
             "minorgridcolor": "white",
             "startlinecolor": "#2a3f5f"
            },
            "type": "carpet"
           }
          ],
          "choropleth": [
           {
            "colorbar": {
             "outlinewidth": 0,
             "ticks": ""
            },
            "type": "choropleth"
           }
          ],
          "contour": [
           {
            "colorbar": {
             "outlinewidth": 0,
             "ticks": ""
            },
            "colorscale": [
             [
              0,
              "#0d0887"
             ],
             [
              0.1111111111111111,
              "#46039f"
             ],
             [
              0.2222222222222222,
              "#7201a8"
             ],
             [
              0.3333333333333333,
              "#9c179e"
             ],
             [
              0.4444444444444444,
              "#bd3786"
             ],
             [
              0.5555555555555556,
              "#d8576b"
             ],
             [
              0.6666666666666666,
              "#ed7953"
             ],
             [
              0.7777777777777778,
              "#fb9f3a"
             ],
             [
              0.8888888888888888,
              "#fdca26"
             ],
             [
              1,
              "#f0f921"
             ]
            ],
            "type": "contour"
           }
          ],
          "contourcarpet": [
           {
            "colorbar": {
             "outlinewidth": 0,
             "ticks": ""
            },
            "type": "contourcarpet"
           }
          ],
          "heatmap": [
           {
            "colorbar": {
             "outlinewidth": 0,
             "ticks": ""
            },
            "colorscale": [
             [
              0,
              "#0d0887"
             ],
             [
              0.1111111111111111,
              "#46039f"
             ],
             [
              0.2222222222222222,
              "#7201a8"
             ],
             [
              0.3333333333333333,
              "#9c179e"
             ],
             [
              0.4444444444444444,
              "#bd3786"
             ],
             [
              0.5555555555555556,
              "#d8576b"
             ],
             [
              0.6666666666666666,
              "#ed7953"
             ],
             [
              0.7777777777777778,
              "#fb9f3a"
             ],
             [
              0.8888888888888888,
              "#fdca26"
             ],
             [
              1,
              "#f0f921"
             ]
            ],
            "type": "heatmap"
           }
          ],
          "heatmapgl": [
           {
            "colorbar": {
             "outlinewidth": 0,
             "ticks": ""
            },
            "colorscale": [
             [
              0,
              "#0d0887"
             ],
             [
              0.1111111111111111,
              "#46039f"
             ],
             [
              0.2222222222222222,
              "#7201a8"
             ],
             [
              0.3333333333333333,
              "#9c179e"
             ],
             [
              0.4444444444444444,
              "#bd3786"
             ],
             [
              0.5555555555555556,
              "#d8576b"
             ],
             [
              0.6666666666666666,
              "#ed7953"
             ],
             [
              0.7777777777777778,
              "#fb9f3a"
             ],
             [
              0.8888888888888888,
              "#fdca26"
             ],
             [
              1,
              "#f0f921"
             ]
            ],
            "type": "heatmapgl"
           }
          ],
          "histogram": [
           {
            "marker": {
             "pattern": {
              "fillmode": "overlay",
              "size": 10,
              "solidity": 0.2
             }
            },
            "type": "histogram"
           }
          ],
          "histogram2d": [
           {
            "colorbar": {
             "outlinewidth": 0,
             "ticks": ""
            },
            "colorscale": [
             [
              0,
              "#0d0887"
             ],
             [
              0.1111111111111111,
              "#46039f"
             ],
             [
              0.2222222222222222,
              "#7201a8"
             ],
             [
              0.3333333333333333,
              "#9c179e"
             ],
             [
              0.4444444444444444,
              "#bd3786"
             ],
             [
              0.5555555555555556,
              "#d8576b"
             ],
             [
              0.6666666666666666,
              "#ed7953"
             ],
             [
              0.7777777777777778,
              "#fb9f3a"
             ],
             [
              0.8888888888888888,
              "#fdca26"
             ],
             [
              1,
              "#f0f921"
             ]
            ],
            "type": "histogram2d"
           }
          ],
          "histogram2dcontour": [
           {
            "colorbar": {
             "outlinewidth": 0,
             "ticks": ""
            },
            "colorscale": [
             [
              0,
              "#0d0887"
             ],
             [
              0.1111111111111111,
              "#46039f"
             ],
             [
              0.2222222222222222,
              "#7201a8"
             ],
             [
              0.3333333333333333,
              "#9c179e"
             ],
             [
              0.4444444444444444,
              "#bd3786"
             ],
             [
              0.5555555555555556,
              "#d8576b"
             ],
             [
              0.6666666666666666,
              "#ed7953"
             ],
             [
              0.7777777777777778,
              "#fb9f3a"
             ],
             [
              0.8888888888888888,
              "#fdca26"
             ],
             [
              1,
              "#f0f921"
             ]
            ],
            "type": "histogram2dcontour"
           }
          ],
          "mesh3d": [
           {
            "colorbar": {
             "outlinewidth": 0,
             "ticks": ""
            },
            "type": "mesh3d"
           }
          ],
          "parcoords": [
           {
            "line": {
             "colorbar": {
              "outlinewidth": 0,
              "ticks": ""
             }
            },
            "type": "parcoords"
           }
          ],
          "pie": [
           {
            "automargin": true,
            "type": "pie"
           }
          ],
          "scatter": [
           {
            "fillpattern": {
             "fillmode": "overlay",
             "size": 10,
             "solidity": 0.2
            },
            "type": "scatter"
           }
          ],
          "scatter3d": [
           {
            "line": {
             "colorbar": {
              "outlinewidth": 0,
              "ticks": ""
             }
            },
            "marker": {
             "colorbar": {
              "outlinewidth": 0,
              "ticks": ""
             }
            },
            "type": "scatter3d"
           }
          ],
          "scattercarpet": [
           {
            "marker": {
             "colorbar": {
              "outlinewidth": 0,
              "ticks": ""
             }
            },
            "type": "scattercarpet"
           }
          ],
          "scattergeo": [
           {
            "marker": {
             "colorbar": {
              "outlinewidth": 0,
              "ticks": ""
             }
            },
            "type": "scattergeo"
           }
          ],
          "scattergl": [
           {
            "marker": {
             "colorbar": {
              "outlinewidth": 0,
              "ticks": ""
             }
            },
            "type": "scattergl"
           }
          ],
          "scattermapbox": [
           {
            "marker": {
             "colorbar": {
              "outlinewidth": 0,
              "ticks": ""
             }
            },
            "type": "scattermapbox"
           }
          ],
          "scatterpolar": [
           {
            "marker": {
             "colorbar": {
              "outlinewidth": 0,
              "ticks": ""
             }
            },
            "type": "scatterpolar"
           }
          ],
          "scatterpolargl": [
           {
            "marker": {
             "colorbar": {
              "outlinewidth": 0,
              "ticks": ""
             }
            },
            "type": "scatterpolargl"
           }
          ],
          "scatterternary": [
           {
            "marker": {
             "colorbar": {
              "outlinewidth": 0,
              "ticks": ""
             }
            },
            "type": "scatterternary"
           }
          ],
          "surface": [
           {
            "colorbar": {
             "outlinewidth": 0,
             "ticks": ""
            },
            "colorscale": [
             [
              0,
              "#0d0887"
             ],
             [
              0.1111111111111111,
              "#46039f"
             ],
             [
              0.2222222222222222,
              "#7201a8"
             ],
             [
              0.3333333333333333,
              "#9c179e"
             ],
             [
              0.4444444444444444,
              "#bd3786"
             ],
             [
              0.5555555555555556,
              "#d8576b"
             ],
             [
              0.6666666666666666,
              "#ed7953"
             ],
             [
              0.7777777777777778,
              "#fb9f3a"
             ],
             [
              0.8888888888888888,
              "#fdca26"
             ],
             [
              1,
              "#f0f921"
             ]
            ],
            "type": "surface"
           }
          ],
          "table": [
           {
            "cells": {
             "fill": {
              "color": "#EBF0F8"
             },
             "line": {
              "color": "white"
             }
            },
            "header": {
             "fill": {
              "color": "#C8D4E3"
             },
             "line": {
              "color": "white"
             }
            },
            "type": "table"
           }
          ]
         },
         "layout": {
          "annotationdefaults": {
           "arrowcolor": "#2a3f5f",
           "arrowhead": 0,
           "arrowwidth": 1
          },
          "autotypenumbers": "strict",
          "coloraxis": {
           "colorbar": {
            "outlinewidth": 0,
            "ticks": ""
           }
          },
          "colorscale": {
           "diverging": [
            [
             0,
             "#8e0152"
            ],
            [
             0.1,
             "#c51b7d"
            ],
            [
             0.2,
             "#de77ae"
            ],
            [
             0.3,
             "#f1b6da"
            ],
            [
             0.4,
             "#fde0ef"
            ],
            [
             0.5,
             "#f7f7f7"
            ],
            [
             0.6,
             "#e6f5d0"
            ],
            [
             0.7,
             "#b8e186"
            ],
            [
             0.8,
             "#7fbc41"
            ],
            [
             0.9,
             "#4d9221"
            ],
            [
             1,
             "#276419"
            ]
           ],
           "sequential": [
            [
             0,
             "#0d0887"
            ],
            [
             0.1111111111111111,
             "#46039f"
            ],
            [
             0.2222222222222222,
             "#7201a8"
            ],
            [
             0.3333333333333333,
             "#9c179e"
            ],
            [
             0.4444444444444444,
             "#bd3786"
            ],
            [
             0.5555555555555556,
             "#d8576b"
            ],
            [
             0.6666666666666666,
             "#ed7953"
            ],
            [
             0.7777777777777778,
             "#fb9f3a"
            ],
            [
             0.8888888888888888,
             "#fdca26"
            ],
            [
             1,
             "#f0f921"
            ]
           ],
           "sequentialminus": [
            [
             0,
             "#0d0887"
            ],
            [
             0.1111111111111111,
             "#46039f"
            ],
            [
             0.2222222222222222,
             "#7201a8"
            ],
            [
             0.3333333333333333,
             "#9c179e"
            ],
            [
             0.4444444444444444,
             "#bd3786"
            ],
            [
             0.5555555555555556,
             "#d8576b"
            ],
            [
             0.6666666666666666,
             "#ed7953"
            ],
            [
             0.7777777777777778,
             "#fb9f3a"
            ],
            [
             0.8888888888888888,
             "#fdca26"
            ],
            [
             1,
             "#f0f921"
            ]
           ]
          },
          "colorway": [
           "#636efa",
           "#EF553B",
           "#00cc96",
           "#ab63fa",
           "#FFA15A",
           "#19d3f3",
           "#FF6692",
           "#B6E880",
           "#FF97FF",
           "#FECB52"
          ],
          "font": {
           "color": "#2a3f5f"
          },
          "geo": {
           "bgcolor": "white",
           "lakecolor": "white",
           "landcolor": "#E5ECF6",
           "showlakes": true,
           "showland": true,
           "subunitcolor": "white"
          },
          "hoverlabel": {
           "align": "left"
          },
          "hovermode": "closest",
          "mapbox": {
           "style": "light"
          },
          "paper_bgcolor": "white",
          "plot_bgcolor": "#E5ECF6",
          "polar": {
           "angularaxis": {
            "gridcolor": "white",
            "linecolor": "white",
            "ticks": ""
           },
           "bgcolor": "#E5ECF6",
           "radialaxis": {
            "gridcolor": "white",
            "linecolor": "white",
            "ticks": ""
           }
          },
          "scene": {
           "xaxis": {
            "backgroundcolor": "#E5ECF6",
            "gridcolor": "white",
            "gridwidth": 2,
            "linecolor": "white",
            "showbackground": true,
            "ticks": "",
            "zerolinecolor": "white"
           },
           "yaxis": {
            "backgroundcolor": "#E5ECF6",
            "gridcolor": "white",
            "gridwidth": 2,
            "linecolor": "white",
            "showbackground": true,
            "ticks": "",
            "zerolinecolor": "white"
           },
           "zaxis": {
            "backgroundcolor": "#E5ECF6",
            "gridcolor": "white",
            "gridwidth": 2,
            "linecolor": "white",
            "showbackground": true,
            "ticks": "",
            "zerolinecolor": "white"
           }
          },
          "shapedefaults": {
           "line": {
            "color": "#2a3f5f"
           }
          },
          "ternary": {
           "aaxis": {
            "gridcolor": "white",
            "linecolor": "white",
            "ticks": ""
           },
           "baxis": {
            "gridcolor": "white",
            "linecolor": "white",
            "ticks": ""
           },
           "bgcolor": "#E5ECF6",
           "caxis": {
            "gridcolor": "white",
            "linecolor": "white",
            "ticks": ""
           }
          },
          "title": {
           "x": 0.05
          },
          "xaxis": {
           "automargin": true,
           "gridcolor": "white",
           "linecolor": "white",
           "ticks": "",
           "title": {
            "standoff": 15
           },
           "zerolinecolor": "white",
           "zerolinewidth": 2
          },
          "yaxis": {
           "automargin": true,
           "gridcolor": "white",
           "linecolor": "white",
           "ticks": "",
           "title": {
            "standoff": 15
           },
           "zerolinecolor": "white",
           "zerolinewidth": 2
          }
         }
        },
        "title": {
         "text": "Slice Plot"
        },
        "xaxis": {
         "categoryarray": [
          0.0001,
          0.001,
          0.01,
          0.1
         ],
         "categoryorder": "array",
         "title": {
          "text": "learning_rate"
         },
         "type": "category"
        },
        "yaxis": {
         "title": {
          "text": "Objective Value"
         }
        }
       }
      },
      "text/html": [
       "<div>                            <div id=\"5320d6aa-9e6a-47be-abcd-df3a0955c53c\" class=\"plotly-graph-div\" style=\"height:525px; width:100%;\"></div>            <script type=\"text/javascript\">                require([\"plotly\"], function(Plotly) {                    window.PLOTLYENV=window.PLOTLYENV || {};                                    if (document.getElementById(\"5320d6aa-9e6a-47be-abcd-df3a0955c53c\")) {                    Plotly.newPlot(                        \"5320d6aa-9e6a-47be-abcd-df3a0955c53c\",                        [{\"marker\":{\"color\":[0,1,2,3,4,5,6,7,8,9,10,11,12,13,14,15,16,17,18,19,20,21,22,23,24,25,26,27,28,29,30,31,32,33,34,35,36,37,38,39,40,41,42,43,44,45,46,47,48,49,50,51,52,53,54,55,56,57,58,59,60,61,62,63,64,65,66,67,68,69,70,71,72,73,74,75,76,77,78,79,80,81,82,83,84,85,86,87,88,89,90,91,92,93,94,95,96,97,98,99],\"colorbar\":{\"title\":{\"text\":\"Trial\"},\"x\":1.0,\"xpad\":40},\"colorscale\":[[0.0,\"rgb(247,251,255)\"],[0.125,\"rgb(222,235,247)\"],[0.25,\"rgb(198,219,239)\"],[0.375,\"rgb(158,202,225)\"],[0.5,\"rgb(107,174,214)\"],[0.625,\"rgb(66,146,198)\"],[0.75,\"rgb(33,113,181)\"],[0.875,\"rgb(8,81,156)\"],[1.0,\"rgb(8,48,107)\"]],\"line\":{\"color\":\"Grey\",\"width\":0.5}},\"mode\":\"markers\",\"name\":\"Feasible Trial\",\"showlegend\":false,\"x\":[0.001,0.001,0.1,0.01,0.01,0.001,0.0001,0.1,0.0001,0.001,0.01,0.01,0.01,0.01,0.01,0.01,0.01,0.01,0.0001,0.1,0.01,0.01,0.01,0.01,0.01,0.01,0.01,0.0001,0.1,0.001,0.01,0.01,0.01,0.01,0.01,0.001,0.01,0.1,0.01,0.0001,0.001,0.01,0.01,0.01,0.01,0.01,0.01,0.01,0.1,0.01,0.0001,0.01,0.01,0.01,0.01,0.01,0.01,0.001,0.01,0.01,0.01,0.01,0.01,0.01,0.01,0.01,0.01,0.0001,0.1,0.01,0.01,0.01,0.01,0.01,0.01,0.01,0.001,0.01,0.01,0.01,0.1,0.01,0.01,0.01,0.01,0.01,0.0001,0.01,0.01,0.01,0.01,0.01,0.01,0.01,0.01,0.01,0.001,0.01,0.01,0.01],\"y\":[0.07099812851714363,0.06803763988078185,0.06935717637685963,0.033668756308662694,0.048915481949797265,0.06032177846486475,0.09494716212616752,0.11948526040851484,0.0890384060669059,0.04790834845567678,0.08147728605269644,0.03204520018596852,0.035911442839034066,0.0380084449271256,0.036156556830768134,0.035851574502232274,0.03159097923306093,0.05867700351813783,0.09960922801793633,0.14290196426844332,0.07968661542800173,0.03487294569242735,0.04035386848915189,0.0304989251426833,0.030215063047830303,0.040969785243171374,0.030913903587971886,0.07856605590066378,0.12272061499937004,0.044013257278829265,0.029665209278338163,0.02544330946302394,0.03377904629513993,0.03643114803272869,0.029495592422290752,0.05650179309559903,0.03082805332358681,0.09794855181407013,0.027786075066188586,0.09540479069706274,0.05747047090766164,0.03028889357922484,0.037851165765702244,0.0316636762763494,0.032573140968758726,0.029846112662231757,0.031243394855255437,0.03079277899077107,0.1095713280868577,0.03004373981593405,0.09199621551417567,0.030893285092881077,0.03505317715491231,0.031427035507845265,0.031250927636725837,0.03715744627822359,0.029674029133280416,0.07068035396047129,0.030692968945364756,0.028348050939327085,0.028303055862232845,0.028123310581350786,0.027987560910327336,0.035413614413297476,0.03484228298483722,0.0491526415644838,0.03462192974769582,0.10630614738692863,0.13674885791405172,0.028719260562069537,0.03011008600535548,0.02850172999406871,0.031158382523600613,0.029533398330353892,0.029073039603620898,0.03005558704893089,0.05679923213808787,0.043408674136248784,0.02960952114997937,0.03786102749132027,0.09032265263153401,0.03258350728370278,0.028940832951127714,0.028121087290022755,0.02666154609321162,0.029762923919660927,0.0988350074471379,0.03223196043380262,0.03262654975836703,0.04355811711257015,0.0321796020324858,0.026796976604662858,0.05308720374660231,0.028309399447956463,0.025754147813209206,0.033082916961841936,0.05639014160756948,0.03287416330060368,0.029386534117167497,0.031714212697589575],\"type\":\"scatter\"}],                        {\"title\":{\"text\":\"Slice Plot\"},\"template\":{\"data\":{\"histogram2dcontour\":[{\"type\":\"histogram2dcontour\",\"colorbar\":{\"outlinewidth\":0,\"ticks\":\"\"},\"colorscale\":[[0.0,\"#0d0887\"],[0.1111111111111111,\"#46039f\"],[0.2222222222222222,\"#7201a8\"],[0.3333333333333333,\"#9c179e\"],[0.4444444444444444,\"#bd3786\"],[0.5555555555555556,\"#d8576b\"],[0.6666666666666666,\"#ed7953\"],[0.7777777777777778,\"#fb9f3a\"],[0.8888888888888888,\"#fdca26\"],[1.0,\"#f0f921\"]]}],\"choropleth\":[{\"type\":\"choropleth\",\"colorbar\":{\"outlinewidth\":0,\"ticks\":\"\"}}],\"histogram2d\":[{\"type\":\"histogram2d\",\"colorbar\":{\"outlinewidth\":0,\"ticks\":\"\"},\"colorscale\":[[0.0,\"#0d0887\"],[0.1111111111111111,\"#46039f\"],[0.2222222222222222,\"#7201a8\"],[0.3333333333333333,\"#9c179e\"],[0.4444444444444444,\"#bd3786\"],[0.5555555555555556,\"#d8576b\"],[0.6666666666666666,\"#ed7953\"],[0.7777777777777778,\"#fb9f3a\"],[0.8888888888888888,\"#fdca26\"],[1.0,\"#f0f921\"]]}],\"heatmap\":[{\"type\":\"heatmap\",\"colorbar\":{\"outlinewidth\":0,\"ticks\":\"\"},\"colorscale\":[[0.0,\"#0d0887\"],[0.1111111111111111,\"#46039f\"],[0.2222222222222222,\"#7201a8\"],[0.3333333333333333,\"#9c179e\"],[0.4444444444444444,\"#bd3786\"],[0.5555555555555556,\"#d8576b\"],[0.6666666666666666,\"#ed7953\"],[0.7777777777777778,\"#fb9f3a\"],[0.8888888888888888,\"#fdca26\"],[1.0,\"#f0f921\"]]}],\"heatmapgl\":[{\"type\":\"heatmapgl\",\"colorbar\":{\"outlinewidth\":0,\"ticks\":\"\"},\"colorscale\":[[0.0,\"#0d0887\"],[0.1111111111111111,\"#46039f\"],[0.2222222222222222,\"#7201a8\"],[0.3333333333333333,\"#9c179e\"],[0.4444444444444444,\"#bd3786\"],[0.5555555555555556,\"#d8576b\"],[0.6666666666666666,\"#ed7953\"],[0.7777777777777778,\"#fb9f3a\"],[0.8888888888888888,\"#fdca26\"],[1.0,\"#f0f921\"]]}],\"contourcarpet\":[{\"type\":\"contourcarpet\",\"colorbar\":{\"outlinewidth\":0,\"ticks\":\"\"}}],\"contour\":[{\"type\":\"contour\",\"colorbar\":{\"outlinewidth\":0,\"ticks\":\"\"},\"colorscale\":[[0.0,\"#0d0887\"],[0.1111111111111111,\"#46039f\"],[0.2222222222222222,\"#7201a8\"],[0.3333333333333333,\"#9c179e\"],[0.4444444444444444,\"#bd3786\"],[0.5555555555555556,\"#d8576b\"],[0.6666666666666666,\"#ed7953\"],[0.7777777777777778,\"#fb9f3a\"],[0.8888888888888888,\"#fdca26\"],[1.0,\"#f0f921\"]]}],\"surface\":[{\"type\":\"surface\",\"colorbar\":{\"outlinewidth\":0,\"ticks\":\"\"},\"colorscale\":[[0.0,\"#0d0887\"],[0.1111111111111111,\"#46039f\"],[0.2222222222222222,\"#7201a8\"],[0.3333333333333333,\"#9c179e\"],[0.4444444444444444,\"#bd3786\"],[0.5555555555555556,\"#d8576b\"],[0.6666666666666666,\"#ed7953\"],[0.7777777777777778,\"#fb9f3a\"],[0.8888888888888888,\"#fdca26\"],[1.0,\"#f0f921\"]]}],\"mesh3d\":[{\"type\":\"mesh3d\",\"colorbar\":{\"outlinewidth\":0,\"ticks\":\"\"}}],\"scatter\":[{\"fillpattern\":{\"fillmode\":\"overlay\",\"size\":10,\"solidity\":0.2},\"type\":\"scatter\"}],\"parcoords\":[{\"type\":\"parcoords\",\"line\":{\"colorbar\":{\"outlinewidth\":0,\"ticks\":\"\"}}}],\"scatterpolargl\":[{\"type\":\"scatterpolargl\",\"marker\":{\"colorbar\":{\"outlinewidth\":0,\"ticks\":\"\"}}}],\"bar\":[{\"error_x\":{\"color\":\"#2a3f5f\"},\"error_y\":{\"color\":\"#2a3f5f\"},\"marker\":{\"line\":{\"color\":\"#E5ECF6\",\"width\":0.5},\"pattern\":{\"fillmode\":\"overlay\",\"size\":10,\"solidity\":0.2}},\"type\":\"bar\"}],\"scattergeo\":[{\"type\":\"scattergeo\",\"marker\":{\"colorbar\":{\"outlinewidth\":0,\"ticks\":\"\"}}}],\"scatterpolar\":[{\"type\":\"scatterpolar\",\"marker\":{\"colorbar\":{\"outlinewidth\":0,\"ticks\":\"\"}}}],\"histogram\":[{\"marker\":{\"pattern\":{\"fillmode\":\"overlay\",\"size\":10,\"solidity\":0.2}},\"type\":\"histogram\"}],\"scattergl\":[{\"type\":\"scattergl\",\"marker\":{\"colorbar\":{\"outlinewidth\":0,\"ticks\":\"\"}}}],\"scatter3d\":[{\"type\":\"scatter3d\",\"line\":{\"colorbar\":{\"outlinewidth\":0,\"ticks\":\"\"}},\"marker\":{\"colorbar\":{\"outlinewidth\":0,\"ticks\":\"\"}}}],\"scattermapbox\":[{\"type\":\"scattermapbox\",\"marker\":{\"colorbar\":{\"outlinewidth\":0,\"ticks\":\"\"}}}],\"scatterternary\":[{\"type\":\"scatterternary\",\"marker\":{\"colorbar\":{\"outlinewidth\":0,\"ticks\":\"\"}}}],\"scattercarpet\":[{\"type\":\"scattercarpet\",\"marker\":{\"colorbar\":{\"outlinewidth\":0,\"ticks\":\"\"}}}],\"carpet\":[{\"aaxis\":{\"endlinecolor\":\"#2a3f5f\",\"gridcolor\":\"white\",\"linecolor\":\"white\",\"minorgridcolor\":\"white\",\"startlinecolor\":\"#2a3f5f\"},\"baxis\":{\"endlinecolor\":\"#2a3f5f\",\"gridcolor\":\"white\",\"linecolor\":\"white\",\"minorgridcolor\":\"white\",\"startlinecolor\":\"#2a3f5f\"},\"type\":\"carpet\"}],\"table\":[{\"cells\":{\"fill\":{\"color\":\"#EBF0F8\"},\"line\":{\"color\":\"white\"}},\"header\":{\"fill\":{\"color\":\"#C8D4E3\"},\"line\":{\"color\":\"white\"}},\"type\":\"table\"}],\"barpolar\":[{\"marker\":{\"line\":{\"color\":\"#E5ECF6\",\"width\":0.5},\"pattern\":{\"fillmode\":\"overlay\",\"size\":10,\"solidity\":0.2}},\"type\":\"barpolar\"}],\"pie\":[{\"automargin\":true,\"type\":\"pie\"}]},\"layout\":{\"autotypenumbers\":\"strict\",\"colorway\":[\"#636efa\",\"#EF553B\",\"#00cc96\",\"#ab63fa\",\"#FFA15A\",\"#19d3f3\",\"#FF6692\",\"#B6E880\",\"#FF97FF\",\"#FECB52\"],\"font\":{\"color\":\"#2a3f5f\"},\"hovermode\":\"closest\",\"hoverlabel\":{\"align\":\"left\"},\"paper_bgcolor\":\"white\",\"plot_bgcolor\":\"#E5ECF6\",\"polar\":{\"bgcolor\":\"#E5ECF6\",\"angularaxis\":{\"gridcolor\":\"white\",\"linecolor\":\"white\",\"ticks\":\"\"},\"radialaxis\":{\"gridcolor\":\"white\",\"linecolor\":\"white\",\"ticks\":\"\"}},\"ternary\":{\"bgcolor\":\"#E5ECF6\",\"aaxis\":{\"gridcolor\":\"white\",\"linecolor\":\"white\",\"ticks\":\"\"},\"baxis\":{\"gridcolor\":\"white\",\"linecolor\":\"white\",\"ticks\":\"\"},\"caxis\":{\"gridcolor\":\"white\",\"linecolor\":\"white\",\"ticks\":\"\"}},\"coloraxis\":{\"colorbar\":{\"outlinewidth\":0,\"ticks\":\"\"}},\"colorscale\":{\"sequential\":[[0.0,\"#0d0887\"],[0.1111111111111111,\"#46039f\"],[0.2222222222222222,\"#7201a8\"],[0.3333333333333333,\"#9c179e\"],[0.4444444444444444,\"#bd3786\"],[0.5555555555555556,\"#d8576b\"],[0.6666666666666666,\"#ed7953\"],[0.7777777777777778,\"#fb9f3a\"],[0.8888888888888888,\"#fdca26\"],[1.0,\"#f0f921\"]],\"sequentialminus\":[[0.0,\"#0d0887\"],[0.1111111111111111,\"#46039f\"],[0.2222222222222222,\"#7201a8\"],[0.3333333333333333,\"#9c179e\"],[0.4444444444444444,\"#bd3786\"],[0.5555555555555556,\"#d8576b\"],[0.6666666666666666,\"#ed7953\"],[0.7777777777777778,\"#fb9f3a\"],[0.8888888888888888,\"#fdca26\"],[1.0,\"#f0f921\"]],\"diverging\":[[0,\"#8e0152\"],[0.1,\"#c51b7d\"],[0.2,\"#de77ae\"],[0.3,\"#f1b6da\"],[0.4,\"#fde0ef\"],[0.5,\"#f7f7f7\"],[0.6,\"#e6f5d0\"],[0.7,\"#b8e186\"],[0.8,\"#7fbc41\"],[0.9,\"#4d9221\"],[1,\"#276419\"]]},\"xaxis\":{\"gridcolor\":\"white\",\"linecolor\":\"white\",\"ticks\":\"\",\"title\":{\"standoff\":15},\"zerolinecolor\":\"white\",\"automargin\":true,\"zerolinewidth\":2},\"yaxis\":{\"gridcolor\":\"white\",\"linecolor\":\"white\",\"ticks\":\"\",\"title\":{\"standoff\":15},\"zerolinecolor\":\"white\",\"automargin\":true,\"zerolinewidth\":2},\"scene\":{\"xaxis\":{\"backgroundcolor\":\"#E5ECF6\",\"gridcolor\":\"white\",\"linecolor\":\"white\",\"showbackground\":true,\"ticks\":\"\",\"zerolinecolor\":\"white\",\"gridwidth\":2},\"yaxis\":{\"backgroundcolor\":\"#E5ECF6\",\"gridcolor\":\"white\",\"linecolor\":\"white\",\"showbackground\":true,\"ticks\":\"\",\"zerolinecolor\":\"white\",\"gridwidth\":2},\"zaxis\":{\"backgroundcolor\":\"#E5ECF6\",\"gridcolor\":\"white\",\"linecolor\":\"white\",\"showbackground\":true,\"ticks\":\"\",\"zerolinecolor\":\"white\",\"gridwidth\":2}},\"shapedefaults\":{\"line\":{\"color\":\"#2a3f5f\"}},\"annotationdefaults\":{\"arrowcolor\":\"#2a3f5f\",\"arrowhead\":0,\"arrowwidth\":1},\"geo\":{\"bgcolor\":\"white\",\"landcolor\":\"#E5ECF6\",\"subunitcolor\":\"white\",\"showland\":true,\"showlakes\":true,\"lakecolor\":\"white\"},\"title\":{\"x\":0.05},\"mapbox\":{\"style\":\"light\"}}},\"xaxis\":{\"title\":{\"text\":\"learning_rate\"},\"type\":\"category\",\"categoryorder\":\"array\",\"categoryarray\":[0.0001,0.001,0.01,0.1]},\"yaxis\":{\"title\":{\"text\":\"Objective Value\"}}},                        {\"responsive\": true}                    ).then(function(){\n",
       "                            \n",
       "var gd = document.getElementById('5320d6aa-9e6a-47be-abcd-df3a0955c53c');\n",
       "var x = new MutationObserver(function (mutations, observer) {{\n",
       "        var display = window.getComputedStyle(gd).display;\n",
       "        if (!display || display === 'none') {{\n",
       "            console.log([gd, 'removed!']);\n",
       "            Plotly.purge(gd);\n",
       "            observer.disconnect();\n",
       "        }}\n",
       "}});\n",
       "\n",
       "// Listen for the removal of the full notebook cells\n",
       "var notebookContainer = gd.closest('#notebook-container');\n",
       "if (notebookContainer) {{\n",
       "    x.observe(notebookContainer, {childList: true});\n",
       "}}\n",
       "\n",
       "// Listen for the clearing of the current output cell\n",
       "var outputEl = gd.closest('.output');\n",
       "if (outputEl) {{\n",
       "    x.observe(outputEl, {childList: true});\n",
       "}}\n",
       "\n",
       "                        })                };                });            </script>        </div>"
      ]
     },
     "metadata": {},
     "output_type": "display_data"
    },
    {
     "data": {
      "application/vnd.plotly.v1+json": {
       "config": {
        "plotlyServerURL": "https://plot.ly"
       },
       "data": [
        {
         "marker": {
          "color": [
           0,
           1,
           2,
           3,
           4,
           5,
           6,
           7,
           8,
           9,
           10,
           11,
           12,
           13,
           14,
           15,
           16,
           17,
           18,
           19,
           20,
           21,
           22,
           23,
           24,
           25,
           26,
           27,
           28,
           29,
           30,
           31,
           32,
           33,
           34,
           35,
           36,
           37,
           38,
           39,
           40,
           41,
           42,
           43,
           44,
           45,
           46,
           47,
           48,
           49,
           50,
           51,
           52,
           53,
           54,
           55,
           56,
           57,
           58,
           59,
           60,
           61,
           62,
           63,
           64,
           65,
           66,
           67,
           68,
           69,
           70,
           71,
           72,
           73,
           74,
           75,
           76,
           77,
           78,
           79,
           80,
           81,
           82,
           83,
           84,
           85,
           86,
           87,
           88,
           89,
           90,
           91,
           92,
           93,
           94,
           95,
           96,
           97,
           98,
           99
          ],
          "colorbar": {
           "title": {
            "text": "Trial"
           },
           "x": 1,
           "xpad": 40
          },
          "colorscale": [
           [
            0,
            "rgb(247,251,255)"
           ],
           [
            0.125,
            "rgb(222,235,247)"
           ],
           [
            0.25,
            "rgb(198,219,239)"
           ],
           [
            0.375,
            "rgb(158,202,225)"
           ],
           [
            0.5,
            "rgb(107,174,214)"
           ],
           [
            0.625,
            "rgb(66,146,198)"
           ],
           [
            0.75,
            "rgb(33,113,181)"
           ],
           [
            0.875,
            "rgb(8,81,156)"
           ],
           [
            1,
            "rgb(8,48,107)"
           ]
          ],
          "line": {
           "color": "Grey",
           "width": 0.5
          }
         },
         "mode": "markers",
         "name": "Feasible Trial",
         "showlegend": false,
         "type": "scatter",
         "x": [
          64,
          32,
          64,
          32,
          128,
          64,
          64,
          64,
          32,
          32,
          128,
          32,
          32,
          32,
          32,
          32,
          32,
          128,
          32,
          32,
          128,
          32,
          32,
          32,
          32,
          32,
          32,
          32,
          128,
          32,
          64,
          64,
          64,
          64,
          64,
          64,
          64,
          64,
          64,
          64,
          64,
          64,
          64,
          64,
          64,
          64,
          64,
          64,
          64,
          64,
          64,
          64,
          64,
          64,
          64,
          64,
          64,
          128,
          64,
          64,
          64,
          64,
          64,
          64,
          64,
          128,
          64,
          64,
          64,
          64,
          64,
          64,
          64,
          64,
          64,
          64,
          64,
          128,
          64,
          64,
          64,
          64,
          64,
          64,
          64,
          64,
          64,
          64,
          64,
          128,
          64,
          64,
          64,
          64,
          64,
          64,
          64,
          64,
          64,
          64
         ],
         "y": [
          0.07099812851714363,
          0.06803763988078185,
          0.06935717637685963,
          0.033668756308662694,
          0.048915481949797265,
          0.06032177846486475,
          0.09494716212616752,
          0.11948526040851484,
          0.0890384060669059,
          0.04790834845567678,
          0.08147728605269644,
          0.03204520018596852,
          0.035911442839034066,
          0.0380084449271256,
          0.036156556830768134,
          0.035851574502232274,
          0.03159097923306093,
          0.05867700351813783,
          0.09960922801793633,
          0.14290196426844332,
          0.07968661542800173,
          0.03487294569242735,
          0.04035386848915189,
          0.0304989251426833,
          0.030215063047830303,
          0.040969785243171374,
          0.030913903587971886,
          0.07856605590066378,
          0.12272061499937004,
          0.044013257278829265,
          0.029665209278338163,
          0.02544330946302394,
          0.03377904629513993,
          0.03643114803272869,
          0.029495592422290752,
          0.05650179309559903,
          0.03082805332358681,
          0.09794855181407013,
          0.027786075066188586,
          0.09540479069706274,
          0.05747047090766164,
          0.03028889357922484,
          0.037851165765702244,
          0.0316636762763494,
          0.032573140968758726,
          0.029846112662231757,
          0.031243394855255437,
          0.03079277899077107,
          0.1095713280868577,
          0.03004373981593405,
          0.09199621551417567,
          0.030893285092881077,
          0.03505317715491231,
          0.031427035507845265,
          0.031250927636725837,
          0.03715744627822359,
          0.029674029133280416,
          0.07068035396047129,
          0.030692968945364756,
          0.028348050939327085,
          0.028303055862232845,
          0.028123310581350786,
          0.027987560910327336,
          0.035413614413297476,
          0.03484228298483722,
          0.0491526415644838,
          0.03462192974769582,
          0.10630614738692863,
          0.13674885791405172,
          0.028719260562069537,
          0.03011008600535548,
          0.02850172999406871,
          0.031158382523600613,
          0.029533398330353892,
          0.029073039603620898,
          0.03005558704893089,
          0.05679923213808787,
          0.043408674136248784,
          0.02960952114997937,
          0.03786102749132027,
          0.09032265263153401,
          0.03258350728370278,
          0.028940832951127714,
          0.028121087290022755,
          0.02666154609321162,
          0.029762923919660927,
          0.0988350074471379,
          0.03223196043380262,
          0.03262654975836703,
          0.04355811711257015,
          0.0321796020324858,
          0.026796976604662858,
          0.05308720374660231,
          0.028309399447956463,
          0.025754147813209206,
          0.033082916961841936,
          0.05639014160756948,
          0.03287416330060368,
          0.029386534117167497,
          0.031714212697589575
         ]
        }
       ],
       "layout": {
        "template": {
         "data": {
          "bar": [
           {
            "error_x": {
             "color": "#2a3f5f"
            },
            "error_y": {
             "color": "#2a3f5f"
            },
            "marker": {
             "line": {
              "color": "#E5ECF6",
              "width": 0.5
             },
             "pattern": {
              "fillmode": "overlay",
              "size": 10,
              "solidity": 0.2
             }
            },
            "type": "bar"
           }
          ],
          "barpolar": [
           {
            "marker": {
             "line": {
              "color": "#E5ECF6",
              "width": 0.5
             },
             "pattern": {
              "fillmode": "overlay",
              "size": 10,
              "solidity": 0.2
             }
            },
            "type": "barpolar"
           }
          ],
          "carpet": [
           {
            "aaxis": {
             "endlinecolor": "#2a3f5f",
             "gridcolor": "white",
             "linecolor": "white",
             "minorgridcolor": "white",
             "startlinecolor": "#2a3f5f"
            },
            "baxis": {
             "endlinecolor": "#2a3f5f",
             "gridcolor": "white",
             "linecolor": "white",
             "minorgridcolor": "white",
             "startlinecolor": "#2a3f5f"
            },
            "type": "carpet"
           }
          ],
          "choropleth": [
           {
            "colorbar": {
             "outlinewidth": 0,
             "ticks": ""
            },
            "type": "choropleth"
           }
          ],
          "contour": [
           {
            "colorbar": {
             "outlinewidth": 0,
             "ticks": ""
            },
            "colorscale": [
             [
              0,
              "#0d0887"
             ],
             [
              0.1111111111111111,
              "#46039f"
             ],
             [
              0.2222222222222222,
              "#7201a8"
             ],
             [
              0.3333333333333333,
              "#9c179e"
             ],
             [
              0.4444444444444444,
              "#bd3786"
             ],
             [
              0.5555555555555556,
              "#d8576b"
             ],
             [
              0.6666666666666666,
              "#ed7953"
             ],
             [
              0.7777777777777778,
              "#fb9f3a"
             ],
             [
              0.8888888888888888,
              "#fdca26"
             ],
             [
              1,
              "#f0f921"
             ]
            ],
            "type": "contour"
           }
          ],
          "contourcarpet": [
           {
            "colorbar": {
             "outlinewidth": 0,
             "ticks": ""
            },
            "type": "contourcarpet"
           }
          ],
          "heatmap": [
           {
            "colorbar": {
             "outlinewidth": 0,
             "ticks": ""
            },
            "colorscale": [
             [
              0,
              "#0d0887"
             ],
             [
              0.1111111111111111,
              "#46039f"
             ],
             [
              0.2222222222222222,
              "#7201a8"
             ],
             [
              0.3333333333333333,
              "#9c179e"
             ],
             [
              0.4444444444444444,
              "#bd3786"
             ],
             [
              0.5555555555555556,
              "#d8576b"
             ],
             [
              0.6666666666666666,
              "#ed7953"
             ],
             [
              0.7777777777777778,
              "#fb9f3a"
             ],
             [
              0.8888888888888888,
              "#fdca26"
             ],
             [
              1,
              "#f0f921"
             ]
            ],
            "type": "heatmap"
           }
          ],
          "heatmapgl": [
           {
            "colorbar": {
             "outlinewidth": 0,
             "ticks": ""
            },
            "colorscale": [
             [
              0,
              "#0d0887"
             ],
             [
              0.1111111111111111,
              "#46039f"
             ],
             [
              0.2222222222222222,
              "#7201a8"
             ],
             [
              0.3333333333333333,
              "#9c179e"
             ],
             [
              0.4444444444444444,
              "#bd3786"
             ],
             [
              0.5555555555555556,
              "#d8576b"
             ],
             [
              0.6666666666666666,
              "#ed7953"
             ],
             [
              0.7777777777777778,
              "#fb9f3a"
             ],
             [
              0.8888888888888888,
              "#fdca26"
             ],
             [
              1,
              "#f0f921"
             ]
            ],
            "type": "heatmapgl"
           }
          ],
          "histogram": [
           {
            "marker": {
             "pattern": {
              "fillmode": "overlay",
              "size": 10,
              "solidity": 0.2
             }
            },
            "type": "histogram"
           }
          ],
          "histogram2d": [
           {
            "colorbar": {
             "outlinewidth": 0,
             "ticks": ""
            },
            "colorscale": [
             [
              0,
              "#0d0887"
             ],
             [
              0.1111111111111111,
              "#46039f"
             ],
             [
              0.2222222222222222,
              "#7201a8"
             ],
             [
              0.3333333333333333,
              "#9c179e"
             ],
             [
              0.4444444444444444,
              "#bd3786"
             ],
             [
              0.5555555555555556,
              "#d8576b"
             ],
             [
              0.6666666666666666,
              "#ed7953"
             ],
             [
              0.7777777777777778,
              "#fb9f3a"
             ],
             [
              0.8888888888888888,
              "#fdca26"
             ],
             [
              1,
              "#f0f921"
             ]
            ],
            "type": "histogram2d"
           }
          ],
          "histogram2dcontour": [
           {
            "colorbar": {
             "outlinewidth": 0,
             "ticks": ""
            },
            "colorscale": [
             [
              0,
              "#0d0887"
             ],
             [
              0.1111111111111111,
              "#46039f"
             ],
             [
              0.2222222222222222,
              "#7201a8"
             ],
             [
              0.3333333333333333,
              "#9c179e"
             ],
             [
              0.4444444444444444,
              "#bd3786"
             ],
             [
              0.5555555555555556,
              "#d8576b"
             ],
             [
              0.6666666666666666,
              "#ed7953"
             ],
             [
              0.7777777777777778,
              "#fb9f3a"
             ],
             [
              0.8888888888888888,
              "#fdca26"
             ],
             [
              1,
              "#f0f921"
             ]
            ],
            "type": "histogram2dcontour"
           }
          ],
          "mesh3d": [
           {
            "colorbar": {
             "outlinewidth": 0,
             "ticks": ""
            },
            "type": "mesh3d"
           }
          ],
          "parcoords": [
           {
            "line": {
             "colorbar": {
              "outlinewidth": 0,
              "ticks": ""
             }
            },
            "type": "parcoords"
           }
          ],
          "pie": [
           {
            "automargin": true,
            "type": "pie"
           }
          ],
          "scatter": [
           {
            "fillpattern": {
             "fillmode": "overlay",
             "size": 10,
             "solidity": 0.2
            },
            "type": "scatter"
           }
          ],
          "scatter3d": [
           {
            "line": {
             "colorbar": {
              "outlinewidth": 0,
              "ticks": ""
             }
            },
            "marker": {
             "colorbar": {
              "outlinewidth": 0,
              "ticks": ""
             }
            },
            "type": "scatter3d"
           }
          ],
          "scattercarpet": [
           {
            "marker": {
             "colorbar": {
              "outlinewidth": 0,
              "ticks": ""
             }
            },
            "type": "scattercarpet"
           }
          ],
          "scattergeo": [
           {
            "marker": {
             "colorbar": {
              "outlinewidth": 0,
              "ticks": ""
             }
            },
            "type": "scattergeo"
           }
          ],
          "scattergl": [
           {
            "marker": {
             "colorbar": {
              "outlinewidth": 0,
              "ticks": ""
             }
            },
            "type": "scattergl"
           }
          ],
          "scattermapbox": [
           {
            "marker": {
             "colorbar": {
              "outlinewidth": 0,
              "ticks": ""
             }
            },
            "type": "scattermapbox"
           }
          ],
          "scatterpolar": [
           {
            "marker": {
             "colorbar": {
              "outlinewidth": 0,
              "ticks": ""
             }
            },
            "type": "scatterpolar"
           }
          ],
          "scatterpolargl": [
           {
            "marker": {
             "colorbar": {
              "outlinewidth": 0,
              "ticks": ""
             }
            },
            "type": "scatterpolargl"
           }
          ],
          "scatterternary": [
           {
            "marker": {
             "colorbar": {
              "outlinewidth": 0,
              "ticks": ""
             }
            },
            "type": "scatterternary"
           }
          ],
          "surface": [
           {
            "colorbar": {
             "outlinewidth": 0,
             "ticks": ""
            },
            "colorscale": [
             [
              0,
              "#0d0887"
             ],
             [
              0.1111111111111111,
              "#46039f"
             ],
             [
              0.2222222222222222,
              "#7201a8"
             ],
             [
              0.3333333333333333,
              "#9c179e"
             ],
             [
              0.4444444444444444,
              "#bd3786"
             ],
             [
              0.5555555555555556,
              "#d8576b"
             ],
             [
              0.6666666666666666,
              "#ed7953"
             ],
             [
              0.7777777777777778,
              "#fb9f3a"
             ],
             [
              0.8888888888888888,
              "#fdca26"
             ],
             [
              1,
              "#f0f921"
             ]
            ],
            "type": "surface"
           }
          ],
          "table": [
           {
            "cells": {
             "fill": {
              "color": "#EBF0F8"
             },
             "line": {
              "color": "white"
             }
            },
            "header": {
             "fill": {
              "color": "#C8D4E3"
             },
             "line": {
              "color": "white"
             }
            },
            "type": "table"
           }
          ]
         },
         "layout": {
          "annotationdefaults": {
           "arrowcolor": "#2a3f5f",
           "arrowhead": 0,
           "arrowwidth": 1
          },
          "autotypenumbers": "strict",
          "coloraxis": {
           "colorbar": {
            "outlinewidth": 0,
            "ticks": ""
           }
          },
          "colorscale": {
           "diverging": [
            [
             0,
             "#8e0152"
            ],
            [
             0.1,
             "#c51b7d"
            ],
            [
             0.2,
             "#de77ae"
            ],
            [
             0.3,
             "#f1b6da"
            ],
            [
             0.4,
             "#fde0ef"
            ],
            [
             0.5,
             "#f7f7f7"
            ],
            [
             0.6,
             "#e6f5d0"
            ],
            [
             0.7,
             "#b8e186"
            ],
            [
             0.8,
             "#7fbc41"
            ],
            [
             0.9,
             "#4d9221"
            ],
            [
             1,
             "#276419"
            ]
           ],
           "sequential": [
            [
             0,
             "#0d0887"
            ],
            [
             0.1111111111111111,
             "#46039f"
            ],
            [
             0.2222222222222222,
             "#7201a8"
            ],
            [
             0.3333333333333333,
             "#9c179e"
            ],
            [
             0.4444444444444444,
             "#bd3786"
            ],
            [
             0.5555555555555556,
             "#d8576b"
            ],
            [
             0.6666666666666666,
             "#ed7953"
            ],
            [
             0.7777777777777778,
             "#fb9f3a"
            ],
            [
             0.8888888888888888,
             "#fdca26"
            ],
            [
             1,
             "#f0f921"
            ]
           ],
           "sequentialminus": [
            [
             0,
             "#0d0887"
            ],
            [
             0.1111111111111111,
             "#46039f"
            ],
            [
             0.2222222222222222,
             "#7201a8"
            ],
            [
             0.3333333333333333,
             "#9c179e"
            ],
            [
             0.4444444444444444,
             "#bd3786"
            ],
            [
             0.5555555555555556,
             "#d8576b"
            ],
            [
             0.6666666666666666,
             "#ed7953"
            ],
            [
             0.7777777777777778,
             "#fb9f3a"
            ],
            [
             0.8888888888888888,
             "#fdca26"
            ],
            [
             1,
             "#f0f921"
            ]
           ]
          },
          "colorway": [
           "#636efa",
           "#EF553B",
           "#00cc96",
           "#ab63fa",
           "#FFA15A",
           "#19d3f3",
           "#FF6692",
           "#B6E880",
           "#FF97FF",
           "#FECB52"
          ],
          "font": {
           "color": "#2a3f5f"
          },
          "geo": {
           "bgcolor": "white",
           "lakecolor": "white",
           "landcolor": "#E5ECF6",
           "showlakes": true,
           "showland": true,
           "subunitcolor": "white"
          },
          "hoverlabel": {
           "align": "left"
          },
          "hovermode": "closest",
          "mapbox": {
           "style": "light"
          },
          "paper_bgcolor": "white",
          "plot_bgcolor": "#E5ECF6",
          "polar": {
           "angularaxis": {
            "gridcolor": "white",
            "linecolor": "white",
            "ticks": ""
           },
           "bgcolor": "#E5ECF6",
           "radialaxis": {
            "gridcolor": "white",
            "linecolor": "white",
            "ticks": ""
           }
          },
          "scene": {
           "xaxis": {
            "backgroundcolor": "#E5ECF6",
            "gridcolor": "white",
            "gridwidth": 2,
            "linecolor": "white",
            "showbackground": true,
            "ticks": "",
            "zerolinecolor": "white"
           },
           "yaxis": {
            "backgroundcolor": "#E5ECF6",
            "gridcolor": "white",
            "gridwidth": 2,
            "linecolor": "white",
            "showbackground": true,
            "ticks": "",
            "zerolinecolor": "white"
           },
           "zaxis": {
            "backgroundcolor": "#E5ECF6",
            "gridcolor": "white",
            "gridwidth": 2,
            "linecolor": "white",
            "showbackground": true,
            "ticks": "",
            "zerolinecolor": "white"
           }
          },
          "shapedefaults": {
           "line": {
            "color": "#2a3f5f"
           }
          },
          "ternary": {
           "aaxis": {
            "gridcolor": "white",
            "linecolor": "white",
            "ticks": ""
           },
           "baxis": {
            "gridcolor": "white",
            "linecolor": "white",
            "ticks": ""
           },
           "bgcolor": "#E5ECF6",
           "caxis": {
            "gridcolor": "white",
            "linecolor": "white",
            "ticks": ""
           }
          },
          "title": {
           "x": 0.05
          },
          "xaxis": {
           "automargin": true,
           "gridcolor": "white",
           "linecolor": "white",
           "ticks": "",
           "title": {
            "standoff": 15
           },
           "zerolinecolor": "white",
           "zerolinewidth": 2
          },
          "yaxis": {
           "automargin": true,
           "gridcolor": "white",
           "linecolor": "white",
           "ticks": "",
           "title": {
            "standoff": 15
           },
           "zerolinecolor": "white",
           "zerolinewidth": 2
          }
         }
        },
        "title": {
         "text": "Slice Plot"
        },
        "xaxis": {
         "categoryarray": [
          32,
          64,
          128
         ],
         "categoryorder": "array",
         "title": {
          "text": "batch_size"
         },
         "type": "category"
        },
        "yaxis": {
         "title": {
          "text": "Objective Value"
         }
        }
       }
      },
      "text/html": [
       "<div>                            <div id=\"c3d5fbca-a2f1-4b65-a39c-651a07e365e5\" class=\"plotly-graph-div\" style=\"height:525px; width:100%;\"></div>            <script type=\"text/javascript\">                require([\"plotly\"], function(Plotly) {                    window.PLOTLYENV=window.PLOTLYENV || {};                                    if (document.getElementById(\"c3d5fbca-a2f1-4b65-a39c-651a07e365e5\")) {                    Plotly.newPlot(                        \"c3d5fbca-a2f1-4b65-a39c-651a07e365e5\",                        [{\"marker\":{\"color\":[0,1,2,3,4,5,6,7,8,9,10,11,12,13,14,15,16,17,18,19,20,21,22,23,24,25,26,27,28,29,30,31,32,33,34,35,36,37,38,39,40,41,42,43,44,45,46,47,48,49,50,51,52,53,54,55,56,57,58,59,60,61,62,63,64,65,66,67,68,69,70,71,72,73,74,75,76,77,78,79,80,81,82,83,84,85,86,87,88,89,90,91,92,93,94,95,96,97,98,99],\"colorbar\":{\"title\":{\"text\":\"Trial\"},\"x\":1.0,\"xpad\":40},\"colorscale\":[[0.0,\"rgb(247,251,255)\"],[0.125,\"rgb(222,235,247)\"],[0.25,\"rgb(198,219,239)\"],[0.375,\"rgb(158,202,225)\"],[0.5,\"rgb(107,174,214)\"],[0.625,\"rgb(66,146,198)\"],[0.75,\"rgb(33,113,181)\"],[0.875,\"rgb(8,81,156)\"],[1.0,\"rgb(8,48,107)\"]],\"line\":{\"color\":\"Grey\",\"width\":0.5}},\"mode\":\"markers\",\"name\":\"Feasible Trial\",\"showlegend\":false,\"x\":[64,32,64,32,128,64,64,64,32,32,128,32,32,32,32,32,32,128,32,32,128,32,32,32,32,32,32,32,128,32,64,64,64,64,64,64,64,64,64,64,64,64,64,64,64,64,64,64,64,64,64,64,64,64,64,64,64,128,64,64,64,64,64,64,64,128,64,64,64,64,64,64,64,64,64,64,64,128,64,64,64,64,64,64,64,64,64,64,64,128,64,64,64,64,64,64,64,64,64,64],\"y\":[0.07099812851714363,0.06803763988078185,0.06935717637685963,0.033668756308662694,0.048915481949797265,0.06032177846486475,0.09494716212616752,0.11948526040851484,0.0890384060669059,0.04790834845567678,0.08147728605269644,0.03204520018596852,0.035911442839034066,0.0380084449271256,0.036156556830768134,0.035851574502232274,0.03159097923306093,0.05867700351813783,0.09960922801793633,0.14290196426844332,0.07968661542800173,0.03487294569242735,0.04035386848915189,0.0304989251426833,0.030215063047830303,0.040969785243171374,0.030913903587971886,0.07856605590066378,0.12272061499937004,0.044013257278829265,0.029665209278338163,0.02544330946302394,0.03377904629513993,0.03643114803272869,0.029495592422290752,0.05650179309559903,0.03082805332358681,0.09794855181407013,0.027786075066188586,0.09540479069706274,0.05747047090766164,0.03028889357922484,0.037851165765702244,0.0316636762763494,0.032573140968758726,0.029846112662231757,0.031243394855255437,0.03079277899077107,0.1095713280868577,0.03004373981593405,0.09199621551417567,0.030893285092881077,0.03505317715491231,0.031427035507845265,0.031250927636725837,0.03715744627822359,0.029674029133280416,0.07068035396047129,0.030692968945364756,0.028348050939327085,0.028303055862232845,0.028123310581350786,0.027987560910327336,0.035413614413297476,0.03484228298483722,0.0491526415644838,0.03462192974769582,0.10630614738692863,0.13674885791405172,0.028719260562069537,0.03011008600535548,0.02850172999406871,0.031158382523600613,0.029533398330353892,0.029073039603620898,0.03005558704893089,0.05679923213808787,0.043408674136248784,0.02960952114997937,0.03786102749132027,0.09032265263153401,0.03258350728370278,0.028940832951127714,0.028121087290022755,0.02666154609321162,0.029762923919660927,0.0988350074471379,0.03223196043380262,0.03262654975836703,0.04355811711257015,0.0321796020324858,0.026796976604662858,0.05308720374660231,0.028309399447956463,0.025754147813209206,0.033082916961841936,0.05639014160756948,0.03287416330060368,0.029386534117167497,0.031714212697589575],\"type\":\"scatter\"}],                        {\"title\":{\"text\":\"Slice Plot\"},\"template\":{\"data\":{\"histogram2dcontour\":[{\"type\":\"histogram2dcontour\",\"colorbar\":{\"outlinewidth\":0,\"ticks\":\"\"},\"colorscale\":[[0.0,\"#0d0887\"],[0.1111111111111111,\"#46039f\"],[0.2222222222222222,\"#7201a8\"],[0.3333333333333333,\"#9c179e\"],[0.4444444444444444,\"#bd3786\"],[0.5555555555555556,\"#d8576b\"],[0.6666666666666666,\"#ed7953\"],[0.7777777777777778,\"#fb9f3a\"],[0.8888888888888888,\"#fdca26\"],[1.0,\"#f0f921\"]]}],\"choropleth\":[{\"type\":\"choropleth\",\"colorbar\":{\"outlinewidth\":0,\"ticks\":\"\"}}],\"histogram2d\":[{\"type\":\"histogram2d\",\"colorbar\":{\"outlinewidth\":0,\"ticks\":\"\"},\"colorscale\":[[0.0,\"#0d0887\"],[0.1111111111111111,\"#46039f\"],[0.2222222222222222,\"#7201a8\"],[0.3333333333333333,\"#9c179e\"],[0.4444444444444444,\"#bd3786\"],[0.5555555555555556,\"#d8576b\"],[0.6666666666666666,\"#ed7953\"],[0.7777777777777778,\"#fb9f3a\"],[0.8888888888888888,\"#fdca26\"],[1.0,\"#f0f921\"]]}],\"heatmap\":[{\"type\":\"heatmap\",\"colorbar\":{\"outlinewidth\":0,\"ticks\":\"\"},\"colorscale\":[[0.0,\"#0d0887\"],[0.1111111111111111,\"#46039f\"],[0.2222222222222222,\"#7201a8\"],[0.3333333333333333,\"#9c179e\"],[0.4444444444444444,\"#bd3786\"],[0.5555555555555556,\"#d8576b\"],[0.6666666666666666,\"#ed7953\"],[0.7777777777777778,\"#fb9f3a\"],[0.8888888888888888,\"#fdca26\"],[1.0,\"#f0f921\"]]}],\"heatmapgl\":[{\"type\":\"heatmapgl\",\"colorbar\":{\"outlinewidth\":0,\"ticks\":\"\"},\"colorscale\":[[0.0,\"#0d0887\"],[0.1111111111111111,\"#46039f\"],[0.2222222222222222,\"#7201a8\"],[0.3333333333333333,\"#9c179e\"],[0.4444444444444444,\"#bd3786\"],[0.5555555555555556,\"#d8576b\"],[0.6666666666666666,\"#ed7953\"],[0.7777777777777778,\"#fb9f3a\"],[0.8888888888888888,\"#fdca26\"],[1.0,\"#f0f921\"]]}],\"contourcarpet\":[{\"type\":\"contourcarpet\",\"colorbar\":{\"outlinewidth\":0,\"ticks\":\"\"}}],\"contour\":[{\"type\":\"contour\",\"colorbar\":{\"outlinewidth\":0,\"ticks\":\"\"},\"colorscale\":[[0.0,\"#0d0887\"],[0.1111111111111111,\"#46039f\"],[0.2222222222222222,\"#7201a8\"],[0.3333333333333333,\"#9c179e\"],[0.4444444444444444,\"#bd3786\"],[0.5555555555555556,\"#d8576b\"],[0.6666666666666666,\"#ed7953\"],[0.7777777777777778,\"#fb9f3a\"],[0.8888888888888888,\"#fdca26\"],[1.0,\"#f0f921\"]]}],\"surface\":[{\"type\":\"surface\",\"colorbar\":{\"outlinewidth\":0,\"ticks\":\"\"},\"colorscale\":[[0.0,\"#0d0887\"],[0.1111111111111111,\"#46039f\"],[0.2222222222222222,\"#7201a8\"],[0.3333333333333333,\"#9c179e\"],[0.4444444444444444,\"#bd3786\"],[0.5555555555555556,\"#d8576b\"],[0.6666666666666666,\"#ed7953\"],[0.7777777777777778,\"#fb9f3a\"],[0.8888888888888888,\"#fdca26\"],[1.0,\"#f0f921\"]]}],\"mesh3d\":[{\"type\":\"mesh3d\",\"colorbar\":{\"outlinewidth\":0,\"ticks\":\"\"}}],\"scatter\":[{\"fillpattern\":{\"fillmode\":\"overlay\",\"size\":10,\"solidity\":0.2},\"type\":\"scatter\"}],\"parcoords\":[{\"type\":\"parcoords\",\"line\":{\"colorbar\":{\"outlinewidth\":0,\"ticks\":\"\"}}}],\"scatterpolargl\":[{\"type\":\"scatterpolargl\",\"marker\":{\"colorbar\":{\"outlinewidth\":0,\"ticks\":\"\"}}}],\"bar\":[{\"error_x\":{\"color\":\"#2a3f5f\"},\"error_y\":{\"color\":\"#2a3f5f\"},\"marker\":{\"line\":{\"color\":\"#E5ECF6\",\"width\":0.5},\"pattern\":{\"fillmode\":\"overlay\",\"size\":10,\"solidity\":0.2}},\"type\":\"bar\"}],\"scattergeo\":[{\"type\":\"scattergeo\",\"marker\":{\"colorbar\":{\"outlinewidth\":0,\"ticks\":\"\"}}}],\"scatterpolar\":[{\"type\":\"scatterpolar\",\"marker\":{\"colorbar\":{\"outlinewidth\":0,\"ticks\":\"\"}}}],\"histogram\":[{\"marker\":{\"pattern\":{\"fillmode\":\"overlay\",\"size\":10,\"solidity\":0.2}},\"type\":\"histogram\"}],\"scattergl\":[{\"type\":\"scattergl\",\"marker\":{\"colorbar\":{\"outlinewidth\":0,\"ticks\":\"\"}}}],\"scatter3d\":[{\"type\":\"scatter3d\",\"line\":{\"colorbar\":{\"outlinewidth\":0,\"ticks\":\"\"}},\"marker\":{\"colorbar\":{\"outlinewidth\":0,\"ticks\":\"\"}}}],\"scattermapbox\":[{\"type\":\"scattermapbox\",\"marker\":{\"colorbar\":{\"outlinewidth\":0,\"ticks\":\"\"}}}],\"scatterternary\":[{\"type\":\"scatterternary\",\"marker\":{\"colorbar\":{\"outlinewidth\":0,\"ticks\":\"\"}}}],\"scattercarpet\":[{\"type\":\"scattercarpet\",\"marker\":{\"colorbar\":{\"outlinewidth\":0,\"ticks\":\"\"}}}],\"carpet\":[{\"aaxis\":{\"endlinecolor\":\"#2a3f5f\",\"gridcolor\":\"white\",\"linecolor\":\"white\",\"minorgridcolor\":\"white\",\"startlinecolor\":\"#2a3f5f\"},\"baxis\":{\"endlinecolor\":\"#2a3f5f\",\"gridcolor\":\"white\",\"linecolor\":\"white\",\"minorgridcolor\":\"white\",\"startlinecolor\":\"#2a3f5f\"},\"type\":\"carpet\"}],\"table\":[{\"cells\":{\"fill\":{\"color\":\"#EBF0F8\"},\"line\":{\"color\":\"white\"}},\"header\":{\"fill\":{\"color\":\"#C8D4E3\"},\"line\":{\"color\":\"white\"}},\"type\":\"table\"}],\"barpolar\":[{\"marker\":{\"line\":{\"color\":\"#E5ECF6\",\"width\":0.5},\"pattern\":{\"fillmode\":\"overlay\",\"size\":10,\"solidity\":0.2}},\"type\":\"barpolar\"}],\"pie\":[{\"automargin\":true,\"type\":\"pie\"}]},\"layout\":{\"autotypenumbers\":\"strict\",\"colorway\":[\"#636efa\",\"#EF553B\",\"#00cc96\",\"#ab63fa\",\"#FFA15A\",\"#19d3f3\",\"#FF6692\",\"#B6E880\",\"#FF97FF\",\"#FECB52\"],\"font\":{\"color\":\"#2a3f5f\"},\"hovermode\":\"closest\",\"hoverlabel\":{\"align\":\"left\"},\"paper_bgcolor\":\"white\",\"plot_bgcolor\":\"#E5ECF6\",\"polar\":{\"bgcolor\":\"#E5ECF6\",\"angularaxis\":{\"gridcolor\":\"white\",\"linecolor\":\"white\",\"ticks\":\"\"},\"radialaxis\":{\"gridcolor\":\"white\",\"linecolor\":\"white\",\"ticks\":\"\"}},\"ternary\":{\"bgcolor\":\"#E5ECF6\",\"aaxis\":{\"gridcolor\":\"white\",\"linecolor\":\"white\",\"ticks\":\"\"},\"baxis\":{\"gridcolor\":\"white\",\"linecolor\":\"white\",\"ticks\":\"\"},\"caxis\":{\"gridcolor\":\"white\",\"linecolor\":\"white\",\"ticks\":\"\"}},\"coloraxis\":{\"colorbar\":{\"outlinewidth\":0,\"ticks\":\"\"}},\"colorscale\":{\"sequential\":[[0.0,\"#0d0887\"],[0.1111111111111111,\"#46039f\"],[0.2222222222222222,\"#7201a8\"],[0.3333333333333333,\"#9c179e\"],[0.4444444444444444,\"#bd3786\"],[0.5555555555555556,\"#d8576b\"],[0.6666666666666666,\"#ed7953\"],[0.7777777777777778,\"#fb9f3a\"],[0.8888888888888888,\"#fdca26\"],[1.0,\"#f0f921\"]],\"sequentialminus\":[[0.0,\"#0d0887\"],[0.1111111111111111,\"#46039f\"],[0.2222222222222222,\"#7201a8\"],[0.3333333333333333,\"#9c179e\"],[0.4444444444444444,\"#bd3786\"],[0.5555555555555556,\"#d8576b\"],[0.6666666666666666,\"#ed7953\"],[0.7777777777777778,\"#fb9f3a\"],[0.8888888888888888,\"#fdca26\"],[1.0,\"#f0f921\"]],\"diverging\":[[0,\"#8e0152\"],[0.1,\"#c51b7d\"],[0.2,\"#de77ae\"],[0.3,\"#f1b6da\"],[0.4,\"#fde0ef\"],[0.5,\"#f7f7f7\"],[0.6,\"#e6f5d0\"],[0.7,\"#b8e186\"],[0.8,\"#7fbc41\"],[0.9,\"#4d9221\"],[1,\"#276419\"]]},\"xaxis\":{\"gridcolor\":\"white\",\"linecolor\":\"white\",\"ticks\":\"\",\"title\":{\"standoff\":15},\"zerolinecolor\":\"white\",\"automargin\":true,\"zerolinewidth\":2},\"yaxis\":{\"gridcolor\":\"white\",\"linecolor\":\"white\",\"ticks\":\"\",\"title\":{\"standoff\":15},\"zerolinecolor\":\"white\",\"automargin\":true,\"zerolinewidth\":2},\"scene\":{\"xaxis\":{\"backgroundcolor\":\"#E5ECF6\",\"gridcolor\":\"white\",\"linecolor\":\"white\",\"showbackground\":true,\"ticks\":\"\",\"zerolinecolor\":\"white\",\"gridwidth\":2},\"yaxis\":{\"backgroundcolor\":\"#E5ECF6\",\"gridcolor\":\"white\",\"linecolor\":\"white\",\"showbackground\":true,\"ticks\":\"\",\"zerolinecolor\":\"white\",\"gridwidth\":2},\"zaxis\":{\"backgroundcolor\":\"#E5ECF6\",\"gridcolor\":\"white\",\"linecolor\":\"white\",\"showbackground\":true,\"ticks\":\"\",\"zerolinecolor\":\"white\",\"gridwidth\":2}},\"shapedefaults\":{\"line\":{\"color\":\"#2a3f5f\"}},\"annotationdefaults\":{\"arrowcolor\":\"#2a3f5f\",\"arrowhead\":0,\"arrowwidth\":1},\"geo\":{\"bgcolor\":\"white\",\"landcolor\":\"#E5ECF6\",\"subunitcolor\":\"white\",\"showland\":true,\"showlakes\":true,\"lakecolor\":\"white\"},\"title\":{\"x\":0.05},\"mapbox\":{\"style\":\"light\"}}},\"xaxis\":{\"title\":{\"text\":\"batch_size\"},\"type\":\"category\",\"categoryorder\":\"array\",\"categoryarray\":[32,64,128]},\"yaxis\":{\"title\":{\"text\":\"Objective Value\"}}},                        {\"responsive\": true}                    ).then(function(){\n",
       "                            \n",
       "var gd = document.getElementById('c3d5fbca-a2f1-4b65-a39c-651a07e365e5');\n",
       "var x = new MutationObserver(function (mutations, observer) {{\n",
       "        var display = window.getComputedStyle(gd).display;\n",
       "        if (!display || display === 'none') {{\n",
       "            console.log([gd, 'removed!']);\n",
       "            Plotly.purge(gd);\n",
       "            observer.disconnect();\n",
       "        }}\n",
       "}});\n",
       "\n",
       "// Listen for the removal of the full notebook cells\n",
       "var notebookContainer = gd.closest('#notebook-container');\n",
       "if (notebookContainer) {{\n",
       "    x.observe(notebookContainer, {childList: true});\n",
       "}}\n",
       "\n",
       "// Listen for the clearing of the current output cell\n",
       "var outputEl = gd.closest('.output');\n",
       "if (outputEl) {{\n",
       "    x.observe(outputEl, {childList: true});\n",
       "}}\n",
       "\n",
       "                        })                };                });            </script>        </div>"
      ]
     },
     "metadata": {},
     "output_type": "display_data"
    },
    {
     "data": {
      "application/vnd.plotly.v1+json": {
       "config": {
        "plotlyServerURL": "https://plot.ly"
       },
       "data": [
        {
         "marker": {
          "color": [
           0,
           1,
           2,
           3,
           4,
           5,
           6,
           7,
           8,
           9,
           10,
           11,
           12,
           13,
           14,
           15,
           16,
           17,
           18,
           19,
           20,
           21,
           22,
           23,
           24,
           25,
           26,
           27,
           28,
           29,
           30,
           31,
           32,
           33,
           34,
           35,
           36,
           37,
           38,
           39,
           40,
           41,
           42,
           43,
           44,
           45,
           46,
           47,
           48,
           49,
           50,
           51,
           52,
           53,
           54,
           55,
           56,
           57,
           58,
           59,
           60,
           61,
           62,
           63,
           64,
           65,
           66,
           67,
           68,
           69,
           70,
           71,
           72,
           73,
           74,
           75,
           76,
           77,
           78,
           79,
           80,
           81,
           82,
           83,
           84,
           85,
           86,
           87,
           88,
           89,
           90,
           91,
           92,
           93,
           94,
           95,
           96,
           97,
           98,
           99
          ],
          "colorbar": {
           "title": {
            "text": "Trial"
           },
           "x": 1,
           "xpad": 40
          },
          "colorscale": [
           [
            0,
            "rgb(247,251,255)"
           ],
           [
            0.125,
            "rgb(222,235,247)"
           ],
           [
            0.25,
            "rgb(198,219,239)"
           ],
           [
            0.375,
            "rgb(158,202,225)"
           ],
           [
            0.5,
            "rgb(107,174,214)"
           ],
           [
            0.625,
            "rgb(66,146,198)"
           ],
           [
            0.75,
            "rgb(33,113,181)"
           ],
           [
            0.875,
            "rgb(8,81,156)"
           ],
           [
            1,
            "rgb(8,48,107)"
           ]
          ],
          "line": {
           "color": "Grey",
           "width": 0.5
          }
         },
         "mode": "markers",
         "name": "Feasible Trial",
         "showlegend": false,
         "type": "scatter",
         "x": [
          49,
          42,
          95,
          60,
          63,
          77,
          85,
          33,
          91,
          81,
          20,
          69,
          63,
          71,
          50,
          69,
          55,
          52,
          39,
          72,
          25,
          57,
          59,
          66,
          66,
          44,
          77,
          86,
          74,
          80,
          99,
          96,
          100,
          98,
          90,
          92,
          94,
          90,
          85,
          86,
          98,
          88,
          95,
          82,
          96,
          82,
          83,
          90,
          79,
          93,
          100,
          93,
          88,
          84,
          96,
          76,
          91,
          89,
          86,
          91,
          97,
          97,
          97,
          96,
          97,
          93,
          100,
          87,
          91,
          95,
          95,
          97,
          98,
          94,
          100,
          97,
          92,
          95,
          88,
          98,
          37,
          99,
          100,
          94,
          93,
          85,
          92,
          90,
          94,
          97,
          92,
          95,
          28,
          97,
          89,
          88,
          94,
          84,
          89,
          96
         ],
         "y": [
          0.07099812851714363,
          0.06803763988078185,
          0.06935717637685963,
          0.033668756308662694,
          0.048915481949797265,
          0.06032177846486475,
          0.09494716212616752,
          0.11948526040851484,
          0.0890384060669059,
          0.04790834845567678,
          0.08147728605269644,
          0.03204520018596852,
          0.035911442839034066,
          0.0380084449271256,
          0.036156556830768134,
          0.035851574502232274,
          0.03159097923306093,
          0.05867700351813783,
          0.09960922801793633,
          0.14290196426844332,
          0.07968661542800173,
          0.03487294569242735,
          0.04035386848915189,
          0.0304989251426833,
          0.030215063047830303,
          0.040969785243171374,
          0.030913903587971886,
          0.07856605590066378,
          0.12272061499937004,
          0.044013257278829265,
          0.029665209278338163,
          0.02544330946302394,
          0.03377904629513993,
          0.03643114803272869,
          0.029495592422290752,
          0.05650179309559903,
          0.03082805332358681,
          0.09794855181407013,
          0.027786075066188586,
          0.09540479069706274,
          0.05747047090766164,
          0.03028889357922484,
          0.037851165765702244,
          0.0316636762763494,
          0.032573140968758726,
          0.029846112662231757,
          0.031243394855255437,
          0.03079277899077107,
          0.1095713280868577,
          0.03004373981593405,
          0.09199621551417567,
          0.030893285092881077,
          0.03505317715491231,
          0.031427035507845265,
          0.031250927636725837,
          0.03715744627822359,
          0.029674029133280416,
          0.07068035396047129,
          0.030692968945364756,
          0.028348050939327085,
          0.028303055862232845,
          0.028123310581350786,
          0.027987560910327336,
          0.035413614413297476,
          0.03484228298483722,
          0.0491526415644838,
          0.03462192974769582,
          0.10630614738692863,
          0.13674885791405172,
          0.028719260562069537,
          0.03011008600535548,
          0.02850172999406871,
          0.031158382523600613,
          0.029533398330353892,
          0.029073039603620898,
          0.03005558704893089,
          0.05679923213808787,
          0.043408674136248784,
          0.02960952114997937,
          0.03786102749132027,
          0.09032265263153401,
          0.03258350728370278,
          0.028940832951127714,
          0.028121087290022755,
          0.02666154609321162,
          0.029762923919660927,
          0.0988350074471379,
          0.03223196043380262,
          0.03262654975836703,
          0.04355811711257015,
          0.0321796020324858,
          0.026796976604662858,
          0.05308720374660231,
          0.028309399447956463,
          0.025754147813209206,
          0.033082916961841936,
          0.05639014160756948,
          0.03287416330060368,
          0.029386534117167497,
          0.031714212697589575
         ]
        }
       ],
       "layout": {
        "template": {
         "data": {
          "bar": [
           {
            "error_x": {
             "color": "#2a3f5f"
            },
            "error_y": {
             "color": "#2a3f5f"
            },
            "marker": {
             "line": {
              "color": "#E5ECF6",
              "width": 0.5
             },
             "pattern": {
              "fillmode": "overlay",
              "size": 10,
              "solidity": 0.2
             }
            },
            "type": "bar"
           }
          ],
          "barpolar": [
           {
            "marker": {
             "line": {
              "color": "#E5ECF6",
              "width": 0.5
             },
             "pattern": {
              "fillmode": "overlay",
              "size": 10,
              "solidity": 0.2
             }
            },
            "type": "barpolar"
           }
          ],
          "carpet": [
           {
            "aaxis": {
             "endlinecolor": "#2a3f5f",
             "gridcolor": "white",
             "linecolor": "white",
             "minorgridcolor": "white",
             "startlinecolor": "#2a3f5f"
            },
            "baxis": {
             "endlinecolor": "#2a3f5f",
             "gridcolor": "white",
             "linecolor": "white",
             "minorgridcolor": "white",
             "startlinecolor": "#2a3f5f"
            },
            "type": "carpet"
           }
          ],
          "choropleth": [
           {
            "colorbar": {
             "outlinewidth": 0,
             "ticks": ""
            },
            "type": "choropleth"
           }
          ],
          "contour": [
           {
            "colorbar": {
             "outlinewidth": 0,
             "ticks": ""
            },
            "colorscale": [
             [
              0,
              "#0d0887"
             ],
             [
              0.1111111111111111,
              "#46039f"
             ],
             [
              0.2222222222222222,
              "#7201a8"
             ],
             [
              0.3333333333333333,
              "#9c179e"
             ],
             [
              0.4444444444444444,
              "#bd3786"
             ],
             [
              0.5555555555555556,
              "#d8576b"
             ],
             [
              0.6666666666666666,
              "#ed7953"
             ],
             [
              0.7777777777777778,
              "#fb9f3a"
             ],
             [
              0.8888888888888888,
              "#fdca26"
             ],
             [
              1,
              "#f0f921"
             ]
            ],
            "type": "contour"
           }
          ],
          "contourcarpet": [
           {
            "colorbar": {
             "outlinewidth": 0,
             "ticks": ""
            },
            "type": "contourcarpet"
           }
          ],
          "heatmap": [
           {
            "colorbar": {
             "outlinewidth": 0,
             "ticks": ""
            },
            "colorscale": [
             [
              0,
              "#0d0887"
             ],
             [
              0.1111111111111111,
              "#46039f"
             ],
             [
              0.2222222222222222,
              "#7201a8"
             ],
             [
              0.3333333333333333,
              "#9c179e"
             ],
             [
              0.4444444444444444,
              "#bd3786"
             ],
             [
              0.5555555555555556,
              "#d8576b"
             ],
             [
              0.6666666666666666,
              "#ed7953"
             ],
             [
              0.7777777777777778,
              "#fb9f3a"
             ],
             [
              0.8888888888888888,
              "#fdca26"
             ],
             [
              1,
              "#f0f921"
             ]
            ],
            "type": "heatmap"
           }
          ],
          "heatmapgl": [
           {
            "colorbar": {
             "outlinewidth": 0,
             "ticks": ""
            },
            "colorscale": [
             [
              0,
              "#0d0887"
             ],
             [
              0.1111111111111111,
              "#46039f"
             ],
             [
              0.2222222222222222,
              "#7201a8"
             ],
             [
              0.3333333333333333,
              "#9c179e"
             ],
             [
              0.4444444444444444,
              "#bd3786"
             ],
             [
              0.5555555555555556,
              "#d8576b"
             ],
             [
              0.6666666666666666,
              "#ed7953"
             ],
             [
              0.7777777777777778,
              "#fb9f3a"
             ],
             [
              0.8888888888888888,
              "#fdca26"
             ],
             [
              1,
              "#f0f921"
             ]
            ],
            "type": "heatmapgl"
           }
          ],
          "histogram": [
           {
            "marker": {
             "pattern": {
              "fillmode": "overlay",
              "size": 10,
              "solidity": 0.2
             }
            },
            "type": "histogram"
           }
          ],
          "histogram2d": [
           {
            "colorbar": {
             "outlinewidth": 0,
             "ticks": ""
            },
            "colorscale": [
             [
              0,
              "#0d0887"
             ],
             [
              0.1111111111111111,
              "#46039f"
             ],
             [
              0.2222222222222222,
              "#7201a8"
             ],
             [
              0.3333333333333333,
              "#9c179e"
             ],
             [
              0.4444444444444444,
              "#bd3786"
             ],
             [
              0.5555555555555556,
              "#d8576b"
             ],
             [
              0.6666666666666666,
              "#ed7953"
             ],
             [
              0.7777777777777778,
              "#fb9f3a"
             ],
             [
              0.8888888888888888,
              "#fdca26"
             ],
             [
              1,
              "#f0f921"
             ]
            ],
            "type": "histogram2d"
           }
          ],
          "histogram2dcontour": [
           {
            "colorbar": {
             "outlinewidth": 0,
             "ticks": ""
            },
            "colorscale": [
             [
              0,
              "#0d0887"
             ],
             [
              0.1111111111111111,
              "#46039f"
             ],
             [
              0.2222222222222222,
              "#7201a8"
             ],
             [
              0.3333333333333333,
              "#9c179e"
             ],
             [
              0.4444444444444444,
              "#bd3786"
             ],
             [
              0.5555555555555556,
              "#d8576b"
             ],
             [
              0.6666666666666666,
              "#ed7953"
             ],
             [
              0.7777777777777778,
              "#fb9f3a"
             ],
             [
              0.8888888888888888,
              "#fdca26"
             ],
             [
              1,
              "#f0f921"
             ]
            ],
            "type": "histogram2dcontour"
           }
          ],
          "mesh3d": [
           {
            "colorbar": {
             "outlinewidth": 0,
             "ticks": ""
            },
            "type": "mesh3d"
           }
          ],
          "parcoords": [
           {
            "line": {
             "colorbar": {
              "outlinewidth": 0,
              "ticks": ""
             }
            },
            "type": "parcoords"
           }
          ],
          "pie": [
           {
            "automargin": true,
            "type": "pie"
           }
          ],
          "scatter": [
           {
            "fillpattern": {
             "fillmode": "overlay",
             "size": 10,
             "solidity": 0.2
            },
            "type": "scatter"
           }
          ],
          "scatter3d": [
           {
            "line": {
             "colorbar": {
              "outlinewidth": 0,
              "ticks": ""
             }
            },
            "marker": {
             "colorbar": {
              "outlinewidth": 0,
              "ticks": ""
             }
            },
            "type": "scatter3d"
           }
          ],
          "scattercarpet": [
           {
            "marker": {
             "colorbar": {
              "outlinewidth": 0,
              "ticks": ""
             }
            },
            "type": "scattercarpet"
           }
          ],
          "scattergeo": [
           {
            "marker": {
             "colorbar": {
              "outlinewidth": 0,
              "ticks": ""
             }
            },
            "type": "scattergeo"
           }
          ],
          "scattergl": [
           {
            "marker": {
             "colorbar": {
              "outlinewidth": 0,
              "ticks": ""
             }
            },
            "type": "scattergl"
           }
          ],
          "scattermapbox": [
           {
            "marker": {
             "colorbar": {
              "outlinewidth": 0,
              "ticks": ""
             }
            },
            "type": "scattermapbox"
           }
          ],
          "scatterpolar": [
           {
            "marker": {
             "colorbar": {
              "outlinewidth": 0,
              "ticks": ""
             }
            },
            "type": "scatterpolar"
           }
          ],
          "scatterpolargl": [
           {
            "marker": {
             "colorbar": {
              "outlinewidth": 0,
              "ticks": ""
             }
            },
            "type": "scatterpolargl"
           }
          ],
          "scatterternary": [
           {
            "marker": {
             "colorbar": {
              "outlinewidth": 0,
              "ticks": ""
             }
            },
            "type": "scatterternary"
           }
          ],
          "surface": [
           {
            "colorbar": {
             "outlinewidth": 0,
             "ticks": ""
            },
            "colorscale": [
             [
              0,
              "#0d0887"
             ],
             [
              0.1111111111111111,
              "#46039f"
             ],
             [
              0.2222222222222222,
              "#7201a8"
             ],
             [
              0.3333333333333333,
              "#9c179e"
             ],
             [
              0.4444444444444444,
              "#bd3786"
             ],
             [
              0.5555555555555556,
              "#d8576b"
             ],
             [
              0.6666666666666666,
              "#ed7953"
             ],
             [
              0.7777777777777778,
              "#fb9f3a"
             ],
             [
              0.8888888888888888,
              "#fdca26"
             ],
             [
              1,
              "#f0f921"
             ]
            ],
            "type": "surface"
           }
          ],
          "table": [
           {
            "cells": {
             "fill": {
              "color": "#EBF0F8"
             },
             "line": {
              "color": "white"
             }
            },
            "header": {
             "fill": {
              "color": "#C8D4E3"
             },
             "line": {
              "color": "white"
             }
            },
            "type": "table"
           }
          ]
         },
         "layout": {
          "annotationdefaults": {
           "arrowcolor": "#2a3f5f",
           "arrowhead": 0,
           "arrowwidth": 1
          },
          "autotypenumbers": "strict",
          "coloraxis": {
           "colorbar": {
            "outlinewidth": 0,
            "ticks": ""
           }
          },
          "colorscale": {
           "diverging": [
            [
             0,
             "#8e0152"
            ],
            [
             0.1,
             "#c51b7d"
            ],
            [
             0.2,
             "#de77ae"
            ],
            [
             0.3,
             "#f1b6da"
            ],
            [
             0.4,
             "#fde0ef"
            ],
            [
             0.5,
             "#f7f7f7"
            ],
            [
             0.6,
             "#e6f5d0"
            ],
            [
             0.7,
             "#b8e186"
            ],
            [
             0.8,
             "#7fbc41"
            ],
            [
             0.9,
             "#4d9221"
            ],
            [
             1,
             "#276419"
            ]
           ],
           "sequential": [
            [
             0,
             "#0d0887"
            ],
            [
             0.1111111111111111,
             "#46039f"
            ],
            [
             0.2222222222222222,
             "#7201a8"
            ],
            [
             0.3333333333333333,
             "#9c179e"
            ],
            [
             0.4444444444444444,
             "#bd3786"
            ],
            [
             0.5555555555555556,
             "#d8576b"
            ],
            [
             0.6666666666666666,
             "#ed7953"
            ],
            [
             0.7777777777777778,
             "#fb9f3a"
            ],
            [
             0.8888888888888888,
             "#fdca26"
            ],
            [
             1,
             "#f0f921"
            ]
           ],
           "sequentialminus": [
            [
             0,
             "#0d0887"
            ],
            [
             0.1111111111111111,
             "#46039f"
            ],
            [
             0.2222222222222222,
             "#7201a8"
            ],
            [
             0.3333333333333333,
             "#9c179e"
            ],
            [
             0.4444444444444444,
             "#bd3786"
            ],
            [
             0.5555555555555556,
             "#d8576b"
            ],
            [
             0.6666666666666666,
             "#ed7953"
            ],
            [
             0.7777777777777778,
             "#fb9f3a"
            ],
            [
             0.8888888888888888,
             "#fdca26"
            ],
            [
             1,
             "#f0f921"
            ]
           ]
          },
          "colorway": [
           "#636efa",
           "#EF553B",
           "#00cc96",
           "#ab63fa",
           "#FFA15A",
           "#19d3f3",
           "#FF6692",
           "#B6E880",
           "#FF97FF",
           "#FECB52"
          ],
          "font": {
           "color": "#2a3f5f"
          },
          "geo": {
           "bgcolor": "white",
           "lakecolor": "white",
           "landcolor": "#E5ECF6",
           "showlakes": true,
           "showland": true,
           "subunitcolor": "white"
          },
          "hoverlabel": {
           "align": "left"
          },
          "hovermode": "closest",
          "mapbox": {
           "style": "light"
          },
          "paper_bgcolor": "white",
          "plot_bgcolor": "#E5ECF6",
          "polar": {
           "angularaxis": {
            "gridcolor": "white",
            "linecolor": "white",
            "ticks": ""
           },
           "bgcolor": "#E5ECF6",
           "radialaxis": {
            "gridcolor": "white",
            "linecolor": "white",
            "ticks": ""
           }
          },
          "scene": {
           "xaxis": {
            "backgroundcolor": "#E5ECF6",
            "gridcolor": "white",
            "gridwidth": 2,
            "linecolor": "white",
            "showbackground": true,
            "ticks": "",
            "zerolinecolor": "white"
           },
           "yaxis": {
            "backgroundcolor": "#E5ECF6",
            "gridcolor": "white",
            "gridwidth": 2,
            "linecolor": "white",
            "showbackground": true,
            "ticks": "",
            "zerolinecolor": "white"
           },
           "zaxis": {
            "backgroundcolor": "#E5ECF6",
            "gridcolor": "white",
            "gridwidth": 2,
            "linecolor": "white",
            "showbackground": true,
            "ticks": "",
            "zerolinecolor": "white"
           }
          },
          "shapedefaults": {
           "line": {
            "color": "#2a3f5f"
           }
          },
          "ternary": {
           "aaxis": {
            "gridcolor": "white",
            "linecolor": "white",
            "ticks": ""
           },
           "baxis": {
            "gridcolor": "white",
            "linecolor": "white",
            "ticks": ""
           },
           "bgcolor": "#E5ECF6",
           "caxis": {
            "gridcolor": "white",
            "linecolor": "white",
            "ticks": ""
           }
          },
          "title": {
           "x": 0.05
          },
          "xaxis": {
           "automargin": true,
           "gridcolor": "white",
           "linecolor": "white",
           "ticks": "",
           "title": {
            "standoff": 15
           },
           "zerolinecolor": "white",
           "zerolinewidth": 2
          },
          "yaxis": {
           "automargin": true,
           "gridcolor": "white",
           "linecolor": "white",
           "ticks": "",
           "title": {
            "standoff": 15
           },
           "zerolinecolor": "white",
           "zerolinewidth": 2
          }
         }
        },
        "title": {
         "text": "Slice Plot"
        },
        "xaxis": {
         "title": {
          "text": "epochs"
         }
        },
        "yaxis": {
         "title": {
          "text": "Objective Value"
         }
        }
       }
      },
      "text/html": [
       "<div>                            <div id=\"207fca1f-3a95-4e1a-96dd-ae68fdbb09c6\" class=\"plotly-graph-div\" style=\"height:525px; width:100%;\"></div>            <script type=\"text/javascript\">                require([\"plotly\"], function(Plotly) {                    window.PLOTLYENV=window.PLOTLYENV || {};                                    if (document.getElementById(\"207fca1f-3a95-4e1a-96dd-ae68fdbb09c6\")) {                    Plotly.newPlot(                        \"207fca1f-3a95-4e1a-96dd-ae68fdbb09c6\",                        [{\"marker\":{\"color\":[0,1,2,3,4,5,6,7,8,9,10,11,12,13,14,15,16,17,18,19,20,21,22,23,24,25,26,27,28,29,30,31,32,33,34,35,36,37,38,39,40,41,42,43,44,45,46,47,48,49,50,51,52,53,54,55,56,57,58,59,60,61,62,63,64,65,66,67,68,69,70,71,72,73,74,75,76,77,78,79,80,81,82,83,84,85,86,87,88,89,90,91,92,93,94,95,96,97,98,99],\"colorbar\":{\"title\":{\"text\":\"Trial\"},\"x\":1.0,\"xpad\":40},\"colorscale\":[[0.0,\"rgb(247,251,255)\"],[0.125,\"rgb(222,235,247)\"],[0.25,\"rgb(198,219,239)\"],[0.375,\"rgb(158,202,225)\"],[0.5,\"rgb(107,174,214)\"],[0.625,\"rgb(66,146,198)\"],[0.75,\"rgb(33,113,181)\"],[0.875,\"rgb(8,81,156)\"],[1.0,\"rgb(8,48,107)\"]],\"line\":{\"color\":\"Grey\",\"width\":0.5}},\"mode\":\"markers\",\"name\":\"Feasible Trial\",\"showlegend\":false,\"x\":[49,42,95,60,63,77,85,33,91,81,20,69,63,71,50,69,55,52,39,72,25,57,59,66,66,44,77,86,74,80,99,96,100,98,90,92,94,90,85,86,98,88,95,82,96,82,83,90,79,93,100,93,88,84,96,76,91,89,86,91,97,97,97,96,97,93,100,87,91,95,95,97,98,94,100,97,92,95,88,98,37,99,100,94,93,85,92,90,94,97,92,95,28,97,89,88,94,84,89,96],\"y\":[0.07099812851714363,0.06803763988078185,0.06935717637685963,0.033668756308662694,0.048915481949797265,0.06032177846486475,0.09494716212616752,0.11948526040851484,0.0890384060669059,0.04790834845567678,0.08147728605269644,0.03204520018596852,0.035911442839034066,0.0380084449271256,0.036156556830768134,0.035851574502232274,0.03159097923306093,0.05867700351813783,0.09960922801793633,0.14290196426844332,0.07968661542800173,0.03487294569242735,0.04035386848915189,0.0304989251426833,0.030215063047830303,0.040969785243171374,0.030913903587971886,0.07856605590066378,0.12272061499937004,0.044013257278829265,0.029665209278338163,0.02544330946302394,0.03377904629513993,0.03643114803272869,0.029495592422290752,0.05650179309559903,0.03082805332358681,0.09794855181407013,0.027786075066188586,0.09540479069706274,0.05747047090766164,0.03028889357922484,0.037851165765702244,0.0316636762763494,0.032573140968758726,0.029846112662231757,0.031243394855255437,0.03079277899077107,0.1095713280868577,0.03004373981593405,0.09199621551417567,0.030893285092881077,0.03505317715491231,0.031427035507845265,0.031250927636725837,0.03715744627822359,0.029674029133280416,0.07068035396047129,0.030692968945364756,0.028348050939327085,0.028303055862232845,0.028123310581350786,0.027987560910327336,0.035413614413297476,0.03484228298483722,0.0491526415644838,0.03462192974769582,0.10630614738692863,0.13674885791405172,0.028719260562069537,0.03011008600535548,0.02850172999406871,0.031158382523600613,0.029533398330353892,0.029073039603620898,0.03005558704893089,0.05679923213808787,0.043408674136248784,0.02960952114997937,0.03786102749132027,0.09032265263153401,0.03258350728370278,0.028940832951127714,0.028121087290022755,0.02666154609321162,0.029762923919660927,0.0988350074471379,0.03223196043380262,0.03262654975836703,0.04355811711257015,0.0321796020324858,0.026796976604662858,0.05308720374660231,0.028309399447956463,0.025754147813209206,0.033082916961841936,0.05639014160756948,0.03287416330060368,0.029386534117167497,0.031714212697589575],\"type\":\"scatter\"}],                        {\"title\":{\"text\":\"Slice Plot\"},\"template\":{\"data\":{\"histogram2dcontour\":[{\"type\":\"histogram2dcontour\",\"colorbar\":{\"outlinewidth\":0,\"ticks\":\"\"},\"colorscale\":[[0.0,\"#0d0887\"],[0.1111111111111111,\"#46039f\"],[0.2222222222222222,\"#7201a8\"],[0.3333333333333333,\"#9c179e\"],[0.4444444444444444,\"#bd3786\"],[0.5555555555555556,\"#d8576b\"],[0.6666666666666666,\"#ed7953\"],[0.7777777777777778,\"#fb9f3a\"],[0.8888888888888888,\"#fdca26\"],[1.0,\"#f0f921\"]]}],\"choropleth\":[{\"type\":\"choropleth\",\"colorbar\":{\"outlinewidth\":0,\"ticks\":\"\"}}],\"histogram2d\":[{\"type\":\"histogram2d\",\"colorbar\":{\"outlinewidth\":0,\"ticks\":\"\"},\"colorscale\":[[0.0,\"#0d0887\"],[0.1111111111111111,\"#46039f\"],[0.2222222222222222,\"#7201a8\"],[0.3333333333333333,\"#9c179e\"],[0.4444444444444444,\"#bd3786\"],[0.5555555555555556,\"#d8576b\"],[0.6666666666666666,\"#ed7953\"],[0.7777777777777778,\"#fb9f3a\"],[0.8888888888888888,\"#fdca26\"],[1.0,\"#f0f921\"]]}],\"heatmap\":[{\"type\":\"heatmap\",\"colorbar\":{\"outlinewidth\":0,\"ticks\":\"\"},\"colorscale\":[[0.0,\"#0d0887\"],[0.1111111111111111,\"#46039f\"],[0.2222222222222222,\"#7201a8\"],[0.3333333333333333,\"#9c179e\"],[0.4444444444444444,\"#bd3786\"],[0.5555555555555556,\"#d8576b\"],[0.6666666666666666,\"#ed7953\"],[0.7777777777777778,\"#fb9f3a\"],[0.8888888888888888,\"#fdca26\"],[1.0,\"#f0f921\"]]}],\"heatmapgl\":[{\"type\":\"heatmapgl\",\"colorbar\":{\"outlinewidth\":0,\"ticks\":\"\"},\"colorscale\":[[0.0,\"#0d0887\"],[0.1111111111111111,\"#46039f\"],[0.2222222222222222,\"#7201a8\"],[0.3333333333333333,\"#9c179e\"],[0.4444444444444444,\"#bd3786\"],[0.5555555555555556,\"#d8576b\"],[0.6666666666666666,\"#ed7953\"],[0.7777777777777778,\"#fb9f3a\"],[0.8888888888888888,\"#fdca26\"],[1.0,\"#f0f921\"]]}],\"contourcarpet\":[{\"type\":\"contourcarpet\",\"colorbar\":{\"outlinewidth\":0,\"ticks\":\"\"}}],\"contour\":[{\"type\":\"contour\",\"colorbar\":{\"outlinewidth\":0,\"ticks\":\"\"},\"colorscale\":[[0.0,\"#0d0887\"],[0.1111111111111111,\"#46039f\"],[0.2222222222222222,\"#7201a8\"],[0.3333333333333333,\"#9c179e\"],[0.4444444444444444,\"#bd3786\"],[0.5555555555555556,\"#d8576b\"],[0.6666666666666666,\"#ed7953\"],[0.7777777777777778,\"#fb9f3a\"],[0.8888888888888888,\"#fdca26\"],[1.0,\"#f0f921\"]]}],\"surface\":[{\"type\":\"surface\",\"colorbar\":{\"outlinewidth\":0,\"ticks\":\"\"},\"colorscale\":[[0.0,\"#0d0887\"],[0.1111111111111111,\"#46039f\"],[0.2222222222222222,\"#7201a8\"],[0.3333333333333333,\"#9c179e\"],[0.4444444444444444,\"#bd3786\"],[0.5555555555555556,\"#d8576b\"],[0.6666666666666666,\"#ed7953\"],[0.7777777777777778,\"#fb9f3a\"],[0.8888888888888888,\"#fdca26\"],[1.0,\"#f0f921\"]]}],\"mesh3d\":[{\"type\":\"mesh3d\",\"colorbar\":{\"outlinewidth\":0,\"ticks\":\"\"}}],\"scatter\":[{\"fillpattern\":{\"fillmode\":\"overlay\",\"size\":10,\"solidity\":0.2},\"type\":\"scatter\"}],\"parcoords\":[{\"type\":\"parcoords\",\"line\":{\"colorbar\":{\"outlinewidth\":0,\"ticks\":\"\"}}}],\"scatterpolargl\":[{\"type\":\"scatterpolargl\",\"marker\":{\"colorbar\":{\"outlinewidth\":0,\"ticks\":\"\"}}}],\"bar\":[{\"error_x\":{\"color\":\"#2a3f5f\"},\"error_y\":{\"color\":\"#2a3f5f\"},\"marker\":{\"line\":{\"color\":\"#E5ECF6\",\"width\":0.5},\"pattern\":{\"fillmode\":\"overlay\",\"size\":10,\"solidity\":0.2}},\"type\":\"bar\"}],\"scattergeo\":[{\"type\":\"scattergeo\",\"marker\":{\"colorbar\":{\"outlinewidth\":0,\"ticks\":\"\"}}}],\"scatterpolar\":[{\"type\":\"scatterpolar\",\"marker\":{\"colorbar\":{\"outlinewidth\":0,\"ticks\":\"\"}}}],\"histogram\":[{\"marker\":{\"pattern\":{\"fillmode\":\"overlay\",\"size\":10,\"solidity\":0.2}},\"type\":\"histogram\"}],\"scattergl\":[{\"type\":\"scattergl\",\"marker\":{\"colorbar\":{\"outlinewidth\":0,\"ticks\":\"\"}}}],\"scatter3d\":[{\"type\":\"scatter3d\",\"line\":{\"colorbar\":{\"outlinewidth\":0,\"ticks\":\"\"}},\"marker\":{\"colorbar\":{\"outlinewidth\":0,\"ticks\":\"\"}}}],\"scattermapbox\":[{\"type\":\"scattermapbox\",\"marker\":{\"colorbar\":{\"outlinewidth\":0,\"ticks\":\"\"}}}],\"scatterternary\":[{\"type\":\"scatterternary\",\"marker\":{\"colorbar\":{\"outlinewidth\":0,\"ticks\":\"\"}}}],\"scattercarpet\":[{\"type\":\"scattercarpet\",\"marker\":{\"colorbar\":{\"outlinewidth\":0,\"ticks\":\"\"}}}],\"carpet\":[{\"aaxis\":{\"endlinecolor\":\"#2a3f5f\",\"gridcolor\":\"white\",\"linecolor\":\"white\",\"minorgridcolor\":\"white\",\"startlinecolor\":\"#2a3f5f\"},\"baxis\":{\"endlinecolor\":\"#2a3f5f\",\"gridcolor\":\"white\",\"linecolor\":\"white\",\"minorgridcolor\":\"white\",\"startlinecolor\":\"#2a3f5f\"},\"type\":\"carpet\"}],\"table\":[{\"cells\":{\"fill\":{\"color\":\"#EBF0F8\"},\"line\":{\"color\":\"white\"}},\"header\":{\"fill\":{\"color\":\"#C8D4E3\"},\"line\":{\"color\":\"white\"}},\"type\":\"table\"}],\"barpolar\":[{\"marker\":{\"line\":{\"color\":\"#E5ECF6\",\"width\":0.5},\"pattern\":{\"fillmode\":\"overlay\",\"size\":10,\"solidity\":0.2}},\"type\":\"barpolar\"}],\"pie\":[{\"automargin\":true,\"type\":\"pie\"}]},\"layout\":{\"autotypenumbers\":\"strict\",\"colorway\":[\"#636efa\",\"#EF553B\",\"#00cc96\",\"#ab63fa\",\"#FFA15A\",\"#19d3f3\",\"#FF6692\",\"#B6E880\",\"#FF97FF\",\"#FECB52\"],\"font\":{\"color\":\"#2a3f5f\"},\"hovermode\":\"closest\",\"hoverlabel\":{\"align\":\"left\"},\"paper_bgcolor\":\"white\",\"plot_bgcolor\":\"#E5ECF6\",\"polar\":{\"bgcolor\":\"#E5ECF6\",\"angularaxis\":{\"gridcolor\":\"white\",\"linecolor\":\"white\",\"ticks\":\"\"},\"radialaxis\":{\"gridcolor\":\"white\",\"linecolor\":\"white\",\"ticks\":\"\"}},\"ternary\":{\"bgcolor\":\"#E5ECF6\",\"aaxis\":{\"gridcolor\":\"white\",\"linecolor\":\"white\",\"ticks\":\"\"},\"baxis\":{\"gridcolor\":\"white\",\"linecolor\":\"white\",\"ticks\":\"\"},\"caxis\":{\"gridcolor\":\"white\",\"linecolor\":\"white\",\"ticks\":\"\"}},\"coloraxis\":{\"colorbar\":{\"outlinewidth\":0,\"ticks\":\"\"}},\"colorscale\":{\"sequential\":[[0.0,\"#0d0887\"],[0.1111111111111111,\"#46039f\"],[0.2222222222222222,\"#7201a8\"],[0.3333333333333333,\"#9c179e\"],[0.4444444444444444,\"#bd3786\"],[0.5555555555555556,\"#d8576b\"],[0.6666666666666666,\"#ed7953\"],[0.7777777777777778,\"#fb9f3a\"],[0.8888888888888888,\"#fdca26\"],[1.0,\"#f0f921\"]],\"sequentialminus\":[[0.0,\"#0d0887\"],[0.1111111111111111,\"#46039f\"],[0.2222222222222222,\"#7201a8\"],[0.3333333333333333,\"#9c179e\"],[0.4444444444444444,\"#bd3786\"],[0.5555555555555556,\"#d8576b\"],[0.6666666666666666,\"#ed7953\"],[0.7777777777777778,\"#fb9f3a\"],[0.8888888888888888,\"#fdca26\"],[1.0,\"#f0f921\"]],\"diverging\":[[0,\"#8e0152\"],[0.1,\"#c51b7d\"],[0.2,\"#de77ae\"],[0.3,\"#f1b6da\"],[0.4,\"#fde0ef\"],[0.5,\"#f7f7f7\"],[0.6,\"#e6f5d0\"],[0.7,\"#b8e186\"],[0.8,\"#7fbc41\"],[0.9,\"#4d9221\"],[1,\"#276419\"]]},\"xaxis\":{\"gridcolor\":\"white\",\"linecolor\":\"white\",\"ticks\":\"\",\"title\":{\"standoff\":15},\"zerolinecolor\":\"white\",\"automargin\":true,\"zerolinewidth\":2},\"yaxis\":{\"gridcolor\":\"white\",\"linecolor\":\"white\",\"ticks\":\"\",\"title\":{\"standoff\":15},\"zerolinecolor\":\"white\",\"automargin\":true,\"zerolinewidth\":2},\"scene\":{\"xaxis\":{\"backgroundcolor\":\"#E5ECF6\",\"gridcolor\":\"white\",\"linecolor\":\"white\",\"showbackground\":true,\"ticks\":\"\",\"zerolinecolor\":\"white\",\"gridwidth\":2},\"yaxis\":{\"backgroundcolor\":\"#E5ECF6\",\"gridcolor\":\"white\",\"linecolor\":\"white\",\"showbackground\":true,\"ticks\":\"\",\"zerolinecolor\":\"white\",\"gridwidth\":2},\"zaxis\":{\"backgroundcolor\":\"#E5ECF6\",\"gridcolor\":\"white\",\"linecolor\":\"white\",\"showbackground\":true,\"ticks\":\"\",\"zerolinecolor\":\"white\",\"gridwidth\":2}},\"shapedefaults\":{\"line\":{\"color\":\"#2a3f5f\"}},\"annotationdefaults\":{\"arrowcolor\":\"#2a3f5f\",\"arrowhead\":0,\"arrowwidth\":1},\"geo\":{\"bgcolor\":\"white\",\"landcolor\":\"#E5ECF6\",\"subunitcolor\":\"white\",\"showland\":true,\"showlakes\":true,\"lakecolor\":\"white\"},\"title\":{\"x\":0.05},\"mapbox\":{\"style\":\"light\"}}},\"xaxis\":{\"title\":{\"text\":\"epochs\"}},\"yaxis\":{\"title\":{\"text\":\"Objective Value\"}}},                        {\"responsive\": true}                    ).then(function(){\n",
       "                            \n",
       "var gd = document.getElementById('207fca1f-3a95-4e1a-96dd-ae68fdbb09c6');\n",
       "var x = new MutationObserver(function (mutations, observer) {{\n",
       "        var display = window.getComputedStyle(gd).display;\n",
       "        if (!display || display === 'none') {{\n",
       "            console.log([gd, 'removed!']);\n",
       "            Plotly.purge(gd);\n",
       "            observer.disconnect();\n",
       "        }}\n",
       "}});\n",
       "\n",
       "// Listen for the removal of the full notebook cells\n",
       "var notebookContainer = gd.closest('#notebook-container');\n",
       "if (notebookContainer) {{\n",
       "    x.observe(notebookContainer, {childList: true});\n",
       "}}\n",
       "\n",
       "// Listen for the clearing of the current output cell\n",
       "var outputEl = gd.closest('.output');\n",
       "if (outputEl) {{\n",
       "    x.observe(outputEl, {childList: true});\n",
       "}}\n",
       "\n",
       "                        })                };                });            </script>        </div>"
      ]
     },
     "metadata": {},
     "output_type": "display_data"
    }
   ],
   "source": [
    "# Hyperparameter importance\n",
    "hyperparam_importance = ov.plot_param_importances(study)\n",
    "hyperparam_importance.show()\n",
    "\n",
    "# Optimization history\n",
    "opt_history = ov.plot_optimization_history(study)\n",
    "opt_history.show()\n",
    "\n",
    "# Slice plots for all hyperparameters\n",
    "for param in study.best_params.keys():\n",
    "    slice_plot = ov.plot_slice(study, params=[param])\n",
    "    slice_plot.show()"
   ]
  },
  {
   "cell_type": "markdown",
   "id": "d8fe7539-d5dc-43cf-951e-bc3dd934c51d",
   "metadata": {
    "jp-MarkdownHeadingCollapsed": true
   },
   "source": [
    "### Computational Efficiency"
   ]
  },
  {
   "cell_type": "code",
   "execution_count": 46,
   "id": "ed266938-8e3d-40ad-9392-f30208edd844",
   "metadata": {
    "scrolled": true
   },
   "outputs": [
    {
     "name": "stdout",
     "output_type": "stream",
     "text": [
      "Epoch 1/96\n",
      "48/48 [==============================] - 1s 1ms/step - loss: 0.0024\n",
      "Epoch 2/96\n",
      "48/48 [==============================] - 0s 1ms/step - loss: 0.0022\n",
      "Epoch 3/96\n",
      "48/48 [==============================] - 0s 1ms/step - loss: 0.0022\n",
      "Epoch 4/96\n",
      "48/48 [==============================] - 0s 1ms/step - loss: 0.0021\n",
      "Epoch 5/96\n",
      "48/48 [==============================] - 0s 2ms/step - loss: 0.0020\n",
      "Epoch 6/96\n",
      "48/48 [==============================] - 0s 1ms/step - loss: 0.0021\n",
      "Epoch 7/96\n",
      "48/48 [==============================] - 0s 1ms/step - loss: 0.0020\n",
      "Epoch 8/96\n",
      "48/48 [==============================] - 0s 1ms/step - loss: 0.0019\n",
      "Epoch 9/96\n",
      "48/48 [==============================] - 0s 1ms/step - loss: 0.0019\n",
      "Epoch 10/96\n",
      "48/48 [==============================] - 0s 1ms/step - loss: 0.0018\n",
      "Epoch 11/96\n",
      "48/48 [==============================] - 0s 1ms/step - loss: 0.0018\n",
      "Epoch 12/96\n",
      "48/48 [==============================] - 0s 2ms/step - loss: 0.0017\n",
      "Epoch 13/96\n",
      "48/48 [==============================] - 0s 1ms/step - loss: 0.0018\n",
      "Epoch 14/96\n",
      "48/48 [==============================] - 0s 2ms/step - loss: 0.0017\n",
      "Epoch 15/96\n",
      "48/48 [==============================] - 0s 1ms/step - loss: 0.0017\n",
      "Epoch 16/96\n",
      "48/48 [==============================] - 0s 1ms/step - loss: 0.0016\n",
      "Epoch 17/96\n",
      "48/48 [==============================] - 0s 1ms/step - loss: 0.0015\n",
      "Epoch 18/96\n",
      "48/48 [==============================] - 0s 1ms/step - loss: 0.0016\n",
      "Epoch 19/96\n",
      "48/48 [==============================] - 0s 1ms/step - loss: 0.0015\n",
      "Epoch 20/96\n",
      "48/48 [==============================] - 0s 2ms/step - loss: 0.0014\n",
      "Epoch 21/96\n",
      "48/48 [==============================] - 0s 1ms/step - loss: 0.0015\n",
      "Epoch 22/96\n",
      "48/48 [==============================] - 0s 1ms/step - loss: 0.0014\n",
      "Epoch 23/96\n",
      "48/48 [==============================] - 0s 1ms/step - loss: 0.0014\n",
      "Epoch 24/96\n",
      "48/48 [==============================] - 0s 1ms/step - loss: 0.0014\n",
      "Epoch 25/96\n",
      "48/48 [==============================] - 0s 1ms/step - loss: 0.0013\n",
      "Epoch 26/96\n",
      "48/48 [==============================] - 0s 1ms/step - loss: 0.0015\n",
      "Epoch 27/96\n",
      "48/48 [==============================] - 0s 1ms/step - loss: 0.0013\n",
      "Epoch 28/96\n",
      "48/48 [==============================] - 0s 1ms/step - loss: 0.0013\n",
      "Epoch 29/96\n",
      "48/48 [==============================] - 0s 1ms/step - loss: 0.0013\n",
      "Epoch 30/96\n",
      "48/48 [==============================] - 0s 1ms/step - loss: 0.0012\n",
      "Epoch 31/96\n",
      "48/48 [==============================] - 0s 1ms/step - loss: 0.0013\n",
      "Epoch 32/96\n",
      "48/48 [==============================] - 0s 1ms/step - loss: 0.0013\n",
      "Epoch 33/96\n",
      "48/48 [==============================] - 0s 1ms/step - loss: 0.0012\n",
      "Epoch 34/96\n",
      "48/48 [==============================] - 0s 1ms/step - loss: 0.0012\n",
      "Epoch 35/96\n",
      "48/48 [==============================] - 0s 1ms/step - loss: 0.0012\n",
      "Epoch 36/96\n",
      "48/48 [==============================] - 0s 1ms/step - loss: 0.0011\n",
      "Epoch 37/96\n",
      "48/48 [==============================] - 0s 1ms/step - loss: 0.0011\n",
      "Epoch 38/96\n",
      "48/48 [==============================] - 0s 1ms/step - loss: 0.0011\n",
      "Epoch 39/96\n",
      "48/48 [==============================] - 0s 1ms/step - loss: 0.0011\n",
      "Epoch 40/96\n",
      "48/48 [==============================] - 0s 1ms/step - loss: 0.0011\n",
      "Epoch 41/96\n",
      "48/48 [==============================] - 0s 1ms/step - loss: 0.0011\n",
      "Epoch 42/96\n",
      "48/48 [==============================] - 0s 1ms/step - loss: 9.8759e-04\n",
      "Epoch 43/96\n",
      "48/48 [==============================] - 0s 1ms/step - loss: 0.0010\n",
      "Epoch 44/96\n",
      "48/48 [==============================] - 0s 1ms/step - loss: 9.9115e-04\n",
      "Epoch 45/96\n",
      "48/48 [==============================] - 0s 1ms/step - loss: 0.0011\n",
      "Epoch 46/96\n",
      "48/48 [==============================] - 0s 1ms/step - loss: 0.0010\n",
      "Epoch 47/96\n",
      "48/48 [==============================] - 0s 1ms/step - loss: 9.9500e-04\n",
      "Epoch 48/96\n",
      "48/48 [==============================] - 0s 1ms/step - loss: 9.2173e-04\n",
      "Epoch 49/96\n",
      "48/48 [==============================] - 0s 1ms/step - loss: 9.1634e-04\n",
      "Epoch 50/96\n",
      "48/48 [==============================] - 0s 1ms/step - loss: 9.2494e-04\n",
      "Epoch 51/96\n",
      "48/48 [==============================] - 0s 1ms/step - loss: 9.6517e-04\n",
      "Epoch 52/96\n",
      "48/48 [==============================] - 0s 1ms/step - loss: 9.0438e-04\n",
      "Epoch 53/96\n",
      "48/48 [==============================] - 0s 1ms/step - loss: 9.1944e-04\n",
      "Epoch 54/96\n",
      "48/48 [==============================] - 0s 1ms/step - loss: 9.3419e-04\n",
      "Epoch 55/96\n",
      "48/48 [==============================] - 0s 1ms/step - loss: 8.2986e-04\n",
      "Epoch 56/96\n",
      "48/48 [==============================] - 0s 1ms/step - loss: 8.0596e-04\n",
      "Epoch 57/96\n",
      "48/48 [==============================] - 0s 1ms/step - loss: 8.3930e-04\n",
      "Epoch 58/96\n",
      "48/48 [==============================] - 0s 1ms/step - loss: 8.3397e-04\n",
      "Epoch 59/96\n",
      "48/48 [==============================] - 0s 1ms/step - loss: 7.8348e-04\n",
      "Epoch 60/96\n",
      "48/48 [==============================] - 0s 1ms/step - loss: 8.3495e-04\n",
      "Epoch 61/96\n",
      "48/48 [==============================] - 0s 1ms/step - loss: 8.7184e-04\n",
      "Epoch 62/96\n",
      "48/48 [==============================] - 0s 1ms/step - loss: 8.3935e-04\n",
      "Epoch 63/96\n",
      "48/48 [==============================] - 0s 1ms/step - loss: 7.0547e-04\n",
      "Epoch 64/96\n",
      "48/48 [==============================] - 0s 1ms/step - loss: 7.0424e-04\n",
      "Epoch 65/96\n",
      "48/48 [==============================] - 0s 1ms/step - loss: 7.1372e-04\n",
      "Epoch 66/96\n",
      "48/48 [==============================] - 0s 1ms/step - loss: 7.4115e-04\n",
      "Epoch 67/96\n",
      "48/48 [==============================] - 0s 1ms/step - loss: 7.0247e-04\n",
      "Epoch 68/96\n",
      "48/48 [==============================] - 0s 1ms/step - loss: 7.0006e-04\n",
      "Epoch 69/96\n",
      "48/48 [==============================] - 0s 1ms/step - loss: 7.1170e-04\n",
      "Epoch 70/96\n",
      "48/48 [==============================] - 0s 1ms/step - loss: 7.1776e-04\n",
      "Epoch 71/96\n",
      "48/48 [==============================] - 0s 1ms/step - loss: 6.7522e-04\n",
      "Epoch 72/96\n",
      "48/48 [==============================] - 0s 1ms/step - loss: 6.5858e-04\n",
      "Epoch 73/96\n",
      "48/48 [==============================] - 0s 1ms/step - loss: 6.1214e-04\n",
      "Epoch 74/96\n",
      "48/48 [==============================] - 0s 1ms/step - loss: 6.5679e-04\n",
      "Epoch 75/96\n",
      "48/48 [==============================] - 0s 1ms/step - loss: 6.5751e-04\n",
      "Epoch 76/96\n",
      "48/48 [==============================] - 0s 1ms/step - loss: 6.1947e-04\n",
      "Epoch 77/96\n",
      "48/48 [==============================] - 0s 1ms/step - loss: 6.5413e-04\n",
      "Epoch 78/96\n",
      "48/48 [==============================] - 0s 1ms/step - loss: 6.3648e-04\n",
      "Epoch 79/96\n",
      "48/48 [==============================] - 0s 1ms/step - loss: 6.3647e-04\n",
      "Epoch 80/96\n",
      "48/48 [==============================] - 0s 1ms/step - loss: 6.5607e-04\n",
      "Epoch 81/96\n",
      "48/48 [==============================] - 0s 1ms/step - loss: 6.1045e-04\n",
      "Epoch 82/96\n",
      "48/48 [==============================] - 0s 1ms/step - loss: 6.4886e-04\n",
      "Epoch 83/96\n",
      "48/48 [==============================] - 0s 1ms/step - loss: 6.4564e-04\n",
      "Epoch 84/96\n",
      "48/48 [==============================] - 0s 1ms/step - loss: 6.2998e-04\n",
      "Epoch 85/96\n",
      "48/48 [==============================] - 0s 1ms/step - loss: 6.2952e-04\n",
      "Epoch 86/96\n",
      "48/48 [==============================] - 0s 1ms/step - loss: 5.7987e-04\n",
      "Epoch 87/96\n",
      "48/48 [==============================] - 0s 1ms/step - loss: 5.7605e-04\n",
      "Epoch 88/96\n",
      "48/48 [==============================] - 0s 1ms/step - loss: 5.6446e-04\n",
      "Epoch 89/96\n",
      "48/48 [==============================] - 0s 1ms/step - loss: 5.9819e-04\n",
      "Epoch 90/96\n",
      "48/48 [==============================] - 0s 1ms/step - loss: 5.7236e-04\n",
      "Epoch 91/96\n",
      "48/48 [==============================] - 0s 1ms/step - loss: 5.7463e-04\n",
      "Epoch 92/96\n",
      "48/48 [==============================] - 0s 1ms/step - loss: 5.8831e-04\n",
      "Epoch 93/96\n",
      "48/48 [==============================] - 0s 1ms/step - loss: 5.8169e-04\n",
      "Epoch 94/96\n",
      "48/48 [==============================] - 0s 1ms/step - loss: 5.3286e-04\n",
      "Epoch 95/96\n",
      "48/48 [==============================] - 0s 1ms/step - loss: 5.1880e-04\n",
      "Epoch 96/96\n",
      "48/48 [==============================] - 0s 1ms/step - loss: 5.3535e-04\n",
      "48/48 [==============================] - 0s 617us/step\n",
      "Training Time: 6.137282848358154 seconds\n",
      "Inference Time: 0.0753319263458252 seconds\n"
     ]
    }
   ],
   "source": [
    "start_time = time.time()\n",
    "model.fit(trainX, trainY, epochs=best_epochs, batch_size=best_batch_size)\n",
    "training_time = time.time() - start_time\n",
    "\n",
    "start_time = time.time()\n",
    "predictions = model.predict(testX)\n",
    "inference_time = time.time() - start_time\n",
    "\n",
    "print(f\"Training Time: {training_time} seconds\")\n",
    "print(f\"Inference Time: {inference_time} seconds\")"
   ]
  },
  {
   "cell_type": "markdown",
   "id": "4005265e-e911-4c62-ba72-c61c4ca9a05a",
   "metadata": {
    "jp-MarkdownHeadingCollapsed": true
   },
   "source": [
    "### Model Complexity Optuna Model"
   ]
  },
  {
   "cell_type": "code",
   "execution_count": 47,
   "id": "5f0d613c-c38a-4fb9-a39f-a07cbe5b5bc8",
   "metadata": {},
   "outputs": [
    {
     "name": "stdout",
     "output_type": "stream",
     "text": [
      "Model: \"sequential_1\"\n",
      "_________________________________________________________________\n",
      " Layer (type)                Output Shape              Param #   \n",
      "=================================================================\n",
      " lstm_1 (LSTM)               (None, 50)                12600     \n",
      "                                                                 \n",
      " dropout_1 (Dropout)         (None, 50)                0         \n",
      "                                                                 \n",
      " dense_1 (Dense)             (None, 1)                 51        \n",
      "                                                                 \n",
      "=================================================================\n",
      "Total params: 12651 (49.42 KB)\n",
      "Trainable params: 12651 (49.42 KB)\n",
      "Non-trainable params: 0 (0.00 Byte)\n",
      "_________________________________________________________________\n",
      "Model Size: 180944 bytes\n"
     ]
    }
   ],
   "source": [
    "model.summary() # Gives the number of parameters\n",
    "model.save(\"optuna_model.h5\")\n",
    "\n",
    "\n",
    "model_size = os.path.getsize(\"optuna_model.h5\")\n",
    "print(f\"Model Size: {model_size} bytes\")"
   ]
  },
  {
   "cell_type": "markdown",
   "id": "77e66199-9b96-4f73-911c-dc11d40397ef",
   "metadata": {
    "jp-MarkdownHeadingCollapsed": true
   },
   "source": [
    "### Overfitting/Underfitting Analysis"
   ]
  },
  {
   "cell_type": "code",
   "execution_count": 48,
   "id": "c6ff1ded-d260-497c-82b7-58b01632218b",
   "metadata": {
    "scrolled": true
   },
   "outputs": [
    {
     "name": "stdout",
     "output_type": "stream",
     "text": [
      "Epoch 1/96\n",
      "39/39 [==============================] - 0s 7ms/step - loss: 6.0212e-04 - val_loss: 1.5562e-04\n",
      "Epoch 2/96\n",
      "39/39 [==============================] - 0s 2ms/step - loss: 5.5767e-04 - val_loss: 1.8888e-04\n",
      "Epoch 3/96\n",
      "39/39 [==============================] - 0s 1ms/step - loss: 6.0005e-04 - val_loss: 1.6650e-04\n",
      "Epoch 4/96\n",
      "39/39 [==============================] - 0s 1ms/step - loss: 6.1411e-04 - val_loss: 2.2761e-04\n",
      "Epoch 5/96\n",
      "39/39 [==============================] - 0s 1ms/step - loss: 6.3540e-04 - val_loss: 1.6212e-04\n",
      "Epoch 6/96\n",
      "39/39 [==============================] - 0s 1ms/step - loss: 5.2056e-04 - val_loss: 1.7544e-04\n",
      "Epoch 7/96\n",
      "39/39 [==============================] - 0s 1ms/step - loss: 5.9385e-04 - val_loss: 1.6460e-04\n",
      "Epoch 8/96\n",
      "39/39 [==============================] - 0s 2ms/step - loss: 5.7184e-04 - val_loss: 1.6163e-04\n",
      "Epoch 9/96\n",
      "39/39 [==============================] - 0s 1ms/step - loss: 5.9744e-04 - val_loss: 1.6729e-04\n",
      "Epoch 10/96\n",
      "39/39 [==============================] - 0s 2ms/step - loss: 6.4444e-04 - val_loss: 2.0294e-04\n",
      "Epoch 11/96\n",
      "39/39 [==============================] - 0s 1ms/step - loss: 6.0616e-04 - val_loss: 1.6968e-04\n",
      "Epoch 12/96\n",
      "39/39 [==============================] - 0s 1ms/step - loss: 5.4975e-04 - val_loss: 1.6641e-04\n",
      "Epoch 13/96\n",
      "39/39 [==============================] - 0s 1ms/step - loss: 5.4720e-04 - val_loss: 1.8201e-04\n",
      "Epoch 14/96\n",
      "39/39 [==============================] - 0s 1ms/step - loss: 6.1500e-04 - val_loss: 1.5939e-04\n",
      "Epoch 15/96\n",
      "39/39 [==============================] - 0s 1ms/step - loss: 6.0427e-04 - val_loss: 2.0117e-04\n",
      "Epoch 16/96\n",
      "39/39 [==============================] - 0s 1ms/step - loss: 5.7470e-04 - val_loss: 1.7192e-04\n",
      "Epoch 17/96\n",
      "39/39 [==============================] - 0s 1ms/step - loss: 5.5730e-04 - val_loss: 1.6961e-04\n",
      "Epoch 18/96\n",
      "39/39 [==============================] - 0s 2ms/step - loss: 5.5547e-04 - val_loss: 1.6075e-04\n",
      "Epoch 19/96\n",
      "39/39 [==============================] - 0s 1ms/step - loss: 5.8105e-04 - val_loss: 1.7086e-04\n",
      "Epoch 20/96\n",
      "39/39 [==============================] - 0s 2ms/step - loss: 5.3542e-04 - val_loss: 1.6892e-04\n",
      "Epoch 21/96\n",
      "39/39 [==============================] - 0s 2ms/step - loss: 6.0747e-04 - val_loss: 1.8492e-04\n",
      "Epoch 22/96\n",
      "39/39 [==============================] - 0s 1ms/step - loss: 5.7915e-04 - val_loss: 1.6446e-04\n",
      "Epoch 23/96\n",
      "39/39 [==============================] - 0s 1ms/step - loss: 5.5826e-04 - val_loss: 1.7056e-04\n",
      "Epoch 24/96\n",
      "39/39 [==============================] - 0s 1ms/step - loss: 5.6895e-04 - val_loss: 1.9026e-04\n",
      "Epoch 25/96\n",
      "39/39 [==============================] - 0s 2ms/step - loss: 5.4083e-04 - val_loss: 1.6310e-04\n",
      "Epoch 26/96\n",
      "39/39 [==============================] - 0s 1ms/step - loss: 6.1394e-04 - val_loss: 2.1446e-04\n",
      "Epoch 27/96\n",
      "39/39 [==============================] - 0s 1ms/step - loss: 5.3502e-04 - val_loss: 1.6251e-04\n",
      "Epoch 28/96\n",
      "39/39 [==============================] - 0s 1ms/step - loss: 4.9601e-04 - val_loss: 1.8992e-04\n",
      "Epoch 29/96\n",
      "39/39 [==============================] - 0s 1ms/step - loss: 5.7414e-04 - val_loss: 2.3013e-04\n",
      "Epoch 30/96\n",
      "39/39 [==============================] - 0s 1ms/step - loss: 5.4276e-04 - val_loss: 1.6656e-04\n",
      "Epoch 31/96\n",
      "39/39 [==============================] - 0s 1ms/step - loss: 5.2196e-04 - val_loss: 1.6493e-04\n",
      "Epoch 32/96\n",
      "39/39 [==============================] - 0s 1ms/step - loss: 5.4086e-04 - val_loss: 1.6192e-04\n",
      "Epoch 33/96\n",
      "39/39 [==============================] - 0s 1ms/step - loss: 5.4103e-04 - val_loss: 1.8214e-04\n",
      "Epoch 34/96\n",
      "39/39 [==============================] - 0s 2ms/step - loss: 5.7531e-04 - val_loss: 1.8061e-04\n",
      "Epoch 35/96\n",
      "39/39 [==============================] - 0s 1ms/step - loss: 5.5259e-04 - val_loss: 1.6442e-04\n",
      "Epoch 36/96\n",
      "39/39 [==============================] - 0s 1ms/step - loss: 5.9392e-04 - val_loss: 1.8229e-04\n",
      "Epoch 37/96\n",
      "39/39 [==============================] - 0s 1ms/step - loss: 5.3928e-04 - val_loss: 1.6768e-04\n",
      "Epoch 38/96\n",
      "39/39 [==============================] - 0s 1ms/step - loss: 5.3982e-04 - val_loss: 1.6668e-04\n",
      "Epoch 39/96\n",
      "39/39 [==============================] - 0s 1ms/step - loss: 5.7022e-04 - val_loss: 1.6043e-04\n",
      "Epoch 40/96\n",
      "39/39 [==============================] - 0s 1ms/step - loss: 5.1786e-04 - val_loss: 1.6230e-04\n",
      "Epoch 41/96\n",
      "39/39 [==============================] - 0s 1ms/step - loss: 5.6882e-04 - val_loss: 1.6319e-04\n",
      "Epoch 42/96\n",
      "39/39 [==============================] - 0s 2ms/step - loss: 5.3736e-04 - val_loss: 1.9349e-04\n",
      "Epoch 43/96\n",
      "39/39 [==============================] - 0s 1ms/step - loss: 5.8960e-04 - val_loss: 1.6296e-04\n",
      "Epoch 44/96\n",
      "39/39 [==============================] - 0s 1ms/step - loss: 5.1740e-04 - val_loss: 1.5891e-04\n",
      "Epoch 45/96\n",
      "39/39 [==============================] - 0s 1ms/step - loss: 5.4897e-04 - val_loss: 1.7430e-04\n",
      "Epoch 46/96\n",
      "39/39 [==============================] - 0s 1ms/step - loss: 5.6377e-04 - val_loss: 1.6326e-04\n",
      "Epoch 47/96\n",
      "39/39 [==============================] - 0s 1ms/step - loss: 5.7173e-04 - val_loss: 1.6547e-04\n",
      "Epoch 48/96\n",
      "39/39 [==============================] - 0s 1ms/step - loss: 5.7574e-04 - val_loss: 1.6024e-04\n",
      "Epoch 49/96\n",
      "39/39 [==============================] - 0s 2ms/step - loss: 5.3124e-04 - val_loss: 1.6490e-04\n",
      "Epoch 50/96\n",
      "39/39 [==============================] - 0s 2ms/step - loss: 5.4493e-04 - val_loss: 1.6625e-04\n",
      "Epoch 51/96\n",
      "39/39 [==============================] - 0s 2ms/step - loss: 5.8445e-04 - val_loss: 1.6369e-04\n",
      "Epoch 52/96\n",
      "39/39 [==============================] - 0s 1ms/step - loss: 4.8108e-04 - val_loss: 1.6431e-04\n",
      "Epoch 53/96\n",
      "39/39 [==============================] - 0s 1ms/step - loss: 5.4747e-04 - val_loss: 1.6114e-04\n",
      "Epoch 54/96\n",
      "39/39 [==============================] - 0s 1ms/step - loss: 5.2803e-04 - val_loss: 1.6405e-04\n",
      "Epoch 55/96\n",
      "39/39 [==============================] - 0s 1ms/step - loss: 5.5111e-04 - val_loss: 1.6496e-04\n",
      "Epoch 56/96\n",
      "39/39 [==============================] - 0s 1ms/step - loss: 5.4659e-04 - val_loss: 1.6553e-04\n",
      "Epoch 57/96\n",
      "39/39 [==============================] - 0s 1ms/step - loss: 5.5706e-04 - val_loss: 1.6133e-04\n",
      "Epoch 58/96\n",
      "39/39 [==============================] - 0s 1ms/step - loss: 5.3157e-04 - val_loss: 2.1551e-04\n",
      "Epoch 59/96\n",
      "39/39 [==============================] - 0s 1ms/step - loss: 5.6292e-04 - val_loss: 1.8650e-04\n",
      "Epoch 60/96\n",
      "39/39 [==============================] - 0s 1ms/step - loss: 4.9591e-04 - val_loss: 1.6006e-04\n",
      "Epoch 61/96\n",
      "39/39 [==============================] - 0s 1ms/step - loss: 5.2296e-04 - val_loss: 1.6621e-04\n",
      "Epoch 62/96\n",
      "39/39 [==============================] - 0s 1ms/step - loss: 5.2640e-04 - val_loss: 1.6126e-04\n",
      "Epoch 63/96\n",
      "39/39 [==============================] - 0s 1ms/step - loss: 5.3213e-04 - val_loss: 1.6572e-04\n",
      "Epoch 64/96\n",
      "39/39 [==============================] - 0s 1ms/step - loss: 5.2133e-04 - val_loss: 1.7356e-04\n",
      "Epoch 65/96\n",
      "39/39 [==============================] - 0s 1ms/step - loss: 5.4018e-04 - val_loss: 1.6378e-04\n",
      "Epoch 66/96\n",
      "39/39 [==============================] - 0s 1ms/step - loss: 5.2600e-04 - val_loss: 1.6114e-04\n",
      "Epoch 67/96\n",
      "39/39 [==============================] - 0s 1ms/step - loss: 5.0862e-04 - val_loss: 1.5640e-04\n",
      "Epoch 68/96\n",
      "39/39 [==============================] - 0s 2ms/step - loss: 5.2195e-04 - val_loss: 1.6541e-04\n",
      "Epoch 69/96\n",
      "39/39 [==============================] - 0s 1ms/step - loss: 5.6440e-04 - val_loss: 1.6404e-04\n",
      "Epoch 70/96\n",
      "39/39 [==============================] - 0s 1ms/step - loss: 5.2845e-04 - val_loss: 1.8338e-04\n",
      "Epoch 71/96\n",
      "39/39 [==============================] - 0s 1ms/step - loss: 5.3013e-04 - val_loss: 1.6147e-04\n",
      "Epoch 72/96\n",
      "39/39 [==============================] - 0s 1ms/step - loss: 5.3978e-04 - val_loss: 1.6502e-04\n",
      "Epoch 73/96\n",
      "39/39 [==============================] - 0s 1ms/step - loss: 5.7674e-04 - val_loss: 1.8220e-04\n",
      "Epoch 74/96\n",
      "39/39 [==============================] - 0s 1ms/step - loss: 5.6185e-04 - val_loss: 1.6168e-04\n",
      "Epoch 75/96\n",
      "39/39 [==============================] - 0s 1ms/step - loss: 5.5762e-04 - val_loss: 1.6194e-04\n",
      "Epoch 76/96\n",
      "39/39 [==============================] - 0s 2ms/step - loss: 5.6682e-04 - val_loss: 1.8227e-04\n",
      "Epoch 77/96\n",
      "39/39 [==============================] - 0s 1ms/step - loss: 5.2139e-04 - val_loss: 1.7108e-04\n",
      "Epoch 78/96\n",
      "39/39 [==============================] - 0s 1ms/step - loss: 5.7555e-04 - val_loss: 1.6755e-04\n",
      "Epoch 79/96\n",
      "39/39 [==============================] - 0s 1ms/step - loss: 5.2368e-04 - val_loss: 1.6536e-04\n",
      "Epoch 80/96\n",
      "39/39 [==============================] - 0s 1ms/step - loss: 5.5747e-04 - val_loss: 1.7340e-04\n",
      "Epoch 81/96\n",
      "39/39 [==============================] - 0s 1ms/step - loss: 6.2947e-04 - val_loss: 1.8550e-04\n",
      "Epoch 82/96\n",
      "39/39 [==============================] - 0s 1ms/step - loss: 5.7076e-04 - val_loss: 1.6055e-04\n",
      "Epoch 83/96\n",
      "39/39 [==============================] - 0s 1ms/step - loss: 5.5477e-04 - val_loss: 1.7742e-04\n",
      "Epoch 84/96\n",
      "39/39 [==============================] - 0s 2ms/step - loss: 5.0520e-04 - val_loss: 1.7752e-04\n",
      "Epoch 85/96\n",
      "39/39 [==============================] - 0s 2ms/step - loss: 5.3470e-04 - val_loss: 1.6123e-04\n",
      "Epoch 86/96\n",
      "39/39 [==============================] - 0s 1ms/step - loss: 5.1330e-04 - val_loss: 1.5999e-04\n",
      "Epoch 87/96\n",
      "39/39 [==============================] - 0s 1ms/step - loss: 5.7437e-04 - val_loss: 2.0664e-04\n",
      "Epoch 88/96\n",
      "39/39 [==============================] - 0s 1ms/step - loss: 5.8464e-04 - val_loss: 1.6626e-04\n",
      "Epoch 89/96\n",
      "39/39 [==============================] - 0s 2ms/step - loss: 5.3741e-04 - val_loss: 1.6134e-04\n",
      "Epoch 90/96\n",
      "39/39 [==============================] - 0s 1ms/step - loss: 5.2471e-04 - val_loss: 1.6226e-04\n",
      "Epoch 91/96\n",
      "39/39 [==============================] - 0s 1ms/step - loss: 5.2328e-04 - val_loss: 1.6211e-04\n",
      "Epoch 92/96\n",
      "39/39 [==============================] - 0s 1ms/step - loss: 5.2601e-04 - val_loss: 1.7177e-04\n",
      "Epoch 93/96\n",
      "39/39 [==============================] - 0s 1ms/step - loss: 5.4006e-04 - val_loss: 1.6477e-04\n",
      "Epoch 94/96\n",
      "39/39 [==============================] - 0s 1ms/step - loss: 5.3066e-04 - val_loss: 1.7634e-04\n",
      "Epoch 95/96\n",
      "39/39 [==============================] - 0s 1ms/step - loss: 5.1582e-04 - val_loss: 1.5695e-04\n",
      "Epoch 96/96\n",
      "39/39 [==============================] - 0s 1ms/step - loss: 5.3605e-04 - val_loss: 1.5851e-04\n"
     ]
    },
    {
     "data": {
      "image/png": "[encoded data removed]",
      "text/plain": [
       "<Figure size 640x480 with 1 Axes>"
      ]
     },
     "metadata": {},
     "output_type": "display_data"
    }
   ],
   "source": [
    "history = model.fit(trainX, trainY, validation_split=0.2, epochs=best_epochs, batch_size=best_batch_size)\n",
    "plt.plot(history.history['loss'], label='Train Loss')\n",
    "plt.plot(history.history['val_loss'], label='Validation Loss')\n",
    "plt.xlabel('Epochs')\n",
    "plt.ylabel('Loss')\n",
    "plt.legend()\n",
    "plt.show()"
   ]
  },
  {
   "cell_type": "code",
   "execution_count": 49,
   "id": "7d43636b-c836-4074-9e10-3ec8b3b54a17",
   "metadata": {},
   "outputs": [
    {
     "name": "stdout",
     "output_type": "stream",
     "text": [
      "Model: \"sequential_1\"\n",
      "_________________________________________________________________\n",
      " Layer (type)                Output Shape              Param #   \n",
      "=================================================================\n",
      " lstm_1 (LSTM)               (None, 50)                12600     \n",
      "                                                                 \n",
      " dropout_1 (Dropout)         (None, 50)                0         \n",
      "                                                                 \n",
      " dense_1 (Dense)             (None, 1)                 51        \n",
      "                                                                 \n",
      "=================================================================\n",
      "Total params: 12651 (49.42 KB)\n",
      "Trainable params: 12651 (49.42 KB)\n",
      "Non-trainable params: 0 (0.00 Byte)\n",
      "_________________________________________________________________\n"
     ]
    }
   ],
   "source": [
    "# Load the model\n",
    "model = load_model('optuna_model.h5')\n",
    "\n",
    "# Summarize model.\n",
    "model.summary()"
   ]
  },
  {
   "cell_type": "markdown",
   "id": "3c574280-7486-4333-87f5-c38e91d12995",
   "metadata": {},
   "source": [
    "## Backtesting: Optuna Optimization"
   ]
  },
  {
   "cell_type": "code",
   "execution_count": 50,
   "id": "0e55d57d-14a7-449f-a2f4-86238ded4fb9",
   "metadata": {},
   "outputs": [
    {
     "name": "stdout",
     "output_type": "stream",
     "text": [
      "143/143 [==============================] - 0s 1ms/step\n"
     ]
    },
    {
     "data": {
      "image/png": "[encoded data removed]",
      "text/plain": [
       "<Figure size 1200x600 with 1 Axes>"
      ]
     },
     "metadata": {},
     "output_type": "display_data"
    }
   ],
   "source": [
    "# Function to create a dataset with lagged features for backtesting\n",
    "def create_backtest_dataset(data, look_back=1):\n",
    "    X, Y = [], []\n",
    "    for i in range(len(data) - look_back - 1):\n",
    "        a = data[i:(i + look_back), :]\n",
    "        X.append(a)\n",
    "        Y.append(data[i + look_back, 0])\n",
    "    return np.array(X), np.array(Y)\n",
    "\n",
    "# Assuming 'dataset_knn' is a Spark DataFrame with the same structure used during training\n",
    "# Convert Spark DataFrame to Pandas DataFrame for backtesting\n",
    "dataset_knn_pd = dataset_knn.toPandas()\n",
    "\n",
    "# Convert to numeric and drop NA values\n",
    "dataset_knn_pd.dropna(inplace=True)\n",
    "columns_to_scale = ['Close', 'InterestRate', 'InflationRate', 'M3', 'M6', 'M9', 'Y1', 'Y3', 'Y5', 'Y10', 'Y20', 'Y30']\n",
    "dataset_knn_pd[columns_to_scale] = dataset_knn_pd[columns_to_scale].apply(pd.to_numeric)\n",
    "\n",
    "# Normalize the data using the same scaler as during training\n",
    "scaler = MinMaxScaler(feature_range=(0, 1))\n",
    "scaled_data = scaler.fit_transform(dataset_knn_pd[columns_to_scale])\n",
    "\n",
    "# Prepare data for backtesting using the look_back period defined during training\n",
    "look_back = 1  # This should be the same look_back you used during training\n",
    "X_backtest, Y_backtest_actual = create_backtest_dataset(scaled_data, look_back)\n",
    "\n",
    "# Path where the uploaded model file is stored\n",
    "best_model_path = '/home/fabiopoli/Desktop/best_model.h5'\n",
    "\n",
    "# Load the best model saved from Optuna optimization\n",
    "best_model = load_model(best_model_path)\n",
    "\n",
    "\n",
    "# Generate predictions using the best model\n",
    "Y_backtest_predicted = best_model.predict(X_backtest)\n",
    "\n",
    "# Invert predictions to original scale\n",
    "Y_backtest_predicted_inverted = scaler.inverse_transform(np.hstack((Y_backtest_predicted, np.zeros((Y_backtest_predicted.shape[0], scaled_data.shape[1] - 1)))))[:, 0]\n",
    "\n",
    "# Visualization: Plotting Actual vs Predicted Prices\n",
    "plt.figure(figsize=(12, 6))\n",
    "plt.plot(dataset_knn_pd['Date'], dataset_knn_pd['Close'], label='Actual Close Price')\n",
    "plt.plot(dataset_knn_pd['Date'][look_back+1:], Y_backtest_predicted_inverted, label='Predicted Close Price', alpha=0.7)\n",
    "plt.xlabel('Date')\n",
    "plt.ylabel('Close Price')\n",
    "plt.title('LSTM Model Backtesting After Optuna Optimization')\n",
    "plt.legend()\n",
    "plt.show()\n"
   ]
  },
  {
   "cell_type": "code",
   "execution_count": null,
   "id": "43c70405-5054-4238-9b8d-904d47c85f98",
   "metadata": {},
   "outputs": [],
   "source": []
  }
 ],
 "metadata": {
  "kernelspec": {
   "display_name": "Python 3 (ipykernel)",
   "language": "python",
   "name": "python3"
  },
  "language_info": {
   "codemirror_mode": {
    "name": "ipython",
    "version": 3
   },
   "file_extension": ".py",
   "mimetype": "text/x-python",
   "name": "python",
   "nbconvert_exporter": "python",
   "pygments_lexer": "ipython3",
   "version": "3.10.12"
  }
 },
 "nbformat": 4,
 "nbformat_minor": 5
}
