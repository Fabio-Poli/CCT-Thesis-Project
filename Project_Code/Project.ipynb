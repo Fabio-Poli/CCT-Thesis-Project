{
 "cells": [
  {
   "cell_type": "code",
   "execution_count": 1,
   "id": "15954dc3-851c-4a00-bb8a-ac9ebc0f0605",
   "metadata": {},
   "outputs": [],
   "source": [
    "# Data manipulation\n",
    "import pandas as pd\n",
    "import numpy as np\n",
    "from datetime import datetime, timedelta\n",
    "\n",
    "# Data fetching\n",
    "import requests\n",
    "import os\n",
    "import gzip\n",
    "import shutil\n",
    "import itertools\n",
    "import time\n",
    "\n",
    "# Data visualization\n",
    "import matplotlib.pyplot as plt\n",
    "import seaborn as sns\n",
    "\n",
    "# Machine Learning and Modeling\n",
    "from sklearn.impute import KNNImputer\n",
    "from sklearn.preprocessing import MinMaxScaler\n",
    "from sklearn.metrics import mean_squared_error, mean_absolute_percentage_error, r2_score\n",
    "from sklearn.model_selection import TimeSeriesSplit\n",
    "\n",
    "# Deep Learning\n",
    "from keras.models import Sequential, load_model\n",
    "from keras.layers import LSTM, Dense, Dropout\n",
    "from keras.optimizers import Adam\n",
    "\n",
    "# Time Series Analysis\n",
    "from statsmodels.tsa.arima.model import ARIMA\n",
    "from statsmodels.graphics.tsaplots import plot_acf, plot_pacf\n",
    "\n",
    "# Hyperparameter Optimization\n",
    "import optuna\n",
    "\n",
    "# Spark Session for large-scale data processing (if necessary)\n",
    "from pyspark.sql import SparkSession\n",
    "from pyspark.sql.functions import col, to_date, trim, when, isnan, count, mean, last\n",
    "from pyspark.sql.window import Window\n",
    "from pyspark.sql.functions import col, isnan, count\n",
    "\n",
    "# IPython Display Utilities (if necessary for downloading files etc.)\n",
    "from IPython.display import FileLink"
   ]
  },
  {
   "cell_type": "code",
   "execution_count": 2,
   "id": "8e47dc39-5908-4043-8a78-17d16fc4ce3a",
   "metadata": {},
   "outputs": [],
   "source": [
    "#Diable the warnings\n",
    "import warnings\n",
    "warnings.filterwarnings('ignore')"
   ]
  },
  {
   "cell_type": "markdown",
   "id": "caae19a6-ad98-4258-9a66-19109069186b",
   "metadata": {},
   "source": [
    "## INDEX Indicator"
   ]
  },
  {
   "cell_type": "code",
   "execution_count": 3,
   "id": "74b58725-ed86-4ec9-9966-98d4c31d29a1",
   "metadata": {},
   "outputs": [
    {
     "name": "stdout",
     "output_type": "stream",
     "text": [
      "Data saved successfully to /home/fabiopoli/Desktop/STOXX50E.csv\n"
     ]
    }
   ],
   "source": [
    "# FMP API key\n",
    "api_key = '47461a32a9bcf3b0a6c2c6e98ccfab42'  # API key\n",
    "\n",
    "# Symbol for EURO STOXX 50\n",
    "stock_symbol = '^STOXX50E'\n",
    "\n",
    "# URL for the FMP historical data endpoint\n",
    "url = f'https://financialmodelingprep.com/api/v3/historical-price-full/{stock_symbol}?from=2004-01-04&to={datetime.now().strftime(\"%Y-%m-%d\")}&apikey={api_key}'\n",
    "\n",
    "# FMP API request\n",
    "response = requests.get(url)\n",
    "\n",
    "# Check if the request was successful\n",
    "if response.status_code == 200:\n",
    "    # Convert the response to JSON\n",
    "    data = response.json()\n",
    "\n",
    "    # Extract the historical data\n",
    "    if 'historical' in data:\n",
    "        historical_data = data['historical']\n",
    "\n",
    "        # Convert to a pandas DataFrame\n",
    "        index_df = pd.DataFrame(historical_data)\n",
    "\n",
    "        # Save the DataFrame to a CSV file on your desktop\n",
    "        desktop_path = os.path.join(os.path.expanduser('~'), 'Desktop')  # Path to the desktop\n",
    "        file_path = os.path.join(desktop_path, 'STOXX50E.csv')  # File Name\n",
    "        index_df.to_csv(file_path, index=False)\n",
    "\n",
    "        print(f\"Data saved successfully to {file_path}\")\n",
    "    else:\n",
    "        print(\"No 'historical' data found in the response.\")\n",
    "else:\n",
    "    print(f'Failed to retrieve data: {response.status_code}')"
   ]
  },
  {
   "cell_type": "markdown",
   "id": "dbd61ccf-791e-4a71-9afd-c48e59c71307",
   "metadata": {},
   "source": [
    "## Technical Indicators"
   ]
  },
  {
   "cell_type": "code",
   "execution_count": 4,
   "id": "a5bca379-bc8c-4253-8e07-b33b4246e99a",
   "metadata": {},
   "outputs": [
    {
     "name": "stdout",
     "output_type": "stream",
     "text": [
      "            date          sma\n",
      "0     2024-01-30  4473.916159\n",
      "1     2024-01-29  4466.752363\n",
      "2     2024-01-26  4460.275762\n",
      "3     2024-01-25  4453.400762\n",
      "4     2024-01-24  4446.399365\n",
      "...          ...          ...\n",
      "1268  2019-02-06  3102.351787\n",
      "1269  2019-02-05  3100.418188\n",
      "1270  2019-02-04  3099.323989\n",
      "1271  2019-02-01  3099.634790\n",
      "1272  2019-01-31  3100.018589\n",
      "\n",
      "[1273 rows x 2 columns]\n"
     ]
    }
   ],
   "source": [
    "# FMP API key\n",
    "api_key = '47461a32a9bcf3b0a6c2c6e98ccfab42'\n",
    "\n",
    "# Symbol for EURO STOXX 50\n",
    "stock_symbol = '^STOXX50E'\n",
    "\n",
    "# URL for the FMP SMA technical indicator endpoint with daily data\n",
    "sma_period = 50\n",
    "url = f'https://financialmodelingprep.com/api/v3/technical_indicator/daily/{stock_symbol}?period={sma_period}&type=sma&apikey={api_key}'\n",
    "\n",
    "# FMP API request for SMA data\n",
    "response = requests.get(url)\n",
    "\n",
    "# Check if the request was successful\n",
    "if response.status_code == 200:\n",
    "    # Convert the response to JSON\n",
    "    sma_data = response.json()\n",
    "\n",
    "    # Convert to a pandas DataFrame\n",
    "    sma_df = pd.DataFrame(sma_data)\n",
    "\n",
    "    # Ensure 'date' column is in datetime format\n",
    "    sma_df['date'] = pd.to_datetime(sma_df['date'])\n",
    "\n",
    "    # Format the 'date' column to display dates only\n",
    "    sma_df['date'] = sma_df['date'].dt.strftime('%Y-%m-%d')\n",
    "\n",
    "    # Filter the DataFrame for rows where the date is after February 1, 2005\n",
    "    sma_df = sma_df[sma_df['date'] >= '2005-01-04']\n",
    "\n",
    "    # Keep only the 'date' and 'sma' columns\n",
    "    sma_df = sma_df[['date', 'sma']]\n",
    "\n",
    "    # Display the DataFrame\n",
    "    print(sma_df)\n",
    "else:\n",
    "    print(f'Failed to retrieve SMA data: {response.status_code}')"
   ]
  },
  {
   "cell_type": "code",
   "execution_count": 5,
   "id": "2817200f-7d4f-4c5f-9af1-e7fe43ebc456",
   "metadata": {},
   "outputs": [
    {
     "name": "stdout",
     "output_type": "stream",
     "text": [
      "            date          ema\n",
      "0     2024-01-30  4457.023194\n",
      "1     2024-01-29  4448.712304\n",
      "2     2024-01-26  4440.930772\n",
      "3     2024-01-25  4432.990386\n",
      "4     2024-01-24  4426.897758\n",
      "...          ...          ...\n",
      "1268  2019-02-06  3122.624918\n",
      "1269  2019-02-05  3118.946344\n",
      "1270  2019-02-04  3115.024152\n",
      "1271  2019-02-01  3112.976160\n",
      "1272  2019-01-31  3110.602937\n",
      "\n",
      "[1273 rows x 2 columns]\n"
     ]
    }
   ],
   "source": [
    "# FMP API key\n",
    "api_key = '47461a32a9bcf3b0a6c2c6e98ccfab42'\n",
    "\n",
    "# Symbol for EURO STOXX 50\n",
    "stock_symbol = '^STOXX50E'\n",
    "\n",
    "# URL for the FMP EMA technical indicator endpoint with daily data\n",
    "ema_period = 50\n",
    "url = f'https://financialmodelingprep.com/api/v3/technical_indicator/daily/{stock_symbol}?period={ema_period}&type=ema&apikey={api_key}'\n",
    "\n",
    "# FMP API request for EMA data\n",
    "response = requests.get(url)\n",
    "\n",
    "# Check if the request was successful\n",
    "if response.status_code == 200:\n",
    "    # Convert the response to JSON\n",
    "    ema_data = response.json()\n",
    "\n",
    "    # Convert to a pandas DataFrame\n",
    "    ema_df = pd.DataFrame(ema_data)\n",
    "\n",
    "    # Ensure 'date' column is in datetime format\n",
    "    ema_df['date'] = pd.to_datetime(ema_df['date'])\n",
    "\n",
    "    # Format the 'date' column to display dates only\n",
    "    ema_df['date'] = ema_df['date'].dt.strftime('%Y-%m-%d')\n",
    "\n",
    "    # Filter the DataFrame for rows where the date is after February 1, 2005\n",
    "    ema_df = ema_df[ema_df['date'] >= '2005-01-04']\n",
    "\n",
    "    # Keep only the 'date' and 'ema' columns\n",
    "    ema_df = ema_df[['date', 'ema']]\n",
    "\n",
    "    # Display the DataFrame\n",
    "    print(ema_df)\n",
    "else:\n",
    "    print(f'Failed to retrieve EMA data: {response.status_code}')\n"
   ]
  },
  {
   "cell_type": "markdown",
   "id": "12127d58-5bde-4db3-b798-8f2fbeff4644",
   "metadata": {},
   "source": [
    "# Index + Technical Indicator "
   ]
  },
  {
   "cell_type": "markdown",
   "id": "121e1bdf-a406-4511-9c74-eab67f949cf3",
   "metadata": {},
   "source": [
    "## Technical Indicator Analysis Commentary\n",
    "\n",
    "In the analysis of the EURO STOXX 50 index, It has been identified that the Financial Modeling Prep (FMP) API was not feasible for extracting technical indicators such as SMA, EMA, and MACD (5+ Year Historical Data). This led to the implementation of an alternative approach using the pandas library in Python.\n",
    "\n",
    "The methodology adhered to established financial analysis standards and utilized conventional computational techniques for the calculation of these indicators. The Simple Moving Average (SMA) and the Exponential Moving Average (EMA) were computed over a 50-day period. Additionally, the Moving Average Convergence Divergence (MACD) was calculated. Initially, the MACD's three components - the MACD line, the Signal line, and the MACD Histogram - were considered. However, the analysis was later refined to include only the MACD line to maintain focus and relevance.\n",
    "\n",
    "Utilizing pandas for this purpose offered enhanced flexibility and control in data manipulation and calculations. This approach ensured that the analysis was not constrained by the limitations of external data sources or APIs. The resulting dataset, which begins from January 4, 2005, provides a detailed view of the index's performance with accurately computed SMA, EMA, and MACD values, facilitating a thorough technical analysis."
   ]
  },
  {
   "cell_type": "code",
   "execution_count": 6,
   "id": "3077d45f-4a31-4b5f-989b-5e5c0ce62b09",
   "metadata": {},
   "outputs": [
    {
     "name": "stdout",
     "output_type": "stream",
     "text": [
      "             Close          SMA          EMA         MACD\n",
      "count  4823.000000  4823.000000  4823.000000  4823.000000\n",
      "mean   3321.300870  3329.182219  3329.732799    -2.426331\n",
      "std     590.513519   585.955662   582.590128    42.972970\n",
      "min    1809.979981  2091.644585  2096.246724  -140.620963\n",
      "25%    2906.635010  2909.797112  2889.906542   -29.520131\n",
      "50%    3319.129883  3323.643398  3322.564016    -7.040514\n",
      "75%    3705.234985  3702.023406  3673.708058    18.100720\n",
      "max    4660.640000  4660.640000  4660.640000   275.182951\n"
     ]
    }
   ],
   "source": [
    "import pandas as pd\n",
    "import os\n",
    "from datetime import datetime\n",
    "\n",
    "# Path to the CSV file on the desktop\n",
    "desktop_path = os.path.join(os.path.expanduser('~'), 'Desktop')  # Path to the desktop\n",
    "file_path = os.path.join(desktop_path, 'STOXX50E.csv')  # File Name\n",
    "\n",
    "# Load the dataset from the CSV file\n",
    "index_df = pd.read_csv(file_path)\n",
    "\n",
    "# Filter to only use 'date' and 'close' columns\n",
    "index_df = index_df[['date', 'close']]\n",
    "\n",
    "# Rename columns to 'Date' and 'Close'\n",
    "index_df.rename(columns={'date': 'Date', 'close': 'Close'}, inplace=True)\n",
    "\n",
    "# Convert 'Date' to datetime\n",
    "index_df['Date'] = pd.to_datetime(index_df['Date'])\n",
    "\n",
    "# Calculate the 50-day Simple Moving Average (SMA)\n",
    "index_df['SMA'] = index_df['Close'].rolling(window=50, min_periods=1).mean()\n",
    "\n",
    "# Calculate the 50-day Exponential Moving Average (EMA)\n",
    "index_df['EMA'] = index_df['Close'].ewm(span=50, adjust=False).mean()\n",
    "\n",
    "# Calculate only the MACD Line (12-day EMA - 26-day EMA)\n",
    "index_df['MACD'] = index_df['Close'].ewm(span=12, adjust=False).mean() - index_df['Close'].ewm(span=26, adjust=False).mean()\n",
    "\n",
    "# Filter the DataFrame for dates after 2005-01-04 (inclusive)\n",
    "index_data = index_df[index_df['Date'] >= pd.to_datetime('2005-01-04')]\n",
    "\n",
    "# Convert 'Date' from datetime to date (to remove time component)\n",
    "index_data['Date'] = index_data['Date'].dt.date\n",
    "\n",
    "# Now, use describe() on the filtered DataFrame for the numerical columns\n",
    "descriptive_stats = index_data[['Close', 'SMA', 'EMA', 'MACD']].describe()\n",
    "\n",
    "# Print the descriptive statistics\n",
    "print(descriptive_stats)"
   ]
  },
  {
   "cell_type": "code",
   "execution_count": 7,
   "id": "9179752a-fdf0-4456-a3ba-baefdae201f1",
   "metadata": {
    "scrolled": true
   },
   "outputs": [
    {
     "data": {
      "text/html": [
       "<div>\n",
       "<style scoped>\n",
       "    .dataframe tbody tr th:only-of-type {\n",
       "        vertical-align: middle;\n",
       "    }\n",
       "\n",
       "    .dataframe tbody tr th {\n",
       "        vertical-align: top;\n",
       "    }\n",
       "\n",
       "    .dataframe thead th {\n",
       "        text-align: right;\n",
       "    }\n",
       "</style>\n",
       "<table border=\"1\" class=\"dataframe\">\n",
       "  <thead>\n",
       "    <tr style=\"text-align: right;\">\n",
       "      <th></th>\n",
       "      <th>Close</th>\n",
       "      <th>SMA</th>\n",
       "      <th>EMA</th>\n",
       "      <th>MACD</th>\n",
       "    </tr>\n",
       "  </thead>\n",
       "  <tbody>\n",
       "    <tr>\n",
       "      <th>count</th>\n",
       "      <td>4823.000000</td>\n",
       "      <td>4823.000000</td>\n",
       "      <td>4823.000000</td>\n",
       "      <td>4823.000000</td>\n",
       "    </tr>\n",
       "    <tr>\n",
       "      <th>mean</th>\n",
       "      <td>3321.300870</td>\n",
       "      <td>3329.182219</td>\n",
       "      <td>3329.732799</td>\n",
       "      <td>-2.426331</td>\n",
       "    </tr>\n",
       "    <tr>\n",
       "      <th>std</th>\n",
       "      <td>590.513519</td>\n",
       "      <td>585.955662</td>\n",
       "      <td>582.590128</td>\n",
       "      <td>42.972970</td>\n",
       "    </tr>\n",
       "    <tr>\n",
       "      <th>min</th>\n",
       "      <td>1809.979981</td>\n",
       "      <td>2091.644585</td>\n",
       "      <td>2096.246724</td>\n",
       "      <td>-140.620963</td>\n",
       "    </tr>\n",
       "    <tr>\n",
       "      <th>25%</th>\n",
       "      <td>2906.635010</td>\n",
       "      <td>2909.797112</td>\n",
       "      <td>2889.906542</td>\n",
       "      <td>-29.520131</td>\n",
       "    </tr>\n",
       "    <tr>\n",
       "      <th>50%</th>\n",
       "      <td>3319.129883</td>\n",
       "      <td>3323.643398</td>\n",
       "      <td>3322.564016</td>\n",
       "      <td>-7.040514</td>\n",
       "    </tr>\n",
       "    <tr>\n",
       "      <th>75%</th>\n",
       "      <td>3705.234985</td>\n",
       "      <td>3702.023406</td>\n",
       "      <td>3673.708058</td>\n",
       "      <td>18.100720</td>\n",
       "    </tr>\n",
       "    <tr>\n",
       "      <th>max</th>\n",
       "      <td>4660.640000</td>\n",
       "      <td>4660.640000</td>\n",
       "      <td>4660.640000</td>\n",
       "      <td>275.182951</td>\n",
       "    </tr>\n",
       "  </tbody>\n",
       "</table>\n",
       "</div>"
      ],
      "text/plain": [
       "             Close          SMA          EMA         MACD\n",
       "count  4823.000000  4823.000000  4823.000000  4823.000000\n",
       "mean   3321.300870  3329.182219  3329.732799    -2.426331\n",
       "std     590.513519   585.955662   582.590128    42.972970\n",
       "min    1809.979981  2091.644585  2096.246724  -140.620963\n",
       "25%    2906.635010  2909.797112  2889.906542   -29.520131\n",
       "50%    3319.129883  3323.643398  3322.564016    -7.040514\n",
       "75%    3705.234985  3702.023406  3673.708058    18.100720\n",
       "max    4660.640000  4660.640000  4660.640000   275.182951"
      ]
     },
     "execution_count": 7,
     "metadata": {},
     "output_type": "execute_result"
    }
   ],
   "source": [
    "index_data.describe()"
   ]
  },
  {
   "cell_type": "code",
   "execution_count": 8,
   "id": "351683e0-978a-4ab8-b419-086d287b79c9",
   "metadata": {},
   "outputs": [
    {
     "data": {
      "text/html": [
       "<div>\n",
       "<style scoped>\n",
       "    .dataframe tbody tr th:only-of-type {\n",
       "        vertical-align: middle;\n",
       "    }\n",
       "\n",
       "    .dataframe tbody tr th {\n",
       "        vertical-align: top;\n",
       "    }\n",
       "\n",
       "    .dataframe thead th {\n",
       "        text-align: right;\n",
       "    }\n",
       "</style>\n",
       "<table border=\"1\" class=\"dataframe\">\n",
       "  <thead>\n",
       "    <tr style=\"text-align: right;\">\n",
       "      <th></th>\n",
       "      <th>Date</th>\n",
       "      <th>Close</th>\n",
       "      <th>SMA</th>\n",
       "      <th>EMA</th>\n",
       "      <th>MACD</th>\n",
       "    </tr>\n",
       "  </thead>\n",
       "  <tbody>\n",
       "    <tr>\n",
       "      <th>0</th>\n",
       "      <td>2024-01-30</td>\n",
       "      <td>4660.64000</td>\n",
       "      <td>4660.64000</td>\n",
       "      <td>4660.640000</td>\n",
       "      <td>0.000000</td>\n",
       "    </tr>\n",
       "    <tr>\n",
       "      <th>1</th>\n",
       "      <td>2024-01-29</td>\n",
       "      <td>4639.35986</td>\n",
       "      <td>4649.99993</td>\n",
       "      <td>4659.805485</td>\n",
       "      <td>-1.697561</td>\n",
       "    </tr>\n",
       "    <tr>\n",
       "      <th>2</th>\n",
       "      <td>2024-01-26</td>\n",
       "      <td>4635.47021</td>\n",
       "      <td>4645.15669</td>\n",
       "      <td>4658.851160</td>\n",
       "      <td>-3.318499</td>\n",
       "    </tr>\n",
       "    <tr>\n",
       "      <th>3</th>\n",
       "      <td>2024-01-25</td>\n",
       "      <td>4582.25977</td>\n",
       "      <td>4629.43246</td>\n",
       "      <td>4655.847576</td>\n",
       "      <td>-8.795355</td>\n",
       "    </tr>\n",
       "    <tr>\n",
       "      <th>4</th>\n",
       "      <td>2024-01-24</td>\n",
       "      <td>4564.10986</td>\n",
       "      <td>4616.36794</td>\n",
       "      <td>4652.250019</td>\n",
       "      <td>-14.433962</td>\n",
       "    </tr>\n",
       "  </tbody>\n",
       "</table>\n",
       "</div>"
      ],
      "text/plain": [
       "         Date       Close         SMA          EMA       MACD\n",
       "0  2024-01-30  4660.64000  4660.64000  4660.640000   0.000000\n",
       "1  2024-01-29  4639.35986  4649.99993  4659.805485  -1.697561\n",
       "2  2024-01-26  4635.47021  4645.15669  4658.851160  -3.318499\n",
       "3  2024-01-25  4582.25977  4629.43246  4655.847576  -8.795355\n",
       "4  2024-01-24  4564.10986  4616.36794  4652.250019 -14.433962"
      ]
     },
     "execution_count": 8,
     "metadata": {},
     "output_type": "execute_result"
    }
   ],
   "source": [
    "index_data.head()"
   ]
  },
  {
   "cell_type": "markdown",
   "id": "8597234e-9980-4b87-8cdd-d81bafd89a92",
   "metadata": {},
   "source": [
    "# Interest Rate API (Eurostat)"
   ]
  },
  {
   "cell_type": "code",
   "execution_count": 9,
   "id": "3bab679d-b771-4e7e-9a75-f94f69e4a309",
   "metadata": {},
   "outputs": [
    {
     "name": "stdout",
     "output_type": "stream",
     "text": [
      "Dataset downloaded successfully.\n",
      "Dataset unzipped successfully.\n"
     ]
    }
   ],
   "source": [
    "# Dataset code\n",
    "dataset_code = \"ei_mfir_m\"\n",
    "\n",
    "# API URL for downloading the dataset\n",
    "api_url = f\"https://ec.europa.eu/eurostat/api/dissemination/sdmx/2.1/data/{dataset_code}?format=TSV&compressed=true\"\n",
    "\n",
    "# Download the dataset\n",
    "response = requests.get(api_url, stream=True)\n",
    "output_file = dataset_code + \".tsv.gz\"\n",
    "\n",
    "if response.status_code == 200:\n",
    "    with open(output_file, 'wb') as f:\n",
    "        f.write(response.content)\n",
    "    print(\"Dataset downloaded successfully.\")\n",
    "else:\n",
    "    print(f\"Error downloading dataset. Status code: {response.status_code}\")\n",
    "\n",
    "# Unzipping the dataset\n",
    "with gzip.open(output_file, 'rb') as f_in:\n",
    "    with open(dataset_code + \".tsv\", 'wb') as f_out:\n",
    "        shutil.copyfileobj(f_in, f_out)\n",
    "\n",
    "print(\"Dataset unzipped successfully.\")"
   ]
  },
  {
   "cell_type": "code",
   "execution_count": 10,
   "id": "4a057cd3-9989-4651-b54c-a3276e121656",
   "metadata": {},
   "outputs": [
    {
     "name": "stdout",
     "output_type": "stream",
     "text": [
      "Current Working Directory: /home/fabiopoli/Desktop\n"
     ]
    }
   ],
   "source": [
    "# Get the current working directory\n",
    "current_directory = os.getcwd()\n",
    "print(\"Current Working Directory:\", current_directory)\n",
    "\n",
    "# Construct the file path dynamically\n",
    "file_name = 'ei_mfir_m.tsv'  # File Name\n",
    "file_path = os.path.join(current_directory, file_name)\n",
    "\n",
    "# Load the dataset\n",
    "data = pd.read_csv(file_path, sep='\\t')\n",
    "\n",
    "# Split the first column into separate columns\n",
    "split_columns = data.iloc[:, 0].str.split(',', expand=True)\n",
    "split_columns.columns = ['freq', 's_adj', 'p_adj', 'indic', 'geo']\n",
    "\n",
    "# Combine the split columns with the original data (excluding the first column)\n",
    "structured_data = pd.concat([split_columns, data.iloc[:, 1:]], axis=1)\n",
    "\n",
    "# Apply filters\n",
    "structured_data = structured_data[\n",
    "    (structured_data['indic'] == 'MF-3MI-RT')\n",
    "]\n",
    "\n",
    "# Drop unnecessary columns\n",
    "structured_data.drop(['freq', 's_adj', 'p_adj'], axis=1, inplace=True)\n",
    "\n",
    "# Filter for date range (from October 1, 2004, onwards)\n",
    "date_columns = structured_data.columns[3:]\n",
    "dates_from_oct_2004 = date_columns[date_columns >= '2005-01-04 ']\n",
    "structured_data = structured_data[['indic','geo'] + list(dates_from_oct_2004)]\n",
    "\n",
    "# Reset the index for a clean table\n",
    "structured_data.reset_index(drop=True, inplace=True)\n",
    "\n",
    "# Display the structured DataFrame\n",
    "pd.set_option('display.max_columns', None)"
   ]
  },
  {
   "cell_type": "code",
   "execution_count": 11,
   "id": "f5f1d191-bc32-4985-9e88-95ab54f6ad67",
   "metadata": {},
   "outputs": [
    {
     "name": "stdout",
     "output_type": "stream",
     "text": [
      "       Period geo  Interest\n",
      "3    2005-05   EA  2.12560 \n",
      "16   2005-06   EA  2.11100 \n",
      "29   2005-07   EA  2.11940 \n",
      "42   2005-08   EA  2.13250 \n",
      "55   2005-09   EA  2.13910 \n",
      "68   2005-10   EA  2.19660 \n",
      "81   2005-11   EA  2.36090 \n",
      "94   2005-12   EA  2.47290 \n",
      "107  2006-01   EA  2.51170 \n",
      "120  2006-02   EA  2.60040 \n"
     ]
    }
   ],
   "source": [
    "# Filter out only the columns with date values for melting\n",
    "date_columns = structured_data.columns[5:]  \n",
    "data_for_melting = structured_data[['geo'] + list(date_columns)]\n",
    "\n",
    "# Melt the DataFrame to change its structure\n",
    "structured_data = pd.melt(data_for_melting, id_vars=['geo'], var_name='Period', value_name='Interest')\n",
    "\n",
    "# Filter for 'geo' == 'EA'\n",
    "Interest_data_ea = structured_data[structured_data['geo'] == 'EA']\n",
    "\n",
    "# Apply forward filling\n",
    "Interest_data_ea.loc[:, 'Interest'] = Interest_data_ea['Interest'].ffill()\n",
    "\n",
    "# Rearrange the columns\n",
    "Interest_data_ea = Interest_data_ea[['Period', 'geo', 'Interest']]\n",
    "\n",
    "# Display the transformed DataFrame\n",
    "pd.set_option('display.max_rows', None)  # This option displays all the rows\n",
    "print(Interest_data_ea.head(10))\n"
   ]
  },
  {
   "cell_type": "code",
   "execution_count": 12,
   "id": "24c56b6d-6827-4427-ad8b-562891a7c656",
   "metadata": {},
   "outputs": [
    {
     "name": "stdout",
     "output_type": "stream",
     "text": [
      "      Period geo  Interest\n",
      "0 2005-05-01  EA  2.12560 \n",
      "1 2005-05-02  EA  2.12560 \n",
      "2 2005-05-03  EA  2.12560 \n",
      "3 2005-05-04  EA  2.12560 \n",
      "4 2005-05-05  EA  2.12560 \n",
      "5 2005-05-06  EA  2.12560 \n",
      "6 2005-05-07  EA  2.12560 \n",
      "7 2005-05-08  EA  2.12560 \n",
      "8 2005-05-09  EA  2.12560 \n",
      "9 2005-05-10  EA  2.12560 \n"
     ]
    }
   ],
   "source": [
    "# Convert 'Period' to datetime\n",
    "Interest_data_ea['Period'] = pd.to_datetime(Interest_data_ea['Period'])\n",
    "\n",
    "# Set 'Period' as the index\n",
    "Interest_data_ea.set_index('Period', inplace=True)\n",
    "\n",
    "# Create a daily date range that covers the entire period in your data\n",
    "start_date = Interest_data_ea.index.min()\n",
    "end_date = Interest_data_ea.index.max()\n",
    "all_days = pd.date_range(start=start_date, end=end_date, freq='D')\n",
    "\n",
    "# Reindex the DataFrame to this date range, forward filling the missing values\n",
    "daily_interest_data = Interest_data_ea.reindex(all_days).ffill()\n",
    "\n",
    "# Reset the index so 'Period' becomes a column again\n",
    "daily_interest_data.reset_index(inplace=True)\n",
    "daily_interest_data.rename(columns={'index': 'Period'}, inplace=True)\n",
    "\n",
    "# Display the first 10 rows of the daily data\n",
    "print(daily_interest_data.head(10))"
   ]
  },
  {
   "cell_type": "code",
   "execution_count": 13,
   "id": "b0311287-750a-4045-a788-28f5ca5e55fa",
   "metadata": {},
   "outputs": [
    {
     "name": "stdout",
     "output_type": "stream",
     "text": [
      "      Period geo  Interest\n",
      "0 2005-05-01  EA   2.12560\n",
      "1 2005-05-02  EA   2.12552\n",
      "2 2005-05-03  EA   2.12552\n",
      "3 2005-05-04  EA   2.12552\n",
      "4 2005-05-05  EA   2.12552\n",
      "5 2005-05-06  EA   2.12552\n",
      "6 2005-05-07  EA   2.12552\n",
      "7 2005-05-08  EA   2.12552\n",
      "8 2005-05-09  EA   2.12552\n",
      "9 2005-05-10  EA   2.12552\n"
     ]
    }
   ],
   "source": [
    "# Check if 'Period' is in the columns; if not, the index might already be the 'Period'\n",
    "if 'Period' in Interest_data_ea.columns:\n",
    "    Interest_data_ea['Period'] = pd.to_datetime(Interest_data_ea['Period'])\n",
    "    Interest_data_ea.set_index('Period', inplace=True)\n",
    "elif not isinstance(Interest_data_ea.index, pd.DatetimeIndex):\n",
    "    # If the index is not a datetime, convert it\n",
    "    Interest_data_ea.index = pd.to_datetime(Interest_data_ea.index)\n",
    "\n",
    "# Create a daily date range\n",
    "start_date = Interest_data_ea.index.min()\n",
    "end_date = Interest_data_ea.index.max()\n",
    "all_days = pd.date_range(start=start_date, end=end_date, freq='D')\n",
    "\n",
    "# Reindex to create a DataFrame with all days, introducing NaNs for days without data\n",
    "interest_data = Interest_data_ea.reindex(all_days)\n",
    "\n",
    "# Convert the index to a numerical value for KNN\n",
    "interest_data['Day_Ordinal'] = interest_data.index.map(datetime.toordinal)\n",
    "\n",
    "# Extract the 'Interest' column for imputation\n",
    "knn_data = interest_data[['Day_Ordinal', 'Interest']].values\n",
    "\n",
    "# Initialize KNN Imputer\n",
    "knn_imputer = KNNImputer(n_neighbors=5)\n",
    "\n",
    "# Apply KNN imputation\n",
    "knn_data_imputed = knn_imputer.fit_transform(knn_data)\n",
    "\n",
    "# Put the imputed 'Interest' data back into the DataFrame\n",
    "interest_data['Interest'] = knn_data_imputed[:, 1]\n",
    "\n",
    "# Drop the 'Day_Ordinal' column as it's no longer needed\n",
    "interest_data.drop('Day_Ordinal', axis=1, inplace=True)\n",
    "\n",
    "# Reset index to make 'Period' a column again\n",
    "interest_data.reset_index(inplace=True)\n",
    "interest_data.rename(columns={'index': 'Period'}, inplace=True)\n",
    "\n",
    "# If the 'geo' column is required, fill it with a constant value (e.g., 'EA')\n",
    "interest_data['geo'] = 'EA'\n",
    "\n",
    "# Display the first 10 rows of the daily data\n",
    "print(interest_data.head(10))"
   ]
  },
  {
   "cell_type": "markdown",
   "id": "75932c1a-6e81-4ce1-8f20-a644d6b56323",
   "metadata": {},
   "source": [
    "# Bonds Yields API (Eurostat)"
   ]
  },
  {
   "cell_type": "code",
   "execution_count": 31,
   "id": "6c235fd6-cf50-42b0-9142-a4bfd163c124",
   "metadata": {},
   "outputs": [
    {
     "name": "stdout",
     "output_type": "stream",
     "text": [
      "Dataset downloaded successfully.\n",
      "Dataset unzipped successfully.\n"
     ]
    }
   ],
   "source": [
    "# Dataset code\n",
    "dataset_code = \"irt_euryld_d\"\n",
    "\n",
    "# API URL for downloading the dataset\n",
    "api_url = f\"https://ec.europa.eu/eurostat/api/dissemination/sdmx/2.1/data/{dataset_code}?format=TSV&compressed=true\"\n",
    "\n",
    "# Download the dataset\n",
    "response = requests.get(api_url, stream=True)\n",
    "output_file = dataset_code + \".tsv.gz\"\n",
    "\n",
    "if response.status_code == 200:\n",
    "    with open(output_file, 'wb') as f:\n",
    "        f.write(response.content)\n",
    "    print(\"Dataset downloaded successfully.\")\n",
    "else:\n",
    "    print(f\"Error downloading dataset. Status code: {response.status_code}\")\n",
    "\n",
    "# Unzipping the dataset\n",
    "with gzip.open(output_file, 'rb') as f_in:\n",
    "    with open(dataset_code + \".tsv\", 'wb') as f_out:\n",
    "        shutil.copyfileobj(f_in, f_out)\n",
    "\n",
    "print(\"Dataset unzipped successfully.\")"
   ]
  },
  {
   "cell_type": "code",
   "execution_count": 32,
   "id": "6f3d79b6-dd27-48d4-8ee7-d78e53cb60f6",
   "metadata": {},
   "outputs": [
    {
     "name": "stdout",
     "output_type": "stream",
     "text": [
      "Current Working Directory: /home/fabiopoli/Desktop\n"
     ]
    }
   ],
   "source": [
    "# Get the current working directory\n",
    "current_directory = os.getcwd()\n",
    "print(\"Current Working Directory:\", current_directory)\n",
    "\n",
    "# Construct the file path dynamically\n",
    "file_name = 'irt_euryld_d.tsv'  # File Name\n",
    "file_path = os.path.join(current_directory, file_name)\n",
    "\n",
    "# Load the dataset\n",
    "data = pd.read_csv(file_path, sep='\\t')\n",
    "\n",
    "# Split the first column into separate columns\n",
    "split_columns = data.iloc[:, 0].str.split(',', expand=True)\n",
    "split_columns.columns = ['freq', 'yld_curv', 'maturity', 'bonds', 'geo']\n",
    "\n",
    "# Combine the split columns with the original data (excluding the first column)\n",
    "structured_data = pd.concat([split_columns, data.iloc[:, 1:]], axis=1)\n",
    "\n",
    "# Apply filters\n",
    "structured_data = structured_data[\n",
    "    (structured_data['yld_curv'] == 'SPOT_RT') & \n",
    "    (structured_data['bonds'] == 'CGB_EA')\n",
    "]\n",
    "\n",
    "# Drop unnecessary columns\n",
    "structured_data.drop(['freq', 'geo'], axis=1, inplace=True)\n",
    "\n",
    "# Filter for date range (from October 1, 2004, onwards)\n",
    "date_columns = structured_data.columns[3:]\n",
    "dates_from_oct_2004 = date_columns[date_columns >= '2005-01-04 ']\n",
    "structured_data = structured_data[['yld_curv', 'maturity', 'bonds'] + list(dates_from_oct_2004)]\n",
    "\n",
    "# Reset the index for a clean table\n",
    "structured_data.reset_index(drop=True, inplace=True)\n",
    "\n",
    "# Display the structured DataFrame\n",
    "pd.set_option('display.max_columns', None)"
   ]
  },
  {
   "cell_type": "code",
   "execution_count": 33,
   "id": "6eca047b-9076-46cf-a25e-e8496b7bc7b3",
   "metadata": {},
   "outputs": [
    {
     "name": "stdout",
     "output_type": "stream",
     "text": [
      "          Period maturity     Rate\n",
      "0    2005-01-04       M10  2.18969\n",
      "1    2005-01-04       M11  2.21019\n",
      "2    2005-01-04        M3  2.04269\n",
      "3    2005-01-04        M4  2.06405\n",
      "4    2005-01-04        M5   2.0853\n",
      "5    2005-01-04        M6  2.10642\n",
      "6    2005-01-04        M7  2.12743\n",
      "7    2005-01-04        M8  2.14831\n",
      "8    2005-01-04        M9  2.16906\n",
      "9    2005-01-04        Y1  2.23056\n",
      "10   2005-01-04       Y10    3.703\n",
      "22   2005-01-04       Y11  3.79459\n",
      "34   2005-01-04       Y12  3.87626\n",
      "46   2005-01-04       Y13  3.94911\n",
      "58   2005-01-04       Y14  4.01411\n",
      "70   2005-01-04       Y15  4.07215\n",
      "82   2005-01-04       Y16  4.12403\n",
      "94   2005-01-04       Y17  4.17046\n",
      "106  2005-01-04       Y18  4.21208\n",
      "118  2005-01-04       Y19  4.24946\n",
      "141  2005-01-04        Y2  2.46487\n",
      "142  2005-01-04       Y20  4.28308\n",
      "154  2005-01-04       Y21  4.31339\n",
      "166  2005-01-04       Y22  4.34078\n",
      "178  2005-01-04       Y23  4.36558\n",
      "190  2005-01-04       Y24  4.38809\n",
      "202  2005-01-04       Y25  4.40858\n",
      "214  2005-01-04       Y26  4.42728\n",
      "226  2005-01-04       Y27  4.44438\n",
      "238  2005-01-04       Y28  4.46006\n",
      "250  2005-01-04       Y29  4.47448\n",
      "273  2005-01-04        Y3  2.67994\n",
      "274  2005-01-04       Y30  4.48777\n",
      "286  2005-01-04        Y4  2.87586\n",
      "298  2005-01-04        Y5  3.05325\n",
      "310  2005-01-04        Y6  3.21314\n",
      "322  2005-01-04        Y7  3.35673\n",
      "334  2005-01-04        Y8  3.48536\n",
      "346  2005-01-04        Y9  3.60034\n",
      "358  2005-01-05       M10  2.20048\n",
      "359  2005-01-05       M11  2.22184\n",
      "360  2005-01-05        M3  2.04662\n",
      "361  2005-01-05        M4  2.06906\n",
      "362  2005-01-05        M5  2.09134\n",
      "363  2005-01-05        M6  2.11348\n",
      "364  2005-01-05        M7  2.13546\n",
      "365  2005-01-05        M8  2.15728\n",
      "366  2005-01-05        M9  2.17896\n",
      "367  2005-01-05        Y1  2.24305\n",
      "368  2005-01-05       Y10  3.73153\n"
     ]
    }
   ],
   "source": [
    "# Filter out only the columns with date values for melting\n",
    "date_columns = structured_data.columns[3:]  # Assuming date columns start from the 4th column\n",
    "data_for_melting = structured_data[['maturity'] + list(date_columns)]\n",
    "\n",
    "# Melt the DataFrame to change its structure\n",
    "bonds_data = pd.melt(data_for_melting, id_vars=['maturity'], var_name='Period', value_name='Rate')\n",
    "\n",
    "# Specify the desired maturities (M1 to M12 and Y1 to Y30)\n",
    "desired_maturities = [f'M{i}' for i in range(0, 13)] + [f'Y{i}' for i in range(1, 31)]\n",
    "\n",
    "# Filter the DataFrame to include only the specified maturities\n",
    "bonds_data = bonds_data[bonds_data['maturity'].isin(desired_maturities)]\n",
    "\n",
    "# Rearrange the columns\n",
    "bonds_data = bonds_data[['Period', 'maturity', 'Rate']]\n",
    "\n",
    "# Display the transformed DataFrame\n",
    "pd.set_option('display.max_rows', None)  # This option displays all the rows\n",
    "print(bonds_data.head(50))\n"
   ]
  },
  {
   "cell_type": "markdown",
   "id": "eac2005f-ad08-4054-a554-9c035972bd62",
   "metadata": {},
   "source": [
    "# Inflation Rate API (Eurostat)"
   ]
  },
  {
   "cell_type": "code",
   "execution_count": 17,
   "id": "155c37e4-15a3-4a40-83f4-912786f10e0c",
   "metadata": {},
   "outputs": [
    {
     "name": "stdout",
     "output_type": "stream",
     "text": [
      "Dataset downloaded successfully.\n",
      "Dataset unzipped successfully.\n"
     ]
    }
   ],
   "source": [
    "# Dataset code\n",
    "dataset_code = \"prc_hicp_manr\"\n",
    "\n",
    "# API URL for downloading the dataset\n",
    "api_url = f\"https://ec.europa.eu/eurostat/api/dissemination/sdmx/2.1/data/{dataset_code}?format=TSV&compressed=true\"\n",
    "\n",
    "# Download the dataset\n",
    "response = requests.get(api_url, stream=True)\n",
    "output_file = dataset_code + \".tsv.gz\"\n",
    "\n",
    "if response.status_code == 200:\n",
    "    with open(output_file, 'wb') as f:\n",
    "        f.write(response.content)\n",
    "    print(\"Dataset downloaded successfully.\")\n",
    "else:\n",
    "    print(f\"Error downloading dataset. Status code: {response.status_code}\")\n",
    "\n",
    "# Unzipping the dataset\n",
    "with gzip.open(output_file, 'rb') as f_in:\n",
    "    with open(dataset_code + \".tsv\", 'wb') as f_out:\n",
    "        shutil.copyfileobj(f_in, f_out)\n",
    "\n",
    "print(\"Dataset unzipped successfully.\")"
   ]
  },
  {
   "cell_type": "code",
   "execution_count": 18,
   "id": "d7a534f6-4c7e-4161-acc1-e454d0264550",
   "metadata": {},
   "outputs": [
    {
     "name": "stdout",
     "output_type": "stream",
     "text": [
      "Current Working Directory: /home/fabiopoli/Desktop\n"
     ]
    }
   ],
   "source": [
    "# Get the current working directory\n",
    "current_directory = os.getcwd()\n",
    "print(\"Current Working Directory:\", current_directory)\n",
    "\n",
    "# Construct the file path dynamically\n",
    "file_name = 'prc_hicp_manr.tsv'  # File Name\n",
    "file_path = os.path.join(current_directory, file_name)\n",
    "\n",
    "# Load the dataset\n",
    "data = pd.read_csv(file_path, sep='\\t')\n",
    "\n",
    "# Split the first column into separate columns\n",
    "split_columns = data.iloc[:, 0].str.split(',', expand=True)\n",
    "split_columns.columns = ['freq', 'unit', 'coicop', 'geo']\n",
    "\n",
    "# Combine the split columns with the original data (excluding the first column)\n",
    "structured_data = pd.concat([split_columns, data.iloc[:, 1:]], axis=1)\n",
    "\n",
    "# Apply filters\n",
    "structured_data = structured_data[\n",
    "    (structured_data['unit'] == 'RCH_A') & \n",
    "    (structured_data['coicop'] == 'CP00')\n",
    "]\n",
    "\n",
    "# Drop unnecessary columns\n",
    "structured_data.drop(['freq'], axis=1, inplace=True)\n",
    "\n",
    "# Filter for date range (from January 1, 2005, onwards)\n",
    "date_columns = structured_data.columns[3:]\n",
    "dates_from_oct_2004 = date_columns[date_columns >= '2005-01-04 ']\n",
    "structured_data = structured_data[['unit', 'coicop', 'geo'] + list(dates_from_oct_2004)]\n",
    "\n",
    "# Reset the index for a clean table\n",
    "structured_data.reset_index(drop=True, inplace=True)\n",
    "\n",
    "# Display the structured DataFrame\n",
    "pd.set_option('display.max_columns', None)"
   ]
  },
  {
   "cell_type": "code",
   "execution_count": 19,
   "id": "87fc8e93-4664-47e4-9e3c-e3ced50311eb",
   "metadata": {},
   "outputs": [
    {
     "name": "stdout",
     "output_type": "stream",
     "text": [
      "       Period geo Inflation\n",
      "9    2005-04   EA      2.1 \n",
      "54   2005-05   EA      2.0 \n",
      "99   2005-06   EA      2.0 \n",
      "144  2005-07   EA      2.1 \n",
      "189  2005-08   EA      2.2 \n",
      "234  2005-09   EA      2.6 \n",
      "279  2005-10   EA      2.5 \n",
      "324  2005-11   EA      2.3 \n",
      "369  2005-12   EA      2.3 \n",
      "414  2006-01   EA      2.4 \n"
     ]
    }
   ],
   "source": [
    "# Filter out only the columns with date values for melting\n",
    "date_columns = structured_data.columns[5:]  # Assuming date columns start from the 6th column\n",
    "data_for_melting = structured_data[['geo'] + list(date_columns)]\n",
    "\n",
    "# Melt the DataFrame to change its structure\n",
    "inflation_data = pd.melt(data_for_melting, id_vars=['geo'], var_name='Period', value_name='Inflation')\n",
    "\n",
    "# Filter for 'geo' == 'EA'\n",
    "inflation_data_ea = inflation_data[inflation_data['geo'] == 'EA']\n",
    "\n",
    "# Apply forward filling\n",
    "inflation_data_ea.loc[:, 'Inflation'] = inflation_data_ea['Inflation'].ffill()\n",
    "\n",
    "# Rearrange the columns\n",
    "inflation_data_ea = inflation_data_ea[['Period', 'geo', 'Inflation']]\n",
    "\n",
    "# Display the transformed DataFrame\n",
    "pd.set_option('display.max_rows', None)  # This option displays all the rows\n",
    "print(inflation_data_ea.head(10))"
   ]
  },
  {
   "cell_type": "code",
   "execution_count": 20,
   "id": "af5f1ae9-ac11-4cec-bbd9-bca717be51c1",
   "metadata": {},
   "outputs": [
    {
     "name": "stdout",
     "output_type": "stream",
     "text": [
      "      Period geo Inflation\n",
      "0 2005-04-01  EA      2.1 \n",
      "1 2005-04-02  EA      2.1 \n",
      "2 2005-04-03  EA      2.1 \n",
      "3 2005-04-04  EA      2.1 \n",
      "4 2005-04-05  EA      2.1 \n",
      "5 2005-04-06  EA      2.1 \n",
      "6 2005-04-07  EA      2.1 \n",
      "7 2005-04-08  EA      2.1 \n",
      "8 2005-04-09  EA      2.1 \n",
      "9 2005-04-10  EA      2.1 \n"
     ]
    }
   ],
   "source": [
    "# Convert 'Period' to datetime\n",
    "inflation_data_ea['Period'] = pd.to_datetime(inflation_data_ea['Period'])\n",
    "\n",
    "# Set 'Period' as the DataFrame index\n",
    "inflation_data_ea.set_index('Period', inplace=True)\n",
    "\n",
    "# Resample to daily data using forward fill\n",
    "daily_data_ffill = inflation_data_ea.resample('D').ffill()\n",
    "\n",
    "# Reset index to move 'Period' back to a column\n",
    "daily_data_ffill.reset_index(inplace=True)\n",
    "\n",
    "# Display the first 10 rows of the daily data\n",
    "print(daily_data_ffill.head(10))"
   ]
  },
  {
   "cell_type": "code",
   "execution_count": 21,
   "id": "c0a6b469-d155-4ffb-aa15-039b91c124db",
   "metadata": {},
   "outputs": [
    {
     "name": "stdout",
     "output_type": "stream",
     "text": [
      "      Period geo  Inflation\n",
      "0 2005-04-01  EA       2.10\n",
      "1 2005-04-02  EA       2.08\n",
      "2 2005-04-03  EA       2.08\n",
      "3 2005-04-04  EA       2.08\n",
      "4 2005-04-05  EA       2.08\n",
      "5 2005-04-06  EA       2.08\n",
      "6 2005-04-07  EA       2.08\n",
      "7 2005-04-08  EA       2.08\n",
      "8 2005-04-09  EA       2.08\n",
      "9 2005-04-10  EA       2.08\n"
     ]
    }
   ],
   "source": [
    "# Check if 'Period' is in the columns; if not, the index should already be the 'Period'\n",
    "if 'Period' in inflation_data_ea.columns:\n",
    "    inflation_data_ea['Period'] = pd.to_datetime(inflation_data_ea['Period'])\n",
    "    inflation_data_ea.set_index('Period', inplace=True)\n",
    "elif not isinstance(inflation_data_ea.index, pd.DatetimeIndex):\n",
    "    # If the index is not a datetime, convert it\n",
    "    inflation_data_ea.index = pd.to_datetime(inflation_data_ea.index)\n",
    "\n",
    "# Convert non-numeric values to NaN in the 'Inflation' column\n",
    "inflation_data_ea['Inflation'] = pd.to_numeric(inflation_data_ea['Inflation'], errors='coerce')\n",
    "\n",
    "# Create a daily date range that covers the entire period of your data\n",
    "date_range = pd.date_range(start=inflation_data_ea.index.min(), end=inflation_data_ea.index.max(), freq='D')\n",
    "\n",
    "# Create a new DataFrame for KNN imputation\n",
    "inflation_data = pd.DataFrame(date_range, columns=['Period'])\n",
    "\n",
    "# Merge with your existing data - this will introduce NaNs for days without data\n",
    "inflation_data = inflation_data.merge(inflation_data_ea, how='left', left_on='Period', right_index=True)\n",
    "\n",
    "# Convert 'Period' to a numerical value (e.g., days since start)\n",
    "min_date = inflation_data['Period'].min()\n",
    "inflation_data['Day_Ordinal'] = (inflation_data['Period'] - min_date).dt.days\n",
    "\n",
    "# Prepare data for KNN imputation\n",
    "knn_data = inflation_data[['Day_Ordinal', 'Inflation']]\n",
    "\n",
    "# Initialize KNN Imputer - 5 neighbors / Week\n",
    "knn_imputer = KNNImputer(n_neighbors=5)\n",
    "\n",
    "# Apply KNN imputation\n",
    "knn_data_imputed = knn_imputer.fit_transform(knn_data)\n",
    "\n",
    "# Add imputed data back to DataFrame\n",
    "inflation_data['Inflation'] = knn_data_imputed[:, 1]\n",
    "\n",
    "# Fill 'geo' column with 'EA'\n",
    "inflation_data['geo'] = 'EA'\n",
    "\n",
    "# Convert 'Day_Ordinal' back to datetime\n",
    "inflation_data['Period'] = inflation_data['Day_Ordinal'].apply(lambda x: min_date + timedelta(days=x))\n",
    "\n",
    "# Drop the 'Day_Ordinal' column\n",
    "inflation_data.drop(columns='Day_Ordinal', inplace=True)\n",
    "\n",
    "# Display the first 10 rows of the daily data\n",
    "print(inflation_data.head(10))"
   ]
  },
  {
   "cell_type": "markdown",
   "id": "bcf54c7b-3244-4834-82c5-c8b858201b75",
   "metadata": {},
   "source": [
    "# SparkSQL: Tables Connection"
   ]
  },
  {
   "cell_type": "code",
   "execution_count": 34,
   "id": "40750bc0-b9d3-4a28-abc9-bd5937c6ce0d",
   "metadata": {},
   "outputs": [
    {
     "name": "stderr",
     "output_type": "stream",
     "text": [
      "                                                                                \r"
     ]
    },
    {
     "name": "stdout",
     "output_type": "stream",
     "text": [
      "+----------+------------+-------------------+------------------+------------------+------------+-------------+-------+-------+-------+-------+-------+-------+-------+-------+-------+\n",
      "|      Date|       Close|               MACD|               SMA|               EMA|InterestRate|InflationRate|     M3|     M6|     M9|     Y1|     Y3|     Y5|    Y10|    Y20|    Y30|\n",
      "+----------+------------+-------------------+------------------+------------------+------------+-------------+-------+-------+-------+-------+-------+-------+-------+-------+-------+\n",
      "|2011-11-09|2249.3898926| -6.262032243851081|    2280.903588874|  2287.62761158144|     1.44908|          2.9|1.82358|2.39263|2.76515|2.99905|3.23419|3.43872|4.42587|5.25957|5.54571|\n",
      "|2011-11-10|2254.9199219| -6.834369268777209|     2284.45499024| 2289.188334805172|     1.44908|          2.9|1.88533|2.46349|2.81908|3.02491|3.17033|3.48378|4.53979|5.31739| 5.5805|\n",
      "|2011-11-11|2324.8100586| -8.028527956318612|2288.1853906300003| 2290.587045535995|     1.44908|          2.9|1.95186|2.41387|2.69476|2.85664|3.06711|3.48479|4.54757|5.28258|5.53034|\n",
      "|2011-11-14|2288.3200684| -16.55201673850661|2290.3305908260004|2289.1901878599133|     1.44908|          2.9|1.78482|2.28752|2.60871|2.80766|3.15287|3.56894|4.61852|5.35848|5.60841|\n",
      "|2011-11-15|      2254.0|-23.474986811211693|    2292.986591802|2289.2257029399098|     1.44908|          2.9|  1.976|2.56708|2.92928|3.13892| 3.3269|3.68732|4.76005| 5.5231|5.78062|\n",
      "|2011-11-16|2267.9599609| -28.47535274966549|    2297.114589848|2290.6634867333755|     1.44908|          2.9| 2.2176|2.67334|2.96047|3.13411|3.38622|3.75626|4.76568| 5.4923| 5.7381|\n",
      "|2011-11-17|2242.7800293|-35.864828890023546|    2300.487792974|2291.5901612571865|     1.35144|         2.84|2.41241|2.74096|2.94821|3.07552|3.36776|3.80675|4.80286|5.49126|5.72366|\n",
      "|2011-11-18|2236.6799316|-42.211042435134914|    2303.724594732|2293.5824115411533|     1.35144|         2.84|2.01058|2.63164|3.01368|3.23613|3.43254|3.76439|4.77308|5.48822|5.72942|\n",
      "|2011-11-21|2160.2800293| -49.07603897692934|2307.3241943420003| 2295.904961742833|     1.35144|         2.84|2.00457|2.62712|3.00899|3.23052|3.42195|3.75223|4.74805|5.45023|5.68695|\n",
      "|2011-11-22|2136.8100586| -49.34553848915539|    2313.534394538| 2301.440673271112|     1.35144|         2.84|2.12143| 2.7448|3.12934|3.35381|3.53828|3.84161| 4.8136|5.51005|5.74507|\n",
      "+----------+------------+-------------------+------------------+------------------+------------+-------------+-------+-------+-------+-------+-------+-------+-------+-------+-------+\n",
      "only showing top 10 rows\n",
      "\n"
     ]
    }
   ],
   "source": [
    "from pyspark.sql import SparkSession\n",
    "from pyspark.sql.functions import col, to_date, first, trim\n",
    "import pandas as pd\n",
    "\n",
    "# Create a Spark session\n",
    "spark = SparkSession.builder \\\n",
    "    .appName(\"Stock Market Trends Analysis\") \\\n",
    "    .getOrCreate()\n",
    "\n",
    "# Assuming 'index_data', 'interest_data', 'bonds_data', 'inflation_data' are already defined\n",
    "\n",
    "# Function to format date columns in Pandas DataFrame\n",
    "def format_date_columns(df, date_column):\n",
    "    df[date_column] = pd.to_datetime(df[date_column]).dt.date\n",
    "    return df\n",
    "\n",
    "# Format date columns\n",
    "index_data = format_date_columns(index_data, 'Date')\n",
    "interest_data = format_date_columns(interest_data, 'Period')\n",
    "bonds_data = format_date_columns(bonds_data, 'Period')\n",
    "inflation_data = format_date_columns(inflation_data, 'Period')\n",
    "\n",
    "# Convert Pandas DataFrame to Spark DataFrame\n",
    "index_df_spark = spark.createDataFrame(index_data)\n",
    "interest_df_spark = spark.createDataFrame(interest_data)\n",
    "bonds_df_spark = spark.createDataFrame(bonds_data)\n",
    "inflation_df_spark = spark.createDataFrame(inflation_data)\n",
    "\n",
    "# Trim and convert date columns to DateType\n",
    "index_df_spark = index_df_spark.withColumn(\"Date\", to_date(trim(col(\"Date\")), \"yyyy-MM-dd\"))\n",
    "interest_df_spark = interest_df_spark.withColumn(\"Period\", to_date(trim(col(\"Period\")), \"yyyy-MM-dd\"))\n",
    "bonds_df_spark = bonds_df_spark.withColumn(\"Period\", to_date(trim(col(\"Period\")), \"yyyy-MM-dd\"))\n",
    "inflation_df_spark = inflation_df_spark.withColumn(\"Period\", to_date(trim(col(\"Period\")), \"yyyy-MM-dd\"))\n",
    "\n",
    "# Create Temporary Views\n",
    "index_df_spark.createOrReplaceTempView(\"indexView\")\n",
    "interest_df_spark.createOrReplaceTempView(\"interestView\")\n",
    "bonds_df_spark.createOrReplaceTempView(\"bondsView\")\n",
    "inflation_df_spark.createOrReplaceTempView(\"inflationView\")\n",
    "\n",
    "# Pivot and process bonds data to have maturity rates as separate columns\n",
    "bonds_df_pivoted = bonds_df_spark.groupBy(\"Period\").pivot(\"maturity\").agg(first(\"Rate\"))\n",
    "bonds_df_pivoted.createOrReplaceTempView(\"bondsPivotedView\")\n",
    "\n",
    "# SQL Query for Joining\n",
    "join_query = \"\"\"\n",
    "SELECT i.Date, i.Close, i.MACD, i.SMA, i.EMA,\n",
    "       int.Interest as InterestRate, \n",
    "       inf.Inflation as InflationRate,\n",
    "       b.M3, b.M6, b.M9, b.Y1, b.Y3, b.Y5, b.Y10, b.Y20, b.Y30\n",
    "FROM indexView i\n",
    "LEFT JOIN interestView int ON i.Date = int.Period\n",
    "LEFT JOIN bondsPivotedView b ON i.Date = b.Period\n",
    "LEFT JOIN inflationView inf ON i.Date = inf.Period\n",
    "\"\"\"\n",
    "\n",
    "# Execute the query and show results\n",
    "dataset = spark.sql(join_query)\n",
    "dataset.show(10)"
   ]
  },
  {
   "cell_type": "code",
   "execution_count": 35,
   "id": "2c19e74e-3c2f-493d-9098-de40eb16e475",
   "metadata": {},
   "outputs": [
    {
     "name": "stdout",
     "output_type": "stream",
     "text": [
      "Column 'Date': Zeros = N/A, Nulls or NaNs = 0\n",
      "Column 'Close': Zeros = N/A, Nulls or NaNs = 0\n",
      "Column 'MACD': Zeros = N/A, Nulls or NaNs = 0\n",
      "Column 'SMA': Zeros = N/A, Nulls or NaNs = 0\n",
      "Column 'EMA': Zeros = N/A, Nulls or NaNs = 0\n",
      "Column 'InterestRate': Zeros = N/A, Nulls or NaNs = 121\n",
      "Column 'InflationRate': Zeros = N/A, Nulls or NaNs = 100\n"
     ]
    },
    {
     "name": "stderr",
     "output_type": "stream",
     "text": [
      "                                                                                \r"
     ]
    },
    {
     "name": "stdout",
     "output_type": "stream",
     "text": [
      "Column 'M3': Zeros = N/A, Nulls or NaNs = 17\n",
      "Column 'M6': Zeros = N/A, Nulls or NaNs = 17\n",
      "Column 'M9': Zeros = N/A, Nulls or NaNs = 17\n",
      "Column 'Y1': Zeros = N/A, Nulls or NaNs = 17\n",
      "Column 'Y3': Zeros = N/A, Nulls or NaNs = 17\n",
      "Column 'Y5': Zeros = N/A, Nulls or NaNs = 17\n",
      "Column 'Y10': Zeros = N/A, Nulls or NaNs = 17\n",
      "Column 'Y20': Zeros = N/A, Nulls or NaNs = 17\n",
      "Column 'Y30': Zeros = N/A, Nulls or NaNs = 17\n"
     ]
    }
   ],
   "source": [
    "# DataFrame: joined_df\n",
    "numeric_column_types = ['int', 'double', 'float', 'long']\n",
    "\n",
    "# Counting zeros and nulls for each column\n",
    "for column in dataset.columns:\n",
    "    # Check if the column is numeric\n",
    "    if str(dataset.schema[column].dataType) in numeric_column_types:\n",
    "        zero_count = dataset.filter(col(column) == 0).count()\n",
    "        null_or_nan_count = joined_df.filter(col(column).isNull() | isnan(col(column))).count()\n",
    "    else:\n",
    "        zero_count = 'N/A' # Not applicable for non-numeric columns\n",
    "        null_or_nan_count = dataset.filter(col(column).isNull()).count() # Check only for nulls in non-numeric columns\n",
    "\n",
    "    print(f\"Column '{column}': Zeros = {zero_count}, Nulls or NaNs = {null_or_nan_count}\")"
   ]
  },
  {
   "cell_type": "code",
   "execution_count": 36,
   "id": "ac55d381-db6a-41a9-a2bb-006c0bfc4291",
   "metadata": {},
   "outputs": [
    {
     "name": "stdout",
     "output_type": "stream",
     "text": [
      "root\n",
      " |-- Date: date (nullable = true)\n",
      " |-- Close: double (nullable = true)\n",
      " |-- MACD: double (nullable = true)\n",
      " |-- SMA: double (nullable = true)\n",
      " |-- EMA: double (nullable = true)\n",
      " |-- InterestRate: double (nullable = true)\n",
      " |-- InflationRate: double (nullable = true)\n",
      " |-- M3: string (nullable = true)\n",
      " |-- M6: string (nullable = true)\n",
      " |-- M9: string (nullable = true)\n",
      " |-- Y1: string (nullable = true)\n",
      " |-- Y3: string (nullable = true)\n",
      " |-- Y5: string (nullable = true)\n",
      " |-- Y10: string (nullable = true)\n",
      " |-- Y20: string (nullable = true)\n",
      " |-- Y30: string (nullable = true)\n",
      "\n",
      "Number of rows: 4823\n"
     ]
    },
    {
     "name": "stderr",
     "output_type": "stream",
     "text": [
      "                                                                                \r"
     ]
    },
    {
     "name": "stdout",
     "output_type": "stream",
     "text": [
      "+-------+-----------------+-------------------+-----------------+------------------+------------------+------------------+------------------+------------------+------------------+------------------+------------------+------------------+------------------+------------------+------------------+\n",
      "|summary|            Close|               MACD|              SMA|               EMA|      InterestRate|     InflationRate|                M3|                M6|                M9|                Y1|                Y3|                Y5|               Y10|               Y20|               Y30|\n",
      "+-------+-----------------+-------------------+-----------------+------------------+------------------+------------------+------------------+------------------+------------------+------------------+------------------+------------------+------------------+------------------+------------------+\n",
      "|  count|             4823|               4823|             4823|              4823|              4702|              4723|              4806|              4806|              4806|              4806|              4806|              4806|              4806|              4806|              4806|\n",
      "|   mean|3321.300870004076| -2.426330949090049|3329.182219151419|3329.7327991839793| 1.037974878774989| 2.136828287105627|0.8593424739908442|0.9485952642530172|1.0225619933416559|1.0831753454015827|1.4243658676654218|1.7737455409904266| 2.469187517686223| 3.041709248855598| 3.201047166042445|\n",
      "| stddev|590.5135187649729|  42.97296978946675| 585.955662347063| 582.5901283648835|1.6535101276768864|2.0777704105145967|1.5212104726826041|1.5389973766246143|1.5484393631951683|1.5518266995295085|1.5376642587874556|1.5357671136825923|1.5378212110431873|1.4627073210000778|1.3752136528993395|\n",
      "|    min|     1809.9799805|-140.62096272533518|   2091.644584972| 2096.246724007744|            -0.582|              -0.6|          -0.00225|          -0.00126|          -0.00106|          -0.00177|          -0.00178|          -0.00377|          -0.00115|           0.26031|           0.52116|\n",
      "|    max|          4660.64|  275.1829513471689|          4660.64|           4660.64|            5.1131|              10.1|            9.3E-4|            6.7E-4|           4.45866|           4.55968|           4.81367|           4.81001|           5.06863|           5.64446|           5.83793|\n",
      "+-------+-----------------+-------------------+-----------------+------------------+------------------+------------------+------------------+------------------+------------------+------------------+------------------+------------------+------------------+------------------+------------------+\n",
      "\n"
     ]
    }
   ],
   "source": [
    "# Print the schema of the DataFrame\n",
    "dataset.printSchema()\n",
    "\n",
    "# Count the number of rows in the DataFrame\n",
    "print(\"Number of rows:\", dataset.count())\n",
    "\n",
    "# Show statistical summaries of the DataFrame\n",
    "dataset.describe().show()"
   ]
  },
  {
   "cell_type": "code",
   "execution_count": 39,
   "id": "1b22162b-7457-4a60-b26d-4d6eeb6ac8ea",
   "metadata": {},
   "outputs": [
    {
     "name": "stderr",
     "output_type": "stream",
     "text": [
      "                                                                                \r"
     ]
    },
    {
     "name": "stdout",
     "output_type": "stream",
     "text": [
      "Total Rows: 4823\n",
      "Rows with 'Close' but missing rates: 4\n",
      "Percentage of Rows with missing rates: 0.08%\n"
     ]
    },
    {
     "name": "stderr",
     "output_type": "stream",
     "text": [
      "                                                                                \r"
     ]
    },
    {
     "name": "stdout",
     "output_type": "stream",
     "text": [
      "+----------+----------+-------------------+-----------------+-----------------+------------+-------------+----+----+----+----+----+----+----+----+----+\n",
      "|      Date|     Close|               MACD|              SMA|              EMA|InterestRate|InflationRate|  M3|  M6|  M9|  Y1|  Y3|  Y5| Y10| Y20| Y30|\n",
      "+----------+----------+-------------------+-----------------+-----------------+------------+-------------+----+----+----+----+----+----+----+----+----+\n",
      "|2024-01-30|   4660.64|                0.0|          4660.64|          4660.64|        NULL|         NULL|NULL|NULL|NULL|NULL|NULL|NULL|NULL|NULL|NULL|\n",
      "|2023-12-29| 4521.6499| -30.92181958837591|4499.920848181818|4561.604679008006|        NULL|         NULL|NULL|NULL|NULL|NULL|NULL|NULL|NULL|NULL|NULL|\n",
      "|2023-12-22|4521.47021|  -18.0624550913044|     4502.4995452|4557.069390634319|        NULL|         NULL|NULL|NULL|NULL|NULL|NULL|NULL|NULL|NULL|NULL|\n",
      "|2024-01-29|4639.35986|-1.6975610256413347|       4649.99993|4659.805484705883|        NULL|         NULL|NULL|NULL|NULL|NULL|NULL|NULL|NULL|NULL|NULL|\n",
      "+----------+----------+-------------------+-----------------+-----------------+------------+-------------+----+----+----+----+----+----+----+----+----+\n",
      "\n"
     ]
    }
   ],
   "source": [
    "from pyspark.sql.functions import col, isnan\n",
    "\n",
    "# Function to create a column condition for checking if a column is null or NaN\n",
    "def is_missing(column_name):\n",
    "    return col(column_name).isNull() | isnan(col(column_name))\n",
    "\n",
    "# Create a combined condition for all bond rate columns\n",
    "bond_rate_conditions = is_missing('M3') & is_missing('M6') & is_missing('M9') & \\\n",
    "                       is_missing('Y1') & is_missing('Y3') & is_missing('Y5') & \\\n",
    "                       is_missing('Y10') & is_missing('Y20') & is_missing('Y30')\n",
    "\n",
    "# Count rows where bond rate columns are missing but 'Close' is available\n",
    "missing_columns_count = dataset.filter(\n",
    "    is_missing(\"InterestRate\") &\n",
    "    is_missing(\"InflationRate\") &\n",
    "    bond_rate_conditions &\n",
    "    col(\"Close\").isNotNull()\n",
    ").count()\n",
    "\n",
    "# Calculate the percentage of such instances\n",
    "percentage_missing_columns = (missing_columns_count / total_rows) * 100\n",
    "\n",
    "print(f\"Total Rows: {total_rows}\")\n",
    "print(f\"Rows with 'Close' but missing rates: {missing_columns_count}\")\n",
    "print(f\"Percentage of Rows with missing rates: {percentage_missing_columns:.2f}%\")\n",
    "\n",
    "# Filter the DataFrame to get rows with missing bond rates but available 'Close'\n",
    "missing_values_table = dataset.filter(\n",
    "    is_missing(\"InterestRate\") &\n",
    "    is_missing(\"InflationRate\") &\n",
    "    bond_rate_conditions &\n",
    "    col(\"Close\").isNotNull()\n",
    ")\n",
    "\n",
    "# Show the rows with missing values\n",
    "missing_values_table.show()"
   ]
  },
  {
   "cell_type": "code",
   "execution_count": 25,
   "id": "6dbb69f4-1457-46e5-b0bf-76ae0a8041de",
   "metadata": {},
   "outputs": [
    {
     "name": "stdout",
     "output_type": "stream",
     "text": [
      "Total Rows: 43253\n",
      "Rows with 'Open' but missing any one of 'InterestRate', 'BondRate', or 'InflationRate': 1052\n",
      "Percentage of Rows with missing any one rate: 2.43%\n",
      "+----------+------------+------------+--------+------------+-------------+\n",
      "|      Date|       Close|InterestRate|BondRate|BondMaturity|InflationRate|\n",
      "+----------+------------+------------+--------+------------+-------------+\n",
      "|2022-06-22|3464.6398926|     0.16346|    NULL|        NULL|         8.92|\n",
      "|2024-01-11|  4442.27979|        NULL| 2.86198|          Y9|         NULL|\n",
      "|2024-01-11|  4442.27979|        NULL| 2.79284|          Y8|         NULL|\n",
      "|2024-01-11|  4442.27979|        NULL| 2.72034|          Y7|         NULL|\n",
      "|2024-01-11|  4442.27979|        NULL| 2.64911|          Y6|         NULL|\n",
      "|2024-01-11|  4442.27979|        NULL| 2.58885|          Y5|         NULL|\n",
      "|2024-01-11|  4442.27979|        NULL| 2.55888|          Y4|         NULL|\n",
      "|2024-01-11|  4442.27979|        NULL| 2.59643|          Y3|         NULL|\n",
      "|2024-01-11|  4442.27979|        NULL| 2.77201|          Y2|         NULL|\n",
      "|2024-01-11|  4442.27979|        NULL| 3.21745|          Y1|         NULL|\n",
      "|2024-01-02|  4512.81006|        NULL| 2.74871|          Y9|         NULL|\n",
      "|2024-01-02|  4512.81006|        NULL| 2.67428|          Y8|         NULL|\n",
      "|2024-01-02|  4512.81006|        NULL| 2.59484|          Y7|         NULL|\n",
      "|2024-01-02|  4512.81006|        NULL| 2.51474|          Y6|         NULL|\n",
      "|2024-01-02|  4512.81006|        NULL| 2.44373|          Y5|         NULL|\n",
      "|2024-01-02|  4512.81006|        NULL| 2.40228|          Y4|         NULL|\n",
      "|2024-01-02|  4512.81006|        NULL| 2.43147|          Y3|         NULL|\n",
      "|2024-01-02|  4512.81006|        NULL| 2.61179|          Y2|         NULL|\n",
      "|2024-01-02|  4512.81006|        NULL| 3.09859|          Y1|         NULL|\n",
      "|2023-12-11|  4540.18994|        NULL| 2.97999|          Y9|         NULL|\n",
      "+----------+------------+------------+--------+------------+-------------+\n",
      "only showing top 20 rows\n",
      "\n"
     ]
    }
   ],
   "source": [
    "# Count the total number of rows\n",
    "total_rows = dataset.count()\n",
    "\n",
    "# Count rows where any one of the specific columns is available but others are missing (Null or NaN)\n",
    "missing_any_column_count = dataset.filter(\n",
    "    col(\"Close\").isNotNull() &\n",
    "    (\n",
    "        col(\"InterestRate\").isNull() | isnan(col(\"InterestRate\")) |\n",
    "        col(\"BondRate\").isNull() | isnan(col(\"BondRate\")) |\n",
    "        col(\"InflationRate\").isNull() | isnan(col(\"InflationRate\"))\n",
    "    )\n",
    ").count()\n",
    "\n",
    "# Calculate the percentage of such instances\n",
    "percentage_missing_any_column = (missing_any_column_count / total_rows) * 100\n",
    "\n",
    "print(f\"Total Rows: {total_rows}\")\n",
    "print(f\"Rows with 'Open' but missing any one of 'InterestRate', 'BondRate', or 'InflationRate': {missing_any_column_count}\")\n",
    "print(f\"Percentage of Rows with missing any one rate: {percentage_missing_any_column:.2f}%\")\n",
    "\n",
    "# Filter the DataFrame to get rows with missing any one of 'InterestRate', 'BondRate', and 'InflationRate' but available 'Open'\n",
    "missing_any_values_table = dataset.filter(\n",
    "    col(\"Close\").isNotNull() &\n",
    "    (\n",
    "        col(\"InterestRate\").isNull() | isnan(col(\"InterestRate\")) |\n",
    "        col(\"BondRate\").isNull() | isnan(col(\"BondRate\")) |\n",
    "        col(\"InflationRate\").isNull() | isnan(col(\"InflationRate\"))\n",
    "    )\n",
    ")\n",
    "\n",
    "# Show the rows with missing values\n",
    "missing_any_values_table.show()"
   ]
  },
  {
   "cell_type": "markdown",
   "id": "4b97a36b-25c6-41ba-8fe3-d39c9f0d50a4",
   "metadata": {},
   "source": [
    "## Window Approuch"
   ]
  },
  {
   "cell_type": "code",
   "execution_count": 26,
   "id": "4d8113aa-61d8-449c-876d-ebb9ae4f90ae",
   "metadata": {},
   "outputs": [
    {
     "name": "stdout",
     "output_type": "stream",
     "text": [
      "+----------+-----------+------------+--------+------------+-------------+\n",
      "|      Date|      Close|InterestRate|BondRate|BondMaturity|InflationRate|\n",
      "+----------+-----------+------------+--------+------------+-------------+\n",
      "|2005-01-04|2971.120117|        NULL| 3.60034|          Y9|         NULL|\n",
      "|2005-01-04|2971.120117|        NULL| 3.48536|          Y8|         NULL|\n",
      "|2005-01-04|2971.120117|        NULL| 3.35673|          Y7|         NULL|\n",
      "|2005-01-04|2971.120117|        NULL| 3.21314|          Y6|         NULL|\n",
      "|2005-01-04|2971.120117|        NULL| 3.05325|          Y5|         NULL|\n",
      "|2005-01-04|2971.120117|        NULL| 2.87586|          Y4|         NULL|\n",
      "|2005-01-04|2971.120117|        NULL| 2.67994|          Y3|         NULL|\n",
      "|2005-01-04|2971.120117|        NULL| 2.46487|          Y2|         NULL|\n",
      "|2005-01-04|2971.120117|        NULL| 2.23056|          Y1|         NULL|\n",
      "|2005-01-05|2947.189941|        NULL| 3.63015|          Y9|         NULL|\n",
      "|2005-01-05|2947.189941|        NULL|  3.5162|          Y8|         NULL|\n",
      "|2005-01-05|2947.189941|        NULL| 3.38825|          Y7|         NULL|\n",
      "|2005-01-05|2947.189941|        NULL| 3.24478|          Y6|         NULL|\n",
      "|2005-01-05|2947.189941|        NULL| 3.08424|          Y5|         NULL|\n",
      "|2005-01-05|2947.189941|        NULL|  2.9051|          Y4|         NULL|\n",
      "|2005-01-05|2947.189941|        NULL| 2.70592|          Y3|         NULL|\n",
      "|2005-01-05|2947.189941|        NULL|  2.4855|          Y2|         NULL|\n",
      "|2005-01-05|2947.189941|        NULL| 2.24305|          Y1|         NULL|\n",
      "|2005-01-06| 2966.23999|        NULL| 3.58274|          Y9|         NULL|\n",
      "|2005-01-06| 2966.23999|        NULL| 3.46365|          Y8|         NULL|\n",
      "+----------+-----------+------------+--------+------------+-------------+\n",
      "only showing top 20 rows\n",
      "\n"
     ]
    }
   ],
   "source": [
    "# Define the window specification for forward fill with partitioning by 'date'\n",
    "window_spec = Window.partitionBy(\"Date\").orderBy(\"Date\").rowsBetween(Window.unboundedPreceding, Window.currentRow)\n",
    "\n",
    "# Apply forward fill for each column that needs imputation\n",
    "dataset_ff = dataset.withColumn(\"InterestRate\", last(\"InterestRate\", ignorenulls=True).over(window_spec)) \\\n",
    "                    .withColumn(\"BondRate\", last(\"BondRate\", ignorenulls=True).over(window_spec)) \\\n",
    "                    .withColumn(\"InflationRate\", last(\"InflationRate\", ignorenulls=True).over(window_spec))\n",
    "\n",
    "# Show the result\n",
    "dataset_ff.show()"
   ]
  },
  {
   "cell_type": "code",
   "execution_count": 27,
   "id": "71acd7aa-ea84-498b-be25-10ffdcdfa053",
   "metadata": {},
   "outputs": [
    {
     "name": "stdout",
     "output_type": "stream",
     "text": [
      "Total Rows: 43253\n",
      "Rows with 'Open' but missing any one of 'InterestRate', 'BondRate', or 'InflationRate': 1052\n",
      "Percentage of Rows with missing any one rate: 2.43%\n"
     ]
    }
   ],
   "source": [
    "# Count the total number of rows\n",
    "total_rows = dataset_ff.count()\n",
    "\n",
    "# Count rows where 'Open' is available but any one of 'InterestRate', 'BondRate', or 'InflationRate' is missing (Null or NaN)\n",
    "missing_any_column_count = dataset_ff.filter(\n",
    "    col(\"Close\").isNotNull() &\n",
    "    (\n",
    "        col(\"InterestRate\").isNull() | isnan(col(\"InterestRate\")) |\n",
    "        col(\"BondRate\").isNull() | isnan(col(\"BondRate\")) |\n",
    "        col(\"InflationRate\").isNull() | isnan(col(\"InflationRate\"))\n",
    "    )\n",
    ").count()\n",
    "\n",
    "# Calculate the percentage of such instances\n",
    "percentage_missing_any_column = (missing_any_column_count / total_rows) * 100\n",
    "\n",
    "# Output the results\n",
    "print(f\"Total Rows: {total_rows}\")\n",
    "print(f\"Rows with 'Open' but missing any one of 'InterestRate', 'BondRate', or 'InflationRate': {missing_any_column_count}\")\n",
    "print(f\"Percentage of Rows with missing any one rate: {percentage_missing_any_column:.2f}%\")"
   ]
  },
  {
   "cell_type": "markdown",
   "id": "d98b0720-ee51-46c6-8f65-26a5d98f7a7f",
   "metadata": {},
   "source": [
    "Here's why the Window function is used:\n",
    "\n",
    "    Row-wise Calculations: PySpark's Window function allows you to specify a range of rows (a window) relative to the current row and perform calculations across these rows.\n",
    "\n",
    "    Emulating ffill: By ordering the rows in the window based on the 'date' column and then using the last function (which returns the last non-null value in the window), we effectively emulate the forward fill behavior. It picks the last non-null value encountered in the ordered window and applies it to the current row if the current value is null.\n",
    "\n",
    "    Scalability and Performance: PySpark is designed for big data processing. While Pandas' ffill is straightforward and efficient for in-memory data on a single machine, PySpark's window functions are designed to work efficiently on distributed datasets across multiple nodes in a cluster.\n",
    "\n",
    "    Lack of Direct ffill Equivalent: PySpark DataFrame API does not have a direct method like ffill in Pandas. Therefore, the combination of Window and last functions is a common approach to achieve similar functionality."
   ]
  },
  {
   "cell_type": "markdown",
   "id": "d9ca8e98-4285-4e30-9fb5-e02a0976a185",
   "metadata": {},
   "source": [
    "#### MEAN to fill the Missing Day Value"
   ]
  },
  {
   "cell_type": "code",
   "execution_count": 28,
   "id": "463fc724-1340-4dda-b937-3b8ad88963a2",
   "metadata": {},
   "outputs": [
    {
     "name": "stdout",
     "output_type": "stream",
     "text": [
      "+----------+-----------+------------------+--------+------------+------------------+\n",
      "|      Date|      Close|      InterestRate|BondRate|BondMaturity|     InflationRate|\n",
      "+----------+-----------+------------------+--------+------------+------------------+\n",
      "|2005-01-04|2971.120117|1.0382766996729873| 3.60034|          Y9|2.1311944909558043|\n",
      "|2005-01-04|2971.120117|1.0382766996729873| 3.48536|          Y8|2.1311944909558043|\n",
      "|2005-01-04|2971.120117|1.0382766996729873| 3.35673|          Y7|2.1311944909558043|\n",
      "|2005-01-04|2971.120117|1.0382766996729873| 3.21314|          Y6|2.1311944909558043|\n",
      "|2005-01-04|2971.120117|1.0382766996729873| 3.05325|          Y5|2.1311944909558043|\n",
      "|2005-01-04|2971.120117|1.0382766996729873| 2.87586|          Y4|2.1311944909558043|\n",
      "|2005-01-04|2971.120117|1.0382766996729873| 2.67994|          Y3|2.1311944909558043|\n",
      "|2005-01-04|2971.120117|1.0382766996729873| 2.46487|          Y2|2.1311944909558043|\n",
      "|2005-01-04|2971.120117|1.0382766996729873| 2.23056|          Y1|2.1311944909558043|\n",
      "|2005-01-05|2947.189941|1.0382766996729873| 3.63015|          Y9|2.1311944909558043|\n",
      "|2005-01-05|2947.189941|1.0382766996729873|  3.5162|          Y8|2.1311944909558043|\n",
      "|2005-01-05|2947.189941|1.0382766996729873| 3.38825|          Y7|2.1311944909558043|\n",
      "|2005-01-05|2947.189941|1.0382766996729873| 3.24478|          Y6|2.1311944909558043|\n",
      "|2005-01-05|2947.189941|1.0382766996729873| 3.08424|          Y5|2.1311944909558043|\n",
      "|2005-01-05|2947.189941|1.0382766996729873|  2.9051|          Y4|2.1311944909558043|\n",
      "|2005-01-05|2947.189941|1.0382766996729873| 2.70592|          Y3|2.1311944909558043|\n",
      "|2005-01-05|2947.189941|1.0382766996729873|  2.4855|          Y2|2.1311944909558043|\n",
      "|2005-01-05|2947.189941|1.0382766996729873| 2.24305|          Y1|2.1311944909558043|\n",
      "|2005-01-06| 2966.23999|1.0382766996729873| 3.58274|          Y9|2.1311944909558043|\n",
      "|2005-01-06| 2966.23999|1.0382766996729873| 3.46365|          Y8|2.1311944909558043|\n",
      "+----------+-----------+------------------+--------+------------+------------------+\n",
      "only showing top 20 rows\n",
      "\n"
     ]
    }
   ],
   "source": [
    "# Define the numeric columns\n",
    "numeric_cols = [\"InterestRate\", \"BondRate\", \"InflationRate\"]\n",
    "\n",
    "# Calculate the mean of non-null values for each column\n",
    "mean_values = dataset_ff.select([mean(c).alias(c) for c in numeric_cols]).collect()[0].asDict()\n",
    "\n",
    "# Fill null values with the mean\n",
    "for col in numeric_cols:\n",
    "    dataset_ff = dataset_ff.na.fill({col: mean_values[col]})\n",
    "\n",
    "# Show the result\n",
    "dataset_ff.show()"
   ]
  },
  {
   "cell_type": "code",
   "execution_count": 29,
   "id": "620395c1-be42-4fef-b572-d878a14eb046",
   "metadata": {},
   "outputs": [
    {
     "name": "stdout",
     "output_type": "stream",
     "text": [
      "Total Rows: 43253\n",
      "Rows with 'Open' but missing any one of 'InterestRate', 'BondRate', or 'InflationRate': 0\n",
      "Percentage of Rows with missing any one rate: 0.00%\n"
     ]
    }
   ],
   "source": [
    "from pyspark.sql.functions import col, isnan, count\n",
    "# Count the total number of rows\n",
    "total_rows = dataset_ff.count()\n",
    "\n",
    "# Count rows where 'Open' is available but any one of 'InterestRate', 'BondRate', or 'InflationRate' is missing (Null or NaN)\n",
    "missing_any_column_count = dataset_ff.filter(\n",
    "    col(\"Close\").isNotNull() &\n",
    "    (\n",
    "        col(\"InterestRate\").isNull() | isnan(col(\"InterestRate\")) |\n",
    "        col(\"BondRate\").isNull() | isnan(col(\"BondRate\")) |\n",
    "        col(\"InflationRate\").isNull() | isnan(col(\"InflationRate\"))\n",
    "    )\n",
    ").count()\n",
    "\n",
    "# Calculate the percentage of such instances\n",
    "percentage_missing_any_column = (missing_any_column_count / total_rows) * 100\n",
    "\n",
    "# Output the results\n",
    "print(f\"Total Rows: {total_rows}\")\n",
    "print(f\"Rows with 'Open' but missing any one of 'InterestRate', 'BondRate', or 'InflationRate': {missing_any_column_count}\")\n",
    "print(f\"Percentage of Rows with missing any one rate: {percentage_missing_any_column:.2f}%\")"
   ]
  },
  {
   "cell_type": "markdown",
   "id": "f161b8d8-262e-4e01-8df9-2895f2c064a7",
   "metadata": {},
   "source": [
    "## KNN Approuch"
   ]
  },
  {
   "cell_type": "code",
   "execution_count": 30,
   "id": "a5a6f2cf-270c-424a-befa-0e0645596058",
   "metadata": {},
   "outputs": [],
   "source": [
    "# Convert Spark DataFrame to Pandas DataFrame\n",
    "dataset_pd = dataset.toPandas()\n",
    "\n",
    "# Replace non-numeric values to NaN\n",
    "numeric_cols = [\"InterestRate\", \"BondRate\", \"InflationRate\"]\n",
    "dataset_pd[numeric_cols] = dataset_pd[numeric_cols].apply(pd.to_numeric, errors='coerce')\n",
    "\n",
    "# Apply KNN imputation\n",
    "knn_imputer = KNNImputer(n_neighbors=5)\n",
    "dataset_pd[numeric_cols] = knn_imputer.fit_transform(dataset_pd[numeric_cols])\n",
    "\n",
    "# Convert back to Spark DataFrame\n",
    "dataset_knn = spark.createDataFrame(dataset_pd)"
   ]
  },
  {
   "cell_type": "code",
   "execution_count": 31,
   "id": "1f1d842e-51a4-463c-a05e-e766461d9c22",
   "metadata": {},
   "outputs": [
    {
     "name": "stdout",
     "output_type": "stream",
     "text": [
      "+----------+-----------+------------------+--------+------------+------------------+\n",
      "|      Date|      Close|      InterestRate|BondRate|BondMaturity|     InflationRate|\n",
      "+----------+-----------+------------------+--------+------------+------------------+\n",
      "|2005-01-04|2971.120117|2.7135040000000004| 3.21314|          Y6|3.2879999999999994|\n",
      "|2005-01-04|2971.120117|          2.019896| 3.35673|          Y7|2.4080000000000004|\n",
      "|2005-01-04|2971.120117|2.6775720000000005| 3.60034|          Y9|             2.048|\n",
      "|2005-01-04|2971.120117|          1.091996| 3.48536|          Y8|             2.152|\n",
      "|2005-01-04|2971.120117|           2.65846| 3.05325|          Y5|2.8240000000000003|\n",
      "|2005-01-04|2971.120117|1.9796640000000003| 2.87586|          Y4| 4.247999999999999|\n",
      "|2005-01-04|2971.120117|1.4926760000000001| 2.67994|          Y3|               2.3|\n",
      "|2005-01-04|2971.120117|          1.679236| 2.46487|          Y2|3.5519999999999996|\n",
      "|2005-01-04|2971.120117|           1.22668| 2.23056|          Y1|             3.316|\n",
      "|2005-01-05|2947.189941|3.6821080000000004| 3.63015|          Y9|             2.524|\n",
      "|2005-01-05|2947.189941|2.6458439999999994|  3.5162|          Y8|1.6039999999999999|\n",
      "|2005-01-05|2947.189941|3.4807479999999997| 3.38825|          Y7|2.8719999999999994|\n",
      "|2005-01-05|2947.189941|           2.95596| 3.24478|          Y6|             3.276|\n",
      "|2005-01-05|2947.189941|          1.911968| 3.08424|          Y5|3.4440000000000004|\n",
      "|2005-01-05|2947.189941|1.9690280000000004|  2.9051|          Y4|             4.492|\n",
      "|2005-01-05|2947.189941|          1.541356| 2.70592|          Y3|             1.956|\n",
      "|2005-01-05|2947.189941|1.3239360000000002|  2.4855|          Y2|             1.704|\n",
      "|2005-01-05|2947.189941|          1.559024| 2.24305|          Y1|1.7559999999999998|\n",
      "|2005-01-06| 2966.23999|           1.80964| 3.58274|          Y9|1.8240000000000003|\n",
      "|2005-01-06| 2966.23999|          3.144756| 3.46365|          Y8|3.0759999999999996|\n",
      "+----------+-----------+------------------+--------+------------+------------------+\n",
      "only showing top 20 rows\n",
      "\n"
     ]
    }
   ],
   "source": [
    "# Sort the DataFrame in ascending order by the 'date' column\n",
    "dataset_knn = dataset_knn.orderBy(\"Date\")\n",
    "\n",
    "# Show the result\n",
    "dataset_knn.show()"
   ]
  },
  {
   "cell_type": "code",
   "execution_count": 32,
   "id": "366e162a-beaf-458a-9cbd-0156b604b4bb",
   "metadata": {},
   "outputs": [
    {
     "name": "stdout",
     "output_type": "stream",
     "text": [
      "Total Rows: 43253\n",
      "Rows with 'Open' but missing any one of 'InterestRate', 'BondRate', or 'InflationRate': 0\n",
      "Percentage of Rows with missing any one rate: 0.00%\n"
     ]
    }
   ],
   "source": [
    "# Count the total number of rows\n",
    "total_rows = dataset_knn.count()\n",
    "\n",
    "# Count rows where 'Open' is available but any one of 'InterestRate', 'BondRate', or 'InflationRate' is missing (Null or NaN)\n",
    "missing_any_column_count = dataset_knn.filter(\n",
    "    col(\"Close\").isNotNull() &\n",
    "    (\n",
    "        col(\"InterestRate\").isNull() | isnan(col(\"InterestRate\")) |\n",
    "        col(\"BondRate\").isNull() | isnan(col(\"BondRate\")) |\n",
    "        col(\"InflationRate\").isNull() | isnan(col(\"InflationRate\"))\n",
    "    )\n",
    ").count()\n",
    "\n",
    "# Calculate the percentage of such instances\n",
    "percentage_missing_any_column = (missing_any_column_count / total_rows) * 100\n",
    "\n",
    "# Output the results\n",
    "print(f\"Total Rows: {total_rows}\")\n",
    "print(f\"Rows with 'Open' but missing any one of 'InterestRate', 'BondRate', or 'InflationRate': {missing_any_column_count}\")\n",
    "print(f\"Percentage of Rows with missing any one rate: {percentage_missing_any_column:.2f}%\")"
   ]
  },
  {
   "cell_type": "markdown",
   "id": "747e1c1b-3eaa-4f78-bc4a-eb27e3d9594b",
   "metadata": {},
   "source": [
    "# Model: ARIMA & LSTM"
   ]
  },
  {
   "cell_type": "markdown",
   "id": "033f8363-118e-48a6-b8a5-2b37879b5026",
   "metadata": {},
   "source": [
    "## ARIMA"
   ]
  },
  {
   "cell_type": "code",
   "execution_count": 33,
   "id": "db086307-bbd0-4035-8ad3-3eb01cf6f737",
   "metadata": {},
   "outputs": [
    {
     "name": "stdout",
     "output_type": "stream",
     "text": [
      "                               SARIMAX Results                                \n",
      "==============================================================================\n",
      "Dep. Variable:                  Close   No. Observations:                 6962\n",
      "Model:                 ARIMA(1, 1, 1)   Log Likelihood              -34548.404\n",
      "Date:                Sun, 28 Jan 2024   AIC                          69102.807\n",
      "Time:                        20:56:23   BIC                          69123.351\n",
      "Sample:                    01-04-2005   HQIC                         69109.888\n",
      "                         - 01-26-2024                                         \n",
      "Covariance Type:                  opg                                         \n",
      "==============================================================================\n",
      "                 coef    std err          z      P>|z|      [0.025      0.975]\n",
      "------------------------------------------------------------------------------\n",
      "ar.L1         -0.5369      0.167     -3.209      0.001      -0.865      -0.209\n",
      "ma.L1          0.5079      0.172      2.958      0.003       0.171       0.844\n",
      "sigma2      1198.4993      8.493    141.119      0.000    1181.854    1215.145\n",
      "===================================================================================\n",
      "Ljung-Box (L1) (Q):                   0.00   Jarque-Bera (JB):             26466.11\n",
      "Prob(Q):                              0.97   Prob(JB):                         0.00\n",
      "Heteroskedasticity (H):               0.91   Skew:                            -0.44\n",
      "Prob(H) (two-sided):                  0.02   Kurtosis:                        12.51\n",
      "===================================================================================\n",
      "\n",
      "Warnings:\n",
      "[1] Covariance matrix calculated using the outer product of gradients (complex-step).\n"
     ]
    },
    {
     "data": {
      "image/png": "[encoded data removed]",
      "text/plain": [
       "<Figure size 640x480 with 1 Axes>"
      ]
     },
     "metadata": {},
     "output_type": "display_data"
    },
    {
     "data": {
      "image/png": "[encoded data removed]",
      "text/plain": [
       "<Figure size 640x480 with 1 Axes>"
      ]
     },
     "metadata": {},
     "output_type": "display_data"
    }
   ],
   "source": [
    "# Convert Spark DataFrame to Pandas DataFrame\n",
    "dataset_pd = dataset.toPandas()\n",
    "\n",
    "# Convert 'Date' column to datetime and set it as index\n",
    "dataset_pd['Date'] = pd.to_datetime(dataset_pd['Date'])\n",
    "\n",
    "# Ensure the dataset is sorted and has no duplicates\n",
    "dataset_pd = dataset_pd.sort_values('Date').drop_duplicates(subset='Date')\n",
    "\n",
    "# Resample to daily frequency if necessary\n",
    "dataset_pd.set_index('Date', inplace=True)\n",
    "dataset_pd = dataset_pd.asfreq('D', method='pad')\n",
    "\n",
    "# Select the series for Modeling\n",
    "series = dataset_pd['Close']\n",
    "\n",
    "# Plot ACF and PACF for parameter identification\n",
    "plot_acf(series)\n",
    "plot_pacf(series)\n",
    "\n",
    "# Define and fit the ARIMA model (revised parameters based on ACF and PACF analysis)\n",
    "model = ARIMA(series, order=(1,1,1))  # Change order based on the ACF and PACF analysis\n",
    "results = model.fit()\n",
    "\n",
    "# Summarize model results\n",
    "print(results.summary())\n",
    "\n",
    "# Make predictions\n",
    "predictions = results.forecast(steps=5)"
   ]
  },
  {
   "cell_type": "code",
   "execution_count": 34,
   "id": "cf5c757f-4095-4190-8def-fab863e0cc20",
   "metadata": {},
   "outputs": [
    {
     "name": "stdout",
     "output_type": "stream",
     "text": [
      "ARIMA(0, 0, 0) - AIC:108606.44881321483 - BIC:108620.14525735157\n",
      "ARIMA(0, 0, 1) - AIC:99569.08782412141 - BIC:99589.63249032652\n",
      "ARIMA(0, 0, 2) - AIC:92396.04869589483 - BIC:92423.44158416832\n",
      "ARIMA(0, 1, 0) - AIC:69107.00772672688 - BIC:69113.85580514805\n",
      "ARIMA(0, 1, 1) - AIC:69102.9257270766 - BIC:69116.62188391894\n",
      "ARIMA(0, 1, 2) - AIC:69103.20105638652 - BIC:69123.74529165002\n",
      "ARIMA(0, 2, 0) - AIC:74126.65009326978 - BIC:74133.49802802311\n",
      "ARIMA(0, 2, 1) - AIC:69108.755321027 - BIC:69122.45119053365\n",
      "ARIMA(0, 2, 2) - AIC:69104.43266673843 - BIC:69124.97647099842\n",
      "ARIMA(1, 0, 0) - AIC:69122.1961236198 - BIC:69142.74078982491\n",
      "ARIMA(1, 0, 1) - AIC:69118.45466928263 - BIC:69145.84755755612\n",
      "ARIMA(1, 0, 2) - AIC:69118.54932783957 - BIC:69152.79043818143\n",
      "ARIMA(1, 1, 0) - AIC:69102.73938431306 - BIC:69116.4355411554\n",
      "ARIMA(1, 1, 1) - AIC:69102.80701350047 - BIC:69123.35124876397\n",
      "ARIMA(1, 1, 2) - AIC:69105.14223943607 - BIC:69132.53455312074\n",
      "ARIMA(1, 2, 0) - AIC:71911.90900086131 - BIC:71925.60487036797\n",
      "ARIMA(1, 2, 1) - AIC:69104.27293115869 - BIC:69124.81673541867\n",
      "ARIMA(1, 2, 2) - AIC:69104.2439740451 - BIC:69131.63571305841\n",
      "ARIMA(2, 0, 0) - AIC:69118.26730234466 - BIC:69145.66019061815\n",
      "ARIMA(2, 0, 1) - AIC:69118.17697297901 - BIC:69152.41808332087\n",
      "ARIMA(2, 0, 2) - AIC:69120.50940023045 - BIC:69161.59873264068\n",
      "ARIMA(2, 1, 0) - AIC:69103.15788002679 - BIC:69123.70211529029\n",
      "ARIMA(2, 1, 1) - AIC:69104.78288915506 - BIC:69132.17520283973\n",
      "ARIMA(2, 1, 2) - AIC:69107.1779798494 - BIC:69141.41837195524\n",
      "ARIMA(2, 2, 0) - AIC:71120.54399426428 - BIC:71141.08779852427\n",
      "ARIMA(2, 2, 1) - AIC:69104.64564536716 - BIC:69132.03738438047\n",
      "ARIMA(2, 2, 2) - AIC:69106.9327529353 - BIC:69141.17242670195\n",
      "\n",
      "Top models based on AIC:\n",
      "        Order           AIC           BIC\n",
      "12  (1, 1, 0)  69102.739384  69116.435541\n",
      "13  (1, 1, 1)  69102.807014  69123.351249\n",
      "4   (0, 1, 1)  69102.925727  69116.621884\n",
      "21  (2, 1, 0)  69103.157880  69123.702115\n",
      "5   (0, 1, 2)  69103.201056  69123.745292\n",
      "\n",
      "Top models based on BIC:\n",
      "        Order           AIC           BIC\n",
      "3   (0, 1, 0)  69107.007727  69113.855805\n",
      "12  (1, 1, 0)  69102.739384  69116.435541\n",
      "4   (0, 1, 1)  69102.925727  69116.621884\n",
      "7   (0, 2, 1)  69108.755321  69122.451191\n",
      "13  (1, 1, 1)  69102.807014  69123.351249\n"
     ]
    }
   ],
   "source": [
    "# Check and adjust if 'Date' is already the index or named differently\n",
    "if 'Date' not in dataset_pd.columns:\n",
    "    # If 'Date' is not a column, it might already be the index or named differently\n",
    "    dataset_pd.index = pd.to_datetime(dataset_pd.index)\n",
    "else:\n",
    "    # Convert 'Date' column to datetime and set it as index\n",
    "    dataset_pd['Date'] = pd.to_datetime(dataset_pd['Date'])\n",
    "    dataset_pd.set_index('Date', inplace=True)\n",
    "\n",
    "# Remove duplicates if they exist\n",
    "dataset_pd = dataset_pd[~dataset_pd.index.duplicated(keep='first')]\n",
    "\n",
    "# Resample to daily frequency if necessary, filling any missing values\n",
    "dataset_pd = dataset_pd.asfreq('D', method='pad')\n",
    "series = dataset_pd['Close']\n",
    "\n",
    "# Define the p, d, and q parameters to take values between 0 and 2\n",
    "p = d = q = range(0, 3)\n",
    "\n",
    "# Generate all different combinations of p, d, and q triplets\n",
    "pdq = list(itertools.product(p, d, q))\n",
    "\n",
    "# Iterate over all combinations and fit ARIMA models\n",
    "model_results = []\n",
    "for param in pdq:\n",
    "    try:\n",
    "        model = ARIMA(series, order=param)\n",
    "        results = model.fit()\n",
    "        model_results.append({\n",
    "            'Order': param,\n",
    "            'AIC': results.aic,\n",
    "            'BIC': results.bic\n",
    "        })\n",
    "        print(f'ARIMA{param} - AIC:{results.aic} - BIC:{results.bic}')\n",
    "    except:\n",
    "        continue\n",
    "\n",
    "# Convert the results to a DataFrame\n",
    "results_df = pd.DataFrame(model_results)\n",
    "\n",
    "# Sort by AIC and BIC\n",
    "sorted_results_aic = results_df.sort_values(by='AIC')\n",
    "sorted_results_bic = results_df.sort_values(by='BIC')\n",
    "\n",
    "# Display the top models based on AIC and BIC\n",
    "print(\"\\nTop models based on AIC:\")\n",
    "print(sorted_results_aic.head())\n",
    "\n",
    "print(\"\\nTop models based on BIC:\")\n",
    "print(sorted_results_bic.head())"
   ]
  },
  {
   "cell_type": "markdown",
   "id": "290ff30b-b152-441f-acf0-d0a975c6ff28",
   "metadata": {},
   "source": [
    "Interpretation of AIC and BIC\n",
    "\n",
    "    AIC (Akaike Information Criterion):\n",
    "        AIC is a measure of the relative quality of a statistical model for a given set of data. A lower AIC value suggests a better model.\n",
    "        It balances the complexity of the model (number of parameters) against how well the model fits the data.\n",
    "\n",
    "    BIC (Bayesian Information Criterion):\n",
    "        Similar to AIC, BIC provides a way to compare models. It penalizes more complex models more than AIC does.\n",
    "        A lower BIC value indicates a better model and is especially useful for models with a larger number of observations.\n",
    "\n",
    "Analysis of Your Results\n",
    "\n",
    "    Top Models by AIC:\n",
    "        The models with the lowest AIC are ARIMA(1, 1, 0), ARIMA(1, 1, 1), ARIMA(0, 1, 1), ARIMA(2, 1, 0), and ARIMA(0, 1, 2).\n",
    "        These models are preferable in terms of balancing model complexity and fit.\n",
    "\n",
    "    Top Models by BIC:\n",
    "        The models with the lowest BIC are ARIMA(0, 1, 0), ARIMA(1, 1, 0), ARIMA(0, 1, 1), ARIMA(0, 2, 1), and ARIMA(1, 1, 1).\n",
    "        These models are more parsimonious (simpler) and are generally preferred when dealing with larger datasets or when overfitting is a concern.\n",
    "\n",
    "Recommendations and Next Steps\n",
    "\n",
    "    Model Selection:\n",
    "        ARIMA(1, 1, 0) and ARIMA(1, 1, 1) appear in both top AIC and BIC lists, making them strong candidates. These models are likely to provide a good balance between complexity and fit.\n",
    "\n",
    "        In summary, the results indicate that simpler models (like ARIMA(1, 1, 0)) are performing well compared to more complex ones. This is a good indication that your time series might not require highly complex ARIMA configurations to achieve effective modeling and forecasting."
   ]
  },
  {
   "cell_type": "markdown",
   "id": "e1ad2f26-63d0-4c7f-a5e5-60b47ea1c8b2",
   "metadata": {},
   "source": [
    "## LSTM Model"
   ]
  },
  {
   "cell_type": "code",
   "execution_count": 35,
   "id": "eb001ce8-4f4a-40f6-bd87-e6d257fdbf64",
   "metadata": {},
   "outputs": [
    {
     "name": "stdout",
     "output_type": "stream",
     "text": [
      "906/906 [==============================] - 1s 658us/step\n",
      "447/447 [==============================] - 0s 679us/step\n",
      "Train RMSE: 61.111676809707674\n",
      "Test RMSE: 58.76337465100199\n",
      "Test MAPE: 0.007766854402268674\n",
      "Test R²: 0.9930825535728107\n"
     ]
    }
   ],
   "source": [
    "# Convert the Spark DataFrame to a Pandas DataFrame\n",
    "dataset_knn_pd = dataset_knn.toPandas()\n",
    "\n",
    "# Selecting the relevant columns for input features and the target variable 'Close'\n",
    "feature_columns = ['Close', 'InterestRate', 'BondRate', 'InflationRate']\n",
    "target_column = 'Close'\n",
    "\n",
    "# Normalize the features\n",
    "scaler = MinMaxScaler(feature_range=(0, 1))\n",
    "scaled_data = scaler.fit_transform(dataset_knn_pd[feature_columns])\n",
    "\n",
    "# Function to create a dataset with lagged features\n",
    "def create_dataset(data, look_back=1):\n",
    "    X, Y = [], []\n",
    "    target_idx = dataset_knn_pd.columns.get_loc(target_column)\n",
    "    for i in range(len(data) - look_back - 1):\n",
    "        a = data[i:(i + look_back), :]\n",
    "        X.append(a)\n",
    "        Y.append(data[i + look_back, target_idx])\n",
    "    return np.array(X), np.array(Y)\n",
    "\n",
    "# Prepare the dataset with a specified look back period\n",
    "look_back = 1\n",
    "X, Y = create_dataset(scaled_data, look_back)\n",
    "\n",
    "# Split the data into training and testing sets\n",
    "train_size = int(len(X) * 0.67)\n",
    "trainX, trainY = X[:train_size], Y[:train_size]\n",
    "testX, testY = X[train_size:], Y[train_size:]\n",
    "\n",
    "# Reshape input to be [samples, time steps, features]\n",
    "trainX = np.reshape(trainX, (trainX.shape[0], look_back, len(feature_columns)))\n",
    "testX = np.reshape(testX, (testX.shape[0], look_back, len(feature_columns)))\n",
    "\n",
    "# Build and compile the LSTM model\n",
    "model = Sequential()\n",
    "model.add(LSTM(50, input_shape=(look_back, len(feature_columns))))\n",
    "model.add(Dropout(0.2))\n",
    "model.add(Dense(1))\n",
    "model.compile(optimizer='adam', loss='mean_squared_error')\n",
    "\n",
    "# Train the model\n",
    "history = model.fit(trainX, trainY, epochs=100, batch_size=64, verbose=0)\n",
    "\n",
    "# Make predictions\n",
    "trainPredict = model.predict(trainX)\n",
    "testPredict = model.predict(testX)\n",
    "\n",
    "# Invert predictions\n",
    "trainPredict = scaler.inverse_transform(np.column_stack((trainPredict, np.zeros((trainPredict.shape[0], len(feature_columns)-1)))))\n",
    "testPredict = scaler.inverse_transform(np.column_stack((testPredict, np.zeros((testPredict.shape[0], len(feature_columns)-1)))))\n",
    "trainY_original = scaler.inverse_transform(np.column_stack((trainY.reshape(-1, 1), np.zeros((trainY.shape[0], len(feature_columns)-1)))))\n",
    "testY_original = scaler.inverse_transform(np.column_stack((testY.reshape(-1, 1), np.zeros((testY.shape[0], len(feature_columns)-1)))))\n",
    "\n",
    "# Calculate performance metrics\n",
    "train_rmse = np.sqrt(mean_squared_error(trainY_original[:, 0], trainPredict[:, 0]))\n",
    "test_rmse = np.sqrt(mean_squared_error(testY_original[:, 0], testPredict[:, 0]))\n",
    "test_mape = mean_absolute_percentage_error(testY_original[:, 0], testPredict[:, 0])\n",
    "test_r2 = r2_score(testY_original[:, 0], testPredict[:, 0])\n",
    "\n",
    "# Print the performance metrics\n",
    "print('Train RMSE:', train_rmse)\n",
    "print('Test RMSE:', test_rmse)\n",
    "print('Test MAPE:', test_mape)\n",
    "print('Test R²:', test_r2)"
   ]
  },
  {
   "cell_type": "markdown",
   "id": "154a2a2a-cf9e-44fd-83ee-8ca01c3c5cb7",
   "metadata": {},
   "source": [
    "### Step 1: Building the Basic LSTM Model"
   ]
  },
  {
   "cell_type": "code",
   "execution_count": 36,
   "id": "248826ac-db25-4862-809c-9e89f55d1131",
   "metadata": {},
   "outputs": [],
   "source": [
    "def build_lstm_model(input_shape, neurons=50, dropout_rate=0.2):\n",
    "    model = Sequential()\n",
    "    model.add(LSTM(neurons, input_shape=input_shape))\n",
    "    model.add(Dropout(dropout_rate))\n",
    "    model.add(Dense(1))  # Single output neuron for prediction\n",
    "    return model"
   ]
  },
  {
   "cell_type": "markdown",
   "id": "f74acf46-2cc7-4e15-a176-dd8e107a257e",
   "metadata": {},
   "source": [
    "### Step 2: Data Preparation for LSTM Model\n",
    "Now, let's prepare the data for training the LSTM model. This involves normalizing the data and creating lagged features as input for the LSTM. We'll use the 'Close' price and additional indicators from your dataset."
   ]
  },
  {
   "cell_type": "code",
   "execution_count": 37,
   "id": "e1adfd8e-fdef-47e1-9290-62a68a53964c",
   "metadata": {},
   "outputs": [],
   "source": [
    "feature_columns = ['Close', 'InterestRate', 'BondRate', 'InflationRate'] \n",
    "\n",
    "# Normalize features\n",
    "scaler = MinMaxScaler(feature_range=(0, 1))\n",
    "scaled_data = scaler.fit_transform(dataset_knn_pd[feature_columns])\n",
    "\n",
    "# Function to create a dataset with lagged features\n",
    "def create_dataset(data, look_back=1):\n",
    "    X, Y = [], []\n",
    "    for i in range(len(data) - look_back):\n",
    "        X.append(data[i:(i + look_back), :])\n",
    "        Y.append(data[i + look_back, 0])  #  'Close' is the first column\n",
    "    return np.array(X), np.array(Y)\n",
    "\n",
    "# Create the lagged dataset\n",
    "look_back = 1  # This can be adjusted\n",
    "X, Y = create_dataset(scaled_data, look_back)\n",
    "\n",
    "# Split the data into training and test sets\n",
    "train_size = int(len(X) * 0.67)\n",
    "test_size = len(X) - train_size\n",
    "trainX, trainY = X[:train_size], Y[:train_size]\n",
    "testX, testY = X[train_size:], Y[train_size:]"
   ]
  },
  {
   "cell_type": "markdown",
   "id": "045761b6-0720-4d25-bfd1-0b431f0e2ebe",
   "metadata": {},
   "source": [
    "### Step 3: Basic Model Training\n",
    "\n",
    "With the  data prepared, the next step is to train the LSTM model with a basic set of hyperparameters. We'll start with a single LSTM layer and a standard configuration, then build from there."
   ]
  },
  {
   "cell_type": "code",
   "execution_count": 38,
   "id": "f430a824-5d71-4ab7-9b09-772a7ae79297",
   "metadata": {},
   "outputs": [
    {
     "data": {
      "text/plain": [
       "<keras.src.callbacks.History at 0xffff1e27f280>"
      ]
     },
     "execution_count": 38,
     "metadata": {},
     "output_type": "execute_result"
    }
   ],
   "source": [
    "# Build the LSTM model\n",
    "input_shape = (look_back, len(feature_columns))\n",
    "model = build_lstm_model(input_shape, neurons=50, dropout_rate=0.2)  # Basic configuration\n",
    "\n",
    "# Compile the model\n",
    "model.compile(optimizer=Adam(learning_rate=0.001), loss='mean_squared_error')\n",
    "\n",
    "# Train the model\n",
    "model.fit(trainX, trainY, epochs=10, batch_size=32, validation_split=0.2, verbose=0)  # Basic training"
   ]
  },
  {
   "cell_type": "markdown",
   "id": "8f76dbfe-3042-47db-85d7-ff3f75e7c25e",
   "metadata": {},
   "source": [
    "### Step 4: Model Evaluation on Test Data\n",
    "\n",
    "Great, The model has been trained! Now, let's evaluate its performance on the test data. We'll make predictions and then calculate performance metrics like RMSE (Root Mean Squared Error) to assess how well the model is doing."
   ]
  },
  {
   "cell_type": "code",
   "execution_count": 39,
   "id": "9a02c526-7575-42c8-9bff-a412e1d874cd",
   "metadata": {},
   "outputs": [
    {
     "name": "stdout",
     "output_type": "stream",
     "text": [
      "Test RMSE: 58.76337465100199\n",
      "Test MAPE: 0.007766854402268674\n",
      "Test R²: 0.9930825535728107\n"
     ]
    }
   ],
   "source": [
    "# Calculate MAPE\n",
    "test_mape = mean_absolute_percentage_error(testY_original[:, 0], testPredict[:, 0])\n",
    "\n",
    "# Calculate R² Score\n",
    "test_r2 = r2_score(testY_original[:, 0], testPredict[:, 0])\n",
    "\n",
    "print('Test RMSE:', test_rmse)\n",
    "print('Test MAPE:', test_mape)\n",
    "print('Test R²:', test_r2)"
   ]
  },
  {
   "cell_type": "markdown",
   "id": "6a4f94ce-3dff-4bd9-a494-3360bcc09d4d",
   "metadata": {},
   "source": [
    "### Step 5: Hyperparameter Tuning\n",
    "\n",
    "Now that the evaluated the basic model, the next step is to perform hyperparameter tuning. This involves systematically experimenting with different model configurations to improve performance. We'll focus on tuning key hyperparameters like the number of neurons and learning rate.\n",
    "\n",
    "Given the iterative nature of this process, it's efficient to create a function that handles model creation, training, and evaluation for different sets of hyperparameters"
   ]
  },
  {
   "cell_type": "code",
   "execution_count": 40,
   "id": "c039276e-f18a-4c90-9627-f3b1c2108349",
   "metadata": {},
   "outputs": [
    {
     "name": "stdout",
     "output_type": "stream",
     "text": [
      "447/447 [==============================] - 0s 732us/step\n",
      "447/447 [==============================] - 1s 698us/step\n",
      "447/447 [==============================] - 0s 734us/step\n",
      "447/447 [==============================] - 0s 724us/step\n",
      "447/447 [==============================] - 1s 918us/step\n",
      "447/447 [==============================] - 1s 885us/step\n",
      "447/447 [==============================] - 1s 905us/step\n",
      "447/447 [==============================] - 1s 907us/step\n",
      "   Neurons  Learning Rate  Batch Size  Test RMSE  Test MAPE   Test R²\n",
      "0       50          0.010          32   0.008986   0.010371  0.996333\n",
      "1       50          0.010          64   0.008794   0.010901  0.996488\n",
      "2       50          0.001          32   0.014980   0.018996  0.989809\n",
      "3       50          0.001          64   0.005980   0.005307  0.998376\n",
      "4      100          0.010          32   0.012692   0.011650  0.992684\n",
      "5      100          0.010          64   0.007046   0.008464  0.997746\n",
      "6      100          0.001          32   0.007979   0.007646  0.997109\n",
      "7      100          0.001          64   0.009811   0.011963  0.995629\n"
     ]
    }
   ],
   "source": [
    "def hyperparameter_tuning(trainX, trainY, testX, testY, neurons_list, learning_rates, batch_sizes):\n",
    "    results = []\n",
    "    for neurons in neurons_list:\n",
    "        for lr in learning_rates:\n",
    "            for batch_size in batch_sizes:\n",
    "                model = Sequential()\n",
    "                model.add(LSTM(neurons, input_shape=(trainX.shape[1], trainX.shape[2])))\n",
    "                model.add(Dropout(0.2))\n",
    "                model.add(Dense(1))\n",
    "                model.compile(optimizer=Adam(learning_rate=lr), loss='mean_squared_error')\n",
    "                model.fit(trainX, trainY, epochs=20, batch_size=batch_size, verbose=0)\n",
    "                testPredict = model.predict(testX)\n",
    "                test_rmse = np.sqrt(mean_squared_error(testY, testPredict))\n",
    "                test_mape = mean_absolute_percentage_error(testY, testPredict)\n",
    "                test_r2 = r2_score(testY, testPredict)\n",
    "                results.append({\n",
    "                    'Neurons': neurons, 'Learning Rate': lr, 'Batch Size': batch_size,\n",
    "                    'Test RMSE': test_rmse, 'Test MAPE': test_mape, 'Test R²': test_r2\n",
    "                })\n",
    "    return pd.DataFrame(results)\n",
    "\n",
    "# Define the hyperparameters to test\n",
    "neurons_list = [50, 100]\n",
    "learning_rates = [0.01, 0.001]\n",
    "batch_sizes = [32, 64]\n",
    "\n",
    "results = hyperparameter_tuning(trainX, trainY, testX, testY, neurons_list, learning_rates, batch_sizes)\n",
    "print(results)"
   ]
  },
  {
   "cell_type": "markdown",
   "id": "1e3dd1d7-3c04-4eae-8949-d4e032e48ca8",
   "metadata": {},
   "source": [
    "####  Increase the Range of Neurons: Test a broader range of neuron numbers in LSTM layers, such as [30, 50, 100, 150]. More neurons can capture more complex patterns but also risk overfitting.\n",
    "\n",
    "####  Experiment with More Learning Rates: Include more varied learning rates, like [0.0001, 0.001, 0.01, 0.1]. This helps in finding the sweet spot where the model learns optimally – not too slow and not missing subtleties.\n",
    "\n",
    "####  Test Additional Batch Sizes: Larger batch sizes like [32, 64, 128] can be tried to see how they impact the model's ability to generalize.\n",
    "\n",
    "####  Increase Epochs for Deeper Training: If computational resources allow, increasing epochs will give the model more time to learn, being aware off on overfitting."
   ]
  },
  {
   "cell_type": "code",
   "execution_count": 44,
   "id": "6240c558-05da-46a2-a8fb-413c7fdb7987",
   "metadata": {},
   "outputs": [
    {
     "name": "stdout",
     "output_type": "stream",
     "text": [
      "447/447 [==============================] - 0s 662us/step\n",
      "447/447 [==============================] - 0s 675us/step\n",
      "447/447 [==============================] - 0s 688us/step\n",
      "447/447 [==============================] - 0s 660us/step\n",
      "447/447 [==============================] - 0s 660us/step\n",
      "447/447 [==============================] - 0s 672us/step\n",
      "447/447 [==============================] - 0s 740us/step\n",
      "447/447 [==============================] - 0s 677us/step\n",
      "447/447 [==============================] - 0s 687us/step\n",
      "447/447 [==============================] - 1s 729us/step\n",
      "447/447 [==============================] - 0s 678us/step\n",
      "447/447 [==============================] - 0s 724us/step\n",
      "447/447 [==============================] - 0s 726us/step\n",
      "447/447 [==============================] - 0s 689us/step\n",
      "447/447 [==============================] - 0s 687us/step\n",
      "447/447 [==============================] - 0s 710us/step\n",
      "447/447 [==============================] - 0s 766us/step\n",
      "447/447 [==============================] - 0s 762us/step\n",
      "447/447 [==============================] - 0s 693us/step\n",
      "447/447 [==============================] - 0s 708us/step\n",
      "447/447 [==============================] - 0s 691us/step\n",
      "447/447 [==============================] - 0s 718us/step\n",
      "447/447 [==============================] - 0s 663us/step\n",
      "447/447 [==============================] - 0s 712us/step\n",
      "447/447 [==============================] - 1s 903us/step\n",
      "447/447 [==============================] - 1s 903us/step\n",
      "447/447 [==============================] - 1s 871us/step\n",
      "447/447 [==============================] - 1s 885us/step\n",
      "447/447 [==============================] - 1s 847us/step\n",
      "447/447 [==============================] - 1s 874us/step\n",
      "447/447 [==============================] - 1s 883us/step\n",
      "447/447 [==============================] - 1s 894us/step\n",
      "447/447 [==============================] - 1s 831us/step\n",
      "447/447 [==============================] - 1s 894us/step\n",
      "447/447 [==============================] - 1s 888us/step\n",
      "447/447 [==============================] - 1s 944us/step\n",
      "447/447 [==============================] - 1s 941us/step\n",
      "447/447 [==============================] - 1s 976us/step\n",
      "447/447 [==============================] - 1s 896us/step\n",
      "447/447 [==============================] - 1s 889us/step\n",
      "447/447 [==============================] - 1s 937us/step\n",
      "447/447 [==============================] - 1s 874us/step\n",
      "447/447 [==============================] - 1s 984us/step\n",
      "447/447 [==============================] - 1s 923us/step\n",
      "447/447 [==============================] - 1s 1ms/step\n",
      "447/447 [==============================] - 1s 972us/step\n",
      "447/447 [==============================] - 1s 1ms/step\n",
      "447/447 [==============================] - 1s 908us/step\n",
      "    Neurons  Learning Rate  Batch Size  Epochs  Test RMSE  Test MAPE   Test R²\n",
      "0        30         0.0001          32     100   0.005374   0.003900  0.998689\n",
      "1        30         0.0001          64     100   0.007058   0.006226  0.997738\n",
      "2        30         0.0001         128     100   0.008960   0.008349  0.996354\n",
      "3        30         0.0010          32     100   0.006021   0.006107  0.998354\n",
      "4        30         0.0010          64     100   0.006093   0.004931  0.998314\n",
      "5        30         0.0010         128     100   0.007067   0.006960  0.997732\n",
      "6        30         0.0100          32     100   0.012469   0.015380  0.992940\n",
      "7        30         0.0100          64     100   0.006892   0.006358  0.997843\n",
      "8        30         0.0100         128     100   0.024002   0.027778  0.973837\n",
      "9        30         0.1000          32     100   0.076044   0.061931  0.737396\n",
      "10       30         0.1000          64     100   0.147891   0.093238  0.006759\n",
      "11       30         0.1000         128     100   0.027999   0.026699  0.964400\n",
      "12       50         0.0001          32     100   0.005351   0.003942  0.998700\n",
      "13       50         0.0001          64     100   0.005462   0.003981  0.998645\n",
      "14       50         0.0001         128     100   0.008838   0.008357  0.996453\n",
      "15       50         0.0010          32     100   0.006486   0.005377  0.998090\n",
      "16       50         0.0010          64     100   0.009944   0.012442  0.995510\n",
      "17       50         0.0010         128     100   0.006119   0.006384  0.998300\n",
      "18       50         0.0100          32     100   0.006469   0.006155  0.998100\n",
      "19       50         0.0100          64     100   0.009040   0.010173  0.996289\n",
      "20       50         0.0100         128     100   0.013536   0.013507  0.991679\n",
      "21       50         0.1000          32     100   0.118743   0.076576  0.359697\n",
      "22       50         0.1000          64     100   0.056066   0.043415  0.857250\n",
      "23       50         0.1000         128     100   0.019790   0.020269  0.982214\n",
      "24      100         0.0001          32     100   0.005063   0.002775  0.998836\n",
      "25      100         0.0001          64     100   0.005128   0.002985  0.998806\n",
      "26      100         0.0001         128     100   0.008801   0.008082  0.996482\n",
      "27      100         0.0010          32     100   0.005502   0.004183  0.998626\n",
      "28      100         0.0010          64     100   0.005428   0.004283  0.998662\n",
      "29      100         0.0010         128     100   0.005822   0.005964  0.998461\n",
      "30      100         0.0100          32     100   0.019907   0.020034  0.982004\n",
      "31      100         0.0100          64     100   0.011175   0.011794  0.994329\n",
      "32      100         0.0100         128     100   0.009837   0.009443  0.995605\n",
      "33      100         0.1000          32     100   0.036262   0.029857  0.940286\n",
      "34      100         0.1000          64     100   0.200174   0.102735 -0.819657\n",
      "35      100         0.1000         128     100   0.018300   0.017561  0.984793\n",
      "36      150         0.0001          32     100   0.005104   0.003076  0.998817\n",
      "37      150         0.0001          64     100   0.005295   0.003505  0.998727\n",
      "38      150         0.0001         128     100   0.006025   0.004584  0.998351\n",
      "39      150         0.0010          32     100   0.006134   0.005510  0.998291\n",
      "40      150         0.0010          64     100   0.006007   0.005050  0.998361\n",
      "41      150         0.0010         128     100   0.005134   0.003307  0.998803\n",
      "42      150         0.0100          32     100   0.012405   0.012446  0.993012\n",
      "43      150         0.0100          64     100   0.012551   0.012439  0.992846\n",
      "44      150         0.0100         128     100   0.009690   0.008856  0.995736\n",
      "45      150         0.1000          32     100   0.025976   0.022683  0.969358\n",
      "46      150         0.1000          64     100   0.211509   0.113210 -1.031571\n",
      "47      150         0.1000         128     100   0.030488   0.017415  0.957789\n"
     ]
    }
   ],
   "source": [
    "# Model Already Trained\n",
    "\n",
    "def hyperparameter_tuning(trainX, trainY, testX, testY, neurons_list, learning_rates, batch_sizes, epochs):\n",
    "    results = []\n",
    "    \n",
    "    for neurons in neurons_list:\n",
    "        for lr in learning_rates:\n",
    "            for batch_size in batch_sizes:\n",
    "                # Build the model\n",
    "                model = Sequential()\n",
    "                model.add(LSTM(neurons, input_shape=(trainX.shape[1], trainX.shape[2])))\n",
    "                model.add(Dropout(0.2))\n",
    "                model.add(Dense(1))\n",
    "                model.compile(optimizer=Adam(learning_rate=lr), loss='mean_squared_error')\n",
    "\n",
    "                # Train the model\n",
    "                model.fit(trainX, trainY, epochs=epochs, batch_size=batch_size, verbose=0)\n",
    "\n",
    "                # Evaluate the model\n",
    "                testPredict = model.predict(testX)\n",
    "                test_rmse = np.sqrt(mean_squared_error(testY, testPredict))\n",
    "                test_mape = mean_absolute_percentage_error(testY, testPredict)\n",
    "                test_r2 = r2_score(testY, testPredict)\n",
    "\n",
    "                # Record the results\n",
    "                results.append({\n",
    "                    'Neurons': neurons,\n",
    "                    'Learning Rate': lr,\n",
    "                    'Batch Size': batch_size,\n",
    "                    'Epochs': epochs,\n",
    "                    'Test RMSE': test_rmse,\n",
    "                    'Test MAPE': test_mape,\n",
    "                    'Test R²': test_r2\n",
    "                })\n",
    "    \n",
    "    return pd.DataFrame(results)\n",
    "\n",
    "# Define the new hyperparameters\n",
    "neurons_list = [30, 50, 100, 150]\n",
    "learning_rates = [0.0001, 0.001, 0.01, 0.1]\n",
    "batch_sizes = [32, 64, 128]\n",
    "epochs = 100  # Adjust based on computational capacity\n",
    "\n",
    "# Run the hyperparameter tuning\n",
    "expanded_results = hyperparameter_tuning(trainX, trainY, testX, testY, neurons_list, learning_rates, batch_sizes, epochs)\n",
    "print(expanded_results)"
   ]
  },
  {
   "cell_type": "code",
   "execution_count": 45,
   "id": "6593c4dc-52a0-4144-8625-64619387ac21",
   "metadata": {},
   "outputs": [
    {
     "data": {
      "text/html": [
       "<a href='expanded_results.h5' target='_blank'>expanded_results.h5</a><br>"
      ],
      "text/plain": [
       "/home/fabiopoli/Desktop/expanded_results.h5"
      ]
     },
     "execution_count": 45,
     "metadata": {},
     "output_type": "execute_result"
    }
   ],
   "source": [
    "model.save('expanded_results.h5')\n",
    "FileLink('expanded_results.h5')"
   ]
  },
  {
   "cell_type": "markdown",
   "id": "c74000fc-51f9-4d9d-916c-8bdff3eb5ce0",
   "metadata": {},
   "source": [
    "## Backtesting"
   ]
  },
  {
   "cell_type": "code",
   "execution_count": 46,
   "id": "e48602cc-3979-4459-961a-8a359ac255d4",
   "metadata": {},
   "outputs": [
    {
     "name": "stdout",
     "output_type": "stream",
     "text": [
      "1352/1352 [==============================] - 1s 723us/step\n"
     ]
    },
    {
     "data": {
      "image/png": "[encoded data removed]",
      "text/plain": [
       "<Figure size 1200x600 with 1 Axes>"
      ]
     },
     "metadata": {},
     "output_type": "display_data"
    }
   ],
   "source": [
    "# Function to create a dataset with lagged features\n",
    "def create_dataset(data, look_back=1):\n",
    "    X, Y = [], []\n",
    "    for i in range(len(data) - look_back - 1):\n",
    "        a = data[i:(i + look_back), :]\n",
    "        X.append(a)\n",
    "        Y.append(data[i + look_back, 0])\n",
    "    return np.array(X), np.array(Y)\n",
    "\n",
    "# Convert Spark DataFrame to Pandas DataFrame\n",
    "dataset_knn_pd = dataset_knn.toPandas()\n",
    "\n",
    "# Convert to numeric\n",
    "dataset_knn_pd.dropna(inplace=True)\n",
    "dataset_knn_pd[['Close', 'InterestRate', 'BondRate', 'InflationRate']] = dataset_knn_pd[['Close', 'InterestRate', 'BondRate', 'InflationRate']].apply(pd.to_numeric)\n",
    "\n",
    "# Normalize the historical data\n",
    "scaler = MinMaxScaler(feature_range=(0, 1))\n",
    "scaled_data = scaler.fit_transform(dataset_knn_pd[['Close', 'InterestRate', 'BondRate', 'InflationRate']])\n",
    "\n",
    "# Prepare data for backtesting\n",
    "look_back = 1  # Use the same look_back as the previous model\n",
    "X_backtest, Y_backtest = create_dataset(scaled_data, look_back)\n",
    "\n",
    "# Path to the trained model\n",
    "model_path = 'expanded_results.h5'\n",
    "\n",
    "# Load the trained model\n",
    "model = load_model(model_path)\n",
    "\n",
    "# Generate predictions\n",
    "predictions = model.predict(X_backtest)\n",
    "\n",
    "# Invert predictions to original scale\n",
    "predictions_inverted = scaler.inverse_transform(np.hstack((predictions, np.zeros((predictions.shape[0], scaled_data.shape[1] - 1)))))[:, 0]\n",
    "\n",
    "# Visualization: Plotting Actual vs Predicted Prices\n",
    "plt.figure(figsize=(12, 6))\n",
    "plt.plot(dataset_knn_pd['Date'], dataset_knn_pd['Close'], label='Actual Close Price')\n",
    "plt.plot(dataset_knn_pd['Date'][look_back+1:], predictions_inverted, label='Predicted Close Price')\n",
    "plt.xlabel('Date')\n",
    "plt.ylabel('Close Price')\n",
    "plt.title('LSTM Model Backtesting')\n",
    "plt.legend()\n",
    "plt.show()"
   ]
  },
  {
   "cell_type": "code",
   "execution_count": null,
   "id": "81b5f8ad-9cc3-4812-a0f8-1ec25c56a966",
   "metadata": {},
   "outputs": [],
   "source": []
  },
  {
   "cell_type": "markdown",
   "id": "d078908c-dd90-4df5-814c-a4819911795a",
   "metadata": {},
   "source": [
    "# Optuna Keras Model"
   ]
  },
  {
   "cell_type": "code",
   "execution_count": 47,
   "id": "f8565c5a-a82b-4d86-85f0-ab37ec422cb6",
   "metadata": {
    "scrolled": true
   },
   "outputs": [
    {
     "name": "stderr",
     "output_type": "stream",
     "text": [
      "[I 2024-01-28 22:01:48,827] A new study created in memory with name: no-name-61abee59-a27a-403b-98a4-a5ee623ab705\n"
     ]
    },
    {
     "name": "stdout",
     "output_type": "stream",
     "text": [
      "151/151 [==============================] - 0s 720us/step\n",
      "151/151 [==============================] - 0s 758us/step\n",
      "151/151 [==============================] - 0s 742us/step\n",
      "151/151 [==============================] - 0s 846us/step\n",
      "151/151 [==============================] - 0s 772us/step\n"
     ]
    },
    {
     "name": "stderr",
     "output_type": "stream",
     "text": [
      "[I 2024-01-28 22:02:09,635] Trial 0 finished with value: 0.010873363243983643 and parameters: {'neurons': 50, 'learning_rate': 0.01, 'batch_size': 128, 'epochs': 25}. Best is trial 0 with value: 0.010873363243983643.\n"
     ]
    },
    {
     "name": "stdout",
     "output_type": "stream",
     "text": [
      "151/151 [==============================] - 0s 985us/step\n",
      "151/151 [==============================] - 0s 1ms/step\n",
      "151/151 [==============================] - 0s 968us/step\n",
      "151/151 [==============================] - 0s 1ms/step\n",
      "151/151 [==============================] - 0s 985us/step\n"
     ]
    },
    {
     "name": "stderr",
     "output_type": "stream",
     "text": [
      "[I 2024-01-28 22:05:20,818] Trial 1 finished with value: 0.09615804401731476 and parameters: {'neurons': 150, 'learning_rate': 0.1, 'batch_size': 32, 'epochs': 51}. Best is trial 0 with value: 0.010873363243983643.\n"
     ]
    },
    {
     "name": "stdout",
     "output_type": "stream",
     "text": [
      "151/151 [==============================] - 0s 796us/step\n",
      "151/151 [==============================] - 0s 655us/step\n",
      "151/151 [==============================] - 0s 808us/step\n",
      "151/151 [==============================] - 0s 856us/step\n",
      "151/151 [==============================] - 0s 797us/step\n"
     ]
    },
    {
     "name": "stderr",
     "output_type": "stream",
     "text": [
      "[I 2024-01-28 22:07:37,955] Trial 2 finished with value: 0.009037704338515527 and parameters: {'neurons': 50, 'learning_rate': 0.001, 'batch_size': 32, 'epochs': 72}. Best is trial 2 with value: 0.009037704338515527.\n"
     ]
    },
    {
     "name": "stdout",
     "output_type": "stream",
     "text": [
      "151/151 [==============================] - 0s 760us/step\n",
      "151/151 [==============================] - 0s 730us/step\n",
      "151/151 [==============================] - 0s 924us/step\n",
      "151/151 [==============================] - 0s 788us/step\n",
      "151/151 [==============================] - 0s 791us/step\n"
     ]
    },
    {
     "name": "stderr",
     "output_type": "stream",
     "text": [
      "[I 2024-01-28 22:09:18,127] Trial 3 finished with value: 0.022596554443229284 and parameters: {'neurons': 50, 'learning_rate': 0.0001, 'batch_size': 32, 'epochs': 52}. Best is trial 2 with value: 0.009037704338515527.\n"
     ]
    },
    {
     "name": "stdout",
     "output_type": "stream",
     "text": [
      "151/151 [==============================] - 0s 940us/step\n",
      "151/151 [==============================] - 0s 905us/step\n",
      "151/151 [==============================] - 0s 883us/step\n",
      "151/151 [==============================] - 0s 931us/step\n",
      "151/151 [==============================] - 0s 889us/step\n"
     ]
    },
    {
     "name": "stderr",
     "output_type": "stream",
     "text": [
      "[I 2024-01-28 22:11:01,168] Trial 4 finished with value: 0.008700486927774548 and parameters: {'neurons': 100, 'learning_rate': 0.001, 'batch_size': 32, 'epochs': 35}. Best is trial 4 with value: 0.008700486927774548.\n"
     ]
    },
    {
     "name": "stdout",
     "output_type": "stream",
     "text": [
      "151/151 [==============================] - 0s 646us/step\n",
      "151/151 [==============================] - 0s 735us/step\n",
      "151/151 [==============================] - 0s 711us/step\n",
      "151/151 [==============================] - 0s 765us/step\n",
      "151/151 [==============================] - 0s 780us/step\n"
     ]
    },
    {
     "name": "stderr",
     "output_type": "stream",
     "text": [
      "[I 2024-01-28 22:11:59,948] Trial 5 finished with value: 0.034399308145659155 and parameters: {'neurons': 50, 'learning_rate': 0.0001, 'batch_size': 64, 'epochs': 56}. Best is trial 4 with value: 0.008700486927774548.\n"
     ]
    },
    {
     "name": "stdout",
     "output_type": "stream",
     "text": [
      "151/151 [==============================] - 0s 1ms/step\n",
      "151/151 [==============================] - 0s 965us/step\n",
      "151/151 [==============================] - 0s 937us/step\n",
      "151/151 [==============================] - 0s 906us/step\n",
      "151/151 [==============================] - 0s 1ms/step\n"
     ]
    },
    {
     "name": "stderr",
     "output_type": "stream",
     "text": [
      "[I 2024-01-28 22:18:10,321] Trial 6 finished with value: 0.08828213781585968 and parameters: {'neurons': 150, 'learning_rate': 0.1, 'batch_size': 32, 'epochs': 100}. Best is trial 4 with value: 0.008700486927774548.\n"
     ]
    },
    {
     "name": "stdout",
     "output_type": "stream",
     "text": [
      "151/151 [==============================] - 0s 1ms/step\n",
      "151/151 [==============================] - 0s 936us/step\n",
      "151/151 [==============================] - 0s 990us/step\n",
      "151/151 [==============================] - 0s 1ms/step\n",
      "151/151 [==============================] - 0s 1ms/step\n"
     ]
    },
    {
     "name": "stderr",
     "output_type": "stream",
     "text": [
      "[I 2024-01-28 22:22:46,256] Trial 7 finished with value: 0.007810076602521747 and parameters: {'neurons': 150, 'learning_rate': 0.0001, 'batch_size': 32, 'epochs': 73}. Best is trial 7 with value: 0.007810076602521747.\n"
     ]
    },
    {
     "name": "stdout",
     "output_type": "stream",
     "text": [
      "151/151 [==============================] - 0s 946us/step\n",
      "151/151 [==============================] - 0s 865us/step\n",
      "151/151 [==============================] - 0s 815us/step\n",
      "151/151 [==============================] - 0s 931us/step\n",
      "151/151 [==============================] - 0s 936us/step\n"
     ]
    },
    {
     "name": "stderr",
     "output_type": "stream",
     "text": [
      "[I 2024-01-28 22:23:51,146] Trial 8 finished with value: 0.015298223194036273 and parameters: {'neurons': 100, 'learning_rate': 0.1, 'batch_size': 64, 'epochs': 38}. Best is trial 7 with value: 0.007810076602521747.\n"
     ]
    },
    {
     "name": "stdout",
     "output_type": "stream",
     "text": [
      "151/151 [==============================] - 0s 956us/step\n",
      "151/151 [==============================] - 0s 976us/step\n",
      "151/151 [==============================] - 0s 969us/step\n",
      "151/151 [==============================] - 0s 922us/step\n",
      "151/151 [==============================] - 0s 897us/step\n"
     ]
    },
    {
     "name": "stderr",
     "output_type": "stream",
     "text": [
      "[I 2024-01-28 22:25:17,778] Trial 9 finished with value: 0.03725532369991616 and parameters: {'neurons': 100, 'learning_rate': 0.0001, 'batch_size': 128, 'epochs': 87}. Best is trial 7 with value: 0.007810076602521747.\n"
     ]
    },
    {
     "name": "stdout",
     "output_type": "stream",
     "text": [
      "151/151 [==============================] - 0s 757us/step\n",
      "151/151 [==============================] - 0s 714us/step\n",
      "151/151 [==============================] - 0s 748us/step\n",
      "151/151 [==============================] - 0s 808us/step\n",
      "151/151 [==============================] - 0s 654us/step\n"
     ]
    },
    {
     "name": "stderr",
     "output_type": "stream",
     "text": [
      "[I 2024-01-28 22:26:32,112] Trial 10 finished with value: 0.008765663785362865 and parameters: {'neurons': 30, 'learning_rate': 0.01, 'batch_size': 64, 'epochs': 76}. Best is trial 7 with value: 0.007810076602521747.\n"
     ]
    },
    {
     "name": "stdout",
     "output_type": "stream",
     "text": [
      "151/151 [==============================] - 0s 937us/step\n",
      "151/151 [==============================] - 0s 900us/step\n",
      "151/151 [==============================] - 0s 921us/step\n",
      "151/151 [==============================] - 0s 1ms/step\n",
      "151/151 [==============================] - 0s 956us/step\n"
     ]
    },
    {
     "name": "stderr",
     "output_type": "stream",
     "text": [
      "[I 2024-01-28 22:27:38,955] Trial 11 finished with value: 0.010362333794241965 and parameters: {'neurons': 100, 'learning_rate': 0.001, 'batch_size': 32, 'epochs': 22}. Best is trial 7 with value: 0.007810076602521747.\n"
     ]
    },
    {
     "name": "stdout",
     "output_type": "stream",
     "text": [
      "151/151 [==============================] - 0s 977us/step\n",
      "151/151 [==============================] - 0s 977us/step\n",
      "151/151 [==============================] - 0s 1ms/step\n",
      "151/151 [==============================] - 0s 953us/step\n",
      "151/151 [==============================] - 0s 1ms/step\n"
     ]
    },
    {
     "name": "stderr",
     "output_type": "stream",
     "text": [
      "[I 2024-01-28 22:30:02,879] Trial 12 finished with value: 0.008288856625423838 and parameters: {'neurons': 150, 'learning_rate': 0.001, 'batch_size': 32, 'epochs': 38}. Best is trial 7 with value: 0.007810076602521747.\n"
     ]
    },
    {
     "name": "stdout",
     "output_type": "stream",
     "text": [
      "151/151 [==============================] - 0s 920us/step\n",
      "151/151 [==============================] - 0s 987us/step\n",
      "151/151 [==============================] - 0s 952us/step\n",
      "151/151 [==============================] - 0s 1ms/step\n",
      "151/151 [==============================] - 0s 1ms/step\n"
     ]
    },
    {
     "name": "stderr",
     "output_type": "stream",
     "text": [
      "[I 2024-01-28 22:34:20,291] Trial 13 finished with value: 0.008039220351794557 and parameters: {'neurons': 150, 'learning_rate': 0.0001, 'batch_size': 32, 'epochs': 69}. Best is trial 7 with value: 0.007810076602521747.\n"
     ]
    },
    {
     "name": "stdout",
     "output_type": "stream",
     "text": [
      "151/151 [==============================] - 0s 995us/step\n",
      "151/151 [==============================] - 0s 960us/step\n",
      "151/151 [==============================] - 0s 1ms/step\n",
      "151/151 [==============================] - 0s 1ms/step\n",
      "151/151 [==============================] - 0s 945us/step\n"
     ]
    },
    {
     "name": "stderr",
     "output_type": "stream",
     "text": [
      "[I 2024-01-28 22:38:35,048] Trial 14 finished with value: 0.007872979346817502 and parameters: {'neurons': 150, 'learning_rate': 0.0001, 'batch_size': 32, 'epochs': 68}. Best is trial 7 with value: 0.007810076602521747.\n"
     ]
    },
    {
     "name": "stdout",
     "output_type": "stream",
     "text": [
      "151/151 [==============================] - 0s 914us/step\n",
      "151/151 [==============================] - 0s 968us/step\n",
      "151/151 [==============================] - 0s 914us/step\n",
      "151/151 [==============================] - 0s 899us/step\n",
      "151/151 [==============================] - 0s 990us/step\n"
     ]
    },
    {
     "name": "stderr",
     "output_type": "stream",
     "text": [
      "[I 2024-01-28 22:40:36,392] Trial 15 finished with value: 0.03385193458332034 and parameters: {'neurons': 150, 'learning_rate': 0.0001, 'batch_size': 128, 'epochs': 82}. Best is trial 7 with value: 0.007810076602521747.\n"
     ]
    },
    {
     "name": "stdout",
     "output_type": "stream",
     "text": [
      "151/151 [==============================] - 0s 702us/step\n",
      "151/151 [==============================] - 0s 728us/step\n",
      "151/151 [==============================] - 0s 655us/step\n",
      "151/151 [==============================] - 0s 750us/step\n",
      "151/151 [==============================] - 0s 661us/step\n"
     ]
    },
    {
     "name": "stderr",
     "output_type": "stream",
     "text": [
      "[I 2024-01-28 22:42:31,988] Trial 16 finished with value: 0.0179446929050557 and parameters: {'neurons': 30, 'learning_rate': 0.0001, 'batch_size': 32, 'epochs': 64}. Best is trial 7 with value: 0.007810076602521747.\n"
     ]
    },
    {
     "name": "stdout",
     "output_type": "stream",
     "text": [
      "151/151 [==============================] - 0s 917us/step\n",
      "151/151 [==============================] - 0s 963us/step\n",
      "151/151 [==============================] - 0s 896us/step\n",
      "151/151 [==============================] - 0s 823us/step\n",
      "151/151 [==============================] - 0s 836us/step\n"
     ]
    },
    {
     "name": "stderr",
     "output_type": "stream",
     "text": [
      "[I 2024-01-28 22:48:15,646] Trial 17 finished with value: 0.007817955104428006 and parameters: {'neurons': 150, 'learning_rate': 0.0001, 'batch_size': 32, 'epochs': 92}. Best is trial 7 with value: 0.007810076602521747.\n"
     ]
    },
    {
     "name": "stdout",
     "output_type": "stream",
     "text": [
      "151/151 [==============================] - 0s 956us/step\n",
      "151/151 [==============================] - 0s 918us/step\n",
      "151/151 [==============================] - 0s 905us/step\n",
      "151/151 [==============================] - 0s 1ms/step\n",
      "151/151 [==============================] - 0s 910us/step\n"
     ]
    },
    {
     "name": "stderr",
     "output_type": "stream",
     "text": [
      "[I 2024-01-28 22:50:40,993] Trial 18 finished with value: 0.02900319912824647 and parameters: {'neurons': 150, 'learning_rate': 0.0001, 'batch_size': 128, 'epochs': 99}. Best is trial 7 with value: 0.007810076602521747.\n"
     ]
    },
    {
     "name": "stdout",
     "output_type": "stream",
     "text": [
      "151/151 [==============================] - 0s 830us/step\n",
      "151/151 [==============================] - 0s 817us/step\n",
      "151/151 [==============================] - 0s 873us/step\n",
      "151/151 [==============================] - 0s 965us/step\n",
      "151/151 [==============================] - 0s 919us/step\n"
     ]
    },
    {
     "name": "stderr",
     "output_type": "stream",
     "text": [
      "[I 2024-01-28 22:53:59,307] Trial 19 finished with value: 0.005870670403953309 and parameters: {'neurons': 150, 'learning_rate': 0.01, 'batch_size': 64, 'epochs': 91}. Best is trial 19 with value: 0.005870670403953309.\n"
     ]
    },
    {
     "name": "stdout",
     "output_type": "stream",
     "text": [
      "151/151 [==============================] - 0s 728us/step\n",
      "151/151 [==============================] - 0s 711us/step\n",
      "151/151 [==============================] - 0s 673us/step\n",
      "151/151 [==============================] - 0s 672us/step\n",
      "151/151 [==============================] - 0s 675us/step\n"
     ]
    },
    {
     "name": "stderr",
     "output_type": "stream",
     "text": [
      "[I 2024-01-28 22:55:17,309] Trial 20 finished with value: 0.012103171705091221 and parameters: {'neurons': 30, 'learning_rate': 0.01, 'batch_size': 64, 'epochs': 81}. Best is trial 19 with value: 0.005870670403953309.\n"
     ]
    },
    {
     "name": "stdout",
     "output_type": "stream",
     "text": [
      "151/151 [==============================] - 0s 926us/step\n",
      "151/151 [==============================] - 0s 869us/step\n",
      "151/151 [==============================] - 0s 1ms/step\n",
      "151/151 [==============================] - 0s 975us/step\n",
      "151/151 [==============================] - 0s 921us/step\n"
     ]
    },
    {
     "name": "stderr",
     "output_type": "stream",
     "text": [
      "[I 2024-01-28 22:58:35,735] Trial 21 finished with value: 0.007719678468011068 and parameters: {'neurons': 150, 'learning_rate': 0.01, 'batch_size': 64, 'epochs': 91}. Best is trial 19 with value: 0.005870670403953309.\n"
     ]
    },
    {
     "name": "stdout",
     "output_type": "stream",
     "text": [
      "151/151 [==============================] - 0s 959us/step\n",
      "151/151 [==============================] - 0s 967us/step\n",
      "151/151 [==============================] - 0s 916us/step\n",
      "151/151 [==============================] - 0s 971us/step\n",
      "151/151 [==============================] - 0s 1ms/step\n"
     ]
    },
    {
     "name": "stderr",
     "output_type": "stream",
     "text": [
      "[I 2024-01-28 23:02:02,349] Trial 22 finished with value: 0.005957905247378194 and parameters: {'neurons': 150, 'learning_rate': 0.01, 'batch_size': 64, 'epochs': 91}. Best is trial 19 with value: 0.005870670403953309.\n"
     ]
    },
    {
     "name": "stdout",
     "output_type": "stream",
     "text": [
      "151/151 [==============================] - 0s 976us/step\n",
      "151/151 [==============================] - 0s 932us/step\n",
      "151/151 [==============================] - 0s 959us/step\n",
      "151/151 [==============================] - 0s 907us/step\n",
      "151/151 [==============================] - 0s 936us/step\n"
     ]
    },
    {
     "name": "stderr",
     "output_type": "stream",
     "text": [
      "[I 2024-01-28 23:05:26,621] Trial 23 finished with value: 0.006590348808359908 and parameters: {'neurons': 150, 'learning_rate': 0.01, 'batch_size': 64, 'epochs': 92}. Best is trial 19 with value: 0.005870670403953309.\n"
     ]
    },
    {
     "name": "stdout",
     "output_type": "stream",
     "text": [
      "151/151 [==============================] - 0s 849us/step\n",
      "151/151 [==============================] - 0s 847us/step\n",
      "151/151 [==============================] - 0s 918us/step\n",
      "151/151 [==============================] - 0s 1ms/step\n",
      "151/151 [==============================] - 0s 942us/step\n"
     ]
    },
    {
     "name": "stderr",
     "output_type": "stream",
     "text": [
      "[I 2024-01-28 23:08:58,848] Trial 24 finished with value: 0.009581368038369521 and parameters: {'neurons': 150, 'learning_rate': 0.01, 'batch_size': 64, 'epochs': 93}. Best is trial 19 with value: 0.005870670403953309.\n"
     ]
    },
    {
     "name": "stdout",
     "output_type": "stream",
     "text": [
      "151/151 [==============================] - 0s 755us/step\n",
      "151/151 [==============================] - 0s 831us/step\n",
      "151/151 [==============================] - 0s 732us/step\n",
      "151/151 [==============================] - 0s 743us/step\n",
      "151/151 [==============================] - 0s 767us/step\n"
     ]
    },
    {
     "name": "stderr",
     "output_type": "stream",
     "text": [
      "[I 2024-01-28 23:12:04,812] Trial 25 finished with value: 0.007012605822394098 and parameters: {'neurons': 150, 'learning_rate': 0.01, 'batch_size': 64, 'epochs': 84}. Best is trial 19 with value: 0.005870670403953309.\n"
     ]
    },
    {
     "name": "stdout",
     "output_type": "stream",
     "text": [
      "151/151 [==============================] - 0s 738us/step\n",
      "151/151 [==============================] - 0s 738us/step\n",
      "151/151 [==============================] - 0s 750us/step\n",
      "151/151 [==============================] - 0s 745us/step\n",
      "151/151 [==============================] - 0s 869us/step\n"
     ]
    },
    {
     "name": "stderr",
     "output_type": "stream",
     "text": [
      "[I 2024-01-28 23:14:56,588] Trial 26 finished with value: 0.007909400440065668 and parameters: {'neurons': 150, 'learning_rate': 0.01, 'batch_size': 64, 'epochs': 78}. Best is trial 19 with value: 0.005870670403953309.\n"
     ]
    },
    {
     "name": "stdout",
     "output_type": "stream",
     "text": [
      "151/151 [==============================] - 0s 744us/step\n",
      "151/151 [==============================] - 0s 753us/step\n",
      "151/151 [==============================] - 0s 902us/step\n",
      "151/151 [==============================] - 0s 751us/step\n",
      "151/151 [==============================] - 0s 731us/step\n"
     ]
    },
    {
     "name": "stderr",
     "output_type": "stream",
     "text": [
      "[I 2024-01-28 23:18:24,613] Trial 27 finished with value: 0.006859908248632507 and parameters: {'neurons': 150, 'learning_rate': 0.01, 'batch_size': 64, 'epochs': 95}. Best is trial 19 with value: 0.005870670403953309.\n"
     ]
    },
    {
     "name": "stdout",
     "output_type": "stream",
     "text": [
      "151/151 [==============================] - 0s 566us/step\n",
      "151/151 [==============================] - 0s 567us/step\n",
      "151/151 [==============================] - 0s 650us/step\n",
      "151/151 [==============================] - 0s 541us/step\n",
      "151/151 [==============================] - 0s 536us/step\n"
     ]
    },
    {
     "name": "stderr",
     "output_type": "stream",
     "text": [
      "[I 2024-01-28 23:19:48,647] Trial 28 finished with value: 0.011990335572501832 and parameters: {'neurons': 30, 'learning_rate': 0.01, 'batch_size': 64, 'epochs': 88}. Best is trial 19 with value: 0.005870670403953309.\n"
     ]
    },
    {
     "name": "stdout",
     "output_type": "stream",
     "text": [
      "151/151 [==============================] - 0s 557us/step\n",
      "151/151 [==============================] - 0s 573us/step\n",
      "151/151 [==============================] - 0s 567us/step\n",
      "151/151 [==============================] - 0s 565us/step\n",
      "151/151 [==============================] - 0s 574us/step\n"
     ]
    },
    {
     "name": "stderr",
     "output_type": "stream",
     "text": [
      "[I 2024-01-28 23:21:32,247] Trial 29 finished with value: 0.007715922292222362 and parameters: {'neurons': 50, 'learning_rate': 0.01, 'batch_size': 64, 'epochs': 100}. Best is trial 19 with value: 0.005870670403953309.\n"
     ]
    },
    {
     "name": "stdout",
     "output_type": "stream",
     "text": [
      "151/151 [==============================] - 0s 725us/step\n",
      "151/151 [==============================] - 0s 729us/step\n",
      "151/151 [==============================] - 0s 730us/step\n",
      "151/151 [==============================] - 0s 853us/step\n",
      "151/151 [==============================] - 0s 740us/step\n"
     ]
    },
    {
     "name": "stderr",
     "output_type": "stream",
     "text": [
      "[I 2024-01-28 23:24:41,680] Trial 30 finished with value: 0.008597529590317931 and parameters: {'neurons': 150, 'learning_rate': 0.01, 'batch_size': 64, 'epochs': 87}. Best is trial 19 with value: 0.005870670403953309.\n"
     ]
    },
    {
     "name": "stdout",
     "output_type": "stream",
     "text": [
      "151/151 [==============================] - 0s 721us/step\n",
      "151/151 [==============================] - 0s 722us/step\n",
      "151/151 [==============================] - 0s 756us/step\n",
      "151/151 [==============================] - 0s 743us/step\n",
      "151/151 [==============================] - 0s 735us/step\n"
     ]
    },
    {
     "name": "stderr",
     "output_type": "stream",
     "text": [
      "[I 2024-01-28 23:28:08,561] Trial 31 finished with value: 0.009924199062502399 and parameters: {'neurons': 150, 'learning_rate': 0.01, 'batch_size': 64, 'epochs': 95}. Best is trial 19 with value: 0.005870670403953309.\n"
     ]
    },
    {
     "name": "stdout",
     "output_type": "stream",
     "text": [
      "151/151 [==============================] - 0s 862us/step\n",
      "151/151 [==============================] - 0s 738us/step\n",
      "151/151 [==============================] - 0s 709us/step\n",
      "151/151 [==============================] - 0s 716us/step\n",
      "151/151 [==============================] - 0s 719us/step\n"
     ]
    },
    {
     "name": "stderr",
     "output_type": "stream",
     "text": [
      "[I 2024-01-28 23:31:37,623] Trial 32 finished with value: 0.007894354929745955 and parameters: {'neurons': 150, 'learning_rate': 0.01, 'batch_size': 64, 'epochs': 96}. Best is trial 19 with value: 0.005870670403953309.\n"
     ]
    },
    {
     "name": "stdout",
     "output_type": "stream",
     "text": [
      "151/151 [==============================] - 0s 869us/step\n",
      "151/151 [==============================] - 0s 812us/step\n",
      "151/151 [==============================] - 0s 730us/step\n",
      "151/151 [==============================] - 0s 726us/step\n",
      "151/151 [==============================] - 0s 789us/step\n"
     ]
    },
    {
     "name": "stderr",
     "output_type": "stream",
     "text": [
      "[I 2024-01-28 23:34:51,334] Trial 33 finished with value: 0.005889188215355274 and parameters: {'neurons': 150, 'learning_rate': 0.01, 'batch_size': 64, 'epochs': 89}. Best is trial 19 with value: 0.005870670403953309.\n"
     ]
    },
    {
     "name": "stdout",
     "output_type": "stream",
     "text": [
      "151/151 [==============================] - 0s 827us/step\n",
      "151/151 [==============================] - 0s 735us/step\n",
      "151/151 [==============================] - 0s 765us/step\n",
      "151/151 [==============================] - 0s 760us/step\n",
      "151/151 [==============================] - 0s 776us/step\n"
     ]
    },
    {
     "name": "stderr",
     "output_type": "stream",
     "text": [
      "[I 2024-01-28 23:37:43,775] Trial 34 finished with value: 0.007181592321954066 and parameters: {'neurons': 150, 'learning_rate': 0.01, 'batch_size': 64, 'epochs': 79}. Best is trial 19 with value: 0.005870670403953309.\n"
     ]
    },
    {
     "name": "stdout",
     "output_type": "stream",
     "text": [
      "151/151 [==============================] - 0s 594us/step\n",
      "151/151 [==============================] - 0s 752us/step\n",
      "151/151 [==============================] - 0s 597us/step\n",
      "151/151 [==============================] - 0s 624us/step\n",
      "151/151 [==============================] - 0s 577us/step\n"
     ]
    },
    {
     "name": "stderr",
     "output_type": "stream",
     "text": [
      "[I 2024-01-28 23:39:13,428] Trial 35 finished with value: 0.00793026299479668 and parameters: {'neurons': 50, 'learning_rate': 0.01, 'batch_size': 64, 'epochs': 86}. Best is trial 19 with value: 0.005870670403953309.\n"
     ]
    },
    {
     "name": "stdout",
     "output_type": "stream",
     "text": [
      "151/151 [==============================] - 0s 930us/step\n",
      "151/151 [==============================] - 0s 732us/step\n",
      "151/151 [==============================] - 0s 876us/step\n",
      "151/151 [==============================] - 0s 723us/step\n",
      "151/151 [==============================] - 0s 783us/step\n"
     ]
    },
    {
     "name": "stderr",
     "output_type": "stream",
     "text": [
      "[I 2024-01-28 23:40:20,824] Trial 36 finished with value: 0.014670791444239061 and parameters: {'neurons': 150, 'learning_rate': 0.1, 'batch_size': 128, 'epochs': 45}. Best is trial 19 with value: 0.005870670403953309.\n"
     ]
    },
    {
     "name": "stdout",
     "output_type": "stream",
     "text": [
      "151/151 [==============================] - 0s 737us/step\n",
      "151/151 [==============================] - 0s 743us/step\n",
      "151/151 [==============================] - 0s 735us/step\n",
      "151/151 [==============================] - 0s 901us/step\n",
      "151/151 [==============================] - 0s 739us/step\n"
     ]
    },
    {
     "name": "stderr",
     "output_type": "stream",
     "text": [
      "[I 2024-01-28 23:43:39,327] Trial 37 finished with value: 0.0074747218106233524 and parameters: {'neurons': 150, 'learning_rate': 0.01, 'batch_size': 64, 'epochs': 91}. Best is trial 19 with value: 0.005870670403953309.\n"
     ]
    },
    {
     "name": "stdout",
     "output_type": "stream",
     "text": [
      "151/151 [==============================] - 0s 642us/step\n",
      "151/151 [==============================] - 0s 570us/step\n",
      "151/151 [==============================] - 0s 594us/step\n",
      "151/151 [==============================] - 0s 600us/step\n",
      "151/151 [==============================] - 0s 569us/step\n"
     ]
    },
    {
     "name": "stderr",
     "output_type": "stream",
     "text": [
      "[I 2024-01-28 23:45:05,687] Trial 38 finished with value: 0.008915293724039488 and parameters: {'neurons': 50, 'learning_rate': 0.01, 'batch_size': 64, 'epochs': 76}. Best is trial 19 with value: 0.005870670403953309.\n"
     ]
    },
    {
     "name": "stdout",
     "output_type": "stream",
     "text": [
      "151/151 [==============================] - 0s 804us/step\n",
      "151/151 [==============================] - 0s 674us/step\n",
      "151/151 [==============================] - 0s 712us/step\n",
      "151/151 [==============================] - 0s 730us/step\n",
      "151/151 [==============================] - 0s 825us/step\n"
     ]
    },
    {
     "name": "stderr",
     "output_type": "stream",
     "text": [
      "[I 2024-01-28 23:46:50,649] Trial 39 finished with value: 0.0154749061254356 and parameters: {'neurons': 100, 'learning_rate': 0.1, 'batch_size': 64, 'epochs': 62}. Best is trial 19 with value: 0.005870670403953309.\n"
     ]
    },
    {
     "name": "stdout",
     "output_type": "stream",
     "text": [
      "151/151 [==============================] - 0s 859us/step\n",
      "151/151 [==============================] - 0s 933us/step\n",
      "151/151 [==============================] - 0s 813us/step\n",
      "151/151 [==============================] - 0s 747us/step\n",
      "151/151 [==============================] - 0s 723us/step\n"
     ]
    },
    {
     "name": "stderr",
     "output_type": "stream",
     "text": [
      "[I 2024-01-28 23:48:01,902] Trial 40 finished with value: 0.008602411393941802 and parameters: {'neurons': 150, 'learning_rate': 0.001, 'batch_size': 64, 'epochs': 31}. Best is trial 19 with value: 0.005870670403953309.\n"
     ]
    },
    {
     "name": "stdout",
     "output_type": "stream",
     "text": [
      "151/151 [==============================] - 0s 752us/step\n",
      "151/151 [==============================] - 0s 759us/step\n",
      "151/151 [==============================] - 0s 760us/step\n",
      "151/151 [==============================] - 0s 752us/step\n",
      "151/151 [==============================] - 0s 741us/step\n"
     ]
    },
    {
     "name": "stderr",
     "output_type": "stream",
     "text": [
      "[I 2024-01-28 23:51:37,254] Trial 41 finished with value: 0.007525434008299567 and parameters: {'neurons': 150, 'learning_rate': 0.01, 'batch_size': 64, 'epochs': 96}. Best is trial 19 with value: 0.005870670403953309.\n"
     ]
    },
    {
     "name": "stdout",
     "output_type": "stream",
     "text": [
      "151/151 [==============================] - 0s 790us/step\n",
      "151/151 [==============================] - 0s 817us/step\n",
      "151/151 [==============================] - 0s 734us/step\n",
      "151/151 [==============================] - 0s 754us/step\n",
      "151/151 [==============================] - 0s 728us/step\n"
     ]
    },
    {
     "name": "stderr",
     "output_type": "stream",
     "text": [
      "[I 2024-01-28 23:54:59,232] Trial 42 finished with value: 0.006337955070994444 and parameters: {'neurons': 150, 'learning_rate': 0.01, 'batch_size': 64, 'epochs': 90}. Best is trial 19 with value: 0.005870670403953309.\n"
     ]
    },
    {
     "name": "stdout",
     "output_type": "stream",
     "text": [
      "151/151 [==============================] - 0s 828us/step\n",
      "151/151 [==============================] - 0s 812us/step\n",
      "151/151 [==============================] - 0s 740us/step\n",
      "151/151 [==============================] - 0s 738us/step\n",
      "151/151 [==============================] - 0s 760us/step\n"
     ]
    },
    {
     "name": "stderr",
     "output_type": "stream",
     "text": [
      "[I 2024-01-28 23:58:17,094] Trial 43 finished with value: 0.006371381696740867 and parameters: {'neurons': 150, 'learning_rate': 0.01, 'batch_size': 64, 'epochs': 89}. Best is trial 19 with value: 0.005870670403953309.\n"
     ]
    },
    {
     "name": "stdout",
     "output_type": "stream",
     "text": [
      "151/151 [==============================] - 0s 733us/step\n",
      "151/151 [==============================] - 0s 728us/step\n",
      "151/151 [==============================] - 0s 744us/step\n",
      "151/151 [==============================] - 0s 761us/step\n",
      "151/151 [==============================] - 0s 754us/step\n"
     ]
    },
    {
     "name": "stderr",
     "output_type": "stream",
     "text": [
      "[I 2024-01-29 00:01:20,731] Trial 44 finished with value: 0.00866510031323516 and parameters: {'neurons': 150, 'learning_rate': 0.01, 'batch_size': 64, 'epochs': 83}. Best is trial 19 with value: 0.005870670403953309.\n"
     ]
    },
    {
     "name": "stdout",
     "output_type": "stream",
     "text": [
      "151/151 [==============================] - 0s 726us/step\n",
      "151/151 [==============================] - 0s 708us/step\n",
      "151/151 [==============================] - 0s 706us/step\n",
      "151/151 [==============================] - 0s 718us/step\n",
      "151/151 [==============================] - 0s 713us/step\n"
     ]
    },
    {
     "name": "stderr",
     "output_type": "stream",
     "text": [
      "[I 2024-01-29 00:03:21,473] Trial 45 finished with value: 0.008657940294757586 and parameters: {'neurons': 100, 'learning_rate': 0.01, 'batch_size': 64, 'epochs': 73}. Best is trial 19 with value: 0.005870670403953309.\n"
     ]
    },
    {
     "name": "stdout",
     "output_type": "stream",
     "text": [
      "151/151 [==============================] - 0s 756us/step\n",
      "151/151 [==============================] - 0s 805us/step\n",
      "151/151 [==============================] - 0s 745us/step\n",
      "151/151 [==============================] - 0s 747us/step\n",
      "151/151 [==============================] - 0s 746us/step\n"
     ]
    },
    {
     "name": "stderr",
     "output_type": "stream",
     "text": [
      "[I 2024-01-29 00:04:44,482] Trial 46 finished with value: 0.008360382331991245 and parameters: {'neurons': 150, 'learning_rate': 0.001, 'batch_size': 128, 'epochs': 55}. Best is trial 19 with value: 0.005870670403953309.\n"
     ]
    },
    {
     "name": "stdout",
     "output_type": "stream",
     "text": [
      "151/151 [==============================] - 0s 742us/step\n",
      "151/151 [==============================] - 0s 735us/step\n",
      "151/151 [==============================] - 0s 729us/step\n",
      "151/151 [==============================] - 0s 740us/step\n",
      "151/151 [==============================] - 0s 877us/step\n"
     ]
    },
    {
     "name": "stderr",
     "output_type": "stream",
     "text": [
      "[I 2024-01-29 00:08:00,995] Trial 47 finished with value: 0.027618696018411566 and parameters: {'neurons': 150, 'learning_rate': 0.1, 'batch_size': 64, 'epochs': 89}. Best is trial 19 with value: 0.005870670403953309.\n"
     ]
    },
    {
     "name": "stdout",
     "output_type": "stream",
     "text": [
      "151/151 [==============================] - 0s 687us/step\n",
      "151/151 [==============================] - 0s 560us/step\n",
      "151/151 [==============================] - 0s 593us/step\n",
      "151/151 [==============================] - 0s 638us/step\n",
      "151/151 [==============================] - 0s 650us/step\n"
     ]
    },
    {
     "name": "stderr",
     "output_type": "stream",
     "text": [
      "[I 2024-01-29 00:09:22,959] Trial 48 finished with value: 0.007892426537166843 and parameters: {'neurons': 30, 'learning_rate': 0.01, 'batch_size': 64, 'epochs': 85}. Best is trial 19 with value: 0.005870670403953309.\n"
     ]
    },
    {
     "name": "stdout",
     "output_type": "stream",
     "text": [
      "151/151 [==============================] - 0s 570us/step\n",
      "151/151 [==============================] - 0s 564us/step\n",
      "151/151 [==============================] - 0s 658us/step\n",
      "151/151 [==============================] - 0s 571us/step\n",
      "151/151 [==============================] - 0s 561us/step\n"
     ]
    },
    {
     "name": "stderr",
     "output_type": "stream",
     "text": [
      "[I 2024-01-29 00:11:05,889] Trial 49 finished with value: 0.009675296350881792 and parameters: {'neurons': 50, 'learning_rate': 0.01, 'batch_size': 64, 'epochs': 98}. Best is trial 19 with value: 0.005870670403953309.\n"
     ]
    },
    {
     "name": "stdout",
     "output_type": "stream",
     "text": [
      "151/151 [==============================] - 0s 819us/step\n",
      "151/151 [==============================] - 0s 728us/step\n",
      "151/151 [==============================] - 0s 740us/step\n",
      "151/151 [==============================] - 0s 731us/step\n",
      "151/151 [==============================] - 0s 733us/step\n"
     ]
    },
    {
     "name": "stderr",
     "output_type": "stream",
     "text": [
      "[I 2024-01-29 00:12:47,316] Trial 50 finished with value: 0.006793280628088598 and parameters: {'neurons': 150, 'learning_rate': 0.01, 'batch_size': 128, 'epochs': 68}. Best is trial 19 with value: 0.005870670403953309.\n"
     ]
    },
    {
     "name": "stdout",
     "output_type": "stream",
     "text": [
      "151/151 [==============================] - 0s 758us/step\n",
      "151/151 [==============================] - 0s 730us/step\n",
      "151/151 [==============================] - 0s 718us/step\n",
      "151/151 [==============================] - 0s 921us/step\n",
      "151/151 [==============================] - 0s 752us/step\n"
     ]
    },
    {
     "name": "stderr",
     "output_type": "stream",
     "text": [
      "[I 2024-01-29 00:16:06,845] Trial 51 finished with value: 0.0067783560762385755 and parameters: {'neurons': 150, 'learning_rate': 0.01, 'batch_size': 64, 'epochs': 91}. Best is trial 19 with value: 0.005870670403953309.\n"
     ]
    },
    {
     "name": "stdout",
     "output_type": "stream",
     "text": [
      "151/151 [==============================] - 0s 964us/step\n",
      "151/151 [==============================] - 0s 740us/step\n",
      "151/151 [==============================] - 0s 729us/step\n",
      "151/151 [==============================] - 0s 739us/step\n",
      "151/151 [==============================] - 0s 736us/step\n"
     ]
    },
    {
     "name": "stderr",
     "output_type": "stream",
     "text": [
      "[I 2024-01-29 00:19:20,066] Trial 52 finished with value: 0.007062392339943428 and parameters: {'neurons': 150, 'learning_rate': 0.01, 'batch_size': 64, 'epochs': 88}. Best is trial 19 with value: 0.005870670403953309.\n"
     ]
    },
    {
     "name": "stdout",
     "output_type": "stream",
     "text": [
      "151/151 [==============================] - 0s 731us/step\n",
      "151/151 [==============================] - 0s 723us/step\n",
      "151/151 [==============================] - 0s 725us/step\n",
      "151/151 [==============================] - 0s 795us/step\n",
      "151/151 [==============================] - 0s 714us/step\n"
     ]
    },
    {
     "name": "stderr",
     "output_type": "stream",
     "text": [
      "[I 2024-01-29 00:22:43,113] Trial 53 finished with value: 0.00633111940380718 and parameters: {'neurons': 150, 'learning_rate': 0.01, 'batch_size': 64, 'epochs': 93}. Best is trial 19 with value: 0.005870670403953309.\n"
     ]
    },
    {
     "name": "stdout",
     "output_type": "stream",
     "text": [
      "151/151 [==============================] - 0s 865us/step\n",
      "151/151 [==============================] - 0s 730us/step\n",
      "151/151 [==============================] - 0s 745us/step\n",
      "151/151 [==============================] - 0s 745us/step\n",
      "151/151 [==============================] - 0s 738us/step\n"
     ]
    },
    {
     "name": "stderr",
     "output_type": "stream",
     "text": [
      "[I 2024-01-29 00:25:37,684] Trial 54 finished with value: 0.006128776555726174 and parameters: {'neurons': 150, 'learning_rate': 0.01, 'batch_size': 64, 'epochs': 80}. Best is trial 19 with value: 0.005870670403953309.\n"
     ]
    },
    {
     "name": "stdout",
     "output_type": "stream",
     "text": [
      "151/151 [==============================] - 0s 708us/step\n",
      "151/151 [==============================] - 0s 728us/step\n",
      "151/151 [==============================] - 0s 896us/step\n",
      "151/151 [==============================] - 0s 875us/step\n",
      "151/151 [==============================] - 0s 692us/step\n"
     ]
    },
    {
     "name": "stderr",
     "output_type": "stream",
     "text": [
      "[I 2024-01-29 00:27:47,814] Trial 55 finished with value: 0.00884410848304992 and parameters: {'neurons': 100, 'learning_rate': 0.001, 'batch_size': 64, 'epochs': 80}. Best is trial 19 with value: 0.005870670403953309.\n"
     ]
    },
    {
     "name": "stdout",
     "output_type": "stream",
     "text": [
      "151/151 [==============================] - 0s 751us/step\n",
      "151/151 [==============================] - 0s 767us/step\n",
      "151/151 [==============================] - 0s 746us/step\n",
      "151/151 [==============================] - 0s 749us/step\n",
      "151/151 [==============================] - 0s 760us/step\n"
     ]
    },
    {
     "name": "stderr",
     "output_type": "stream",
     "text": [
      "[I 2024-01-29 00:31:00,656] Trial 56 finished with value: 0.006921333705907438 and parameters: {'neurons': 150, 'learning_rate': 0.01, 'batch_size': 64, 'epochs': 83}. Best is trial 19 with value: 0.005870670403953309.\n"
     ]
    },
    {
     "name": "stdout",
     "output_type": "stream",
     "text": [
      "151/151 [==============================] - 0s 790us/step\n",
      "151/151 [==============================] - 0s 767us/step\n",
      "151/151 [==============================] - 0s 858us/step\n",
      "151/151 [==============================] - 0s 763us/step\n",
      "151/151 [==============================] - 0s 909us/step\n"
     ]
    },
    {
     "name": "stderr",
     "output_type": "stream",
     "text": [
      "[I 2024-01-29 00:37:05,860] Trial 57 finished with value: 0.010020505772629222 and parameters: {'neurons': 150, 'learning_rate': 0.01, 'batch_size': 32, 'epochs': 94}. Best is trial 19 with value: 0.005870670403953309.\n"
     ]
    },
    {
     "name": "stdout",
     "output_type": "stream",
     "text": [
      "151/151 [==============================] - 0s 775us/step\n",
      "151/151 [==============================] - 0s 806us/step\n",
      "151/151 [==============================] - 0s 930us/step\n",
      "151/151 [==============================] - 0s 771us/step\n",
      "151/151 [==============================] - 0s 756us/step\n"
     ]
    },
    {
     "name": "stderr",
     "output_type": "stream",
     "text": [
      "[I 2024-01-29 00:39:59,735] Trial 58 finished with value: 0.015703751732987374 and parameters: {'neurons': 150, 'learning_rate': 0.1, 'batch_size': 64, 'epochs': 77}. Best is trial 19 with value: 0.005870670403953309.\n"
     ]
    },
    {
     "name": "stdout",
     "output_type": "stream",
     "text": [
      "151/151 [==============================] - 0s 592us/step\n",
      "151/151 [==============================] - 0s 558us/step\n",
      "151/151 [==============================] - 0s 620us/step\n",
      "151/151 [==============================] - 0s 562us/step\n",
      "151/151 [==============================] - 0s 565us/step\n"
     ]
    },
    {
     "name": "stderr",
     "output_type": "stream",
     "text": [
      "[I 2024-01-29 00:41:35,896] Trial 59 finished with value: 0.012677373528577365 and parameters: {'neurons': 30, 'learning_rate': 0.01, 'batch_size': 64, 'epochs': 97}. Best is trial 19 with value: 0.005870670403953309.\n"
     ]
    },
    {
     "name": "stdout",
     "output_type": "stream",
     "text": [
      "151/151 [==============================] - 0s 753us/step\n",
      "151/151 [==============================] - 0s 791us/step\n",
      "151/151 [==============================] - 0s 744us/step\n",
      "151/151 [==============================] - 0s 752us/step\n",
      "151/151 [==============================] - 0s 963us/step\n"
     ]
    },
    {
     "name": "stderr",
     "output_type": "stream",
     "text": [
      "[I 2024-01-29 00:44:06,133] Trial 60 finished with value: 0.007177979327265156 and parameters: {'neurons': 150, 'learning_rate': 0.01, 'batch_size': 128, 'epochs': 100}. Best is trial 19 with value: 0.005870670403953309.\n"
     ]
    },
    {
     "name": "stdout",
     "output_type": "stream",
     "text": [
      "151/151 [==============================] - 0s 764us/step\n",
      "151/151 [==============================] - 0s 762us/step\n",
      "151/151 [==============================] - 0s 754us/step\n",
      "151/151 [==============================] - 0s 747us/step\n",
      "151/151 [==============================] - 0s 849us/step\n"
     ]
    },
    {
     "name": "stderr",
     "output_type": "stream",
     "text": [
      "[I 2024-01-29 00:47:24,759] Trial 61 finished with value: 0.008210748296407683 and parameters: {'neurons': 150, 'learning_rate': 0.01, 'batch_size': 64, 'epochs': 89}. Best is trial 19 with value: 0.005870670403953309.\n"
     ]
    },
    {
     "name": "stdout",
     "output_type": "stream",
     "text": [
      "151/151 [==============================] - 0s 739us/step\n",
      "151/151 [==============================] - 0s 750us/step\n",
      "151/151 [==============================] - 0s 750us/step\n",
      "151/151 [==============================] - 0s 743us/step\n",
      "151/151 [==============================] - 0s 777us/step\n"
     ]
    },
    {
     "name": "stderr",
     "output_type": "stream",
     "text": [
      "[I 2024-01-29 00:50:33,781] Trial 62 finished with value: 0.0060961445021241265 and parameters: {'neurons': 150, 'learning_rate': 0.01, 'batch_size': 64, 'epochs': 85}. Best is trial 19 with value: 0.005870670403953309.\n"
     ]
    },
    {
     "name": "stdout",
     "output_type": "stream",
     "text": [
      "151/151 [==============================] - 0s 754us/step\n",
      "151/151 [==============================] - 0s 745us/step\n",
      "151/151 [==============================] - 0s 728us/step\n",
      "151/151 [==============================] - 0s 782us/step\n",
      "151/151 [==============================] - 0s 786us/step\n"
     ]
    },
    {
     "name": "stderr",
     "output_type": "stream",
     "text": [
      "[I 2024-01-29 00:53:42,565] Trial 63 finished with value: 0.0066110951020296 and parameters: {'neurons': 150, 'learning_rate': 0.01, 'batch_size': 64, 'epochs': 85}. Best is trial 19 with value: 0.005870670403953309.\n"
     ]
    },
    {
     "name": "stdout",
     "output_type": "stream",
     "text": [
      "151/151 [==============================] - 0s 756us/step\n",
      "151/151 [==============================] - 0s 761us/step\n",
      "151/151 [==============================] - 0s 925us/step\n",
      "151/151 [==============================] - 0s 797us/step\n",
      "151/151 [==============================] - 0s 930us/step\n"
     ]
    },
    {
     "name": "stderr",
     "output_type": "stream",
     "text": [
      "[I 2024-01-29 00:57:10,425] Trial 64 finished with value: 0.0068886574179725605 and parameters: {'neurons': 150, 'learning_rate': 0.01, 'batch_size': 64, 'epochs': 93}. Best is trial 19 with value: 0.005870670403953309.\n"
     ]
    },
    {
     "name": "stdout",
     "output_type": "stream",
     "text": [
      "151/151 [==============================] - 0s 784us/step\n",
      "151/151 [==============================] - 0s 743us/step\n",
      "151/151 [==============================] - 0s 747us/step\n",
      "151/151 [==============================] - 0s 740us/step\n",
      "151/151 [==============================] - 0s 746us/step\n"
     ]
    },
    {
     "name": "stderr",
     "output_type": "stream",
     "text": [
      "[I 2024-01-29 00:59:48,081] Trial 65 finished with value: 0.006096019324276492 and parameters: {'neurons': 150, 'learning_rate': 0.01, 'batch_size': 64, 'epochs': 71}. Best is trial 19 with value: 0.005870670403953309.\n"
     ]
    },
    {
     "name": "stdout",
     "output_type": "stream",
     "text": [
      "151/151 [==============================] - 0s 917us/step\n",
      "151/151 [==============================] - 0s 769us/step\n",
      "151/151 [==============================] - 0s 734us/step\n",
      "151/151 [==============================] - 0s 794us/step\n",
      "151/151 [==============================] - 0s 753us/step\n"
     ]
    },
    {
     "name": "stderr",
     "output_type": "stream",
     "text": [
      "[I 2024-01-29 01:02:25,263] Trial 66 finished with value: 0.021255863450744778 and parameters: {'neurons': 150, 'learning_rate': 0.0001, 'batch_size': 64, 'epochs': 71}. Best is trial 19 with value: 0.005870670403953309.\n"
     ]
    },
    {
     "name": "stdout",
     "output_type": "stream",
     "text": [
      "151/151 [==============================] - 0s 818us/step\n",
      "151/151 [==============================] - 0s 740us/step\n",
      "151/151 [==============================] - 0s 704us/step\n",
      "151/151 [==============================] - 0s 897us/step\n",
      "151/151 [==============================] - 0s 841us/step\n"
     ]
    },
    {
     "name": "stderr",
     "output_type": "stream",
     "text": [
      "[I 2024-01-29 01:07:31,474] Trial 67 finished with value: 0.011071257460376138 and parameters: {'neurons': 150, 'learning_rate': 0.01, 'batch_size': 32, 'epochs': 81}. Best is trial 19 with value: 0.005870670403953309.\n"
     ]
    },
    {
     "name": "stdout",
     "output_type": "stream",
     "text": [
      "151/151 [==============================] - 0s 722us/step\n",
      "151/151 [==============================] - 0s 923us/step\n",
      "151/151 [==============================] - 0s 723us/step\n",
      "151/151 [==============================] - 0s 734us/step\n",
      "151/151 [==============================] - 0s 721us/step\n"
     ]
    },
    {
     "name": "stderr",
     "output_type": "stream",
     "text": [
      "[I 2024-01-29 01:10:17,168] Trial 68 finished with value: 0.0060128465011115425 and parameters: {'neurons': 150, 'learning_rate': 0.01, 'batch_size': 64, 'epochs': 75}. Best is trial 19 with value: 0.005870670403953309.\n"
     ]
    },
    {
     "name": "stdout",
     "output_type": "stream",
     "text": [
      "151/151 [==============================] - 0s 694us/step\n",
      "151/151 [==============================] - 0s 675us/step\n",
      "151/151 [==============================] - 0s 677us/step\n",
      "151/151 [==============================] - 0s 708us/step\n",
      "151/151 [==============================] - 0s 728us/step\n"
     ]
    },
    {
     "name": "stderr",
     "output_type": "stream",
     "text": [
      "[I 2024-01-29 01:12:18,566] Trial 69 finished with value: 0.008322764520040006 and parameters: {'neurons': 100, 'learning_rate': 0.001, 'batch_size': 64, 'epochs': 74}. Best is trial 19 with value: 0.005870670403953309.\n"
     ]
    },
    {
     "name": "stdout",
     "output_type": "stream",
     "text": [
      "151/151 [==============================] - 0s 572us/step\n",
      "151/151 [==============================] - 0s 564us/step\n",
      "151/151 [==============================] - 0s 558us/step\n",
      "151/151 [==============================] - 0s 560us/step\n",
      "151/151 [==============================] - 0s 569us/step\n"
     ]
    },
    {
     "name": "stderr",
     "output_type": "stream",
     "text": [
      "[I 2024-01-29 01:13:27,022] Trial 70 finished with value: 0.007035000350382718 and parameters: {'neurons': 50, 'learning_rate': 0.01, 'batch_size': 64, 'epochs': 65}. Best is trial 19 with value: 0.005870670403953309.\n"
     ]
    },
    {
     "name": "stdout",
     "output_type": "stream",
     "text": [
      "151/151 [==============================] - 0s 719us/step\n",
      "151/151 [==============================] - 0s 737us/step\n",
      "151/151 [==============================] - 0s 737us/step\n",
      "151/151 [==============================] - 0s 737us/step\n",
      "151/151 [==============================] - 0s 722us/step\n"
     ]
    },
    {
     "name": "stderr",
     "output_type": "stream",
     "text": [
      "[I 2024-01-29 01:16:19,995] Trial 71 finished with value: 0.006712735923291714 and parameters: {'neurons': 150, 'learning_rate': 0.01, 'batch_size': 64, 'epochs': 79}. Best is trial 19 with value: 0.005870670403953309.\n"
     ]
    },
    {
     "name": "stdout",
     "output_type": "stream",
     "text": [
      "151/151 [==============================] - 0s 720us/step\n",
      "151/151 [==============================] - 0s 731us/step\n",
      "151/151 [==============================] - 0s 755us/step\n",
      "151/151 [==============================] - 0s 755us/step\n",
      "151/151 [==============================] - 0s 909us/step\n"
     ]
    },
    {
     "name": "stderr",
     "output_type": "stream",
     "text": [
      "[I 2024-01-29 01:19:04,230] Trial 72 finished with value: 0.007320726618066958 and parameters: {'neurons': 150, 'learning_rate': 0.01, 'batch_size': 64, 'epochs': 75}. Best is trial 19 with value: 0.005870670403953309.\n"
     ]
    },
    {
     "name": "stdout",
     "output_type": "stream",
     "text": [
      "151/151 [==============================] - 0s 707us/step\n",
      "151/151 [==============================] - 0s 750us/step\n",
      "151/151 [==============================] - 0s 778us/step\n",
      "151/151 [==============================] - 0s 816us/step\n",
      "151/151 [==============================] - 0s 733us/step\n"
     ]
    },
    {
     "name": "stderr",
     "output_type": "stream",
     "text": [
      "[I 2024-01-29 01:22:03,544] Trial 73 finished with value: 0.006932436533276955 and parameters: {'neurons': 150, 'learning_rate': 0.01, 'batch_size': 64, 'epochs': 82}. Best is trial 19 with value: 0.005870670403953309.\n"
     ]
    },
    {
     "name": "stdout",
     "output_type": "stream",
     "text": [
      "151/151 [==============================] - 0s 724us/step\n",
      "151/151 [==============================] - 0s 754us/step\n",
      "151/151 [==============================] - 0s 740us/step\n",
      "151/151 [==============================] - 0s 728us/step\n",
      "151/151 [==============================] - 0s 724us/step\n"
     ]
    },
    {
     "name": "stderr",
     "output_type": "stream",
     "text": [
      "[I 2024-01-29 01:24:38,724] Trial 74 finished with value: 0.008670019520557432 and parameters: {'neurons': 150, 'learning_rate': 0.01, 'batch_size': 64, 'epochs': 71}. Best is trial 19 with value: 0.005870670403953309.\n"
     ]
    },
    {
     "name": "stdout",
     "output_type": "stream",
     "text": [
      "151/151 [==============================] - 0s 837us/step\n",
      "151/151 [==============================] - 0s 718us/step\n",
      "151/151 [==============================] - 0s 737us/step\n",
      "151/151 [==============================] - 0s 752us/step\n",
      "151/151 [==============================] - 0s 742us/step\n"
     ]
    },
    {
     "name": "stderr",
     "output_type": "stream",
     "text": [
      "[I 2024-01-29 01:27:43,273] Trial 75 finished with value: 0.00639341369112677 and parameters: {'neurons': 150, 'learning_rate': 0.01, 'batch_size': 64, 'epochs': 84}. Best is trial 19 with value: 0.005870670403953309.\n"
     ]
    },
    {
     "name": "stdout",
     "output_type": "stream",
     "text": [
      "151/151 [==============================] - 0s 733us/step\n",
      "151/151 [==============================] - 0s 726us/step\n",
      "151/151 [==============================] - 0s 743us/step\n",
      "151/151 [==============================] - 0s 738us/step\n",
      "151/151 [==============================] - 0s 757us/step\n"
     ]
    },
    {
     "name": "stderr",
     "output_type": "stream",
     "text": [
      "[I 2024-01-29 01:30:53,549] Trial 76 finished with value: 0.006774866548194325 and parameters: {'neurons': 150, 'learning_rate': 0.01, 'batch_size': 64, 'epochs': 87}. Best is trial 19 with value: 0.005870670403953309.\n"
     ]
    },
    {
     "name": "stdout",
     "output_type": "stream",
     "text": [
      "151/151 [==============================] - 0s 611us/step\n",
      "151/151 [==============================] - 0s 554us/step\n",
      "151/151 [==============================] - 0s 571us/step\n",
      "151/151 [==============================] - 0s 564us/step\n",
      "151/151 [==============================] - 0s 572us/step\n"
     ]
    },
    {
     "name": "stderr",
     "output_type": "stream",
     "text": [
      "[I 2024-01-29 01:32:01,516] Trial 77 finished with value: 0.03948557743737143 and parameters: {'neurons': 30, 'learning_rate': 0.0001, 'batch_size': 64, 'epochs': 59}. Best is trial 19 with value: 0.005870670403953309.\n"
     ]
    },
    {
     "name": "stdout",
     "output_type": "stream",
     "text": [
      "151/151 [==============================] - 0s 765us/step\n",
      "151/151 [==============================] - 0s 830us/step\n",
      "151/151 [==============================] - 0s 752us/step\n",
      "151/151 [==============================] - 0s 746us/step\n",
      "151/151 [==============================] - 0s 766us/step\n"
     ]
    },
    {
     "name": "stderr",
     "output_type": "stream",
     "text": [
      "[I 2024-01-29 01:35:13,469] Trial 78 finished with value: 0.010470215628945099 and parameters: {'neurons': 150, 'learning_rate': 0.01, 'batch_size': 32, 'epochs': 48}. Best is trial 19 with value: 0.005870670403953309.\n"
     ]
    },
    {
     "name": "stdout",
     "output_type": "stream",
     "text": [
      "151/151 [==============================] - 0s 765us/step\n",
      "151/151 [==============================] - 0s 887us/step\n",
      "151/151 [==============================] - 0s 793us/step\n",
      "151/151 [==============================] - 0s 896us/step\n",
      "151/151 [==============================] - 0s 771us/step\n"
     ]
    },
    {
     "name": "stderr",
     "output_type": "stream",
     "text": [
      "[I 2024-01-29 01:38:09,379] Trial 79 finished with value: 0.020764298380530986 and parameters: {'neurons': 150, 'learning_rate': 0.1, 'batch_size': 64, 'epochs': 77}. Best is trial 19 with value: 0.005870670403953309.\n"
     ]
    },
    {
     "name": "stdout",
     "output_type": "stream",
     "text": [
      "151/151 [==============================] - 0s 746us/step\n",
      "151/151 [==============================] - 0s 823us/step\n",
      "151/151 [==============================] - 0s 754us/step\n",
      "151/151 [==============================] - 0s 759us/step\n",
      "151/151 [==============================] - 0s 791us/step\n"
     ]
    },
    {
     "name": "stderr",
     "output_type": "stream",
     "text": [
      "[I 2024-01-29 01:39:52,817] Trial 80 finished with value: 0.006929346030860909 and parameters: {'neurons': 150, 'learning_rate': 0.01, 'batch_size': 128, 'epochs': 67}. Best is trial 19 with value: 0.005870670403953309.\n"
     ]
    },
    {
     "name": "stdout",
     "output_type": "stream",
     "text": [
      "151/151 [==============================] - 0s 766us/step\n",
      "151/151 [==============================] - 0s 776us/step\n",
      "151/151 [==============================] - 0s 736us/step\n",
      "151/151 [==============================] - 0s 879us/step\n",
      "151/151 [==============================] - 0s 748us/step\n"
     ]
    },
    {
     "name": "stderr",
     "output_type": "stream",
     "text": [
      "[I 2024-01-29 01:43:30,191] Trial 81 finished with value: 0.007780111196579116 and parameters: {'neurons': 150, 'learning_rate': 0.01, 'batch_size': 64, 'epochs': 90}. Best is trial 19 with value: 0.005870670403953309.\n"
     ]
    },
    {
     "name": "stdout",
     "output_type": "stream",
     "text": [
      "151/151 [==============================] - 0s 752us/step\n",
      "151/151 [==============================] - 0s 754us/step\n",
      "151/151 [==============================] - 0s 765us/step\n",
      "151/151 [==============================] - 0s 830us/step\n",
      "151/151 [==============================] - 0s 847us/step\n"
     ]
    },
    {
     "name": "stderr",
     "output_type": "stream",
     "text": [
      "[I 2024-01-29 01:46:59,960] Trial 82 finished with value: 0.008064130178541212 and parameters: {'neurons': 150, 'learning_rate': 0.01, 'batch_size': 64, 'epochs': 93}. Best is trial 19 with value: 0.005870670403953309.\n"
     ]
    },
    {
     "name": "stdout",
     "output_type": "stream",
     "text": [
      "151/151 [==============================] - 0s 756us/step\n",
      "151/151 [==============================] - 0s 739us/step\n",
      "151/151 [==============================] - 0s 829us/step\n",
      "151/151 [==============================] - 0s 806us/step\n",
      "151/151 [==============================] - 0s 739us/step\n"
     ]
    },
    {
     "name": "stderr",
     "output_type": "stream",
     "text": [
      "[I 2024-01-29 01:50:13,718] Trial 83 finished with value: 0.005682105863630768 and parameters: {'neurons': 150, 'learning_rate': 0.01, 'batch_size': 64, 'epochs': 86}. Best is trial 83 with value: 0.005682105863630768.\n"
     ]
    },
    {
     "name": "stdout",
     "output_type": "stream",
     "text": [
      "151/151 [==============================] - 0s 777us/step\n",
      "151/151 [==============================] - 0s 763us/step\n",
      "151/151 [==============================] - 0s 745us/step\n",
      "151/151 [==============================] - 0s 778us/step\n",
      "151/151 [==============================] - 0s 740us/step\n"
     ]
    },
    {
     "name": "stderr",
     "output_type": "stream",
     "text": [
      "[I 2024-01-29 01:53:24,097] Trial 84 finished with value: 0.0076942175895822005 and parameters: {'neurons': 150, 'learning_rate': 0.01, 'batch_size': 64, 'epochs': 85}. Best is trial 83 with value: 0.005682105863630768.\n"
     ]
    },
    {
     "name": "stdout",
     "output_type": "stream",
     "text": [
      "151/151 [==============================] - 0s 722us/step\n",
      "151/151 [==============================] - 0s 744us/step\n",
      "151/151 [==============================] - 0s 768us/step\n",
      "151/151 [==============================] - 0s 737us/step\n",
      "151/151 [==============================] - 0s 780us/step\n"
     ]
    },
    {
     "name": "stderr",
     "output_type": "stream",
     "text": [
      "[I 2024-01-29 01:56:38,883] Trial 85 finished with value: 0.006696665625788451 and parameters: {'neurons': 150, 'learning_rate': 0.01, 'batch_size': 64, 'epochs': 87}. Best is trial 83 with value: 0.005682105863630768.\n"
     ]
    },
    {
     "name": "stdout",
     "output_type": "stream",
     "text": [
      "151/151 [==============================] - 0s 899us/step\n",
      "151/151 [==============================] - 0s 731us/step\n",
      "151/151 [==============================] - 0s 735us/step\n",
      "151/151 [==============================] - 0s 782us/step\n",
      "151/151 [==============================] - 0s 742us/step\n"
     ]
    },
    {
     "name": "stderr",
     "output_type": "stream",
     "text": [
      "[I 2024-01-29 01:59:39,553] Trial 86 finished with value: 0.00913607811317248 and parameters: {'neurons': 150, 'learning_rate': 0.01, 'batch_size': 64, 'epochs': 81}. Best is trial 83 with value: 0.005682105863630768.\n"
     ]
    },
    {
     "name": "stdout",
     "output_type": "stream",
     "text": [
      "151/151 [==============================] - 0s 584us/step\n",
      "151/151 [==============================] - 0s 575us/step\n",
      "151/151 [==============================] - 0s 581us/step\n",
      "151/151 [==============================] - 0s 575us/step\n",
      "151/151 [==============================] - 0s 574us/step\n"
     ]
    },
    {
     "name": "stderr",
     "output_type": "stream",
     "text": [
      "[I 2024-01-29 02:01:20,829] Trial 87 finished with value: 0.008935750705741981 and parameters: {'neurons': 50, 'learning_rate': 0.01, 'batch_size': 64, 'epochs': 95}. Best is trial 83 with value: 0.005682105863630768.\n"
     ]
    },
    {
     "name": "stdout",
     "output_type": "stream",
     "text": [
      "151/151 [==============================] - 0s 760us/step\n",
      "151/151 [==============================] - 0s 719us/step\n",
      "151/151 [==============================] - 0s 729us/step\n",
      "151/151 [==============================] - 0s 739us/step\n",
      "151/151 [==============================] - 0s 726us/step\n"
     ]
    },
    {
     "name": "stderr",
     "output_type": "stream",
     "text": [
      "[I 2024-01-29 02:04:44,371] Trial 88 finished with value: 0.009229996809952252 and parameters: {'neurons': 150, 'learning_rate': 0.01, 'batch_size': 64, 'epochs': 92}. Best is trial 83 with value: 0.005682105863630768.\n"
     ]
    },
    {
     "name": "stdout",
     "output_type": "stream",
     "text": [
      "151/151 [==============================] - 0s 699us/step\n",
      "151/151 [==============================] - 0s 820us/step\n",
      "151/151 [==============================] - 0s 675us/step\n",
      "151/151 [==============================] - 0s 828us/step\n",
      "151/151 [==============================] - 0s 742us/step\n"
     ]
    },
    {
     "name": "stderr",
     "output_type": "stream",
     "text": [
      "[I 2024-01-29 02:06:55,171] Trial 89 finished with value: 0.00895964826726424 and parameters: {'neurons': 100, 'learning_rate': 0.001, 'batch_size': 64, 'epochs': 79}. Best is trial 83 with value: 0.005682105863630768.\n"
     ]
    },
    {
     "name": "stdout",
     "output_type": "stream",
     "text": [
      "151/151 [==============================] - 0s 800us/step\n",
      "151/151 [==============================] - 0s 728us/step\n",
      "151/151 [==============================] - 0s 746us/step\n",
      "151/151 [==============================] - 0s 762us/step\n",
      "151/151 [==============================] - 0s 771us/step\n"
     ]
    },
    {
     "name": "stderr",
     "output_type": "stream",
     "text": [
      "[I 2024-01-29 02:10:30,030] Trial 90 finished with value: 0.006793232176612608 and parameters: {'neurons': 150, 'learning_rate': 0.01, 'batch_size': 64, 'epochs': 97}. Best is trial 83 with value: 0.005682105863630768.\n"
     ]
    },
    {
     "name": "stdout",
     "output_type": "stream",
     "text": [
      "151/151 [==============================] - 0s 743us/step\n",
      "151/151 [==============================] - 0s 760us/step\n",
      "151/151 [==============================] - 0s 717us/step\n",
      "151/151 [==============================] - 0s 734us/step\n",
      "151/151 [==============================] - 0s 769us/step\n"
     ]
    },
    {
     "name": "stderr",
     "output_type": "stream",
     "text": [
      "[I 2024-01-29 02:13:46,924] Trial 91 finished with value: 0.007398997136076743 and parameters: {'neurons': 150, 'learning_rate': 0.01, 'batch_size': 64, 'epochs': 89}. Best is trial 83 with value: 0.005682105863630768.\n"
     ]
    },
    {
     "name": "stdout",
     "output_type": "stream",
     "text": [
      "151/151 [==============================] - 0s 736us/step\n",
      "151/151 [==============================] - 0s 753us/step\n",
      "151/151 [==============================] - 0s 745us/step\n",
      "151/151 [==============================] - 0s 839us/step\n",
      "151/151 [==============================] - 0s 741us/step\n"
     ]
    },
    {
     "name": "stderr",
     "output_type": "stream",
     "text": [
      "[I 2024-01-29 02:16:50,500] Trial 92 finished with value: 0.008644474699430924 and parameters: {'neurons': 150, 'learning_rate': 0.01, 'batch_size': 64, 'epochs': 83}. Best is trial 83 with value: 0.005682105863630768.\n"
     ]
    },
    {
     "name": "stdout",
     "output_type": "stream",
     "text": [
      "151/151 [==============================] - 0s 751us/step\n",
      "151/151 [==============================] - 0s 733us/step\n",
      "151/151 [==============================] - 0s 766us/step\n",
      "151/151 [==============================] - 0s 758us/step\n",
      "151/151 [==============================] - 0s 739us/step\n"
     ]
    },
    {
     "name": "stderr",
     "output_type": "stream",
     "text": [
      "[I 2024-01-29 02:20:11,224] Trial 93 finished with value: 0.0069150062677778654 and parameters: {'neurons': 150, 'learning_rate': 0.01, 'batch_size': 64, 'epochs': 91}. Best is trial 83 with value: 0.005682105863630768.\n"
     ]
    },
    {
     "name": "stdout",
     "output_type": "stream",
     "text": [
      "151/151 [==============================] - 0s 745us/step\n",
      "151/151 [==============================] - 0s 749us/step\n",
      "151/151 [==============================] - 0s 741us/step\n",
      "151/151 [==============================] - 0s 731us/step\n",
      "151/151 [==============================] - 0s 744us/step\n"
     ]
    },
    {
     "name": "stderr",
     "output_type": "stream",
     "text": [
      "[I 2024-01-29 02:23:18,463] Trial 94 finished with value: 0.008763361713942656 and parameters: {'neurons': 150, 'learning_rate': 0.01, 'batch_size': 64, 'epochs': 85}. Best is trial 83 with value: 0.005682105863630768.\n"
     ]
    },
    {
     "name": "stdout",
     "output_type": "stream",
     "text": [
      "151/151 [==============================] - 0s 735us/step\n",
      "151/151 [==============================] - 0s 812us/step\n",
      "151/151 [==============================] - 0s 825us/step\n",
      "151/151 [==============================] - 0s 733us/step\n",
      "151/151 [==============================] - 0s 774us/step\n"
     ]
    },
    {
     "name": "stderr",
     "output_type": "stream",
     "text": [
      "[I 2024-01-29 02:26:30,293] Trial 95 finished with value: 0.005843898759439727 and parameters: {'neurons': 150, 'learning_rate': 0.01, 'batch_size': 64, 'epochs': 87}. Best is trial 83 with value: 0.005682105863630768.\n"
     ]
    },
    {
     "name": "stdout",
     "output_type": "stream",
     "text": [
      "151/151 [==============================] - 0s 748us/step\n",
      "151/151 [==============================] - 0s 567us/step\n",
      "151/151 [==============================] - 0s 616us/step\n",
      "151/151 [==============================] - 0s 629us/step\n",
      "151/151 [==============================] - 0s 564us/step\n"
     ]
    },
    {
     "name": "stderr",
     "output_type": "stream",
     "text": [
      "[I 2024-01-29 02:27:54,076] Trial 96 finished with value: 0.008179311518072397 and parameters: {'neurons': 30, 'learning_rate': 0.01, 'batch_size': 64, 'epochs': 87}. Best is trial 83 with value: 0.005682105863630768.\n"
     ]
    },
    {
     "name": "stdout",
     "output_type": "stream",
     "text": [
      "151/151 [==============================] - 0s 769us/step\n",
      "151/151 [==============================] - 0s 744us/step\n",
      "151/151 [==============================] - 0s 737us/step\n",
      "151/151 [==============================] - 0s 741us/step\n",
      "151/151 [==============================] - 0s 747us/step\n"
     ]
    },
    {
     "name": "stderr",
     "output_type": "stream",
     "text": [
      "[I 2024-01-29 02:29:41,474] Trial 97 finished with value: 0.037475336858955245 and parameters: {'neurons': 150, 'learning_rate': 0.0001, 'batch_size': 128, 'epochs': 72}. Best is trial 83 with value: 0.005682105863630768.\n"
     ]
    },
    {
     "name": "stdout",
     "output_type": "stream",
     "text": [
      "151/151 [==============================] - 0s 702us/step\n",
      "151/151 [==============================] - 0s 749us/step\n",
      "151/151 [==============================] - 0s 724us/step\n",
      "151/151 [==============================] - 0s 732us/step\n",
      "151/151 [==============================] - 0s 737us/step\n"
     ]
    },
    {
     "name": "stderr",
     "output_type": "stream",
     "text": [
      "[I 2024-01-29 02:33:07,475] Trial 98 finished with value: 0.01842095871741609 and parameters: {'neurons': 150, 'learning_rate': 0.1, 'batch_size': 64, 'epochs': 94}. Best is trial 83 with value: 0.005682105863630768.\n"
     ]
    },
    {
     "name": "stdout",
     "output_type": "stream",
     "text": [
      "151/151 [==============================] - 0s 753us/step\n",
      "151/151 [==============================] - 0s 747us/step\n",
      "151/151 [==============================] - 0s 741us/step\n",
      "151/151 [==============================] - 0s 732us/step\n",
      "151/151 [==============================] - 0s 742us/step\n"
     ]
    },
    {
     "name": "stderr",
     "output_type": "stream",
     "text": [
      "[I 2024-01-29 02:37:57,931] Trial 99 finished with value: 0.0121627925599611 and parameters: {'neurons': 150, 'learning_rate': 0.01, 'batch_size': 32, 'epochs': 77}. Best is trial 83 with value: 0.005682105863630768.\n"
     ]
    },
    {
     "name": "stdout",
     "output_type": "stream",
     "text": [
      "{'neurons': 150, 'learning_rate': 0.01, 'batch_size': 64, 'epochs': 86}\n"
     ]
    },
    {
     "data": {
      "text/plain": [
       "<keras.src.callbacks.History at 0xfffe7ecdbb20>"
      ]
     },
     "execution_count": 47,
     "metadata": {},
     "output_type": "execute_result"
    }
   ],
   "source": [
    "# Define the objective function for Optuna\n",
    "def objective(trial):\n",
    "    # Hyperparameters to be optimized\n",
    "    neurons = trial.suggest_categorical('neurons', [30, 50, 100, 150])\n",
    "    learning_rate = trial.suggest_categorical('learning_rate', [0.0001, 0.001, 0.01, 0.1])\n",
    "    batch_size = trial.suggest_categorical('batch_size', [32, 64, 128])\n",
    "    epochs = trial.suggest_int('epochs', 20, 100)\n",
    "\n",
    "    # Create the LSTM model\n",
    "    model = Sequential()\n",
    "    model.add(LSTM(neurons, input_shape=(trainX.shape[1], trainX.shape[2])))\n",
    "    model.add(Dropout(0.2))\n",
    "    model.add(Dense(1))\n",
    "    optimizer = Adam(learning_rate=learning_rate)\n",
    "    model.compile(optimizer=optimizer, loss='mean_squared_error')\n",
    "\n",
    "    # Cross-validation with time series split\n",
    "    tscv = TimeSeriesSplit(n_splits=5)\n",
    "    rmse_scores = []\n",
    "\n",
    "    for train_index, val_index in tscv.split(trainX):\n",
    "        X_train_fold, X_val_fold = trainX[train_index], trainX[val_index]\n",
    "        y_train_fold, y_val_fold = trainY[train_index], trainY[val_index]\n",
    "\n",
    "        # Train the model\n",
    "        model.fit(X_train_fold, y_train_fold, epochs=epochs, batch_size=batch_size, verbose=0)\n",
    "\n",
    "        # Evaluate the model\n",
    "        predictions = model.predict(X_val_fold)\n",
    "        rmse_score = np.sqrt(mean_squared_error(y_val_fold, predictions))\n",
    "        rmse_scores.append(rmse_score)\n",
    "\n",
    "    # Return the mean RMSE score over all folds\n",
    "    return np.mean(rmse_scores)\n",
    "\n",
    "# Example usage of Optuna\n",
    "study = optuna.create_study(direction='minimize')\n",
    "study.optimize(objective, n_trials=100)\n",
    "\n",
    "# Print the optimal hyperparameters\n",
    "print(study.best_params)\n",
    "\n",
    "# The following code would use the best hyperparameters to train the final model\n",
    "best_neurons = study.best_params['neurons']\n",
    "best_lr = study.best_params['learning_rate']\n",
    "best_batch_size = study.best_params['batch_size']\n",
    "best_epochs = study.best_params['epochs']\n",
    "\n",
    "model = Sequential()\n",
    "model.add(LSTM(best_neurons, input_shape=(trainX.shape[1], trainX.shape[2])))\n",
    "model.add(Dropout(0.2))\n",
    "model.add(Dense(1))\n",
    "model.compile(optimizer=Adam(learning_rate=best_lr), loss='mean_squared_error')\n",
    "\n",
    "# Train with the full training data\n",
    "model.fit(trainX, trainY, epochs=best_epochs, batch_size=best_batch_size, verbose=0)"
   ]
  },
  {
   "cell_type": "markdown",
   "id": "3ef78ad4-9e10-4f36-a00b-0c10f312d6cc",
   "metadata": {},
   "source": [
    "### Saving Optuna Study Results and the Best Model\n",
    "\n",
    "The Optuna study results are saved in a CSV format (`optuna_study_results.csv`) to provide a comprehensive and easy-to-analyze historical record of the hyperparameter optimization process. This CSV file includes detailed information about each trial, such as the hyperparameters used and the performance metrics obtained. It allows for in-depth analysis and visualization of the optimization process, enabling insights into how different hyperparameters impact model performance.\n",
    "\n",
    "Additionally, the best-performing model is saved in an `.h5` format (`best_model.h5`). This file stores the architecture, weights, and training configuration of the trained model, allowing for easy reloading and reuse of the model without the need to retrain. It's essential for deploying the model in production or for further evaluation and testing.\n",
    "\n",
    "By saving both the study results and the model, we ensure a comprehensive record of the optimization process and retain the ability to deploy the best-performing model efficiently.\n"
   ]
  },
  {
   "cell_type": "code",
   "execution_count": 2,
   "id": "7f978faf-59aa-4a22-b47c-09b9fc876509",
   "metadata": {},
   "outputs": [
    {
     "ename": "NameError",
     "evalue": "name 'study' is not defined",
     "output_type": "error",
     "traceback": [
      "\u001b[0;31m---------------------------------------------------------------------------\u001b[0m",
      "\u001b[0;31mNameError\u001b[0m                                 Traceback (most recent call last)",
      "Cell \u001b[0;32mIn[2], line 2\u001b[0m\n\u001b[1;32m      1\u001b[0m \u001b[38;5;66;03m# Save the study results to a dataframe\u001b[39;00m\n\u001b[0;32m----> 2\u001b[0m study_results \u001b[38;5;241m=\u001b[39m \u001b[43mstudy\u001b[49m\u001b[38;5;241m.\u001b[39mtrials_dataframe()\n\u001b[1;32m      4\u001b[0m \u001b[38;5;66;03m# Save the dataframe to a CSV file\u001b[39;00m\n\u001b[1;32m      5\u001b[0m study_results\u001b[38;5;241m.\u001b[39mto_csv(\u001b[38;5;124m'\u001b[39m\u001b[38;5;124moptuna_study_results.csv\u001b[39m\u001b[38;5;124m'\u001b[39m, index\u001b[38;5;241m=\u001b[39m\u001b[38;5;28;01mFalse\u001b[39;00m)\n",
      "\u001b[0;31mNameError\u001b[0m: name 'study' is not defined"
     ]
    }
   ],
   "source": [
    "# Save the study results to a dataframe\n",
    "study_results = study.trials_dataframe()\n",
    "\n",
    "# Save the dataframe to a CSV file\n",
    "study_results.to_csv('optuna_study_results.csv', index=False)\n",
    "\n",
    "# Save the best model\n",
    "model.save('best_model.h5')\n",
    "\n",
    "# To load the study results later\n",
    "loaded_results = pd.read_csv('optuna_study_results.csv')\n",
    "\n",
    "# To load the model\n",
    "loaded_model = load_model('best_model.h5')"
   ]
  },
  {
   "cell_type": "code",
   "execution_count": 48,
   "id": "ee1fe70b-3ad9-4477-91b9-70e7a729a738",
   "metadata": {},
   "outputs": [
    {
     "data": {
      "text/html": [
       "<a href='optuna_model.h5' target='_blank'>optuna_model.h5</a><br>"
      ],
      "text/plain": [
       "/home/fabiopoli/Desktop/optuna_model.h5"
      ]
     },
     "execution_count": 48,
     "metadata": {},
     "output_type": "execute_result"
    }
   ],
   "source": [
    "model.save(\"optuna_model.h5\")\n",
    "FileLink('optuna_model.h5')"
   ]
  },
  {
   "cell_type": "markdown",
   "id": "14bd5876-8084-4631-b3d1-650cbba58a51",
   "metadata": {},
   "source": [
    "### Table for Hyperparameter Comparison"
   ]
  },
  {
   "cell_type": "code",
   "execution_count": null,
   "id": "6361a73e-0caf-4ef5-8a15-f2571b286854",
   "metadata": {},
   "outputs": [],
   "source": [
    "import optuna\n",
    "import optuna.visualization as ov\n",
    "\n",
    "# Hyperparameter importance\n",
    "hyperparam_importance = ov.plot_param_importances(study)\n",
    "hyperparam_importance.show()\n",
    "\n",
    "# Optimization history\n",
    "opt_history = ov.plot_optimization_history(study)\n",
    "opt_history.show()\n",
    "\n",
    "# Slice plots for all hyperparameters\n",
    "for param in study.best_params:\n",
    "    slice_plot = ov.plot_slice(study, params=[param])\n",
    "    slice_plot.show()"
   ]
  },
  {
   "cell_type": "markdown",
   "id": "d8fe7539-d5dc-43cf-951e-bc3dd934c51d",
   "metadata": {},
   "source": [
    "### Computational Efficiency"
   ]
  },
  {
   "cell_type": "code",
   "execution_count": 49,
   "id": "ed266938-8e3d-40ad-9392-f30208edd844",
   "metadata": {
    "scrolled": true
   },
   "outputs": [
    {
     "name": "stdout",
     "output_type": "stream",
     "text": [
      "Epoch 1/86\n",
      "453/453 [==============================] - 2s 4ms/step - loss: 1.2186e-04\n",
      "Epoch 2/86\n",
      "453/453 [==============================] - 1s 3ms/step - loss: 1.2276e-04\n",
      "Epoch 3/86\n",
      "453/453 [==============================] - 1s 3ms/step - loss: 1.2269e-04\n",
      "Epoch 4/86\n",
      "453/453 [==============================] - 1s 3ms/step - loss: 1.1946e-04\n",
      "Epoch 5/86\n",
      "453/453 [==============================] - 1s 2ms/step - loss: 1.1727e-04\n",
      "Epoch 6/86\n",
      "453/453 [==============================] - 1s 3ms/step - loss: 1.2030e-04\n",
      "Epoch 7/86\n",
      "453/453 [==============================] - 1s 2ms/step - loss: 1.2274e-04\n",
      "Epoch 8/86\n",
      "453/453 [==============================] - 1s 2ms/step - loss: 1.2041e-04\n",
      "Epoch 9/86\n",
      "453/453 [==============================] - 1s 3ms/step - loss: 1.2197e-04\n",
      "Epoch 10/86\n",
      "453/453 [==============================] - 1s 3ms/step - loss: 1.2893e-04\n",
      "Epoch 11/86\n",
      "453/453 [==============================] - 1s 3ms/step - loss: 1.1707e-04\n",
      "Epoch 12/86\n",
      "453/453 [==============================] - 1s 3ms/step - loss: 1.1965e-04\n",
      "Epoch 13/86\n",
      "453/453 [==============================] - 1s 3ms/step - loss: 1.2363e-04\n",
      "Epoch 14/86\n",
      "453/453 [==============================] - 1s 3ms/step - loss: 1.2307e-04\n",
      "Epoch 15/86\n",
      "453/453 [==============================] - 1s 3ms/step - loss: 1.2100e-04\n",
      "Epoch 16/86\n",
      "453/453 [==============================] - 1s 3ms/step - loss: 1.1810e-04\n",
      "Epoch 17/86\n",
      "453/453 [==============================] - 1s 3ms/step - loss: 1.2290e-04\n",
      "Epoch 18/86\n",
      "453/453 [==============================] - 1s 3ms/step - loss: 1.2525e-04\n",
      "Epoch 19/86\n",
      "453/453 [==============================] - 1s 3ms/step - loss: 1.2563e-04\n",
      "Epoch 20/86\n",
      "453/453 [==============================] - 1s 3ms/step - loss: 1.1867e-04\n",
      "Epoch 21/86\n",
      "453/453 [==============================] - 1s 3ms/step - loss: 1.2007e-04\n",
      "Epoch 22/86\n",
      "453/453 [==============================] - 1s 3ms/step - loss: 1.2425e-04\n",
      "Epoch 23/86\n",
      "453/453 [==============================] - 1s 3ms/step - loss: 1.2376e-04\n",
      "Epoch 24/86\n",
      "453/453 [==============================] - 1s 3ms/step - loss: 1.1652e-04\n",
      "Epoch 25/86\n",
      "453/453 [==============================] - 1s 3ms/step - loss: 1.1902e-04\n",
      "Epoch 26/86\n",
      "453/453 [==============================] - 1s 3ms/step - loss: 1.1854e-04\n",
      "Epoch 27/86\n",
      "453/453 [==============================] - 1s 3ms/step - loss: 1.2182e-04\n",
      "Epoch 28/86\n",
      "453/453 [==============================] - 1s 3ms/step - loss: 1.2504e-04\n",
      "Epoch 29/86\n",
      "453/453 [==============================] - 1s 3ms/step - loss: 1.3103e-04\n",
      "Epoch 30/86\n",
      "453/453 [==============================] - 1s 3ms/step - loss: 1.2115e-04\n",
      "Epoch 31/86\n",
      "453/453 [==============================] - 1s 3ms/step - loss: 1.1456e-04\n",
      "Epoch 32/86\n",
      "453/453 [==============================] - 1s 3ms/step - loss: 1.2193e-04\n",
      "Epoch 33/86\n",
      "453/453 [==============================] - 1s 3ms/step - loss: 1.1347e-04\n",
      "Epoch 34/86\n",
      "453/453 [==============================] - 1s 3ms/step - loss: 1.2076e-04\n",
      "Epoch 35/86\n",
      "453/453 [==============================] - 1s 3ms/step - loss: 1.2168e-04\n",
      "Epoch 36/86\n",
      "453/453 [==============================] - 1s 3ms/step - loss: 1.1894e-04\n",
      "Epoch 37/86\n",
      "453/453 [==============================] - 1s 3ms/step - loss: 1.2673e-04\n",
      "Epoch 38/86\n",
      "453/453 [==============================] - 1s 3ms/step - loss: 1.1439e-04\n",
      "Epoch 39/86\n",
      "453/453 [==============================] - 1s 3ms/step - loss: 1.1953e-04\n",
      "Epoch 40/86\n",
      "453/453 [==============================] - 1s 3ms/step - loss: 1.2301e-04\n",
      "Epoch 41/86\n",
      "453/453 [==============================] - 1s 3ms/step - loss: 1.1668e-04\n",
      "Epoch 42/86\n",
      "453/453 [==============================] - 1s 3ms/step - loss: 1.2152e-04\n",
      "Epoch 43/86\n",
      "453/453 [==============================] - 1s 3ms/step - loss: 1.1936e-04\n",
      "Epoch 44/86\n",
      "453/453 [==============================] - 1s 3ms/step - loss: 1.2137e-04\n",
      "Epoch 45/86\n",
      "453/453 [==============================] - 1s 3ms/step - loss: 1.2107e-04\n",
      "Epoch 46/86\n",
      "453/453 [==============================] - 1s 3ms/step - loss: 1.1643e-04\n",
      "Epoch 47/86\n",
      "453/453 [==============================] - 1s 3ms/step - loss: 1.2671e-04\n",
      "Epoch 48/86\n",
      "453/453 [==============================] - 1s 3ms/step - loss: 1.1545e-04\n",
      "Epoch 49/86\n",
      "453/453 [==============================] - 1s 3ms/step - loss: 1.2145e-04\n",
      "Epoch 50/86\n",
      "453/453 [==============================] - 1s 3ms/step - loss: 1.1840e-04\n",
      "Epoch 51/86\n",
      "453/453 [==============================] - 1s 3ms/step - loss: 1.1625e-04\n",
      "Epoch 52/86\n",
      "453/453 [==============================] - 1s 3ms/step - loss: 1.1635e-04\n",
      "Epoch 53/86\n",
      "453/453 [==============================] - 1s 3ms/step - loss: 1.1744e-04\n",
      "Epoch 54/86\n",
      "453/453 [==============================] - 1s 3ms/step - loss: 1.1532e-04\n",
      "Epoch 55/86\n",
      "453/453 [==============================] - 1s 3ms/step - loss: 1.1990e-04\n",
      "Epoch 56/86\n",
      "453/453 [==============================] - 1s 3ms/step - loss: 1.1810e-04\n",
      "Epoch 57/86\n",
      "453/453 [==============================] - 1s 3ms/step - loss: 1.2392e-04\n",
      "Epoch 58/86\n",
      "453/453 [==============================] - 1s 3ms/step - loss: 1.1772e-04\n",
      "Epoch 59/86\n",
      "453/453 [==============================] - 1s 3ms/step - loss: 1.2303e-04\n",
      "Epoch 60/86\n",
      "453/453 [==============================] - 1s 3ms/step - loss: 1.2272e-04\n",
      "Epoch 61/86\n",
      "453/453 [==============================] - 1s 3ms/step - loss: 1.2369e-04\n",
      "Epoch 62/86\n",
      "453/453 [==============================] - 1s 3ms/step - loss: 1.2164e-04\n",
      "Epoch 63/86\n",
      "453/453 [==============================] - 1s 3ms/step - loss: 1.1162e-04\n",
      "Epoch 64/86\n",
      "453/453 [==============================] - 1s 3ms/step - loss: 1.1834e-04\n",
      "Epoch 65/86\n",
      "453/453 [==============================] - 1s 3ms/step - loss: 1.1957e-04\n",
      "Epoch 66/86\n",
      "453/453 [==============================] - 1s 3ms/step - loss: 1.2276e-04\n",
      "Epoch 67/86\n",
      "453/453 [==============================] - 1s 3ms/step - loss: 1.1842e-04\n",
      "Epoch 68/86\n",
      "453/453 [==============================] - 1s 3ms/step - loss: 1.2504e-04\n",
      "Epoch 69/86\n",
      "453/453 [==============================] - 1s 3ms/step - loss: 1.1323e-04\n",
      "Epoch 70/86\n",
      "453/453 [==============================] - 1s 3ms/step - loss: 1.1889e-04\n",
      "Epoch 71/86\n",
      "453/453 [==============================] - 1s 3ms/step - loss: 1.1699e-04\n",
      "Epoch 72/86\n",
      "453/453 [==============================] - 1s 3ms/step - loss: 1.2324e-04\n",
      "Epoch 73/86\n",
      "453/453 [==============================] - 1s 3ms/step - loss: 1.1952e-04\n",
      "Epoch 74/86\n",
      "453/453 [==============================] - 1s 3ms/step - loss: 1.1676e-04\n",
      "Epoch 75/86\n",
      "453/453 [==============================] - 1s 3ms/step - loss: 1.1215e-04\n",
      "Epoch 76/86\n",
      "453/453 [==============================] - 1s 3ms/step - loss: 1.1756e-04\n",
      "Epoch 77/86\n",
      "453/453 [==============================] - 1s 3ms/step - loss: 1.1817e-04\n",
      "Epoch 78/86\n",
      "453/453 [==============================] - 1s 3ms/step - loss: 1.1951e-04\n",
      "Epoch 79/86\n",
      "453/453 [==============================] - 1s 3ms/step - loss: 1.2110e-04\n",
      "Epoch 80/86\n",
      "453/453 [==============================] - 1s 3ms/step - loss: 1.2166e-04\n",
      "Epoch 81/86\n",
      "453/453 [==============================] - 1s 3ms/step - loss: 1.1670e-04\n",
      "Epoch 82/86\n",
      "453/453 [==============================] - 1s 3ms/step - loss: 1.2030e-04\n",
      "Epoch 83/86\n",
      "453/453 [==============================] - 1s 3ms/step - loss: 1.1930e-04\n",
      "Epoch 84/86\n",
      "453/453 [==============================] - 1s 3ms/step - loss: 1.1310e-04\n",
      "Epoch 85/86\n",
      "453/453 [==============================] - 1s 3ms/step - loss: 1.2045e-04\n",
      "Epoch 86/86\n",
      "453/453 [==============================] - 1s 3ms/step - loss: 1.1818e-04\n",
      "447/447 [==============================] - 1s 970us/step\n",
      "Training Time: 102.79371285438538 seconds\n",
      "Inference Time: 1.0119638442993164 seconds\n"
     ]
    }
   ],
   "source": [
    "start_time = time.time()\n",
    "model.fit(trainX, trainY, epochs=best_epochs, batch_size=best_batch_size)\n",
    "training_time = time.time() - start_time\n",
    "\n",
    "start_time = time.time()\n",
    "predictions = model.predict(testX)\n",
    "inference_time = time.time() - start_time\n",
    "\n",
    "print(f\"Training Time: {training_time} seconds\")\n",
    "print(f\"Inference Time: {inference_time} seconds\")"
   ]
  },
  {
   "cell_type": "markdown",
   "id": "4005265e-e911-4c62-ba72-c61c4ca9a05a",
   "metadata": {},
   "source": [
    "### Model Complexity Optuna Model"
   ]
  },
  {
   "cell_type": "code",
   "execution_count": 50,
   "id": "5f0d613c-c38a-4fb9-a39f-a07cbe5b5bc8",
   "metadata": {},
   "outputs": [
    {
     "name": "stdout",
     "output_type": "stream",
     "text": [
      "Model: \"sequential_158\"\n",
      "_________________________________________________________________\n",
      " Layer (type)                Output Shape              Param #   \n",
      "=================================================================\n",
      " lstm_158 (LSTM)             (None, 150)               93000     \n",
      "                                                                 \n",
      " dropout_158 (Dropout)       (None, 150)               0         \n",
      "                                                                 \n",
      " dense_158 (Dense)           (None, 1)                 151       \n",
      "                                                                 \n",
      "=================================================================\n",
      "Total params: 93151 (363.87 KB)\n",
      "Trainable params: 93151 (363.87 KB)\n",
      "Non-trainable params: 0 (0.00 Byte)\n",
      "_________________________________________________________________\n",
      "Model Size: 1147192 bytes\n"
     ]
    }
   ],
   "source": [
    "model.summary() # Gives the number of parameters\n",
    "model.save(\"optuna_model.h5\")\n",
    "\n",
    "\n",
    "model_size = os.path.getsize(\"optuna_model.h5\")\n",
    "print(f\"Model Size: {model_size} bytes\")"
   ]
  },
  {
   "cell_type": "markdown",
   "id": "77e66199-9b96-4f73-911c-dc11d40397ef",
   "metadata": {},
   "source": [
    "### Overfitting/Underfitting Analysis"
   ]
  },
  {
   "cell_type": "code",
   "execution_count": 51,
   "id": "c6ff1ded-d260-497c-82b7-58b01632218b",
   "metadata": {
    "scrolled": true
   },
   "outputs": [
    {
     "name": "stdout",
     "output_type": "stream",
     "text": [
      "Epoch 1/86\n",
      "363/363 [==============================] - 2s 4ms/step - loss: 1.3820e-04 - val_loss: 7.1905e-05\n",
      "Epoch 2/86\n",
      "363/363 [==============================] - 1s 3ms/step - loss: 1.3941e-04 - val_loss: 2.5421e-05\n",
      "Epoch 3/86\n",
      "363/363 [==============================] - 1s 3ms/step - loss: 1.4054e-04 - val_loss: 4.0243e-05\n",
      "Epoch 4/86\n",
      "363/363 [==============================] - 1s 3ms/step - loss: 1.4113e-04 - val_loss: 6.5428e-05\n",
      "Epoch 5/86\n",
      "363/363 [==============================] - 1s 3ms/step - loss: 1.3395e-04 - val_loss: 2.7098e-05\n",
      "Epoch 6/86\n",
      "363/363 [==============================] - 1s 3ms/step - loss: 1.3550e-04 - val_loss: 3.4214e-05\n",
      "Epoch 7/86\n",
      "363/363 [==============================] - 1s 3ms/step - loss: 1.3286e-04 - val_loss: 2.4909e-05\n",
      "Epoch 8/86\n",
      "363/363 [==============================] - 1s 3ms/step - loss: 1.2545e-04 - val_loss: 2.4871e-05\n",
      "Epoch 9/86\n",
      "363/363 [==============================] - 1s 3ms/step - loss: 1.3535e-04 - val_loss: 2.5630e-05\n",
      "Epoch 10/86\n",
      "363/363 [==============================] - 1s 3ms/step - loss: 1.4202e-04 - val_loss: 4.7202e-05\n",
      "Epoch 11/86\n",
      "363/363 [==============================] - 1s 3ms/step - loss: 1.2877e-04 - val_loss: 2.3712e-05\n",
      "Epoch 12/86\n",
      "363/363 [==============================] - 1s 3ms/step - loss: 1.4835e-04 - val_loss: 1.3980e-04\n",
      "Epoch 13/86\n",
      "363/363 [==============================] - 1s 3ms/step - loss: 1.4214e-04 - val_loss: 3.6523e-05\n",
      "Epoch 14/86\n",
      "363/363 [==============================] - 1s 3ms/step - loss: 1.3442e-04 - val_loss: 6.7386e-05\n",
      "Epoch 15/86\n",
      "363/363 [==============================] - 1s 3ms/step - loss: 1.3221e-04 - val_loss: 4.6505e-05\n",
      "Epoch 16/86\n",
      "363/363 [==============================] - 1s 3ms/step - loss: 1.4017e-04 - val_loss: 3.8099e-05\n",
      "Epoch 17/86\n",
      "363/363 [==============================] - 1s 3ms/step - loss: 1.3391e-04 - val_loss: 4.8267e-05\n",
      "Epoch 18/86\n",
      "363/363 [==============================] - 1s 3ms/step - loss: 1.3149e-04 - val_loss: 2.5116e-05\n",
      "Epoch 19/86\n",
      "363/363 [==============================] - 1s 3ms/step - loss: 1.3844e-04 - val_loss: 3.2662e-05\n",
      "Epoch 20/86\n",
      "363/363 [==============================] - 1s 3ms/step - loss: 1.3825e-04 - val_loss: 2.3309e-05\n",
      "Epoch 21/86\n",
      "363/363 [==============================] - 1s 3ms/step - loss: 1.2969e-04 - val_loss: 2.2935e-05\n",
      "Epoch 22/86\n",
      "363/363 [==============================] - 1s 3ms/step - loss: 1.3726e-04 - val_loss: 3.7752e-05\n",
      "Epoch 23/86\n",
      "363/363 [==============================] - 1s 3ms/step - loss: 1.3138e-04 - val_loss: 2.3998e-05\n",
      "Epoch 24/86\n",
      "363/363 [==============================] - 1s 3ms/step - loss: 1.3850e-04 - val_loss: 4.2385e-05\n",
      "Epoch 25/86\n",
      "363/363 [==============================] - 1s 3ms/step - loss: 1.3583e-04 - val_loss: 2.8437e-05\n",
      "Epoch 26/86\n",
      "363/363 [==============================] - 1s 3ms/step - loss: 1.3891e-04 - val_loss: 2.7551e-05\n",
      "Epoch 27/86\n",
      "363/363 [==============================] - 1s 3ms/step - loss: 1.3247e-04 - val_loss: 2.3608e-05\n",
      "Epoch 28/86\n",
      "363/363 [==============================] - 1s 3ms/step - loss: 1.3928e-04 - val_loss: 3.2555e-05\n",
      "Epoch 29/86\n",
      "363/363 [==============================] - 1s 3ms/step - loss: 1.3375e-04 - val_loss: 4.1693e-05\n",
      "Epoch 30/86\n",
      "363/363 [==============================] - 1s 3ms/step - loss: 1.3131e-04 - val_loss: 4.0350e-05\n",
      "Epoch 31/86\n",
      "363/363 [==============================] - 1s 3ms/step - loss: 1.2535e-04 - val_loss: 4.3950e-05\n",
      "Epoch 32/86\n",
      "363/363 [==============================] - 1s 3ms/step - loss: 1.4198e-04 - val_loss: 3.8825e-05\n",
      "Epoch 33/86\n",
      "363/363 [==============================] - 1s 3ms/step - loss: 1.2868e-04 - val_loss: 2.4603e-05\n",
      "Epoch 34/86\n",
      "363/363 [==============================] - 1s 3ms/step - loss: 1.3524e-04 - val_loss: 2.8248e-05\n",
      "Epoch 35/86\n",
      "363/363 [==============================] - 1s 3ms/step - loss: 1.3489e-04 - val_loss: 2.3331e-05\n",
      "Epoch 36/86\n",
      "363/363 [==============================] - 1s 3ms/step - loss: 1.3524e-04 - val_loss: 2.3232e-05\n",
      "Epoch 37/86\n",
      "363/363 [==============================] - 1s 3ms/step - loss: 1.4571e-04 - val_loss: 3.0929e-05\n",
      "Epoch 38/86\n",
      "363/363 [==============================] - 1s 3ms/step - loss: 1.3397e-04 - val_loss: 2.3298e-05\n",
      "Epoch 39/86\n",
      "363/363 [==============================] - 1s 3ms/step - loss: 1.3472e-04 - val_loss: 2.4914e-05\n",
      "Epoch 40/86\n",
      "363/363 [==============================] - 1s 3ms/step - loss: 1.3072e-04 - val_loss: 3.3332e-05\n",
      "Epoch 41/86\n",
      "363/363 [==============================] - 1s 3ms/step - loss: 1.3826e-04 - val_loss: 2.5003e-05\n",
      "Epoch 42/86\n",
      "363/363 [==============================] - 1s 3ms/step - loss: 1.4171e-04 - val_loss: 3.2160e-05\n",
      "Epoch 43/86\n",
      "363/363 [==============================] - 1s 3ms/step - loss: 1.3082e-04 - val_loss: 2.5183e-05\n",
      "Epoch 44/86\n",
      "363/363 [==============================] - 1s 3ms/step - loss: 1.3996e-04 - val_loss: 2.3890e-05\n",
      "Epoch 45/86\n",
      "363/363 [==============================] - 1s 3ms/step - loss: 1.3347e-04 - val_loss: 2.5298e-05\n",
      "Epoch 46/86\n",
      "363/363 [==============================] - 1s 3ms/step - loss: 1.3434e-04 - val_loss: 4.3913e-05\n",
      "Epoch 47/86\n",
      "363/363 [==============================] - 1s 3ms/step - loss: 1.3201e-04 - val_loss: 9.3143e-05\n",
      "Epoch 48/86\n",
      "363/363 [==============================] - 1s 3ms/step - loss: 1.3201e-04 - val_loss: 2.6978e-05\n",
      "Epoch 49/86\n",
      "363/363 [==============================] - 1s 3ms/step - loss: 1.3891e-04 - val_loss: 3.0167e-05\n",
      "Epoch 50/86\n",
      "363/363 [==============================] - 1s 3ms/step - loss: 1.4431e-04 - val_loss: 2.6036e-05\n",
      "Epoch 51/86\n",
      "363/363 [==============================] - 1s 3ms/step - loss: 1.3043e-04 - val_loss: 3.7403e-05\n",
      "Epoch 52/86\n",
      "363/363 [==============================] - 1s 3ms/step - loss: 1.3913e-04 - val_loss: 2.5932e-05\n",
      "Epoch 53/86\n",
      "363/363 [==============================] - 1s 3ms/step - loss: 1.3110e-04 - val_loss: 2.5970e-05\n",
      "Epoch 54/86\n",
      "363/363 [==============================] - 1s 3ms/step - loss: 1.3402e-04 - val_loss: 3.2318e-05\n",
      "Epoch 55/86\n",
      "363/363 [==============================] - 1s 3ms/step - loss: 1.3423e-04 - val_loss: 2.7077e-05\n",
      "Epoch 56/86\n",
      "363/363 [==============================] - 1s 3ms/step - loss: 1.3699e-04 - val_loss: 5.1179e-05\n",
      "Epoch 57/86\n",
      "363/363 [==============================] - 1s 3ms/step - loss: 1.4154e-04 - val_loss: 2.3816e-05\n",
      "Epoch 58/86\n",
      "363/363 [==============================] - 1s 3ms/step - loss: 1.3389e-04 - val_loss: 4.1433e-05\n",
      "Epoch 59/86\n",
      "363/363 [==============================] - 1s 3ms/step - loss: 1.3935e-04 - val_loss: 2.5752e-05\n",
      "Epoch 60/86\n",
      "363/363 [==============================] - 1s 3ms/step - loss: 1.3354e-04 - val_loss: 3.5023e-05\n",
      "Epoch 61/86\n",
      "363/363 [==============================] - 1s 3ms/step - loss: 1.3315e-04 - val_loss: 2.5478e-05\n",
      "Epoch 62/86\n",
      "363/363 [==============================] - 1s 3ms/step - loss: 1.3312e-04 - val_loss: 2.7331e-05\n",
      "Epoch 63/86\n",
      "363/363 [==============================] - 1s 3ms/step - loss: 1.3526e-04 - val_loss: 2.8181e-05\n",
      "Epoch 64/86\n",
      "363/363 [==============================] - 1s 3ms/step - loss: 1.2954e-04 - val_loss: 2.5647e-05\n",
      "Epoch 65/86\n",
      "363/363 [==============================] - 1s 3ms/step - loss: 1.3822e-04 - val_loss: 5.3600e-05\n",
      "Epoch 66/86\n",
      "363/363 [==============================] - 1s 3ms/step - loss: 1.3180e-04 - val_loss: 2.6487e-05\n",
      "Epoch 67/86\n",
      "363/363 [==============================] - 1s 3ms/step - loss: 1.3437e-04 - val_loss: 4.5337e-05\n",
      "Epoch 68/86\n",
      "363/363 [==============================] - 1s 3ms/step - loss: 1.4136e-04 - val_loss: 2.3439e-05\n",
      "Epoch 69/86\n",
      "363/363 [==============================] - 1s 3ms/step - loss: 1.3649e-04 - val_loss: 2.8257e-05\n",
      "Epoch 70/86\n",
      "363/363 [==============================] - 1s 3ms/step - loss: 1.3302e-04 - val_loss: 3.3472e-05\n",
      "Epoch 71/86\n",
      "363/363 [==============================] - 1s 3ms/step - loss: 1.3305e-04 - val_loss: 2.4344e-05\n",
      "Epoch 72/86\n",
      "363/363 [==============================] - 1s 3ms/step - loss: 1.3300e-04 - val_loss: 3.7553e-05\n",
      "Epoch 73/86\n",
      "363/363 [==============================] - 1s 3ms/step - loss: 1.3222e-04 - val_loss: 2.7326e-05\n",
      "Epoch 74/86\n",
      "363/363 [==============================] - 1s 3ms/step - loss: 1.4258e-04 - val_loss: 2.7787e-05\n",
      "Epoch 75/86\n",
      "363/363 [==============================] - 1s 3ms/step - loss: 1.4014e-04 - val_loss: 3.1191e-05\n",
      "Epoch 76/86\n",
      "363/363 [==============================] - 1s 3ms/step - loss: 1.3003e-04 - val_loss: 3.3228e-05\n",
      "Epoch 77/86\n",
      "363/363 [==============================] - 1s 3ms/step - loss: 1.3477e-04 - val_loss: 2.6014e-05\n",
      "Epoch 78/86\n",
      "363/363 [==============================] - 1s 3ms/step - loss: 1.3530e-04 - val_loss: 3.0956e-05\n",
      "Epoch 79/86\n",
      "363/363 [==============================] - 1s 3ms/step - loss: 1.2905e-04 - val_loss: 5.1247e-05\n",
      "Epoch 80/86\n",
      "363/363 [==============================] - 1s 3ms/step - loss: 1.4277e-04 - val_loss: 2.8377e-05\n",
      "Epoch 81/86\n",
      "363/363 [==============================] - 1s 3ms/step - loss: 1.4343e-04 - val_loss: 2.8527e-05\n",
      "Epoch 82/86\n",
      "363/363 [==============================] - 1s 3ms/step - loss: 1.3233e-04 - val_loss: 2.4993e-05\n",
      "Epoch 83/86\n",
      "363/363 [==============================] - 1s 3ms/step - loss: 1.3072e-04 - val_loss: 2.5050e-05\n",
      "Epoch 84/86\n",
      "363/363 [==============================] - 1s 3ms/step - loss: 1.3726e-04 - val_loss: 2.4171e-05\n",
      "Epoch 85/86\n",
      "363/363 [==============================] - 1s 3ms/step - loss: 1.2962e-04 - val_loss: 2.6241e-05\n",
      "Epoch 86/86\n",
      "363/363 [==============================] - 1s 3ms/step - loss: 1.3722e-04 - val_loss: 2.3372e-05\n"
     ]
    },
    {
     "data": {
      "image/png": "[encoded data removed]",
      "text/plain": [
       "<Figure size 640x480 with 1 Axes>"
      ]
     },
     "metadata": {},
     "output_type": "display_data"
    }
   ],
   "source": [
    "history = model.fit(trainX, trainY, validation_split=0.2, epochs=best_epochs, batch_size=best_batch_size)\n",
    "plt.plot(history.history['loss'], label='Train Loss')\n",
    "plt.plot(history.history['val_loss'], label='Validation Loss')\n",
    "plt.xlabel('Epochs')\n",
    "plt.ylabel('Loss')\n",
    "plt.legend()\n",
    "plt.show()"
   ]
  },
  {
   "cell_type": "code",
   "execution_count": null,
   "id": "c56ead73-2c48-4254-b3f5-b165f87ffdcc",
   "metadata": {},
   "outputs": [],
   "source": []
  },
  {
   "cell_type": "code",
   "execution_count": 1,
   "id": "7d43636b-c836-4074-9e10-3ec8b3b54a17",
   "metadata": {},
   "outputs": [
    {
     "name": "stdout",
     "output_type": "stream",
     "text": [
      "Model: \"sequential_158\"\n",
      "_________________________________________________________________\n",
      " Layer (type)                Output Shape              Param #   \n",
      "=================================================================\n",
      " lstm_158 (LSTM)             (None, 150)               93000     \n",
      "                                                                 \n",
      " dropout_158 (Dropout)       (None, 150)               0         \n",
      "                                                                 \n",
      " dense_158 (Dense)           (None, 1)                 151       \n",
      "                                                                 \n",
      "=================================================================\n",
      "Total params: 93151 (363.87 KB)\n",
      "Trainable params: 93151 (363.87 KB)\n",
      "Non-trainable params: 0 (0.00 Byte)\n",
      "_________________________________________________________________\n"
     ]
    }
   ],
   "source": [
    "from keras.models import load_model\n",
    "\n",
    "# Load the model\n",
    "model = load_model('optuna_model.h5')\n",
    "\n",
    "# Summarize model.\n",
    "model.summary()\n"
   ]
  },
  {
   "cell_type": "code",
   "execution_count": null,
   "id": "0e55d57d-14a7-449f-a2f4-86238ded4fb9",
   "metadata": {},
   "outputs": [],
   "source": []
  },
  {
   "cell_type": "code",
   "execution_count": null,
   "id": "43c70405-5054-4238-9b8d-904d47c85f98",
   "metadata": {},
   "outputs": [],
   "source": []
  }
 ],
 "metadata": {
  "kernelspec": {
   "display_name": "Python 3 (ipykernel)",
   "language": "python",
   "name": "python3"
  },
  "language_info": {
   "codemirror_mode": {
    "name": "ipython",
    "version": 3
   },
   "file_extension": ".py",
   "mimetype": "text/x-python",
   "name": "python",
   "nbconvert_exporter": "python",
   "pygments_lexer": "ipython3",
   "version": "3.10.12"
  }
 },
 "nbformat": 4,
 "nbformat_minor": 5
}
