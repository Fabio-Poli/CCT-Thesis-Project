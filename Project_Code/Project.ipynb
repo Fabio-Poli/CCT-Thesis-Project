{
 "cells": [
  {
   "cell_type": "code",
   "execution_count": 2,
   "id": "15954dc3-851c-4a00-bb8a-ac9ebc0f0605",
   "metadata": {},
   "outputs": [],
   "source": [
    "import requests\n",
    "import pandas as pd\n",
    "from datetime import datetime\n",
    "import os\n",
    "import gzip\n",
    "import shutil\n",
    "import pandas as pd\n",
    "from sklearn.impute import KNNImputer\n",
    "from datetime import datetime\n",
    "import requests\n",
    "import pandas as pd\n",
    "from datetime import datetime\n",
    "import matplotlib.pyplot as plt\n",
    "import seaborn as sns\n",
    "from pyspark.sql import SparkSession\n",
    "from pyspark.sql.functions import col, to_date, trim\n",
    "import requests\n",
    "import pandas as pd\n",
    "from datetime import datetime\n",
    "from pyspark.sql.functions import col, isnan"
   ]
  },
  {
   "cell_type": "code",
   "execution_count": 3,
   "id": "74b58725-ed86-4ec9-9966-98d4c31d29a1",
   "metadata": {},
   "outputs": [
    {
     "name": "stdout",
     "output_type": "stream",
     "text": [
      "            date         open         high          low        close  \\\n",
      "0     2024-01-05  4458.740230  4474.879880  4418.080080  4463.509770   \n",
      "1     2024-01-04  4451.720210  4476.720210  4443.419920  4474.009770   \n",
      "2     2024-01-03  4514.200200  4515.700200  4433.140140  4448.129880   \n",
      "3     2024-01-02  4528.450200  4568.799800  4484.819820  4512.810060   \n",
      "4     2023-12-29  4518.120120  4536.439940  4517.310060  4521.649900   \n",
      "...          ...          ...          ...          ...          ...   \n",
      "4867  2004-10-07  2834.620117  2834.620117  2834.620117  2834.620117   \n",
      "4868  2004-10-06  2831.879883  2831.879883  2831.879883  2831.879883   \n",
      "4869  2004-10-05  2830.120117  2830.120117  2830.120117  2830.120117   \n",
      "4870  2004-10-04  2823.459961  2823.459961  2823.459961  2823.459961   \n",
      "4871  2004-10-01  2796.080078  2796.080078  2796.080078  2796.080078   \n",
      "\n",
      "         adjClose    volume  unadjustedVolume    change  changePercent  \\\n",
      "0     4463.509770         0                 0   4.76954       0.106970   \n",
      "1     4474.009770  28082800          28082800  22.28956       0.500700   \n",
      "2     4448.129880  26376200          26376200 -66.07032      -1.460000   \n",
      "3     4512.810060         0                 0 -15.64014      -0.345380   \n",
      "4     4521.649900  13276900          13276900   3.52978       0.078125   \n",
      "...           ...       ...               ...       ...            ...   \n",
      "4867  2834.620117         0                 0   0.00000       0.000000   \n",
      "4868  2831.879883         0                 0   0.00000       0.000000   \n",
      "4869  2830.120117         0                 0   0.00000       0.000000   \n",
      "4870  2823.459961         0                 0   0.00000       0.000000   \n",
      "4871  2796.080078         0                 0   0.00000       0.000000   \n",
      "\n",
      "         vwap            label  changeOverTime  \n",
      "0     4452.16   January 05, 24        0.001070  \n",
      "1     4461.47   January 04, 24        0.005007  \n",
      "2     4477.79   January 03, 24       -0.014600  \n",
      "3     4522.14   January 02, 24       -0.003454  \n",
      "4     4523.38  December 29, 23        0.000781  \n",
      "...       ...              ...             ...  \n",
      "4867     0.00   October 07, 04        0.000000  \n",
      "4868     0.00   October 06, 04        0.000000  \n",
      "4869     0.00   October 05, 04        0.000000  \n",
      "4870     0.00   October 04, 04        0.000000  \n",
      "4871     0.00   October 01, 04        0.000000  \n",
      "\n",
      "[4872 rows x 13 columns]\n"
     ]
    }
   ],
   "source": [
    "# FMP API key\n",
    "api_key = '47461a32a9bcf3b0a6c2c6e98ccfab42'\n",
    "\n",
    "# Symbol for EURO STOXX 50\n",
    "stock_symbol = '^STOXX50E'\n",
    "\n",
    "# URL for the FMP historical data endpoint\n",
    "url = f'https://financialmodelingprep.com/api/v3/historical-price-full/{stock_symbol}?from=2004-10-01&to={datetime.now().strftime(\"%Y-%m-%d\")}&apikey={api_key}'\n",
    "\n",
    "# FMP API request\n",
    "response = requests.get(url)\n",
    "\n",
    "# Check if the request was successful\n",
    "if response.status_code == 200:\n",
    "    # Convert the response to JSON\n",
    "    data = response.json()\n",
    "\n",
    "    # Extract the historical data\n",
    "    if 'historical' in data:\n",
    "        historical_data = data['historical']\n",
    "\n",
    "        # Convert to a pandas DataFrame\n",
    "        index_data = pd.DataFrame(historical_data)\n",
    "\n",
    "        # Display the DataFrame\n",
    "        print(index_data)\n",
    "    else:\n",
    "        print(\"No 'historical' data found in the response.\")\n",
    "else:\n",
    "    print(f'Failed to retrieve data: {response.status_code}')\n"
   ]
  },
  {
   "cell_type": "code",
   "execution_count": 4,
   "id": "a6929b51-4a16-4b09-b3d9-c52b8d384295",
   "metadata": {},
   "outputs": [
    {
     "data": {
      "text/html": [
       "<div>\n",
       "<style scoped>\n",
       "    .dataframe tbody tr th:only-of-type {\n",
       "        vertical-align: middle;\n",
       "    }\n",
       "\n",
       "    .dataframe tbody tr th {\n",
       "        vertical-align: top;\n",
       "    }\n",
       "\n",
       "    .dataframe thead th {\n",
       "        text-align: right;\n",
       "    }\n",
       "</style>\n",
       "<table border=\"1\" class=\"dataframe\">\n",
       "  <thead>\n",
       "    <tr style=\"text-align: right;\">\n",
       "      <th></th>\n",
       "      <th>open</th>\n",
       "      <th>high</th>\n",
       "      <th>low</th>\n",
       "      <th>close</th>\n",
       "      <th>adjClose</th>\n",
       "      <th>volume</th>\n",
       "      <th>unadjustedVolume</th>\n",
       "      <th>change</th>\n",
       "      <th>changePercent</th>\n",
       "      <th>vwap</th>\n",
       "      <th>changeOverTime</th>\n",
       "    </tr>\n",
       "  </thead>\n",
       "  <tbody>\n",
       "    <tr>\n",
       "      <th>count</th>\n",
       "      <td>4872.000000</td>\n",
       "      <td>4872.000000</td>\n",
       "      <td>4872.000000</td>\n",
       "      <td>4872.000000</td>\n",
       "      <td>4872.000000</td>\n",
       "      <td>4.872000e+03</td>\n",
       "      <td>4.872000e+03</td>\n",
       "      <td>4872.000000</td>\n",
       "      <td>4872.000000</td>\n",
       "      <td>4872.000000</td>\n",
       "      <td>4872.000000</td>\n",
       "    </tr>\n",
       "    <tr>\n",
       "      <th>mean</th>\n",
       "      <td>3311.289038</td>\n",
       "      <td>3331.727832</td>\n",
       "      <td>3289.093923</td>\n",
       "      <td>3311.057938</td>\n",
       "      <td>3311.057320</td>\n",
       "      <td>2.311683e+07</td>\n",
       "      <td>2.312230e+07</td>\n",
       "      <td>-0.231100</td>\n",
       "      <td>-0.002066</td>\n",
       "      <td>1872.105908</td>\n",
       "      <td>-0.000021</td>\n",
       "    </tr>\n",
       "    <tr>\n",
       "      <th>std</th>\n",
       "      <td>585.307602</td>\n",
       "      <td>583.603326</td>\n",
       "      <td>587.710339</td>\n",
       "      <td>585.657011</td>\n",
       "      <td>585.655909</td>\n",
       "      <td>2.570864e+07</td>\n",
       "      <td>2.570655e+07</td>\n",
       "      <td>35.375452</td>\n",
       "      <td>1.166811</td>\n",
       "      <td>1774.854013</td>\n",
       "      <td>0.011668</td>\n",
       "    </tr>\n",
       "    <tr>\n",
       "      <th>min</th>\n",
       "      <td>1812.780029</td>\n",
       "      <td>1823.250000</td>\n",
       "      <td>1765.489990</td>\n",
       "      <td>1809.979981</td>\n",
       "      <td>1809.979981</td>\n",
       "      <td>0.000000e+00</td>\n",
       "      <td>0.000000e+00</td>\n",
       "      <td>-338.020020</td>\n",
       "      <td>-11.724000</td>\n",
       "      <td>0.000000</td>\n",
       "      <td>-0.117240</td>\n",
       "    </tr>\n",
       "    <tr>\n",
       "      <th>25%</th>\n",
       "      <td>2894.487488</td>\n",
       "      <td>2913.107483</td>\n",
       "      <td>2875.857422</td>\n",
       "      <td>2894.332581</td>\n",
       "      <td>2894.332581</td>\n",
       "      <td>0.000000e+00</td>\n",
       "      <td>0.000000e+00</td>\n",
       "      <td>-14.212462</td>\n",
       "      <td>-0.427000</td>\n",
       "      <td>0.000000</td>\n",
       "      <td>-0.004270</td>\n",
       "    </tr>\n",
       "    <tr>\n",
       "      <th>50%</th>\n",
       "      <td>3306.640015</td>\n",
       "      <td>3325.500000</td>\n",
       "      <td>3284.489990</td>\n",
       "      <td>3306.944946</td>\n",
       "      <td>3306.944946</td>\n",
       "      <td>2.265910e+07</td>\n",
       "      <td>2.267810e+07</td>\n",
       "      <td>0.000000</td>\n",
       "      <td>0.000000</td>\n",
       "      <td>2951.893350</td>\n",
       "      <td>0.000000</td>\n",
       "    </tr>\n",
       "    <tr>\n",
       "      <th>75%</th>\n",
       "      <td>3691.605042</td>\n",
       "      <td>3711.977478</td>\n",
       "      <td>3671.750000</td>\n",
       "      <td>3690.757507</td>\n",
       "      <td>3690.757507</td>\n",
       "      <td>4.011265e+07</td>\n",
       "      <td>4.011265e+07</td>\n",
       "      <td>15.815065</td>\n",
       "      <td>0.488000</td>\n",
       "      <td>3475.570842</td>\n",
       "      <td>0.004880</td>\n",
       "    </tr>\n",
       "    <tr>\n",
       "      <th>max</th>\n",
       "      <td>4555.779785</td>\n",
       "      <td>4593.109860</td>\n",
       "      <td>4542.109860</td>\n",
       "      <td>4557.569824</td>\n",
       "      <td>4557.569824</td>\n",
       "      <td>2.358453e+08</td>\n",
       "      <td>2.358453e+08</td>\n",
       "      <td>246.070070</td>\n",
       "      <td>10.076000</td>\n",
       "      <td>4555.620000</td>\n",
       "      <td>0.100760</td>\n",
       "    </tr>\n",
       "  </tbody>\n",
       "</table>\n",
       "</div>"
      ],
      "text/plain": [
       "              open         high          low        close     adjClose  \\\n",
       "count  4872.000000  4872.000000  4872.000000  4872.000000  4872.000000   \n",
       "mean   3311.289038  3331.727832  3289.093923  3311.057938  3311.057320   \n",
       "std     585.307602   583.603326   587.710339   585.657011   585.655909   \n",
       "min    1812.780029  1823.250000  1765.489990  1809.979981  1809.979981   \n",
       "25%    2894.487488  2913.107483  2875.857422  2894.332581  2894.332581   \n",
       "50%    3306.640015  3325.500000  3284.489990  3306.944946  3306.944946   \n",
       "75%    3691.605042  3711.977478  3671.750000  3690.757507  3690.757507   \n",
       "max    4555.779785  4593.109860  4542.109860  4557.569824  4557.569824   \n",
       "\n",
       "             volume  unadjustedVolume       change  changePercent  \\\n",
       "count  4.872000e+03      4.872000e+03  4872.000000    4872.000000   \n",
       "mean   2.311683e+07      2.312230e+07    -0.231100      -0.002066   \n",
       "std    2.570864e+07      2.570655e+07    35.375452       1.166811   \n",
       "min    0.000000e+00      0.000000e+00  -338.020020     -11.724000   \n",
       "25%    0.000000e+00      0.000000e+00   -14.212462      -0.427000   \n",
       "50%    2.265910e+07      2.267810e+07     0.000000       0.000000   \n",
       "75%    4.011265e+07      4.011265e+07    15.815065       0.488000   \n",
       "max    2.358453e+08      2.358453e+08   246.070070      10.076000   \n",
       "\n",
       "              vwap  changeOverTime  \n",
       "count  4872.000000     4872.000000  \n",
       "mean   1872.105908       -0.000021  \n",
       "std    1774.854013        0.011668  \n",
       "min       0.000000       -0.117240  \n",
       "25%       0.000000       -0.004270  \n",
       "50%    2951.893350        0.000000  \n",
       "75%    3475.570842        0.004880  \n",
       "max    4555.620000        0.100760  "
      ]
     },
     "execution_count": 4,
     "metadata": {},
     "output_type": "execute_result"
    }
   ],
   "source": [
    "index_data.describe()"
   ]
  },
  {
   "cell_type": "code",
   "execution_count": 5,
   "id": "38c0dc72-c92f-4714-9b30-8a4473abf2f8",
   "metadata": {},
   "outputs": [
    {
     "name": "stdout",
     "output_type": "stream",
     "text": [
      "                    date     open      low     high    close  volume  \\\n",
      "0    2024-01-05 17:25:00  4463.68  4462.89  4465.19  4463.01       0   \n",
      "1    2024-01-05 17:20:00  4463.82  4462.84  4464.30  4463.14       0   \n",
      "2    2024-01-05 17:15:00  4469.19  4463.49  4469.19  4463.98       0   \n",
      "3    2024-01-05 17:10:00  4467.49  4467.09  4470.13  4469.07       0   \n",
      "4    2024-01-05 17:05:00  4467.66  4466.81  4469.15  4467.25       0   \n",
      "..                   ...      ...      ...      ...      ...     ...   \n",
      "607  2023-12-27 09:20:00  4522.92  4521.80  4529.41  4529.41       0   \n",
      "608  2023-12-27 09:15:00  4523.71  4522.53  4525.11  4523.24       0   \n",
      "609  2023-12-27 09:10:00  4520.81  4520.51  4523.56  4523.56       0   \n",
      "610  2023-12-27 09:05:00  4527.18  4520.53  4527.18  4521.16       0   \n",
      "611  2023-12-27 09:00:00  4521.80  4521.80  4528.61  4528.21       0   \n",
      "\n",
      "           rsi  \n",
      "0    51.771944  \n",
      "1    51.967163  \n",
      "2    53.170109  \n",
      "3    61.132497  \n",
      "4    59.098827  \n",
      "..         ...  \n",
      "607   0.000000  \n",
      "608   0.000000  \n",
      "609   0.000000  \n",
      "610   0.000000  \n",
      "611   0.000000  \n",
      "\n",
      "[612 rows x 7 columns]\n"
     ]
    }
   ],
   "source": [
    "# FMP API key\n",
    "api_key = '47461a32a9bcf3b0a6c2c6e98ccfab42'\n",
    "\n",
    "# Symbol for the stock (e.g., '^STOXX50E' for EURO STOXX 50)\n",
    "stock_symbol = '^STOXX50E'\n",
    "\n",
    "# Specify the time interval (e.g., '5min', '15min', '1hour', '4hour', '1day')\n",
    "time_interval = '5min'\n",
    "\n",
    "# Specify the period for RSI calculation\n",
    "period = 14  # Commonly used period for RSI\n",
    "\n",
    "# URL for the FMP RSI endpoint\n",
    "url = f'https://financialmodelingprep.com/api/v3/technical_indicator/{time_interval}/{stock_symbol}?type=rsi&period={period}&apikey={api_key}'\n",
    "\n",
    "# FMP API request for RSI data\n",
    "response = requests.get(url)\n",
    "\n",
    "# Check if the request was successful\n",
    "if response.status_code == 200:\n",
    "    # Convert the response to JSON\n",
    "    data = response.json()\n",
    "\n",
    "    # Convert to a pandas DataFrame\n",
    "    rsi_data = pd.DataFrame(data)\n",
    "\n",
    "    # Display the DataFrame\n",
    "    print(rsi_data)\n",
    "else:\n",
    "    print(f'Failed to retrieve RSI data: {response.status_code}')\n"
   ]
  },
  {
   "cell_type": "code",
   "execution_count": 6,
   "id": "c9a0ec66-134a-4e3e-a897-7124d0b5b9d9",
   "metadata": {},
   "outputs": [
    {
     "name": "stdout",
     "output_type": "stream",
     "text": [
      "Failed to retrieve interest rate data: 404\n"
     ]
    }
   ],
   "source": [
    "# FMP API key\n",
    "api_key = '47461a32a9bcf3b0a6c2c6e98ccfab42'\n",
    "\n",
    "# URL for the FMP economic data endpoint (modify if there's a specific endpoint for interest rates)\n",
    "url = f'https://financialmodelingprep.com/api/v3/economic/interest-rate/EUR?apikey={api_key}'\n",
    "\n",
    "# FMP API request for interest rate data\n",
    "response = requests.get(url)\n",
    "\n",
    "# Check if the request was successful\n",
    "if response.status_code == 200:\n",
    "    # Convert the response to JSON\n",
    "    data = response.json()\n",
    "\n",
    "    # Convert to a pandas DataFrame\n",
    "    interest_rate_data = pd.DataFrame(data)\n",
    "\n",
    "    # Assuming the data includes a date and interest rate, set the date as the index\n",
    "    interest_rate_data['date'] = pd.to_datetime(interest_rate_data['date'])\n",
    "    interest_rate_data.set_index('date', inplace=True)\n",
    "\n",
    "    # Resample the data to get monthly data if necessary\n",
    "    monthly_interest_rate = interest_rate_data.resample('M').mean()\n",
    "\n",
    "    # Display the DataFrame\n",
    "    print(monthly_interest_rate)\n",
    "else:\n",
    "    print(f'Failed to retrieve interest rate data: {response.status_code}')\n"
   ]
  },
  {
   "cell_type": "markdown",
   "id": "8597234e-9980-4b87-8cdd-d81bafd89a92",
   "metadata": {},
   "source": [
    "# Interest Rate API (Eurostat)"
   ]
  },
  {
   "cell_type": "code",
   "execution_count": 17,
   "id": "3bab679d-b771-4e7e-9a75-f94f69e4a309",
   "metadata": {},
   "outputs": [
    {
     "name": "stdout",
     "output_type": "stream",
     "text": [
      "Dataset downloaded successfully.\n",
      "Dataset unzipped successfully.\n"
     ]
    }
   ],
   "source": [
    "# Dataset code\n",
    "dataset_code = \"ei_mfir_m\"\n",
    "\n",
    "# API URL for downloading the dataset\n",
    "api_url = f\"https://ec.europa.eu/eurostat/api/dissemination/sdmx/2.1/data/{dataset_code}?format=TSV&compressed=true\"\n",
    "\n",
    "# Download the dataset\n",
    "response = requests.get(api_url, stream=True)\n",
    "output_file = dataset_code + \".tsv.gz\"\n",
    "\n",
    "if response.status_code == 200:\n",
    "    with open(output_file, 'wb') as f:\n",
    "        f.write(response.content)\n",
    "    print(\"Dataset downloaded successfully.\")\n",
    "else:\n",
    "    print(f\"Error downloading dataset. Status code: {response.status_code}\")\n",
    "\n",
    "# Unzipping the dataset\n",
    "with gzip.open(output_file, 'rb') as f_in:\n",
    "    with open(dataset_code + \".tsv\", 'wb') as f_out:\n",
    "        shutil.copyfileobj(f_in, f_out)\n",
    "\n",
    "print(\"Dataset unzipped successfully.\")\n"
   ]
  },
  {
   "cell_type": "code",
   "execution_count": 18,
   "id": "4a057cd3-9989-4651-b54c-a3276e121656",
   "metadata": {},
   "outputs": [
    {
     "name": "stdout",
     "output_type": "stream",
     "text": [
      "Current Working Directory: /home/fabiopoli/Desktop\n"
     ]
    }
   ],
   "source": [
    "# Get the current working directory\n",
    "current_directory = os.getcwd()\n",
    "print(\"Current Working Directory:\", current_directory)\n",
    "\n",
    "# Construct the file path dynamically\n",
    "file_name = 'ei_mfir_m.tsv'  # File Name\n",
    "file_path = os.path.join(current_directory, file_name)\n",
    "\n",
    "# Load the dataset\n",
    "data = pd.read_csv(file_path, sep='\\t')\n",
    "\n",
    "# Split the first column into separate columns\n",
    "split_columns = data.iloc[:, 0].str.split(',', expand=True)\n",
    "split_columns.columns = ['freq', 's_adj', 'p_adj', 'indic', 'geo']\n",
    "\n",
    "# Combine the split columns with the original data (excluding the first column)\n",
    "structured_data = pd.concat([split_columns, data.iloc[:, 1:]], axis=1)\n",
    "\n",
    "# Apply filters\n",
    "structured_data = structured_data[\n",
    "    (structured_data['indic'] == 'MF-3MI-RT')\n",
    "]\n",
    "\n",
    "# Drop unnecessary columns\n",
    "structured_data.drop(['freq', 's_adj', 'p_adj'], axis=1, inplace=True)\n",
    "\n",
    "# Filter for date range (from October 1, 2004, onwards)\n",
    "date_columns = structured_data.columns[3:]\n",
    "dates_from_oct_2004 = date_columns[date_columns >= '2004-10-01 ']\n",
    "structured_data = structured_data[['indic','geo'] + list(dates_from_oct_2004)]\n",
    "\n",
    "# Reset the index for a clean table\n",
    "structured_data.reset_index(drop=True, inplace=True)\n",
    "\n",
    "# Display the structured DataFrame\n",
    "pd.set_option('display.max_columns', None)"
   ]
  },
  {
   "cell_type": "code",
   "execution_count": 19,
   "id": "f5f1d191-bc32-4985-9e88-95ab54f6ad67",
   "metadata": {},
   "outputs": [
    {
     "name": "stdout",
     "output_type": "stream",
     "text": [
      "       Period geo  Interest\n",
      "3    2005-02   EA  2.13840 \n",
      "16   2005-03   EA  2.13720 \n",
      "29   2005-04   EA  2.13720 \n",
      "42   2005-05   EA  2.12560 \n",
      "55   2005-06   EA  2.11100 \n",
      "68   2005-07   EA  2.11940 \n",
      "81   2005-08   EA  2.13250 \n",
      "94   2005-09   EA  2.13910 \n",
      "107  2005-10   EA  2.19660 \n",
      "120  2005-11   EA  2.36090 \n"
     ]
    }
   ],
   "source": [
    "# Filter out only the columns with date values for melting\n",
    "date_columns = structured_data.columns[5:]  \n",
    "data_for_melting = structured_data[['geo'] + list(date_columns)]\n",
    "\n",
    "# Melt the DataFrame to change its structure\n",
    "structured_data = pd.melt(data_for_melting, id_vars=['geo'], var_name='Period', value_name='Interest')\n",
    "\n",
    "# Filter for 'geo' == 'EA'\n",
    "Interest_data_ea = structured_data[structured_data['geo'] == 'EA']\n",
    "\n",
    "# Apply forward filling\n",
    "Interest_data_ea.loc[:, 'Interest'] = Interest_data_ea['Interest'].ffill()\n",
    "\n",
    "# Rearrange the columns\n",
    "Interest_data_ea = Interest_data_ea[['Period', 'geo', 'Interest']]\n",
    "\n",
    "# Display the transformed DataFrame\n",
    "pd.set_option('display.max_rows', None)  # This option displays all the rows\n",
    "print(Interest_data_ea.head(10))\n"
   ]
  },
  {
   "cell_type": "code",
   "execution_count": 20,
   "id": "24c56b6d-6827-4427-ad8b-562891a7c656",
   "metadata": {},
   "outputs": [
    {
     "name": "stdout",
     "output_type": "stream",
     "text": [
      "      Period geo  Interest\n",
      "0 2005-02-01  EA  2.13840 \n",
      "1 2005-02-02  EA  2.13840 \n",
      "2 2005-02-03  EA  2.13840 \n",
      "3 2005-02-04  EA  2.13840 \n",
      "4 2005-02-05  EA  2.13840 \n",
      "5 2005-02-06  EA  2.13840 \n",
      "6 2005-02-07  EA  2.13840 \n",
      "7 2005-02-08  EA  2.13840 \n",
      "8 2005-02-09  EA  2.13840 \n",
      "9 2005-02-10  EA  2.13840 \n"
     ]
    },
    {
     "name": "stderr",
     "output_type": "stream",
     "text": [
      "/tmp/ipykernel_3876/1400875269.py:6: UserWarning: Could not infer format, so each element will be parsed individually, falling back to `dateutil`. To ensure parsing is consistent and as-expected, please specify a format.\n",
      "  Interest_data_ea['Period'] = pd.to_datetime(Interest_data_ea['Period'])\n"
     ]
    }
   ],
   "source": [
    "# Convert 'Period' to datetime\n",
    "Interest_data_ea['Period'] = pd.to_datetime(Interest_data_ea['Period'])\n",
    "\n",
    "# Set 'Period' as the index\n",
    "Interest_data_ea.set_index('Period', inplace=True)\n",
    "\n",
    "# Create a daily date range that covers the entire period in your data\n",
    "start_date = Interest_data_ea.index.min()\n",
    "end_date = Interest_data_ea.index.max()\n",
    "all_days = pd.date_range(start=start_date, end=end_date, freq='D')\n",
    "\n",
    "# Reindex your DataFrame to this date range, forward filling the missing values\n",
    "daily_interest_data = Interest_data_ea.reindex(all_days).ffill()\n",
    "\n",
    "# Reset the index so 'Period' becomes a column again\n",
    "daily_interest_data.reset_index(inplace=True)\n",
    "daily_interest_data.rename(columns={'index': 'Period'}, inplace=True)\n",
    "\n",
    "# Display the first 10 rows of the daily data\n",
    "print(daily_interest_data.head(10))"
   ]
  },
  {
   "cell_type": "code",
   "execution_count": 25,
   "id": "b0311287-750a-4045-a788-28f5ca5e55fa",
   "metadata": {},
   "outputs": [
    {
     "name": "stdout",
     "output_type": "stream",
     "text": [
      "      Period geo  Interest\n",
      "0 2005-02-01  EA   2.13840\n",
      "1 2005-02-02  EA   2.12988\n",
      "2 2005-02-03  EA   2.12988\n",
      "3 2005-02-04  EA   2.12988\n",
      "4 2005-02-05  EA   2.12988\n",
      "5 2005-02-06  EA   2.12988\n",
      "6 2005-02-07  EA   2.12988\n",
      "7 2005-02-08  EA   2.12988\n",
      "8 2005-02-09  EA   2.12988\n",
      "9 2005-02-10  EA   2.12988\n"
     ]
    }
   ],
   "source": [
    "# Check if 'Period' is in the columns; if not, the index might already be the 'Period'\n",
    "if 'Period' in Interest_data_ea.columns:\n",
    "    Interest_data_ea['Period'] = pd.to_datetime(Interest_data_ea['Period'])\n",
    "    Interest_data_ea.set_index('Period', inplace=True)\n",
    "elif not isinstance(Interest_data_ea.index, pd.DatetimeIndex):\n",
    "    # If the index is not a datetime, convert it\n",
    "    Interest_data_ea.index = pd.to_datetime(Interest_data_ea.index)\n",
    "\n",
    "# Create a daily date range\n",
    "start_date = Interest_data_ea.index.min()\n",
    "end_date = Interest_data_ea.index.max()\n",
    "all_days = pd.date_range(start=start_date, end=end_date, freq='D')\n",
    "\n",
    "# Reindex to create a DataFrame with all days, introducing NaNs for days without data\n",
    "daily_interest_data = Interest_data_ea.reindex(all_days)\n",
    "\n",
    "# Convert the index to a numerical value for KNN\n",
    "daily_interest_data['Day_Ordinal'] = daily_interest_data.index.map(datetime.toordinal)\n",
    "\n",
    "# Extract the 'Interest' column for imputation\n",
    "knn_data = daily_interest_data[['Day_Ordinal', 'Interest']].values\n",
    "\n",
    "# Initialize KNN Imputer\n",
    "knn_imputer = KNNImputer(n_neighbors=5)\n",
    "\n",
    "# Apply KNN imputation\n",
    "knn_data_imputed = knn_imputer.fit_transform(knn_data)\n",
    "\n",
    "# Put the imputed 'Interest' data back into the DataFrame\n",
    "daily_interest_data['Interest'] = knn_data_imputed[:, 1]\n",
    "\n",
    "# Drop the 'Day_Ordinal' column as it's no longer needed\n",
    "daily_interest_data.drop('Day_Ordinal', axis=1, inplace=True)\n",
    "\n",
    "# Reset index to make 'Period' a column again\n",
    "daily_interest_data.reset_index(inplace=True)\n",
    "daily_interest_data.rename(columns={'index': 'Period'}, inplace=True)\n",
    "\n",
    "# If the 'geo' column is required, fill it with a constant value (e.g., 'EA')\n",
    "daily_interest_data['geo'] = 'EA'\n",
    "\n",
    "# Display the first 10 rows of the daily data\n",
    "print(daily_interest_data.head(10))\n"
   ]
  },
  {
   "cell_type": "code",
   "execution_count": null,
   "id": "8db2c60c-983e-4ffa-8777-19ccf5969cf3",
   "metadata": {},
   "outputs": [],
   "source": []
  },
  {
   "cell_type": "markdown",
   "id": "75932c1a-6e81-4ce1-8f20-a644d6b56323",
   "metadata": {},
   "source": [
    "# Bonds Yild API (Eurostat)"
   ]
  },
  {
   "cell_type": "code",
   "execution_count": 4,
   "id": "6c235fd6-cf50-42b0-9142-a4bfd163c124",
   "metadata": {},
   "outputs": [
    {
     "name": "stdout",
     "output_type": "stream",
     "text": [
      "Dataset downloaded successfully.\n",
      "Dataset unzipped successfully.\n"
     ]
    }
   ],
   "source": [
    "# Dataset code\n",
    "dataset_code = \"irt_euryld_d\"\n",
    "\n",
    "# API URL for downloading the dataset\n",
    "api_url = f\"https://ec.europa.eu/eurostat/api/dissemination/sdmx/2.1/data/{dataset_code}?format=TSV&compressed=true\"\n",
    "\n",
    "# Download the dataset\n",
    "response = requests.get(api_url, stream=True)\n",
    "output_file = dataset_code + \".tsv.gz\"\n",
    "\n",
    "if response.status_code == 200:\n",
    "    with open(output_file, 'wb') as f:\n",
    "        f.write(response.content)\n",
    "    print(\"Dataset downloaded successfully.\")\n",
    "else:\n",
    "    print(f\"Error downloading dataset. Status code: {response.status_code}\")\n",
    "\n",
    "# Unzipping the dataset\n",
    "with gzip.open(output_file, 'rb') as f_in:\n",
    "    with open(dataset_code + \".tsv\", 'wb') as f_out:\n",
    "        shutil.copyfileobj(f_in, f_out)\n",
    "\n",
    "print(\"Dataset unzipped successfully.\")\n"
   ]
  },
  {
   "cell_type": "code",
   "execution_count": 5,
   "id": "6f3d79b6-dd27-48d4-8ee7-d78e53cb60f6",
   "metadata": {},
   "outputs": [
    {
     "name": "stdout",
     "output_type": "stream",
     "text": [
      "Current Working Directory: /home/fabiopoli/Desktop\n"
     ]
    },
    {
     "name": "stderr",
     "output_type": "stream",
     "text": [
      "/tmp/ipykernel_85306/3711088935.py:10: DtypeWarning: Columns (4417) have mixed types. Specify dtype option on import or set low_memory=False.\n",
      "  data = pd.read_csv(file_path, sep='\\t')\n"
     ]
    }
   ],
   "source": [
    "# Get the current working directory\n",
    "current_directory = os.getcwd()\n",
    "print(\"Current Working Directory:\", current_directory)\n",
    "\n",
    "# Construct the file path dynamically\n",
    "file_name = 'irt_euryld_d.tsv'  # File Name\n",
    "file_path = os.path.join(current_directory, file_name)\n",
    "\n",
    "# Load the dataset\n",
    "data = pd.read_csv(file_path, sep='\\t')\n",
    "\n",
    "# Split the first column into separate columns\n",
    "split_columns = data.iloc[:, 0].str.split(',', expand=True)\n",
    "split_columns.columns = ['freq', 'yld_curv', 'maturity', 'bonds', 'geo']\n",
    "\n",
    "# Combine the split columns with the original data (excluding the first column)\n",
    "structured_data = pd.concat([split_columns, data.iloc[:, 1:]], axis=1)\n",
    "\n",
    "# Apply filters\n",
    "structured_data = structured_data[\n",
    "    (structured_data['yld_curv'] == 'SPOT_RT') & \n",
    "    (structured_data['bonds'] == 'CGB_EA')\n",
    "]\n",
    "\n",
    "# Drop unnecessary columns\n",
    "structured_data.drop(['freq', 'geo'], axis=1, inplace=True)\n",
    "\n",
    "# Filter for date range (from October 1, 2004, onwards)\n",
    "date_columns = structured_data.columns[3:]\n",
    "dates_from_oct_2004 = date_columns[date_columns >= '2004-10-01 ']\n",
    "structured_data = structured_data[['yld_curv', 'maturity', 'bonds'] + list(dates_from_oct_2004)]\n",
    "\n",
    "# Reset the index for a clean table\n",
    "structured_data.reset_index(drop=True, inplace=True)\n",
    "\n",
    "# Display the structured DataFrame\n",
    "pd.set_option('display.max_columns', None)"
   ]
  },
  {
   "cell_type": "code",
   "execution_count": 6,
   "id": "6eca047b-9076-46cf-a25e-e8496b7bc7b3",
   "metadata": {},
   "outputs": [
    {
     "name": "stdout",
     "output_type": "stream",
     "text": [
      "        Period maturity     Rate\n",
      "0  2004-10-01       M10  2.22092\n",
      "1  2004-10-01       M11  2.24739\n",
      "2  2004-10-01        M3  2.03426\n",
      "3  2004-10-01        M4  2.06099\n",
      "4  2004-10-01        M5  2.08772\n"
     ]
    }
   ],
   "source": [
    "# Filter out only the columns with date values for melting\n",
    "date_columns = structured_data.columns[3:]  # Assuming date columns start from the 4th column\n",
    "data_for_melting = structured_data[['maturity'] + list(date_columns)]\n",
    "\n",
    "# Melt the DataFrame to change its structure\n",
    "interest_data = pd.melt(data_for_melting, id_vars=['maturity'], var_name='Period', value_name='Rate')\n",
    "\n",
    "# Specify the desired maturities (M1 to M12 and Y1 to Y30)\n",
    "desired_maturities = [f'M{i}' for i in range(1, 3)] + [f'Y{i}' for i in range(1, 10)]\n",
    "\n",
    "# Filter the DataFrame to include only the specified maturities\n",
    "interest_data = interest_data[interest_data['maturity'].isin(desired_maturities)]\n",
    "\n",
    "# Rearrange the columns\n",
    "interest_data = interest_data[['Period', 'maturity', 'Rate']]\n",
    "\n",
    "# Display the transformed DataFrame\n",
    "pd.set_option('display.max_rows', None)  # This option displays all the rows\n",
    "print(interest_data.head())\n"
   ]
  },
  {
   "cell_type": "markdown",
   "id": "eac2005f-ad08-4054-a554-9c035972bd62",
   "metadata": {},
   "source": [
    "# Inflation Rate API (Eurostat)"
   ]
  },
  {
   "cell_type": "code",
   "execution_count": 58,
   "id": "155c37e4-15a3-4a40-83f4-912786f10e0c",
   "metadata": {},
   "outputs": [
    {
     "name": "stdout",
     "output_type": "stream",
     "text": [
      "Dataset downloaded successfully.\n",
      "Dataset unzipped successfully.\n"
     ]
    }
   ],
   "source": [
    "# Dataset code\n",
    "dataset_code = \"prc_hicp_manr\"\n",
    "\n",
    "# API URL for downloading the dataset\n",
    "api_url = f\"https://ec.europa.eu/eurostat/api/dissemination/sdmx/2.1/data/{dataset_code}?format=TSV&compressed=true\"\n",
    "\n",
    "# Download the dataset\n",
    "response = requests.get(api_url, stream=True)\n",
    "output_file = dataset_code + \".tsv.gz\"\n",
    "\n",
    "if response.status_code == 200:\n",
    "    with open(output_file, 'wb') as f:\n",
    "        f.write(response.content)\n",
    "    print(\"Dataset downloaded successfully.\")\n",
    "else:\n",
    "    print(f\"Error downloading dataset. Status code: {response.status_code}\")\n",
    "\n",
    "# Unzipping the dataset\n",
    "with gzip.open(output_file, 'rb') as f_in:\n",
    "    with open(dataset_code + \".tsv\", 'wb') as f_out:\n",
    "        shutil.copyfileobj(f_in, f_out)\n",
    "\n",
    "print(\"Dataset unzipped successfully.\")"
   ]
  },
  {
   "cell_type": "code",
   "execution_count": 63,
   "id": "d7a534f6-4c7e-4161-acc1-e454d0264550",
   "metadata": {},
   "outputs": [
    {
     "name": "stdout",
     "output_type": "stream",
     "text": [
      "Current Working Directory: /home/fabiopoli/Desktop\n"
     ]
    }
   ],
   "source": [
    "# Get the current working directory\n",
    "current_directory = os.getcwd()\n",
    "print(\"Current Working Directory:\", current_directory)\n",
    "\n",
    "# Construct the file path dynamically\n",
    "file_name = 'prc_hicp_manr.tsv'  # File Name\n",
    "file_path = os.path.join(current_directory, file_name)\n",
    "\n",
    "# Load the dataset\n",
    "data = pd.read_csv(file_path, sep='\\t')\n",
    "\n",
    "# Split the first column into separate columns\n",
    "split_columns = data.iloc[:, 0].str.split(',', expand=True)\n",
    "split_columns.columns = ['freq', 'unit', 'coicop', 'geo']\n",
    "\n",
    "# Combine the split columns with the original data (excluding the first column)\n",
    "structured_data = pd.concat([split_columns, data.iloc[:, 1:]], axis=1)\n",
    "\n",
    "# Apply filters\n",
    "structured_data = structured_data[\n",
    "    (structured_data['unit'] == 'RCH_A') & \n",
    "    (structured_data['coicop'] == 'CP00')\n",
    "]\n",
    "\n",
    "# Drop unnecessary columns\n",
    "structured_data.drop(['freq'], axis=1, inplace=True)\n",
    "\n",
    "# Filter for date range (from January 1, 2005, onwards)\n",
    "date_columns = structured_data.columns[3:]\n",
    "dates_from_oct_2004 = date_columns[date_columns >= '2004-10-01 ']\n",
    "structured_data = structured_data[['unit', 'coicop', 'geo'] + list(dates_from_oct_2004)]\n",
    "\n",
    "# Reset the index for a clean table\n",
    "structured_data.reset_index(drop=True, inplace=True)\n",
    "\n",
    "# Display the structured DataFrame\n",
    "pd.set_option('display.max_columns', None)"
   ]
  },
  {
   "cell_type": "code",
   "execution_count": 64,
   "id": "87fc8e93-4664-47e4-9e3c-e3ced50311eb",
   "metadata": {},
   "outputs": [
    {
     "name": "stdout",
     "output_type": "stream",
     "text": [
      "       Period geo Inflation\n",
      "9    2005-01   EA      1.9 \n",
      "54   2005-02   EA      2.1 \n",
      "99   2005-03   EA      2.2 \n",
      "144  2005-04   EA      2.1 \n",
      "189  2005-05   EA      2.0 \n",
      "234  2005-06   EA      2.0 \n",
      "279  2005-07   EA      2.1 \n",
      "324  2005-08   EA      2.2 \n",
      "369  2005-09   EA      2.6 \n",
      "414  2005-10   EA      2.5 \n"
     ]
    }
   ],
   "source": [
    "# Filter out only the columns with date values for melting\n",
    "date_columns = structured_data.columns[5:]  # Assuming date columns start from the 6th column\n",
    "data_for_melting = structured_data[['geo'] + list(date_columns)]\n",
    "\n",
    "# Melt the DataFrame to change its structure\n",
    "inflation_data = pd.melt(data_for_melting, id_vars=['geo'], var_name='Period', value_name='Inflation')\n",
    "\n",
    "# Filter for 'geo' == 'EA'\n",
    "inflation_data_ea = inflation_data[inflation_data['geo'] == 'EA']\n",
    "\n",
    "# Apply forward filling\n",
    "inflation_data_ea.loc[:, 'Inflation'] = inflation_data_ea['Inflation'].ffill()\n",
    "\n",
    "# Rearrange the columns\n",
    "inflation_data_ea = inflation_data_ea[['Period', 'geo', 'Inflation']]\n",
    "\n",
    "# Display the transformed DataFrame\n",
    "pd.set_option('display.max_rows', None)  # This option displays all the rows\n",
    "print(inflation_data_ea.head(10))\n"
   ]
  },
  {
   "cell_type": "code",
   "execution_count": 67,
   "id": "af5f1ae9-ac11-4cec-bbd9-bca717be51c1",
   "metadata": {},
   "outputs": [
    {
     "name": "stdout",
     "output_type": "stream",
     "text": [
      "      Period geo  Inflation\n",
      "0 2005-01-01  EA        1.9\n",
      "1 2005-01-02  EA        1.9\n",
      "2 2005-01-03  EA        1.9\n",
      "3 2005-01-04  EA        1.9\n",
      "4 2005-01-05  EA        1.9\n",
      "5 2005-01-06  EA        1.9\n",
      "6 2005-01-07  EA        1.9\n",
      "7 2005-01-08  EA        1.9\n",
      "8 2005-01-09  EA        1.9\n",
      "9 2005-01-10  EA        1.9\n"
     ]
    },
    {
     "name": "stderr",
     "output_type": "stream",
     "text": [
      "/tmp/ipykernel_85306/1025499820.py:8: UserWarning: Could not infer format, so each element will be parsed individually, falling back to `dateutil`. To ensure parsing is consistent and as-expected, please specify a format.\n",
      "  inflation_data_ea['Period'] = pd.to_datetime(inflation_data_ea['Period'])\n"
     ]
    }
   ],
   "source": [
    "# Convert 'Period' to datetime\n",
    "inflation_data_ea['Period'] = pd.to_datetime(inflation_data_ea['Period'])\n",
    "\n",
    "# Set 'Period' as the DataFrame index\n",
    "inflation_data_ea.set_index('Period', inplace=True)\n",
    "\n",
    "# Resample to daily data using forward fill\n",
    "daily_data_ffill = inflation_data_ea.resample('D').ffill()\n",
    "\n",
    "# Reset index to move 'Period' back to a column\n",
    "daily_data_ffill.reset_index(inplace=True)\n",
    "\n",
    "# Display the first 10 rows of the daily data\n",
    "print(daily_data_ffill.head(10))\n"
   ]
  },
  {
   "cell_type": "code",
   "execution_count": null,
   "id": "c0a6b469-d155-4ffb-aa15-039b91c124db",
   "metadata": {},
   "outputs": [],
   "source": [
    "# Create a daily date range that covers the entire period of your data\n",
    "date_range = pd.date_range(start=inflation_data_ea.index.min(), end=inflation_data_ea.index.max(), freq='D')\n",
    "\n",
    "# Create a new DataFrame for KNN imputation\n",
    "daily_data_knn = pd.DataFrame(date_range, columns=['Period'])\n",
    "\n",
    "# Merge with your existing data - this will introduce NaNs for days without data\n",
    "daily_data_knn = daily_data_knn.merge(inflation_data_ea, on='Period', how='left')\n",
    "\n",
    "# Convert 'Period' to a numerical value (e.g., days since start)\n",
    "daily_data_knn['Period_ordinal'] = daily_data_knn['Period'].apply(lambda x: x.toordinal())\n",
    "\n",
    "# Prepare data for KNN imputation\n",
    "knn_data = daily_data_knn[['Period_ordinal', 'Inflation']]\n",
    "\n",
    "# Initialize KNN Imputer - you can adjust the number of neighbors\n",
    "knn_imputer = KNNImputer(n_neighbors=5)\n",
    "\n",
    "# Apply KNN imputation\n",
    "knn_data_imputed = knn_imputer.fit_transform(knn_data)\n",
    "\n",
    "# Add imputed data back to DataFrame\n",
    "daily_data_knn['Inflation'] = knn_data_imputed[:, 1]\n",
    "\n",
    "# Convert 'Period_ordinal' back to datetime\n",
    "daily_data_knn['Period'] = daily_data_knn['Period_ordinal'].apply(lambda x: pd.to_datetime(x, origin='julian', unit='D'))\n",
    "\n",
    "# Drop the 'Period_ordinal' column\n",
    "daily_data_knn.drop(columns='Period_ordinal', inplace=True)\n",
    "\n",
    "# Display the first 10 rows of the daily data\n",
    "print(daily_data_knn.head(10))\n"
   ]
  },
  {
   "cell_type": "code",
   "execution_count": null,
   "id": "39ccaa48-f6e8-4a70-8a42-4af1db0d3561",
   "metadata": {},
   "outputs": [],
   "source": []
  },
  {
   "cell_type": "code",
   "execution_count": null,
   "id": "6089faf6-31c4-4c73-b167-915b5e0fa021",
   "metadata": {},
   "outputs": [],
   "source": []
  },
  {
   "cell_type": "code",
   "execution_count": null,
   "id": "e98e0a12-96a7-41b6-b773-ed91d35e5c60",
   "metadata": {},
   "outputs": [],
   "source": []
  },
  {
   "cell_type": "code",
   "execution_count": 66,
   "id": "81725ab2-94d7-4d92-a6c4-46da7dc62e2a",
   "metadata": {},
   "outputs": [
    {
     "name": "stdout",
     "output_type": "stream",
     "text": [
      "Forward Fill Statistics:\n",
      " count    228.000000\n",
      "mean       2.117105\n",
      "std        2.085743\n",
      "min       -0.600000\n",
      "25%        0.800000\n",
      "50%        1.800000\n",
      "75%        2.500000\n",
      "max       10.600000\n",
      "Name: Inflation, dtype: float64\n",
      "\n",
      "KNN Imputation Statistics:\n",
      " count    228.000000\n",
      "mean       2.117105\n",
      "std        2.085743\n",
      "min       -0.600000\n",
      "25%        0.800000\n",
      "50%        1.800000\n",
      "75%        2.500000\n",
      "max       10.600000\n",
      "Name: Inflation, dtype: float64\n"
     ]
    },
    {
     "data": {
      "image/png": "[encoded data removed]",
      "text/plain": [
       "<Figure size 1800x600 with 2 Axes>"
      ]
     },
     "metadata": {},
     "output_type": "display_data"
    }
   ],
   "source": [
    "\n",
    "# Assuming inflation_data_ea (forward fill), inflation_data_ea_bfill (backward fill), \n",
    "# and inflation_data_ea_knn (KNN imputation) are your datasets\n",
    "\n",
    "# Statistical Analysis\n",
    "print(\"Forward Fill Statistics:\\n\", inflation_data_ea['Inflation'].describe())\n",
    "print(\"\\nKNN Imputation Statistics:\\n\", inflation_data_ea_knn['Inflation'].describe())\n",
    "\n",
    "# Distribution Comparison\n",
    "plt.figure(figsize=(18, 6))\n",
    "\n",
    "plt.subplot(1, 3, 1)\n",
    "sns.histplot(inflation_data_ea['Inflation'], kde=True, color='blue', label='Forward Fill')\n",
    "plt.title('Distribution of Inflation - Forward Fill')\n",
    "plt.xlabel('Inflation')\n",
    "plt.ylabel('Frequency')\n",
    "plt.legend()\n",
    "\n",
    "plt.subplot(1, 3, 3)\n",
    "sns.histplot(inflation_data_ea_knn['Inflation'], kde=True, color='green', label='KNN Imputation')\n",
    "plt.title('Distribution of Inflation - KNN Imputation')\n",
    "plt.xlabel('Inflation')\n",
    "plt.ylabel('Frequency')\n",
    "plt.legend()\n",
    "\n",
    "plt.tight_layout()\n",
    "plt.show()\n"
   ]
  },
  {
   "cell_type": "code",
   "execution_count": 13,
   "id": "40750bc0-b9d3-4a28-abc9-bd5937c6ce0d",
   "metadata": {},
   "outputs": [
    {
     "name": "stderr",
     "output_type": "stream",
     "text": [
      "Setting default log level to \"WARN\".\n",
      "To adjust logging level use sc.setLogLevel(newLevel). For SparkR, use setLogLevel(newLevel).\n",
      "24/01/06 12:47:07 WARN NativeCodeLoader: Unable to load native-hadoop library for your platform... using builtin-java classes where applicable\n",
      "                                                                                \r"
     ]
    },
    {
     "name": "stdout",
     "output_type": "stream",
     "text": [
      "+----------+---------+---------+----------+----------+------+-------+--------+\n",
      "|      date|     open|     high|       low|     close|volume|   Rate|maturity|\n",
      "+----------+---------+---------+----------+----------+------+-------+--------+\n",
      "|2024-01-02|4528.4502|4568.7998|4484.81982|4512.81006|     0|2.74871|      Y9|\n",
      "|2024-01-02|4528.4502|4568.7998|4484.81982|4512.81006|     0|2.67428|      Y8|\n",
      "|2024-01-02|4528.4502|4568.7998|4484.81982|4512.81006|     0|2.59484|      Y7|\n",
      "|2024-01-02|4528.4502|4568.7998|4484.81982|4512.81006|     0|2.51474|      Y6|\n",
      "|2024-01-02|4528.4502|4568.7998|4484.81982|4512.81006|     0|2.44373|      Y5|\n",
      "|2024-01-02|4528.4502|4568.7998|4484.81982|4512.81006|     0|2.40228|      Y4|\n",
      "|2024-01-02|4528.4502|4568.7998|4484.81982|4512.81006|     0|3.27578|     Y30|\n",
      "|2024-01-02|4528.4502|4568.7998|4484.81982|4512.81006|     0|2.43147|      Y3|\n",
      "|2024-01-02|4528.4502|4568.7998|4484.81982|4512.81006|     0|3.27374|     Y29|\n",
      "|2024-01-02|4528.4502|4568.7998|4484.81982|4512.81006|     0| 3.2706|     Y28|\n",
      "+----------+---------+---------+----------+----------+------+-------+--------+\n",
      "only showing top 10 rows\n",
      "\n"
     ]
    }
   ],
   "source": [
    "\n",
    "\n",
    "# Create a Spark session\n",
    "spark = SparkSession.builder \\\n",
    "    .appName(\"Stock Market Trends Analysis\") \\\n",
    "    .getOrCreate()\n",
    "\n",
    "# Convert the pandas DataFrames to Spark DataFrames\n",
    "index_df = spark.createDataFrame(index_data)\n",
    "interest_df = spark.createDataFrame(interest_data)\n",
    "\n",
    "# Trim and convert 'date' in index_df and 'Period' in interest_df to DateType\n",
    "index_df = index_df.withColumn(\"date\", to_date(trim(col(\"date\")), \"yyyy-MM-dd\"))\n",
    "interest_df = interest_df.withColumn(\"Period\", to_date(trim(col(\"Period\")), \"yyyy-MM-dd\"))\n",
    "\n",
    "# Create Temporary Views\n",
    "index_df.createOrReplaceTempView(\"indexView\")\n",
    "interest_df.createOrReplaceTempView(\"interestView\")\n",
    "\n",
    "# SQL Query for Joining\n",
    "join_query = \"\"\"\n",
    "SELECT i.date, i.open, i.high, i.low, i.close, i.volume, r.Rate, r.maturity\n",
    "FROM indexView i\n",
    "LEFT JOIN interestView r ON i.date = r.Period\n",
    "\"\"\"\n",
    "\n",
    "# Execute the query\n",
    "dataset = spark.sql(join_query)\n",
    "\n",
    "# Show the result\n",
    "dataset.show(10)"
   ]
  },
  {
   "cell_type": "code",
   "execution_count": null,
   "id": "d8027827-4261-488d-a6f3-127980a20f92",
   "metadata": {},
   "outputs": [],
   "source": []
  },
  {
   "cell_type": "code",
   "execution_count": 15,
   "id": "2c19e74e-3c2f-493d-9098-de40eb16e475",
   "metadata": {},
   "outputs": [
    {
     "name": "stderr",
     "output_type": "stream",
     "text": [
      "                                                                                \r"
     ]
    },
    {
     "name": "stdout",
     "output_type": "stream",
     "text": [
      "Column 'date': Zeros = N/A, Nulls or NaNs = 0\n"
     ]
    },
    {
     "name": "stderr",
     "output_type": "stream",
     "text": [
      "                                                                                \r"
     ]
    },
    {
     "name": "stdout",
     "output_type": "stream",
     "text": [
      "Column 'open': Zeros = N/A, Nulls or NaNs = 0\n"
     ]
    },
    {
     "name": "stderr",
     "output_type": "stream",
     "text": [
      "                                                                                \r"
     ]
    },
    {
     "name": "stdout",
     "output_type": "stream",
     "text": [
      "Column 'high': Zeros = N/A, Nulls or NaNs = 0\n"
     ]
    },
    {
     "name": "stderr",
     "output_type": "stream",
     "text": [
      "                                                                                \r"
     ]
    },
    {
     "name": "stdout",
     "output_type": "stream",
     "text": [
      "Column 'low': Zeros = N/A, Nulls or NaNs = 0\n"
     ]
    },
    {
     "name": "stderr",
     "output_type": "stream",
     "text": [
      "                                                                                \r"
     ]
    },
    {
     "name": "stdout",
     "output_type": "stream",
     "text": [
      "Column 'close': Zeros = N/A, Nulls or NaNs = 0\n"
     ]
    },
    {
     "name": "stderr",
     "output_type": "stream",
     "text": [
      "                                                                                \r"
     ]
    },
    {
     "name": "stdout",
     "output_type": "stream",
     "text": [
      "Column 'volume': Zeros = N/A, Nulls or NaNs = 0\n"
     ]
    },
    {
     "name": "stderr",
     "output_type": "stream",
     "text": [
      "                                                                                \r"
     ]
    },
    {
     "name": "stdout",
     "output_type": "stream",
     "text": [
      "Column 'Rate': Zeros = N/A, Nulls or NaNs = 16\n"
     ]
    },
    {
     "name": "stderr",
     "output_type": "stream",
     "text": [
      "[Stage 46:>                                                         (0 + 4) / 4]\r"
     ]
    },
    {
     "name": "stdout",
     "output_type": "stream",
     "text": [
      "Column 'maturity': Zeros = N/A, Nulls or NaNs = 16\n"
     ]
    },
    {
     "name": "stderr",
     "output_type": "stream",
     "text": [
      "                                                                                \r"
     ]
    }
   ],
   "source": [
    "from pyspark.sql.functions import col, count, when, isnan\n",
    "\n",
    "# DataFrame: joined_df\n",
    "numeric_column_types = ['int', 'double', 'float', 'long']\n",
    "\n",
    "# Counting zeros and nulls for each column\n",
    "for column in dataset.columns:\n",
    "    # Check if the column is numeric\n",
    "    if str(dataset.schema[column].dataType) in numeric_column_types:\n",
    "        zero_count = dataset.filter(col(column) == 0).count()\n",
    "        null_or_nan_count = joined_df.filter(col(column).isNull() | isnan(col(column))).count()\n",
    "    else:\n",
    "        zero_count = 'N/A' # Not applicable for non-numeric columns\n",
    "        null_or_nan_count = dataset.filter(col(column).isNull()).count() # Check only for nulls in non-numeric columns\n",
    "\n",
    "    print(f\"Column '{column}': Zeros = {zero_count}, Nulls or NaNs = {null_or_nan_count}\")\n"
   ]
  },
  {
   "cell_type": "code",
   "execution_count": 16,
   "id": "ac55d381-db6a-41a9-a2bb-006c0bfc4291",
   "metadata": {},
   "outputs": [
    {
     "name": "stdout",
     "output_type": "stream",
     "text": [
      "root\n",
      " |-- date: date (nullable = true)\n",
      " |-- open: double (nullable = true)\n",
      " |-- high: double (nullable = true)\n",
      " |-- low: double (nullable = true)\n",
      " |-- close: double (nullable = true)\n",
      " |-- volume: long (nullable = true)\n",
      " |-- Rate: string (nullable = true)\n",
      " |-- maturity: string (nullable = true)\n",
      "\n",
      "Number of rows: 189400\n"
     ]
    },
    {
     "name": "stderr",
     "output_type": "stream",
     "text": [
      "24/01/06 12:47:32 WARN SparkStringUtils: Truncated the string representation of a plan since it was too large. This behavior can be adjusted by setting 'spark.sql.debug.maxToStringFields'.\n",
      "[Stage 68:>                                                         (0 + 1) / 1]\r"
     ]
    },
    {
     "name": "stdout",
     "output_type": "stream",
     "text": [
      "+-------+------------------+------------------+-----------------+------------------+--------------------+------------------+--------+\n",
      "|summary|              open|              high|              low|             close|              volume|              Rate|maturity|\n",
      "+-------+------------------+------------------+-----------------+------------------+--------------------+------------------+--------+\n",
      "|  count|            189400|            189400|           189400|            189400|              189400|            189384|  189384|\n",
      "|   mean|3309.3123106771905|3329.7393291170915|3287.098411587976|3309.0333744823456| 2.313064480098733E7| 2.242308233430485|    NULL|\n",
      "| stddev| 584.6077530495053| 582.8940899557197|587.0012108752727| 584.9178705041804|2.5721463195172083E7|1.7406153882562958|    NULL|\n",
      "|    min|      1812.7800293|           1823.25|     1765.4899902|      1809.9799805|                   0|          -0.00104|     M10|\n",
      "|    max|      4555.7797852|        4593.10986|       4542.10986|      4557.5698242|           235845300|            9.8E-4|      Y9|\n",
      "+-------+------------------+------------------+-----------------+------------------+--------------------+------------------+--------+\n",
      "\n"
     ]
    },
    {
     "name": "stderr",
     "output_type": "stream",
     "text": [
      "                                                                                \r"
     ]
    }
   ],
   "source": [
    "# Print the schema of the DataFrame\n",
    "dataset.printSchema()\n",
    "\n",
    "# Count the number of rows in the DataFrame\n",
    "print(\"Number of rows:\", dataset.count())\n",
    "\n",
    "# Show statistical summaries of the DataFrame\n",
    "dataset.describe().show()"
   ]
  },
  {
   "cell_type": "code",
   "execution_count": 18,
   "id": "1b22162b-7457-4a60-b26d-4d6eeb6ac8ea",
   "metadata": {},
   "outputs": [
    {
     "name": "stderr",
     "output_type": "stream",
     "text": [
      "[Stage 82:>                                                         (0 + 4) / 4]\r"
     ]
    },
    {
     "name": "stdout",
     "output_type": "stream",
     "text": [
      "Total Rows: 189400\n",
      "Rows with 'Open' but missing 'Rate': 16\n",
      "Percentage of Rows with 'Open' but missing 'Rate': 0.01%\n"
     ]
    },
    {
     "name": "stderr",
     "output_type": "stream",
     "text": [
      "                                                                                \r"
     ]
    }
   ],
   "source": [
    "from pyspark.sql.functions import col, count, when, isnan\n",
    "\n",
    "# DataFrame: joined_df\n",
    "\n",
    "# Count the total number of rows\n",
    "total_rows = dataset.count()\n",
    "\n",
    "# Count rows where 'Open' is available but 'Rate' is missing (Null or NaN)\n",
    "missing_rate_with_open = dataset.filter(\n",
    "    col(\"Rate\").isNull() | isnan(col(\"Rate\")) & col(\"open\").isNotNull()\n",
    ").count()\n",
    "\n",
    "# Calculate the percentage of such instances\n",
    "percentage_missing_rate_with_open = (missing_rate_with_open / total_rows) * 100\n",
    "\n",
    "print(f\"Total Rows: {total_rows}\")\n",
    "print(f\"Rows with 'Open' but missing 'Rate': {missing_rate_with_open}\")\n",
    "print(f\"Percentage of Rows with 'Open' but missing 'Rate': {percentage_missing_rate_with_open:.2f}%\")\n"
   ]
  },
  {
   "cell_type": "code",
   "execution_count": 19,
   "id": "6dbb69f4-1457-46e5-b0bf-76ae0a8041de",
   "metadata": {},
   "outputs": [
    {
     "name": "stderr",
     "output_type": "stream",
     "text": [
      "                                                                                \r"
     ]
    },
    {
     "name": "stdout",
     "output_type": "stream",
     "text": [
      "+----------+------------+------------+------------+------------+--------+----+--------+\n",
      "|      date|        open|        high|         low|       close|  volume|Rate|maturity|\n",
      "+----------+------------+------------+------------+------------+--------+----+--------+\n",
      "|2022-06-22|      3494.0|      3494.0|3413.0400391|3464.6398926|31496400|NULL|    NULL|\n",
      "|2020-12-24| 3542.850098|  3546.02002| 3539.790039| 3543.280029|       0|NULL|    NULL|\n",
      "|2023-04-06|     4295.55|     4313.74|     4293.85|     4309.45|28509400|NULL|    NULL|\n",
      "|2022-03-09|3548.4899902|3766.0200195|3548.4899902|3766.0200195|75625000|NULL|    NULL|\n",
      "|2023-12-29|  4518.12012|  4536.43994|  4517.31006|   4521.6499|13276900|NULL|    NULL|\n",
      "|2023-05-01| 4359.310059| 4359.310059| 4359.310059| 4359.310059|       0|NULL|    NULL|\n",
      "|2024-01-05|  4458.74023|  4474.87988|  4418.08008|  4463.50977|       0|NULL|    NULL|\n",
      "|2023-04-28|     4353.92|      4376.3|     4305.63|     4359.31|39594900|NULL|    NULL|\n",
      "|2020-12-31| 3565.709961| 3571.610107| 3552.639893| 3552.639893|       0|NULL|    NULL|\n",
      "|2021-03-23|3827.5400391|3842.3701172|3804.8999023|3827.0200195|27885100|NULL|    NULL|\n",
      "|2023-12-22|   4520.6001|   4528.0498|  4505.72998|  4521.47021|17782200|NULL|    NULL|\n",
      "|2020-05-01| 2927.929932| 2927.929932| 2927.929932| 2927.929932|       0|NULL|    NULL|\n",
      "|2022-04-14|3834.3300781|3859.5900879|3823.8500977|3848.6799316|31407300|NULL|    NULL|\n",
      "|2021-04-01|3922.3601074|3948.9899902|3922.3601074|3945.9599609|20590100|NULL|    NULL|\n",
      "|2022-12-23|      3823.7|   3833.6101|     3798.74|     3817.01|14825063|NULL|    NULL|\n",
      "|2006-05-01| 3839.899902| 3839.899902| 3839.899902| 3839.899902|       0|NULL|    NULL|\n",
      "+----------+------------+------------+------------+------------+--------+----+--------+\n",
      "\n"
     ]
    }
   ],
   "source": [
    "\n",
    "\n",
    "# DataFrame: joined_df\n",
    "\n",
    "# Filter the DataFrame to get rows where 'Open' is available but 'Rate' is missing (Null or NaN)\n",
    "missing_rate_rows = dataset.filter(\n",
    "    (col(\"Rate\").isNull() | isnan(col(\"Rate\"))) & col(\"open\").isNotNull()\n",
    ")\n",
    "\n",
    "# Show the rows with missing 'Rate' values\n",
    "missing_rate_rows.show()\n"
   ]
  },
  {
   "cell_type": "code",
   "execution_count": null,
   "id": "4d8113aa-61d8-449c-876d-ebb9ae4f90ae",
   "metadata": {},
   "outputs": [],
   "source": []
  },
  {
   "cell_type": "code",
   "execution_count": null,
   "id": "a5a6f2cf-270c-424a-befa-0e0645596058",
   "metadata": {},
   "outputs": [],
   "source": []
  }
 ],
 "metadata": {
  "kernelspec": {
   "display_name": "Python 3 (ipykernel)",
   "language": "python",
   "name": "python3"
  },
  "language_info": {
   "codemirror_mode": {
    "name": "ipython",
    "version": 3
   },
   "file_extension": ".py",
   "mimetype": "text/x-python",
   "name": "python",
   "nbconvert_exporter": "python",
   "pygments_lexer": "ipython3",
   "version": "3.10.12"
  }
 },
 "nbformat": 4,
 "nbformat_minor": 5
}
